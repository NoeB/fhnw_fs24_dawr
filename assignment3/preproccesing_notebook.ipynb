{
 "cells": [
  {
   "cell_type": "markdown",
   "metadata": {},
   "source": [
    "### I Used this Notebook to analyze the files and generate functions to correctly extract the individual attributes from the input Thats also the reason why this notebook is a mess"
   ]
  },
  {
   "cell_type": "code",
   "execution_count": 1,
   "metadata": {},
   "outputs": [],
   "source": [
    "import pandas as pd\n",
    "import numpy as np\n",
    "import scrapy\n",
    "from scrapy.selector import Selector\n",
    "from datetime import datetime, timedelta\n",
    "import locale\n",
    "import re\n",
    "locale.setlocale(locale.LC_TIME, 'de_DE')\n",
    "pd.set_option('display.max_colwidth', None)"
   ]
  },
  {
   "cell_type": "code",
   "execution_count": 2,
   "metadata": {},
   "outputs": [
    {
     "name": "stdout",
     "output_type": "stream",
     "text": [
      "{'Hochtouren Schwierigkeit:', 'Ski Schwierigkeit:', 'Geo-Tags:', 'Klettern Schwierigkeit:', 'Region:', 'Unterkunftmöglichkeiten:', 'Strecke:', 'Wandern Schwierigkeit:', 'Tour Datum:', 'Zeitbedarf:', 'Abstieg:', 'Kartennummer:', 'Aufstieg:', 'Klettersteig Schwierigkeit:', 'Mountainbike Schwierigkeit:', 'Schneeshuhtouren Schwierigkeit:', 'Wegpunkte:', 'Zufahrt zum Ausgangspunkt:', 'Zufahrt zum Ankunftspunkt:'}\n"
     ]
    }
   ],
   "source": [
    "import os\n",
    "\n",
    "def find_attributes(dir_path):\n",
    "    attributes = set()\n",
    "\n",
    "    for filename in os.listdir(dir_path):\n",
    "        if filename.endswith('.html'):\n",
    "            file_path = os.path.join(dir_path, filename)\n",
    "            \n",
    "            with open(file_path, 'r', encoding='utf-8') as f:\n",
    "                content = f.read()\n",
    "\n",
    "            selector = scrapy.Selector(text=content)\n",
    "            \n",
    "            # Get all the attribute rows which contains fiche_rando_b\n",
    "            attribute_rows = selector.xpath('//td[@class=\"fiche_rando_b\"]/text()').getall()\n",
    "            \n",
    "            attributes.update(attr.strip() for attr in attribute_rows)\n",
    "    exclude_attributes = [\n",
    "        'reine Aufstiegszeit:',\n",
    "        'Entfernung ungefähr (ebenenprojiziert):',\n",
    "        'Wetterverhältnisse:',\n",
    "        'Wegmarkierung:',\n",
    "        'Gipfelbuch:',\n",
    "        'Hilfsmittel:',\n",
    "        'Sonstiges:'\n",
    "    ]\n",
    "    attributes = attributes - set(exclude_attributes)\n",
    "    return attributes\n",
    "\n",
    "\n",
    "dir_path = './data/raw/200posts/'\n",
    "\n",
    "unique_attributes = find_attributes(dir_path)\n",
    "\n",
    "print(unique_attributes)"
   ]
  },
  {
   "cell_type": "code",
   "execution_count": 3,
   "metadata": {},
   "outputs": [],
   "source": [
    "def parse_raw(tour, attributes):\n",
    "    [id, text] = tour\n",
    "\n",
    "    #id:  ./data/raw/200posts/post24001.html\n",
    "    tour_id = id.split('/')[-1].split('.')[0].replace('post', '')\n",
    "    # Parse it using scrapy\n",
    "    document = Selector(text=text)\n",
    "\n",
    "    tour_id = id.split('/')[-1].split('.')[0].replace('post', '')\n",
    "    # Parse it using scrapy\n",
    "    document = Selector(text=text)\n",
    "    # Do some extraction\n",
    "\n",
    "    # TODO: Extract more attributes and add them to the result dictionary!\n",
    "    publishing_date_str = document.css('div.author::text').re_first(r'\\d{1,2}\\. \\w+ \\d{4} um \\d{2}:\\d{2}')\n",
    "    publishing_date = datetime.strptime(publishing_date_str, '%d. %B %Y um %H:%M') if publishing_date_str else None\n",
    "    author_id = document.css('img[id^=\"anchor_author_\"]::attr(id)').re_first(r'anchor_author_(\\d+)')\n",
    "\n",
    "    result = {\n",
    "        'name': document.css('h1.title::text').get(),\n",
    "        'id': tour_id,\n",
    "        'author_public_name': document.css('div.author a.standard::text').get(),\n",
    "        'author_internal_name': document.css('img[id^=\"anchor_author_\"]::attr(onmouseover)').re_first(r'\"https://www.hikr.org/\",\"\\d+\",\"(.*?)\",\"'),\n",
    "        'author_id': author_id,\n",
    "        'publishing_date_str': publishing_date_str,\n",
    "        'publishing_date': publishing_date,\n",
    "    }\n",
    "    for attribute in attributes:\n",
    "        raw_content = document.css(f'td.fiche_rando_b:contains(\"{attribute}\") + td.fiche_rando::text').get()\n",
    "        if raw_content:\n",
    "            if raw_content.strip() == '':\n",
    "                result[f'{attribute}_raw'] = document.css(f'td.fiche_rando_b:contains(\"{attribute}\") + td.fiche_rando').get()\n",
    "            else:\n",
    "                result[f'{attribute}_raw'] = raw_content.strip()\n",
    "        else:\n",
    "            result[f'{attribute}_raw'] = None\n",
    "    \n",
    "    return result"
   ]
  },
  {
   "cell_type": "code",
   "execution_count": 4,
   "metadata": {},
   "outputs": [],
   "source": [
    "files_dir = \"./data/raw/200posts/\"\n",
    "posts_raw = []\n",
    "\n",
    "# Iterate over all files in the directory\n",
    "for filename in os.listdir(files_dir):\n",
    "    if filename.endswith('.html'):\n",
    "        file_path = os.path.join(files_dir, filename)\n",
    "        with open(file_path, 'r', encoding='utf-8') as f:\n",
    "            content = f.read()\n",
    "        r = parse_raw([f.name, content], unique_attributes)\n",
    "        posts_raw.append(r)"
   ]
  },
  {
   "cell_type": "code",
   "execution_count": 5,
   "metadata": {},
   "outputs": [
    {
     "data": {
      "text/html": [
       "<div>\n",
       "<style scoped>\n",
       "    .dataframe tbody tr th:only-of-type {\n",
       "        vertical-align: middle;\n",
       "    }\n",
       "\n",
       "    .dataframe tbody tr th {\n",
       "        vertical-align: top;\n",
       "    }\n",
       "\n",
       "    .dataframe thead th {\n",
       "        text-align: right;\n",
       "    }\n",
       "</style>\n",
       "<table border=\"1\" class=\"dataframe\">\n",
       "  <thead>\n",
       "    <tr style=\"text-align: right;\">\n",
       "      <th></th>\n",
       "      <th>name</th>\n",
       "      <th>id</th>\n",
       "      <th>author_public_name</th>\n",
       "      <th>author_internal_name</th>\n",
       "      <th>author_id</th>\n",
       "      <th>publishing_date_str</th>\n",
       "      <th>publishing_date</th>\n",
       "      <th>Hochtouren Schwierigkeit:_raw</th>\n",
       "      <th>Ski Schwierigkeit:_raw</th>\n",
       "      <th>Geo-Tags:_raw</th>\n",
       "      <th>...</th>\n",
       "      <th>Zeitbedarf:_raw</th>\n",
       "      <th>Abstieg:_raw</th>\n",
       "      <th>Kartennummer:_raw</th>\n",
       "      <th>Aufstieg:_raw</th>\n",
       "      <th>Klettersteig Schwierigkeit:_raw</th>\n",
       "      <th>Mountainbike Schwierigkeit:_raw</th>\n",
       "      <th>Schneeshuhtouren Schwierigkeit:_raw</th>\n",
       "      <th>Wegpunkte:_raw</th>\n",
       "      <th>Zufahrt zum Ausgangspunkt:_raw</th>\n",
       "      <th>Zufahrt zum Ankunftspunkt:_raw</th>\n",
       "    </tr>\n",
       "  </thead>\n",
       "  <tbody>\n",
       "    <tr>\n",
       "      <th>0</th>\n",
       "      <td>Schlappiner Spitze dans le brouillard</td>\n",
       "      <td>24199</td>\n",
       "      <td>drixdrey</td>\n",
       "      <td>drixdrey</td>\n",
       "      <td>5903</td>\n",
       "      <td>13. Juni 2010 um 19:42</td>\n",
       "      <td>2010-06-13 19:42:00</td>\n",
       "      <td>&lt;td class=\"fiche_rando\"&gt;&lt;a class=\"standard\" href=\"https://www.hikr.org/view_post_lang.php?id=240\" target=\"help\"&gt;\\nWS&lt;/a&gt;\\n&lt;/td&gt;</td>\n",
       "      <td>None</td>\n",
       "      <td>&lt;td class=\"fiche_rando\"&gt;&lt;img alt=\"\" src=\"https://s.hikr.org/r4icons/world.png\" style=\"vertical-align:text-bottom;border:0\"&gt; &lt;a class=\"standard\" href=\"https://www.hikr.org/dir/tag/ch-gr/\"&gt;CH-GR&lt;/a&gt; \\n&lt;img alt=\"\" src=\"https://s.hikr.org/r4icons/world.png\" style=\"vertical-align:text-bottom;border:0\"&gt; &lt;a class=\"standard\" href=\"https://www.hikr.org/dir/tag/a/\"&gt;A&lt;/a&gt; \\n&lt;/td&gt;</td>\n",
       "      <td>...</td>\n",
       "      <td>1 Tage 4:30</td>\n",
       "      <td>1300 m</td>\n",
       "      <td>1177 Serneus</td>\n",
       "      <td>550 m</td>\n",
       "      <td>None</td>\n",
       "      <td>None</td>\n",
       "      <td>None</td>\n",
       "      <td>&lt;td class=\"fiche_rando\"&gt;\\n&lt;ul style=\"list-style-type:none;list-style-position:outside\"&gt;\\n&lt;li style=\"list-style-type:none;list-style-position:outside\"&gt;&lt;img src=\"https://s.hikr.org/r4icons/ico2_peak_s.png\" style=\"vertical-align:text-bottom\"&gt; &lt;a class=\"standard\" href=\"https://www.hikr.org/dir/Schlappiner_Spitz_19661/\"&gt;Schlappiner Spitz 2442 m   (5)&lt;/a&gt;\\n&lt;/li&gt;\\n\\n\\n&lt;li style=\"list-style-type:none;list-style-position:outside\"&gt;&lt;img src=\"https://s.hikr.org/r4icons/ico2_pass_s.png\" style=\"vertical-align:text-bottom\"&gt; &lt;a class=\"standard\" href=\"https://www.hikr.org/dir/Schlappiner_Joch_19660/\"&gt;Schlappiner Joch 2203 m   (12)&lt;/a&gt;\\n&lt;/li&gt;\\n\\n\\n&lt;/ul&gt;\\n&lt;/td&gt;</td>\n",
       "      <td>Télécabine Madrisa, Klosters Dorf</td>\n",
       "      <td>None</td>\n",
       "    </tr>\n",
       "    <tr>\n",
       "      <th>1</th>\n",
       "      <td>Altenalptürm, Östl. und Mittlerer Turm - anders als geplant (The answer, my friend, is blowing...)</td>\n",
       "      <td>24064</td>\n",
       "      <td>marmotta</td>\n",
       "      <td>marmotta</td>\n",
       "      <td>2891</td>\n",
       "      <td>11. Juni 2010 um 01:06</td>\n",
       "      <td>2010-06-11 01:06:00</td>\n",
       "      <td>None</td>\n",
       "      <td>None</td>\n",
       "      <td>&lt;td class=\"fiche_rando\"&gt;&lt;img alt=\"\" src=\"https://s.hikr.org/r4icons/world.png\" style=\"vertical-align:text-bottom;border:0\"&gt; &lt;a class=\"standard\" href=\"https://www.hikr.org/dir/tag/alpstein/\"&gt;Alpstein&lt;/a&gt; \\n&lt;img alt=\"\" src=\"https://s.hikr.org/r4icons/world.png\" style=\"vertical-align:text-bottom;border:0\"&gt; &lt;a class=\"standard\" href=\"https://www.hikr.org/dir/tag/ch-ai/\"&gt;CH-AI&lt;/a&gt; \\n&lt;img alt=\"\" src=\"https://s.hikr.org/r4icons/world.png\" style=\"vertical-align:text-bottom;border:0\"&gt; &lt;a class=\"standard\" href=\"https://www.hikr.org/dir/tag/ch-ar/\"&gt;CH-AR&lt;/a&gt; \\n&lt;img alt=\"\" src=\"https://s.hikr.org/r4icons/world.png\" style=\"vertical-align:text-bottom;border:0\"&gt; &lt;a class=\"standard\" href=\"https://www.hikr.org/dir/tag/ch-sg/\"&gt;CH-SG&lt;/a&gt; \\n&lt;/td&gt;</td>\n",
       "      <td>...</td>\n",
       "      <td>7:00</td>\n",
       "      <td>1500 m</td>\n",
       "      <td>LK 1115 Säntis (1:25.000)</td>\n",
       "      <td>2000 m</td>\n",
       "      <td>None</td>\n",
       "      <td>None</td>\n",
       "      <td>None</td>\n",
       "      <td>&lt;td class=\"fiche_rando\"&gt;\\n&lt;ul style=\"list-style-type:none;list-style-position:outside\"&gt;\\n&lt;li style=\"list-style-type:none;list-style-position:outside\"&gt;&lt;img src=\"https://s.hikr.org/r4icons/ico2_ort_s.png\" style=\"vertical-align:text-bottom\"&gt; &lt;a class=\"standard\" href=\"https://www.hikr.org/dir/Wasserauen_6854/\"&gt;Wasserauen 868 m   (381)&lt;/a&gt;\\n&lt;/li&gt;\\n\\n\\n&lt;li style=\"list-style-type:none;list-style-position:outside\"&gt;&lt;img src=\"https://s.hikr.org/r4icons/ico2_lake_s.png\" style=\"vertical-align:text-bottom\"&gt; &lt;a class=\"standard\" href=\"https://www.hikr.org/dir/Seealpsee_8235/\"&gt;Seealpsee 1141 m   (217)&lt;/a&gt;\\n&lt;/li&gt;\\n\\n\\n&lt;li style=\"list-style-type:none;list-style-position:outside\"&gt;&lt;img src=\"https://s.hikr.org/r4icons/ico2_hut_s.png\" style=\"vertical-align:text-bottom\"&gt; &lt;a class=\"standard\" href=\"https://www.hikr.org/dir/Altenalp_10913/\"&gt;Altenalp 1595 m   (58)&lt;/a&gt;\\n&lt;/li&gt;\\n\\n\\n&lt;li style=\"list-style-type:none;list-style-position:outside\"&gt;&lt;img src=\"https://s.hikr.org/r4icons/ico2_peak_s.png\" style=\"vertical-align:text-bottom\"&gt; &lt;a class=\"standard\" href=\"https://www.hikr.org/dir/Altenalpt%C3%BCrm_-_Ost_96015/\"&gt;Altenalptürm - Ost 1986 m   (11)&lt;/a&gt;\\n&lt;/li&gt;\\n\\n\\n&lt;li style=\"list-style-type:none;list-style-position:outside\"&gt;&lt;img src=\"https://s.hikr.org/r4icons/ico2_peak_s.png\" style=\"vertical-align:text-bottom\"&gt; &lt;a class=\"standard\" href=\"https://www.hikr.org/dir/Altenalpt%C3%BCrm_101/\"&gt;Altenalptürm 2031 m   (27)&lt;/a&gt;\\n&lt;/li&gt;\\n\\n\\n&lt;li style=\"list-style-type:none;list-style-position:outside\"&gt;&lt;img src=\"https://s.hikr.org/r4icons/ico2_pass_s.png\" style=\"vertical-align:text-bottom\"&gt; &lt;a class=\"standard\" href=\"https://www.hikr.org/dir/%C3%96hrlisattel_11553/\"&gt;Öhrlisattel 2121 m   (94)&lt;/a&gt;\\n&lt;/li&gt;\\n\\n\\n&lt;li style=\"list-style-type:none;list-style-position:outside\"&gt;&lt;img src=\"https://s.hikr.org/r4icons/ico2_peak_s.png\" style=\"vertical-align:text-bottom\"&gt; &lt;a class=\"standard\" href=\"https://www.hikr.org/dir/%C3%96hrli_%C3%96hrlikopf_3662/\"&gt;Öhrli / Öhrlikopf 2193 m   (84)&lt;/a&gt;\\n&lt;/li&gt;\\n\\n\\n&lt;li style=\"list-style-type:none;list-style-position:outside\"&gt;&lt;img src=\"https://s.hikr.org/r4icons/ico2_peak_s.png\" style=\"vertical-align:text-bottom\"&gt; &lt;a class=\"standard\" href=\"https://www.hikr.org/dir/H%C3%A4ngeten_-_Westlicher_Vorgipfel_16373/\"&gt;Hängeten - Westlicher Vorgipfel 2205 m   (8)&lt;/a&gt;\\n&lt;/li&gt;\\n\\n\\n&lt;li style=\"list-style-type:none;list-style-position:outside\"&gt;&lt;img src=\"https://s.hikr.org/r4icons/ico2_ort_s.png\" style=\"vertical-align:text-bottom\"&gt; &lt;a class=\"standard\" href=\"https://www.hikr.org/dir/Schw%C3%A4galp_8319/\"&gt;Schwägalp 1352 m   (269)&lt;/a&gt;\\n&lt;/li&gt;\\n\\n\\n&lt;/ul&gt;\\n&lt;/td&gt;</td>\n",
       "      <td>&lt;td class=\"fiche_rando\"&gt;&lt;img src=\"https://s.hikr.org/r4icons/cff.gif\" style=\"border:0;vertical-align:middle;\" alt=\"cff logo\"&gt; &lt;a rel=\"nofollow\" href=\"http://www.cff.ch/\" onclick=\"r4showOVForm('Wasserauen');return false;\"&gt;Wasserauen&lt;/a&gt;&lt;br&gt;&lt;/td&gt;</td>\n",
       "      <td>&lt;td class=\"fiche_rando\"&gt;&lt;img src=\"https://s.hikr.org/r4icons/cff.gif\" style=\"border:0;vertical-align:middle;\" alt=\"cff logo\"&gt; &lt;a rel=\"nofollow\" href=\"http://www.cff.ch/\" onclick=\"r4showOVForm('Schwägalp');return false;\"&gt;Schwägalp&lt;/a&gt;&lt;br&gt;&lt;/td&gt;</td>\n",
       "    </tr>\n",
       "    <tr>\n",
       "      <th>2</th>\n",
       "      <td>Graterkundung am Üetliberg</td>\n",
       "      <td>24208</td>\n",
       "      <td>alpinos</td>\n",
       "      <td>rgauss</td>\n",
       "      <td>4683</td>\n",
       "      <td>4. Juli 2010 um 14:34</td>\n",
       "      <td>2010-07-04 14:34:00</td>\n",
       "      <td>None</td>\n",
       "      <td>None</td>\n",
       "      <td>&lt;td class=\"fiche_rando\"&gt;&lt;img alt=\"\" src=\"https://s.hikr.org/r4icons/world.png\" style=\"vertical-align:text-bottom;border:0\"&gt; &lt;a class=\"standard\" href=\"https://www.hikr.org/dir/tag/ch-zh/\"&gt;CH-ZH&lt;/a&gt; \\n&lt;img alt=\"\" src=\"https://s.hikr.org/r4icons/world.png\" style=\"vertical-align:text-bottom;border:0\"&gt; &lt;a class=\"standard\" href=\"https://www.hikr.org/dir/tag/albiskette_-_h%C3%B6hronen/\"&gt;Albiskette - Höhronen&lt;/a&gt; \\n&lt;/td&gt;</td>\n",
       "      <td>...</td>\n",
       "      <td>3:00</td>\n",
       "      <td>None</td>\n",
       "      <td>None</td>\n",
       "      <td>None</td>\n",
       "      <td>None</td>\n",
       "      <td>None</td>\n",
       "      <td>None</td>\n",
       "      <td>&lt;td class=\"fiche_rando\"&gt;\\n&lt;ul style=\"list-style-type:none;list-style-position:outside\"&gt;\\n&lt;li style=\"list-style-type:none;list-style-position:outside\"&gt;&lt;img src=\"https://s.hikr.org/r4icons/ico2_point_s.png\" style=\"vertical-align:text-bottom\"&gt; &lt;a class=\"standard\" href=\"https://www.hikr.org/dir/Z%C3%BCrich_-_Haltestelle_Triemli_17109/\"&gt;Zürich - Haltestelle Triemli 449 m   (32)&lt;/a&gt;\\n&lt;/li&gt;\\n\\n\\n&lt;li style=\"list-style-type:none;list-style-position:outside\"&gt;&lt;img src=\"https://s.hikr.org/r4icons/ico2_ruin_s.png\" style=\"vertical-align:text-bottom\"&gt; &lt;a class=\"standard\" href=\"https://www.hikr.org/dir/Ruine_Friesenburg_17110/\"&gt;Ruine Friesenburg 658 m   (15)&lt;/a&gt;\\n&lt;/li&gt;\\n\\n\\n&lt;li style=\"list-style-type:none;list-style-position:outside\"&gt;&lt;img src=\"https://s.hikr.org/r4icons/ico2_point_s.png\" style=\"vertical-align:text-bottom\"&gt; &lt;a class=\"standard\" href=\"https://www.hikr.org/dir/%C3%9Cetliberg_-_Aussichtsturm_17111/\"&gt;Üetliberg - Aussichtsturm 900 m   (38)&lt;/a&gt;\\n&lt;/li&gt;\\n\\n\\n&lt;/ul&gt;\\n&lt;/td&gt;</td>\n",
       "      <td>ÖV nach Triemli</td>\n",
       "      <td>None</td>\n",
       "    </tr>\n",
       "    <tr>\n",
       "      <th>3</th>\n",
       "      <td>Cima di Biasagn</td>\n",
       "      <td>24025</td>\n",
       "      <td>MicheleK</td>\n",
       "      <td>MicheleK</td>\n",
       "      <td>639</td>\n",
       "      <td>12. Juni 2010 um 02:18</td>\n",
       "      <td>2010-06-12 02:18:00</td>\n",
       "      <td>None</td>\n",
       "      <td>None</td>\n",
       "      <td>&lt;td class=\"fiche_rando\"&gt;&lt;img alt=\"\" src=\"https://s.hikr.org/r4icons/world.png\" style=\"vertical-align:text-bottom;border:0\"&gt; &lt;a class=\"standard\" href=\"https://www.hikr.org/dir/tag/gruppo_cima_rossa/\"&gt;Gruppo Cima Rossa&lt;/a&gt; \\n&lt;img alt=\"\" src=\"https://s.hikr.org/r4icons/world.png\" style=\"vertical-align:text-bottom;border:0\"&gt; &lt;a class=\"standard\" href=\"https://www.hikr.org/dir/tag/ch-ti/\"&gt;CH-TI&lt;/a&gt; \\n&lt;/td&gt;</td>\n",
       "      <td>...</td>\n",
       "      <td>2 Tage 7:00</td>\n",
       "      <td>1050 m</td>\n",
       "      <td>Biasca 1273 1:25000</td>\n",
       "      <td>1050 m</td>\n",
       "      <td>None</td>\n",
       "      <td>None</td>\n",
       "      <td>None</td>\n",
       "      <td>&lt;td class=\"fiche_rando\"&gt;\\n&lt;ul style=\"list-style-type:none;list-style-position:outside\"&gt;\\n&lt;li style=\"list-style-type:none;list-style-position:outside\"&gt;&lt;img src=\"https://s.hikr.org/r4icons/ico2_peak_s.png\" style=\"vertical-align:text-bottom\"&gt; &lt;a class=\"standard\" href=\"https://www.hikr.org/dir/Cima_di_Biasagn_387/\"&gt;Cima di Biasagn 2417 m   (19)&lt;/a&gt;\\n&lt;/li&gt;\\n\\n\\n&lt;li style=\"list-style-type:none;list-style-position:outside\"&gt;&lt;img src=\"https://s.hikr.org/r4icons/ico2_hut_s.png\" style=\"vertical-align:text-bottom\"&gt; &lt;a class=\"standard\" href=\"https://www.hikr.org/dir/Capanna_Biasagn_8600/\"&gt;Capanna Biasagn 2023 m   (23)&lt;/a&gt;\\n&lt;/li&gt;\\n\\n\\n&lt;li style=\"list-style-type:none;list-style-position:outside\"&gt;&lt;img src=\"https://s.hikr.org/r4icons/ico2_point_s.png\" style=\"vertical-align:text-bottom\"&gt; &lt;a class=\"standard\" href=\"https://www.hikr.org/dir/Fontana_11692/\"&gt;Fontana 1347 m   (42)&lt;/a&gt;\\n&lt;/li&gt;\\n\\n\\n&lt;/ul&gt;\\n&lt;/td&gt;</td>\n",
       "      <td>Fontana in auto. da Malvaglia ca. 30min</td>\n",
       "      <td>None</td>\n",
       "    </tr>\n",
       "    <tr>\n",
       "      <th>4</th>\n",
       "      <td>Riedchopf (2552m)</td>\n",
       "      <td>24160</td>\n",
       "      <td>drixdrey</td>\n",
       "      <td>drixdrey</td>\n",
       "      <td>5903</td>\n",
       "      <td>13. Juni 2010 um 00:21</td>\n",
       "      <td>2010-06-13 00:21:00</td>\n",
       "      <td>None</td>\n",
       "      <td>None</td>\n",
       "      <td>&lt;td class=\"fiche_rando\"&gt;&lt;img alt=\"\" src=\"https://s.hikr.org/r4icons/world.png\" style=\"vertical-align:text-bottom;border:0\"&gt; &lt;a class=\"standard\" href=\"https://www.hikr.org/dir/tag/a/\"&gt;A&lt;/a&gt; \\n&lt;img alt=\"\" src=\"https://s.hikr.org/r4icons/world.png\" style=\"vertical-align:text-bottom;border:0\"&gt; &lt;a class=\"standard\" href=\"https://www.hikr.org/dir/tag/ch-gr/\"&gt;CH-GR&lt;/a&gt; \\n&lt;/td&gt;</td>\n",
       "      <td>...</td>\n",
       "      <td>1 Tage 5:00</td>\n",
       "      <td>1100 m</td>\n",
       "      <td>1177 Serneus - 1157 Sulzfluh</td>\n",
       "      <td>1100 m</td>\n",
       "      <td>None</td>\n",
       "      <td>None</td>\n",
       "      <td>None</td>\n",
       "      <td>&lt;td class=\"fiche_rando\"&gt;\\n&lt;ul style=\"list-style-type:none;list-style-position:outside\"&gt;\\n&lt;li style=\"list-style-type:none;list-style-position:outside\"&gt;&lt;img src=\"https://s.hikr.org/r4icons/ico2_peak_s.png\" style=\"vertical-align:text-bottom\"&gt; &lt;a class=\"standard\" href=\"https://www.hikr.org/dir/Riedchopf_Ronggspitz_18956/\"&gt;Riedchopf / Ronggspitz 2552 m   (30)&lt;/a&gt;\\n&lt;/li&gt;\\n\\n\\n&lt;/ul&gt;\\n&lt;/td&gt;</td>\n",
       "      <td>En voiture ou en car postal depuis Küblis\\nEn voiture : place de parc no3\\nEn car : arrêt Rüti</td>\n",
       "      <td>None</td>\n",
       "    </tr>\n",
       "    <tr>\n",
       "      <th>...</th>\n",
       "      <td>...</td>\n",
       "      <td>...</td>\n",
       "      <td>...</td>\n",
       "      <td>...</td>\n",
       "      <td>...</td>\n",
       "      <td>...</td>\n",
       "      <td>...</td>\n",
       "      <td>...</td>\n",
       "      <td>...</td>\n",
       "      <td>...</td>\n",
       "      <td>...</td>\n",
       "      <td>...</td>\n",
       "      <td>...</td>\n",
       "      <td>...</td>\n",
       "      <td>...</td>\n",
       "      <td>...</td>\n",
       "      <td>...</td>\n",
       "      <td>...</td>\n",
       "      <td>...</td>\n",
       "      <td>...</td>\n",
       "      <td>...</td>\n",
       "    </tr>\n",
       "    <tr>\n",
       "      <th>195</th>\n",
       "      <td>Pfädli Nr. 2, 5, 4, 6, 7, 9</td>\n",
       "      <td>24163</td>\n",
       "      <td>Kopfsalat</td>\n",
       "      <td>kopfsalat</td>\n",
       "      <td>3272</td>\n",
       "      <td>13. Juni 2010 um 08:13</td>\n",
       "      <td>2010-06-13 08:13:00</td>\n",
       "      <td>None</td>\n",
       "      <td>None</td>\n",
       "      <td>&lt;td class=\"fiche_rando\"&gt;&lt;img alt=\"\" src=\"https://s.hikr.org/r4icons/world.png\" style=\"vertical-align:text-bottom;border:0\"&gt; &lt;a class=\"standard\" href=\"https://www.hikr.org/dir/tag/ch-be/\"&gt;CH-BE&lt;/a&gt; \\n&lt;/td&gt;</td>\n",
       "      <td>...</td>\n",
       "      <td>6:00</td>\n",
       "      <td>None</td>\n",
       "      <td>1125 Chasseral</td>\n",
       "      <td>None</td>\n",
       "      <td>None</td>\n",
       "      <td>None</td>\n",
       "      <td>None</td>\n",
       "      <td>&lt;td class=\"fiche_rando\"&gt;\\n&lt;ul style=\"list-style-type:none;list-style-position:outside\"&gt;\\n&lt;li style=\"list-style-type:none;list-style-position:outside\"&gt;&lt;img src=\"https://s.hikr.org/r4icons/ico2_ort_s.png\" style=\"vertical-align:text-bottom\"&gt; &lt;a class=\"standard\" href=\"https://www.hikr.org/dir/Orvin_23049/\"&gt;Orvin 669 m   (18)&lt;/a&gt;\\n&lt;/li&gt;\\n\\n\\n&lt;li style=\"list-style-type:none;list-style-position:outside\"&gt;&lt;img src=\"https://s.hikr.org/r4icons/ico2_cave_s.png\" style=\"vertical-align:text-bottom\"&gt; &lt;a class=\"standard\" href=\"https://www.hikr.org/dir/Montchn%C3%B4_37403/\"&gt;Montchnô 858 m   (2)&lt;/a&gt;\\n&lt;/li&gt;\\n\\n\\n&lt;li style=\"list-style-type:none;list-style-position:outside\"&gt;&lt;img src=\"https://s.hikr.org/r4icons/ico2_climb_s.png\" style=\"vertical-align:text-bottom\"&gt; &lt;a class=\"standard\" href=\"https://www.hikr.org/dir/Orvin_-_Jardin_d_Escalade_27853/\"&gt;Orvin - Jardin d'Escalade 1059 m   (4)&lt;/a&gt;\\n&lt;/li&gt;\\n\\n\\n&lt;/ul&gt;\\n&lt;/td&gt;</td>\n",
       "      <td>&lt;td class=\"fiche_rando\"&gt;&lt;img src=\"https://s.hikr.org/r4icons/cff.gif\" style=\"border:0;vertical-align:middle;\" alt=\"cff logo\"&gt; &lt;a rel=\"nofollow\" href=\"http://www.cff.ch/\" onclick=\"r4showOVForm('- Bus Biel: Orvin - Sous les Roches');return false;\"&gt;- Bus Biel: Orvin - Sous les Roches&lt;/a&gt;&lt;br&gt;&lt;/td&gt;</td>\n",
       "      <td>&lt;td class=\"fiche_rando\"&gt;&lt;img src=\"https://s.hikr.org/r4icons/cff.gif\" style=\"border:0;vertical-align:middle;\" alt=\"cff logo\"&gt; &lt;a rel=\"nofollow\" href=\"http://www.cff.ch/\" onclick=\"r4showOVForm('- Bus Biel: Orvin');return false;\"&gt;- Bus Biel: Orvin&lt;/a&gt;&lt;br&gt;&lt;/td&gt;</td>\n",
       "    </tr>\n",
       "    <tr>\n",
       "      <th>196</th>\n",
       "      <td>Klettersteigkurs an der Via Ferrata Diavolo (Versuch)</td>\n",
       "      <td>24026</td>\n",
       "      <td>TomClancy</td>\n",
       "      <td>tomclancy</td>\n",
       "      <td>1673</td>\n",
       "      <td>12. Juni 2010 um 23:52</td>\n",
       "      <td>2010-06-12 23:52:00</td>\n",
       "      <td>None</td>\n",
       "      <td>None</td>\n",
       "      <td>&lt;td class=\"fiche_rando\"&gt;&lt;img alt=\"\" src=\"https://s.hikr.org/r4icons/world.png\" style=\"vertical-align:text-bottom;border:0\"&gt; &lt;a class=\"standard\" href=\"https://www.hikr.org/dir/tag/ch-ur/\"&gt;CH-UR&lt;/a&gt; \\n&lt;/td&gt;</td>\n",
       "      <td>...</td>\n",
       "      <td>1:15</td>\n",
       "      <td>None</td>\n",
       "      <td>None</td>\n",
       "      <td>None</td>\n",
       "      <td>None</td>\n",
       "      <td>None</td>\n",
       "      <td>None</td>\n",
       "      <td>&lt;td class=\"fiche_rando\"&gt;\\n&lt;ul style=\"list-style-type:none;list-style-position:outside\"&gt;\\n&lt;li style=\"list-style-type:none;list-style-position:outside\"&gt;&lt;img src=\"https://s.hikr.org/r4icons/ico2_ort_s.png\" style=\"vertical-align:text-bottom\"&gt; &lt;a class=\"standard\" href=\"https://www.hikr.org/dir/Andermatt_7577/\"&gt;Andermatt 1436 m   (162)&lt;/a&gt;\\n&lt;/li&gt;\\n\\n\\n&lt;li style=\"list-style-type:none;list-style-position:outside\"&gt;&lt;img src=\"https://s.hikr.org/r4icons/ico2_point_s.png\" style=\"vertical-align:text-bottom\"&gt; &lt;a class=\"standard\" href=\"https://www.hikr.org/dir/Sch%C3%B6llenen_8054/\"&gt;Schöllenen 1399 m   (24)&lt;/a&gt;\\n&lt;/li&gt;\\n\\n\\n&lt;/ul&gt;\\n&lt;/td&gt;</td>\n",
       "      <td>None</td>\n",
       "      <td>None</td>\n",
       "    </tr>\n",
       "    <tr>\n",
       "      <th>197</th>\n",
       "      <td>Bisse de Sillonin - Route de l'hasard</td>\n",
       "      <td>24323</td>\n",
       "      <td>laponia41</td>\n",
       "      <td>laponia41</td>\n",
       "      <td>3317</td>\n",
       "      <td>16. Juni 2010 um 10:29</td>\n",
       "      <td>2010-06-16 10:29:00</td>\n",
       "      <td>None</td>\n",
       "      <td>None</td>\n",
       "      <td>&lt;td class=\"fiche_rando\"&gt;&lt;img alt=\"\" src=\"https://s.hikr.org/r4icons/world.png\" style=\"vertical-align:text-bottom;border:0\"&gt; &lt;a class=\"standard\" href=\"https://www.hikr.org/dir/tag/ch-vs/\"&gt;CH-VS&lt;/a&gt; \\n&lt;/td&gt;</td>\n",
       "      <td>...</td>\n",
       "      <td>5:00</td>\n",
       "      <td>430 m</td>\n",
       "      <td>None</td>\n",
       "      <td>450 m</td>\n",
       "      <td>None</td>\n",
       "      <td>None</td>\n",
       "      <td>None</td>\n",
       "      <td>&lt;td class=\"fiche_rando\"&gt;\\n&lt;ul style=\"list-style-type:none;list-style-position:outside\"&gt;\\n&lt;li style=\"list-style-type:none;list-style-position:outside\"&gt;&lt;img src=\"https://s.hikr.org/r4icons/ico2_point_s.png\" style=\"vertical-align:text-bottom\"&gt; &lt;a class=\"standard\" href=\"https://www.hikr.org/dir/Sion_-_Bahnhof_SBB_19626/\"&gt;Sion - Bahnhof SBB 490 m   (31)&lt;/a&gt;\\n&lt;/li&gt;\\n\\n\\n&lt;li style=\"list-style-type:none;list-style-position:outside\"&gt;&lt;img src=\"https://s.hikr.org/r4icons/ico2_point_s.png\" style=\"vertical-align:text-bottom\"&gt; &lt;a class=\"standard\" href=\"https://www.hikr.org/dir/Bisse_de_Clavau_-_Fin_19629/\"&gt;Bisse de Clavau - Fin 630 m   (11)&lt;/a&gt;\\n&lt;/li&gt;\\n\\n\\n&lt;li style=\"list-style-type:none;list-style-position:outside\"&gt;&lt;img src=\"https://s.hikr.org/r4icons/ico2_ort_s.png\" style=\"vertical-align:text-bottom\"&gt; &lt;a class=\"standard\" href=\"https://www.hikr.org/dir/Saint-L%C3%A9onard_19627/\"&gt;Saint-Léonard 505 m   (23)&lt;/a&gt;\\n&lt;/li&gt;\\n\\n\\n&lt;li style=\"list-style-type:none;list-style-position:outside\"&gt;&lt;img src=\"https://s.hikr.org/r4icons/ico2_point_s.png\" style=\"vertical-align:text-bottom\"&gt; &lt;a class=\"standard\" href=\"https://www.hikr.org/dir/Bisse_de_Clavau_-_D%C3%A9but__19628/\"&gt;Bisse de Clavau - Début  680 m   (15)&lt;/a&gt;\\n&lt;/li&gt;\\n\\n\\n&lt;li style=\"list-style-type:none;list-style-position:outside\"&gt;&lt;img src=\"https://s.hikr.org/r4icons/ico2_wand_s.png\" style=\"vertical-align:text-bottom\"&gt; &lt;a class=\"standard\" href=\"https://www.hikr.org/dir/Bisse_de_Sillonin_14489/\"&gt;Bisse de Sillonin 780 m   (15)&lt;/a&gt;\\n&lt;/li&gt;\\n\\n\\n&lt;/ul&gt;\\n&lt;/td&gt;</td>\n",
       "      <td>&lt;td class=\"fiche_rando\"&gt;&lt;img src=\"https://s.hikr.org/r4icons/cff.gif\" style=\"border:0;vertical-align:middle;\" alt=\"cff logo\"&gt; &lt;a rel=\"nofollow\" href=\"http://www.cff.ch/\" onclick=\"r4showOVForm('Sion');return false;\"&gt;Sion&lt;/a&gt;&lt;br&gt;&lt;/td&gt;</td>\n",
       "      <td>&lt;td class=\"fiche_rando\"&gt;&lt;img src=\"https://s.hikr.org/r4icons/cff.gif\" style=\"border:0;vertical-align:middle;\" alt=\"cff logo\"&gt; &lt;a rel=\"nofollow\" href=\"http://www.cff.ch/\" onclick=\"r4showOVForm('St-Léonard');return false;\"&gt;St-Léonard&lt;/a&gt;&lt;br&gt;&lt;/td&gt;</td>\n",
       "    </tr>\n",
       "    <tr>\n",
       "      <th>198</th>\n",
       "      <td>Cime de Roccassièra (1501 m)</td>\n",
       "      <td>24159</td>\n",
       "      <td>Max</td>\n",
       "      <td>Max</td>\n",
       "      <td>4833</td>\n",
       "      <td>13. Juni 2010 um 00:14</td>\n",
       "      <td>2010-06-13 00:14:00</td>\n",
       "      <td>None</td>\n",
       "      <td>None</td>\n",
       "      <td>&lt;td class=\"fiche_rando\"&gt;&lt;img alt=\"\" src=\"https://s.hikr.org/r4icons/world.png\" style=\"vertical-align:text-bottom;border:0\"&gt; &lt;a class=\"standard\" href=\"https://www.hikr.org/dir/tag/f/\"&gt;F&lt;/a&gt; \\n&lt;/td&gt;</td>\n",
       "      <td>...</td>\n",
       "      <td>6:00</td>\n",
       "      <td>900 m</td>\n",
       "      <td>None</td>\n",
       "      <td>900 m</td>\n",
       "      <td>None</td>\n",
       "      <td>None</td>\n",
       "      <td>None</td>\n",
       "      <td>&lt;td class=\"fiche_rando\"&gt;\\n&lt;ul style=\"list-style-type:none;list-style-position:outside\"&gt;\\n&lt;li style=\"list-style-type:none;list-style-position:outside\"&gt;&lt;img src=\"https://s.hikr.org/r4icons/ico2_peak_s.png\" style=\"vertical-align:text-bottom\"&gt; &lt;a class=\"standard\" href=\"https://www.hikr.org/dir/Cime_de_Roccassiera_21054/\"&gt;Cime de Roccassiera 1501 m   (2)&lt;/a&gt;\\n&lt;/li&gt;\\n\\n\\n&lt;/ul&gt;\\n&lt;/td&gt;</td>\n",
       "      <td>Von Nizza die D2204 Richtung Sospel, in La Pointe de Contes links auf die D15 bis nach Coaraze. Parken auf dem ausgewiesenen Parkplatz, im Ort keine Möglichkeit.</td>\n",
       "      <td>None</td>\n",
       "    </tr>\n",
       "    <tr>\n",
       "      <th>199</th>\n",
       "      <td>Dalfazer Wände und Hochiss</td>\n",
       "      <td>24227</td>\n",
       "      <td>Koasakrax</td>\n",
       "      <td>Koasakrax</td>\n",
       "      <td>4557</td>\n",
       "      <td>14. Juni 2010 um 14:33</td>\n",
       "      <td>2010-06-14 14:33:00</td>\n",
       "      <td>None</td>\n",
       "      <td>None</td>\n",
       "      <td>&lt;td class=\"fiche_rando\"&gt;&lt;img alt=\"\" src=\"https://s.hikr.org/r4icons/world.png\" style=\"vertical-align:text-bottom;border:0\"&gt; &lt;a class=\"standard\" href=\"https://www.hikr.org/dir/tag/a/\"&gt;A&lt;/a&gt; \\n&lt;img alt=\"\" src=\"https://s.hikr.org/r4icons/world.png\" style=\"vertical-align:text-bottom;border:0\"&gt; &lt;a class=\"standard\" href=\"https://www.hikr.org/dir/tag/a-t/\"&gt;A-T&lt;/a&gt; \\n&lt;/td&gt;</td>\n",
       "      <td>...</td>\n",
       "      <td>5:00</td>\n",
       "      <td>680 m</td>\n",
       "      <td>None</td>\n",
       "      <td>680 m</td>\n",
       "      <td>None</td>\n",
       "      <td>None</td>\n",
       "      <td>None</td>\n",
       "      <td>&lt;td class=\"fiche_rando\"&gt;\\n&lt;ul style=\"list-style-type:none;list-style-position:outside\"&gt;\\n&lt;li style=\"list-style-type:none;list-style-position:outside\"&gt;&lt;img src=\"https://s.hikr.org/r4icons/ico2_peak_s.png\" style=\"vertical-align:text-bottom\"&gt; &lt;a class=\"standard\" href=\"https://www.hikr.org/dir/Hochiss_19821/\"&gt;Hochiss 2299 m   (25)&lt;/a&gt;\\n&lt;/li&gt;\\n\\n\\n&lt;li style=\"list-style-type:none;list-style-position:outside\"&gt;&lt;img src=\"https://s.hikr.org/r4icons/ico2_peak_s.png\" style=\"vertical-align:text-bottom\"&gt; &lt;a class=\"standard\" href=\"https://www.hikr.org/dir/Spieljoch_20297/\"&gt;Spieljoch 2236 m   (13)&lt;/a&gt;\\n&lt;/li&gt;\\n\\n\\n&lt;li style=\"list-style-type:none;list-style-position:outside\"&gt;&lt;img src=\"https://s.hikr.org/r4icons/ico2_peak_s.png\" style=\"vertical-align:text-bottom\"&gt; &lt;a class=\"standard\" href=\"https://www.hikr.org/dir/Streichkopf_21146/\"&gt;Streichkopf 2243 m   (15)&lt;/a&gt;\\n&lt;/li&gt;\\n\\n\\n&lt;li style=\"list-style-type:none;list-style-position:outside\"&gt;&lt;img src=\"https://s.hikr.org/r4icons/ico2_peak_s.png\" style=\"vertical-align:text-bottom\"&gt; &lt;a class=\"standard\" href=\"https://www.hikr.org/dir/Dalfazer_Joch_21147/\"&gt;Dalfazer Joch 2233 m   (12)&lt;/a&gt;\\n&lt;/li&gt;\\n\\n\\n&lt;li style=\"list-style-type:none;list-style-position:outside\"&gt;&lt;img src=\"https://s.hikr.org/r4icons/ico2_peak_s.png\" style=\"vertical-align:text-bottom\"&gt; &lt;a class=\"standard\" href=\"https://www.hikr.org/dir/Dalfazer_Ro%C3%9Fkopf_21148/\"&gt;Dalfazer Roßkopf 2143 m   (12)&lt;/a&gt;\\n&lt;/li&gt;\\n\\n\\n&lt;li style=\"list-style-type:none;list-style-position:outside\"&gt;&lt;img src=\"https://s.hikr.org/r4icons/ico2_peak_s.png\" style=\"vertical-align:text-bottom\"&gt; &lt;a class=\"standard\" href=\"https://www.hikr.org/dir/Rotspitze_21149/\"&gt;Rotspitze 2067 m   (13)&lt;/a&gt;\\n&lt;/li&gt;\\n\\n\\n&lt;li style=\"list-style-type:none;list-style-position:outside\"&gt;&lt;img src=\"https://s.hikr.org/r4icons/ico2_peak_s.png\" style=\"vertical-align:text-bottom\"&gt; &lt;a class=\"standard\" href=\"https://www.hikr.org/dir/Seekarlspitze_15040/\"&gt;Seekarlspitze 2261 m   (17)&lt;/a&gt;\\n&lt;/li&gt;\\n\\n\\n&lt;/ul&gt;\\n&lt;/td&gt;</td>\n",
       "      <td>Bei der Bergstation der Rofanbahn</td>\n",
       "      <td>None</td>\n",
       "    </tr>\n",
       "  </tbody>\n",
       "</table>\n",
       "<p>200 rows × 26 columns</p>\n",
       "</div>"
      ],
      "text/plain": [
       "                                                                                                   name  \\\n",
       "0                                                                 Schlappiner Spitze dans le brouillard   \n",
       "1    Altenalptürm, Östl. und Mittlerer Turm - anders als geplant (The answer, my friend, is blowing...)   \n",
       "2                                                                            Graterkundung am Üetliberg   \n",
       "3                                                                                       Cima di Biasagn   \n",
       "4                                                                                     Riedchopf (2552m)   \n",
       "..                                                                                                  ...   \n",
       "195                                                                         Pfädli Nr. 2, 5, 4, 6, 7, 9   \n",
       "196                                               Klettersteigkurs an der Via Ferrata Diavolo (Versuch)   \n",
       "197                                                               Bisse de Sillonin - Route de l'hasard   \n",
       "198                                                                        Cime de Roccassièra (1501 m)   \n",
       "199                                                                          Dalfazer Wände und Hochiss   \n",
       "\n",
       "        id author_public_name author_internal_name author_id  \\\n",
       "0    24199           drixdrey             drixdrey      5903   \n",
       "1    24064           marmotta             marmotta      2891   \n",
       "2    24208            alpinos               rgauss      4683   \n",
       "3    24025           MicheleK             MicheleK       639   \n",
       "4    24160           drixdrey             drixdrey      5903   \n",
       "..     ...                ...                  ...       ...   \n",
       "195  24163          Kopfsalat            kopfsalat      3272   \n",
       "196  24026          TomClancy            tomclancy      1673   \n",
       "197  24323          laponia41            laponia41      3317   \n",
       "198  24159                Max                  Max      4833   \n",
       "199  24227          Koasakrax            Koasakrax      4557   \n",
       "\n",
       "        publishing_date_str     publishing_date  \\\n",
       "0    13. Juni 2010 um 19:42 2010-06-13 19:42:00   \n",
       "1    11. Juni 2010 um 01:06 2010-06-11 01:06:00   \n",
       "2     4. Juli 2010 um 14:34 2010-07-04 14:34:00   \n",
       "3    12. Juni 2010 um 02:18 2010-06-12 02:18:00   \n",
       "4    13. Juni 2010 um 00:21 2010-06-13 00:21:00   \n",
       "..                      ...                 ...   \n",
       "195  13. Juni 2010 um 08:13 2010-06-13 08:13:00   \n",
       "196  12. Juni 2010 um 23:52 2010-06-12 23:52:00   \n",
       "197  16. Juni 2010 um 10:29 2010-06-16 10:29:00   \n",
       "198  13. Juni 2010 um 00:14 2010-06-13 00:14:00   \n",
       "199  14. Juni 2010 um 14:33 2010-06-14 14:33:00   \n",
       "\n",
       "                                                                                                       Hochtouren Schwierigkeit:_raw  \\\n",
       "0    <td class=\"fiche_rando\"><a class=\"standard\" href=\"https://www.hikr.org/view_post_lang.php?id=240\" target=\"help\">\\nWS</a>\\n</td>   \n",
       "1                                                                                                                               None   \n",
       "2                                                                                                                               None   \n",
       "3                                                                                                                               None   \n",
       "4                                                                                                                               None   \n",
       "..                                                                                                                               ...   \n",
       "195                                                                                                                             None   \n",
       "196                                                                                                                             None   \n",
       "197                                                                                                                             None   \n",
       "198                                                                                                                             None   \n",
       "199                                                                                                                             None   \n",
       "\n",
       "    Ski Schwierigkeit:_raw  \\\n",
       "0                     None   \n",
       "1                     None   \n",
       "2                     None   \n",
       "3                     None   \n",
       "4                     None   \n",
       "..                     ...   \n",
       "195                   None   \n",
       "196                   None   \n",
       "197                   None   \n",
       "198                   None   \n",
       "199                   None   \n",
       "\n",
       "                                                                                                                                                                                                                                                                                                                                                                                                                                                                                                                                                                                                                                                                                                                                                       Geo-Tags:_raw  \\\n",
       "0                                                                                                                                                                                                                                                                                                                                                                                <td class=\"fiche_rando\"><img alt=\"\" src=\"https://s.hikr.org/r4icons/world.png\" style=\"vertical-align:text-bottom;border:0\"> <a class=\"standard\" href=\"https://www.hikr.org/dir/tag/ch-gr/\">CH-GR</a> \\n<img alt=\"\" src=\"https://s.hikr.org/r4icons/world.png\" style=\"vertical-align:text-bottom;border:0\"> <a class=\"standard\" href=\"https://www.hikr.org/dir/tag/a/\">A</a> \\n</td>   \n",
       "1    <td class=\"fiche_rando\"><img alt=\"\" src=\"https://s.hikr.org/r4icons/world.png\" style=\"vertical-align:text-bottom;border:0\"> <a class=\"standard\" href=\"https://www.hikr.org/dir/tag/alpstein/\">Alpstein</a> \\n<img alt=\"\" src=\"https://s.hikr.org/r4icons/world.png\" style=\"vertical-align:text-bottom;border:0\"> <a class=\"standard\" href=\"https://www.hikr.org/dir/tag/ch-ai/\">CH-AI</a> \\n<img alt=\"\" src=\"https://s.hikr.org/r4icons/world.png\" style=\"vertical-align:text-bottom;border:0\"> <a class=\"standard\" href=\"https://www.hikr.org/dir/tag/ch-ar/\">CH-AR</a> \\n<img alt=\"\" src=\"https://s.hikr.org/r4icons/world.png\" style=\"vertical-align:text-bottom;border:0\"> <a class=\"standard\" href=\"https://www.hikr.org/dir/tag/ch-sg/\">CH-SG</a> \\n</td>   \n",
       "2                                                                                                                                                                                                                                                                                                                                   <td class=\"fiche_rando\"><img alt=\"\" src=\"https://s.hikr.org/r4icons/world.png\" style=\"vertical-align:text-bottom;border:0\"> <a class=\"standard\" href=\"https://www.hikr.org/dir/tag/ch-zh/\">CH-ZH</a> \\n<img alt=\"\" src=\"https://s.hikr.org/r4icons/world.png\" style=\"vertical-align:text-bottom;border:0\"> <a class=\"standard\" href=\"https://www.hikr.org/dir/tag/albiskette_-_h%C3%B6hronen/\">Albiskette - Höhronen</a> \\n</td>   \n",
       "3                                                                                                                                                                                                                                                                                                                                                <td class=\"fiche_rando\"><img alt=\"\" src=\"https://s.hikr.org/r4icons/world.png\" style=\"vertical-align:text-bottom;border:0\"> <a class=\"standard\" href=\"https://www.hikr.org/dir/tag/gruppo_cima_rossa/\">Gruppo Cima Rossa</a> \\n<img alt=\"\" src=\"https://s.hikr.org/r4icons/world.png\" style=\"vertical-align:text-bottom;border:0\"> <a class=\"standard\" href=\"https://www.hikr.org/dir/tag/ch-ti/\">CH-TI</a> \\n</td>   \n",
       "4                                                                                                                                                                                                                                                                                                                                                                                <td class=\"fiche_rando\"><img alt=\"\" src=\"https://s.hikr.org/r4icons/world.png\" style=\"vertical-align:text-bottom;border:0\"> <a class=\"standard\" href=\"https://www.hikr.org/dir/tag/a/\">A</a> \\n<img alt=\"\" src=\"https://s.hikr.org/r4icons/world.png\" style=\"vertical-align:text-bottom;border:0\"> <a class=\"standard\" href=\"https://www.hikr.org/dir/tag/ch-gr/\">CH-GR</a> \\n</td>   \n",
       "..                                                                                                                                                                                                                                                                                                                                                                                                                                                                                                                                                                                                                                                                                                                                                               ...   \n",
       "195                                                                                                                                                                                                                                                                                                                                                                                                                                                                                                                                                     <td class=\"fiche_rando\"><img alt=\"\" src=\"https://s.hikr.org/r4icons/world.png\" style=\"vertical-align:text-bottom;border:0\"> <a class=\"standard\" href=\"https://www.hikr.org/dir/tag/ch-be/\">CH-BE</a> \\n</td>   \n",
       "196                                                                                                                                                                                                                                                                                                                                                                                                                                                                                                                                                     <td class=\"fiche_rando\"><img alt=\"\" src=\"https://s.hikr.org/r4icons/world.png\" style=\"vertical-align:text-bottom;border:0\"> <a class=\"standard\" href=\"https://www.hikr.org/dir/tag/ch-ur/\">CH-UR</a> \\n</td>   \n",
       "197                                                                                                                                                                                                                                                                                                                                                                                                                                                                                                                                                     <td class=\"fiche_rando\"><img alt=\"\" src=\"https://s.hikr.org/r4icons/world.png\" style=\"vertical-align:text-bottom;border:0\"> <a class=\"standard\" href=\"https://www.hikr.org/dir/tag/ch-vs/\">CH-VS</a> \\n</td>   \n",
       "198                                                                                                                                                                                                                                                                                                                                                                                                                                                                                                                                                             <td class=\"fiche_rando\"><img alt=\"\" src=\"https://s.hikr.org/r4icons/world.png\" style=\"vertical-align:text-bottom;border:0\"> <a class=\"standard\" href=\"https://www.hikr.org/dir/tag/f/\">F</a> \\n</td>   \n",
       "199                                                                                                                                                                                                                                                                                                                                                                                  <td class=\"fiche_rando\"><img alt=\"\" src=\"https://s.hikr.org/r4icons/world.png\" style=\"vertical-align:text-bottom;border:0\"> <a class=\"standard\" href=\"https://www.hikr.org/dir/tag/a/\">A</a> \\n<img alt=\"\" src=\"https://s.hikr.org/r4icons/world.png\" style=\"vertical-align:text-bottom;border:0\"> <a class=\"standard\" href=\"https://www.hikr.org/dir/tag/a-t/\">A-T</a> \\n</td>   \n",
       "\n",
       "     ... Zeitbedarf:_raw Abstieg:_raw             Kartennummer:_raw  \\\n",
       "0    ...     1 Tage 4:30       1300 m                  1177 Serneus   \n",
       "1    ...            7:00       1500 m     LK 1115 Säntis (1:25.000)   \n",
       "2    ...            3:00         None                          None   \n",
       "3    ...     2 Tage 7:00       1050 m           Biasca 1273 1:25000   \n",
       "4    ...     1 Tage 5:00       1100 m  1177 Serneus - 1157 Sulzfluh   \n",
       "..   ...             ...          ...                           ...   \n",
       "195  ...            6:00         None                1125 Chasseral   \n",
       "196  ...            1:15         None                          None   \n",
       "197  ...            5:00        430 m                          None   \n",
       "198  ...            6:00        900 m                          None   \n",
       "199  ...            5:00        680 m                          None   \n",
       "\n",
       "    Aufstieg:_raw Klettersteig Schwierigkeit:_raw  \\\n",
       "0           550 m                            None   \n",
       "1          2000 m                            None   \n",
       "2            None                            None   \n",
       "3          1050 m                            None   \n",
       "4          1100 m                            None   \n",
       "..            ...                             ...   \n",
       "195          None                            None   \n",
       "196          None                            None   \n",
       "197         450 m                            None   \n",
       "198         900 m                            None   \n",
       "199         680 m                            None   \n",
       "\n",
       "    Mountainbike Schwierigkeit:_raw Schneeshuhtouren Schwierigkeit:_raw  \\\n",
       "0                              None                                None   \n",
       "1                              None                                None   \n",
       "2                              None                                None   \n",
       "3                              None                                None   \n",
       "4                              None                                None   \n",
       "..                              ...                                 ...   \n",
       "195                            None                                None   \n",
       "196                            None                                None   \n",
       "197                            None                                None   \n",
       "198                            None                                None   \n",
       "199                            None                                None   \n",
       "\n",
       "                                                                                                                                                                                                                                                                                                                                                                                                                                                                                                                                                                                                                                                                                                                                                                                                                                                                                                                                                                                                                                                                                                                                                                                                                                                                                                                                                                                                                                                                                                                                                                                                                                                                                                                                                                                                                                                                                                                                                                                                                                                                                                                                                                                                                                                                                                                                                                                                                                                                                                                                                                                                                                                 Wegpunkte:_raw  \\\n",
       "0                                                                                                                                                                                                                                                                                                                                                                                                                                                                                                                                                                                                                                                                                                                                                                                                                                                                                                                                                                                                                                                                                                                                                                                                                                                                                                                                                                                                                                                                                                                                                                                                                                                                                                                                                                                                                                                                                                                                                                                    <td class=\"fiche_rando\">\\n<ul style=\"list-style-type:none;list-style-position:outside\">\\n<li style=\"list-style-type:none;list-style-position:outside\"><img src=\"https://s.hikr.org/r4icons/ico2_peak_s.png\" style=\"vertical-align:text-bottom\"> <a class=\"standard\" href=\"https://www.hikr.org/dir/Schlappiner_Spitz_19661/\">Schlappiner Spitz 2442 m   (5)</a>\\n</li>\\n\\n\\n<li style=\"list-style-type:none;list-style-position:outside\"><img src=\"https://s.hikr.org/r4icons/ico2_pass_s.png\" style=\"vertical-align:text-bottom\"> <a class=\"standard\" href=\"https://www.hikr.org/dir/Schlappiner_Joch_19660/\">Schlappiner Joch 2203 m   (12)</a>\\n</li>\\n\\n\\n</ul>\\n</td>   \n",
       "1    <td class=\"fiche_rando\">\\n<ul style=\"list-style-type:none;list-style-position:outside\">\\n<li style=\"list-style-type:none;list-style-position:outside\"><img src=\"https://s.hikr.org/r4icons/ico2_ort_s.png\" style=\"vertical-align:text-bottom\"> <a class=\"standard\" href=\"https://www.hikr.org/dir/Wasserauen_6854/\">Wasserauen 868 m   (381)</a>\\n</li>\\n\\n\\n<li style=\"list-style-type:none;list-style-position:outside\"><img src=\"https://s.hikr.org/r4icons/ico2_lake_s.png\" style=\"vertical-align:text-bottom\"> <a class=\"standard\" href=\"https://www.hikr.org/dir/Seealpsee_8235/\">Seealpsee 1141 m   (217)</a>\\n</li>\\n\\n\\n<li style=\"list-style-type:none;list-style-position:outside\"><img src=\"https://s.hikr.org/r4icons/ico2_hut_s.png\" style=\"vertical-align:text-bottom\"> <a class=\"standard\" href=\"https://www.hikr.org/dir/Altenalp_10913/\">Altenalp 1595 m   (58)</a>\\n</li>\\n\\n\\n<li style=\"list-style-type:none;list-style-position:outside\"><img src=\"https://s.hikr.org/r4icons/ico2_peak_s.png\" style=\"vertical-align:text-bottom\"> <a class=\"standard\" href=\"https://www.hikr.org/dir/Altenalpt%C3%BCrm_-_Ost_96015/\">Altenalptürm - Ost 1986 m   (11)</a>\\n</li>\\n\\n\\n<li style=\"list-style-type:none;list-style-position:outside\"><img src=\"https://s.hikr.org/r4icons/ico2_peak_s.png\" style=\"vertical-align:text-bottom\"> <a class=\"standard\" href=\"https://www.hikr.org/dir/Altenalpt%C3%BCrm_101/\">Altenalptürm 2031 m   (27)</a>\\n</li>\\n\\n\\n<li style=\"list-style-type:none;list-style-position:outside\"><img src=\"https://s.hikr.org/r4icons/ico2_pass_s.png\" style=\"vertical-align:text-bottom\"> <a class=\"standard\" href=\"https://www.hikr.org/dir/%C3%96hrlisattel_11553/\">Öhrlisattel 2121 m   (94)</a>\\n</li>\\n\\n\\n<li style=\"list-style-type:none;list-style-position:outside\"><img src=\"https://s.hikr.org/r4icons/ico2_peak_s.png\" style=\"vertical-align:text-bottom\"> <a class=\"standard\" href=\"https://www.hikr.org/dir/%C3%96hrli_%C3%96hrlikopf_3662/\">Öhrli / Öhrlikopf 2193 m   (84)</a>\\n</li>\\n\\n\\n<li style=\"list-style-type:none;list-style-position:outside\"><img src=\"https://s.hikr.org/r4icons/ico2_peak_s.png\" style=\"vertical-align:text-bottom\"> <a class=\"standard\" href=\"https://www.hikr.org/dir/H%C3%A4ngeten_-_Westlicher_Vorgipfel_16373/\">Hängeten - Westlicher Vorgipfel 2205 m   (8)</a>\\n</li>\\n\\n\\n<li style=\"list-style-type:none;list-style-position:outside\"><img src=\"https://s.hikr.org/r4icons/ico2_ort_s.png\" style=\"vertical-align:text-bottom\"> <a class=\"standard\" href=\"https://www.hikr.org/dir/Schw%C3%A4galp_8319/\">Schwägalp 1352 m   (269)</a>\\n</li>\\n\\n\\n</ul>\\n</td>   \n",
       "2                                                                                                                                                                                                                                                                                                                                                                                                                                                                                                                                                                                                                                                                                                                                                                                                                                                                                                                                                                                                                                                                                                                                                                                                                                                                                                                                                                                                                                                                                                                                                                                                                                              <td class=\"fiche_rando\">\\n<ul style=\"list-style-type:none;list-style-position:outside\">\\n<li style=\"list-style-type:none;list-style-position:outside\"><img src=\"https://s.hikr.org/r4icons/ico2_point_s.png\" style=\"vertical-align:text-bottom\"> <a class=\"standard\" href=\"https://www.hikr.org/dir/Z%C3%BCrich_-_Haltestelle_Triemli_17109/\">Zürich - Haltestelle Triemli 449 m   (32)</a>\\n</li>\\n\\n\\n<li style=\"list-style-type:none;list-style-position:outside\"><img src=\"https://s.hikr.org/r4icons/ico2_ruin_s.png\" style=\"vertical-align:text-bottom\"> <a class=\"standard\" href=\"https://www.hikr.org/dir/Ruine_Friesenburg_17110/\">Ruine Friesenburg 658 m   (15)</a>\\n</li>\\n\\n\\n<li style=\"list-style-type:none;list-style-position:outside\"><img src=\"https://s.hikr.org/r4icons/ico2_point_s.png\" style=\"vertical-align:text-bottom\"> <a class=\"standard\" href=\"https://www.hikr.org/dir/%C3%9Cetliberg_-_Aussichtsturm_17111/\">Üetliberg - Aussichtsturm 900 m   (38)</a>\\n</li>\\n\\n\\n</ul>\\n</td>   \n",
       "3                                                                                                                                                                                                                                                                                                                                                                                                                                                                                                                                                                                                                                                                                                                                                                                                                                                                                                                                                                                                                                                                                                                                                                                                                                                                                                                                                                                                                                                                                                                                                                                                                                                                                                                            <td class=\"fiche_rando\">\\n<ul style=\"list-style-type:none;list-style-position:outside\">\\n<li style=\"list-style-type:none;list-style-position:outside\"><img src=\"https://s.hikr.org/r4icons/ico2_peak_s.png\" style=\"vertical-align:text-bottom\"> <a class=\"standard\" href=\"https://www.hikr.org/dir/Cima_di_Biasagn_387/\">Cima di Biasagn 2417 m   (19)</a>\\n</li>\\n\\n\\n<li style=\"list-style-type:none;list-style-position:outside\"><img src=\"https://s.hikr.org/r4icons/ico2_hut_s.png\" style=\"vertical-align:text-bottom\"> <a class=\"standard\" href=\"https://www.hikr.org/dir/Capanna_Biasagn_8600/\">Capanna Biasagn 2023 m   (23)</a>\\n</li>\\n\\n\\n<li style=\"list-style-type:none;list-style-position:outside\"><img src=\"https://s.hikr.org/r4icons/ico2_point_s.png\" style=\"vertical-align:text-bottom\"> <a class=\"standard\" href=\"https://www.hikr.org/dir/Fontana_11692/\">Fontana 1347 m   (42)</a>\\n</li>\\n\\n\\n</ul>\\n</td>   \n",
       "4                                                                                                                                                                                                                                                                                                                                                                                                                                                                                                                                                                                                                                                                                                                                                                                                                                                                                                                                                                                                                                                                                                                                                                                                                                                                                                                                                                                                                                                                                                                                                                                                                                                                                                                                                                                                                                                                                                                                                                                                                                                                                                                                                                                                                                                             <td class=\"fiche_rando\">\\n<ul style=\"list-style-type:none;list-style-position:outside\">\\n<li style=\"list-style-type:none;list-style-position:outside\"><img src=\"https://s.hikr.org/r4icons/ico2_peak_s.png\" style=\"vertical-align:text-bottom\"> <a class=\"standard\" href=\"https://www.hikr.org/dir/Riedchopf_Ronggspitz_18956/\">Riedchopf / Ronggspitz 2552 m   (30)</a>\\n</li>\\n\\n\\n</ul>\\n</td>   \n",
       "..                                                                                                                                                                                                                                                                                                                                                                                                                                                                                                                                                                                                                                                                                                                                                                                                                                                                                                                                                                                                                                                                                                                                                                                                                                                                                                                                                                                                                                                                                                                                                                                                                                                                                                                                                                                                                                                                                                                                                                                                                                                                                                                                                                                                                                                                                                                                                                                                                                                                                                                                                                                                                                                          ...   \n",
       "195                                                                                                                                                                                                                                                                                                                                                                                                                                                                                                                                                                                                                                                                                                                                                                                                                                                                                                                                                                                                                                                                                                                                                                                                                                                                                                                                                                                                                                                                                                                                                                                                                                                                                                                    <td class=\"fiche_rando\">\\n<ul style=\"list-style-type:none;list-style-position:outside\">\\n<li style=\"list-style-type:none;list-style-position:outside\"><img src=\"https://s.hikr.org/r4icons/ico2_ort_s.png\" style=\"vertical-align:text-bottom\"> <a class=\"standard\" href=\"https://www.hikr.org/dir/Orvin_23049/\">Orvin 669 m   (18)</a>\\n</li>\\n\\n\\n<li style=\"list-style-type:none;list-style-position:outside\"><img src=\"https://s.hikr.org/r4icons/ico2_cave_s.png\" style=\"vertical-align:text-bottom\"> <a class=\"standard\" href=\"https://www.hikr.org/dir/Montchn%C3%B4_37403/\">Montchnô 858 m   (2)</a>\\n</li>\\n\\n\\n<li style=\"list-style-type:none;list-style-position:outside\"><img src=\"https://s.hikr.org/r4icons/ico2_climb_s.png\" style=\"vertical-align:text-bottom\"> <a class=\"standard\" href=\"https://www.hikr.org/dir/Orvin_-_Jardin_d_Escalade_27853/\">Orvin - Jardin d'Escalade 1059 m   (4)</a>\\n</li>\\n\\n\\n</ul>\\n</td>   \n",
       "196                                                                                                                                                                                                                                                                                                                                                                                                                                                                                                                                                                                                                                                                                                                                                                                                                                                                                                                                                                                                                                                                                                                                                                                                                                                                                                                                                                                                                                                                                                                                                                                                                                                                                                                                                                                                                                                                                                                                                                                                         <td class=\"fiche_rando\">\\n<ul style=\"list-style-type:none;list-style-position:outside\">\\n<li style=\"list-style-type:none;list-style-position:outside\"><img src=\"https://s.hikr.org/r4icons/ico2_ort_s.png\" style=\"vertical-align:text-bottom\"> <a class=\"standard\" href=\"https://www.hikr.org/dir/Andermatt_7577/\">Andermatt 1436 m   (162)</a>\\n</li>\\n\\n\\n<li style=\"list-style-type:none;list-style-position:outside\"><img src=\"https://s.hikr.org/r4icons/ico2_point_s.png\" style=\"vertical-align:text-bottom\"> <a class=\"standard\" href=\"https://www.hikr.org/dir/Sch%C3%B6llenen_8054/\">Schöllenen 1399 m   (24)</a>\\n</li>\\n\\n\\n</ul>\\n</td>   \n",
       "197                                                                                                                                                                                                                                                                                                                                                                                                                                                                                                                                                                                                                                                                                                                                                                                                                                                                                                                                                                                                                                                                                            <td class=\"fiche_rando\">\\n<ul style=\"list-style-type:none;list-style-position:outside\">\\n<li style=\"list-style-type:none;list-style-position:outside\"><img src=\"https://s.hikr.org/r4icons/ico2_point_s.png\" style=\"vertical-align:text-bottom\"> <a class=\"standard\" href=\"https://www.hikr.org/dir/Sion_-_Bahnhof_SBB_19626/\">Sion - Bahnhof SBB 490 m   (31)</a>\\n</li>\\n\\n\\n<li style=\"list-style-type:none;list-style-position:outside\"><img src=\"https://s.hikr.org/r4icons/ico2_point_s.png\" style=\"vertical-align:text-bottom\"> <a class=\"standard\" href=\"https://www.hikr.org/dir/Bisse_de_Clavau_-_Fin_19629/\">Bisse de Clavau - Fin 630 m   (11)</a>\\n</li>\\n\\n\\n<li style=\"list-style-type:none;list-style-position:outside\"><img src=\"https://s.hikr.org/r4icons/ico2_ort_s.png\" style=\"vertical-align:text-bottom\"> <a class=\"standard\" href=\"https://www.hikr.org/dir/Saint-L%C3%A9onard_19627/\">Saint-Léonard 505 m   (23)</a>\\n</li>\\n\\n\\n<li style=\"list-style-type:none;list-style-position:outside\"><img src=\"https://s.hikr.org/r4icons/ico2_point_s.png\" style=\"vertical-align:text-bottom\"> <a class=\"standard\" href=\"https://www.hikr.org/dir/Bisse_de_Clavau_-_D%C3%A9but__19628/\">Bisse de Clavau - Début  680 m   (15)</a>\\n</li>\\n\\n\\n<li style=\"list-style-type:none;list-style-position:outside\"><img src=\"https://s.hikr.org/r4icons/ico2_wand_s.png\" style=\"vertical-align:text-bottom\"> <a class=\"standard\" href=\"https://www.hikr.org/dir/Bisse_de_Sillonin_14489/\">Bisse de Sillonin 780 m   (15)</a>\\n</li>\\n\\n\\n</ul>\\n</td>   \n",
       "198                                                                                                                                                                                                                                                                                                                                                                                                                                                                                                                                                                                                                                                                                                                                                                                                                                                                                                                                                                                                                                                                                                                                                                                                                                                                                                                                                                                                                                                                                                                                                                                                                                                                                                                                                                                                                                                                                                                                                                                                                                                                                                                                                                                                                                                                <td class=\"fiche_rando\">\\n<ul style=\"list-style-type:none;list-style-position:outside\">\\n<li style=\"list-style-type:none;list-style-position:outside\"><img src=\"https://s.hikr.org/r4icons/ico2_peak_s.png\" style=\"vertical-align:text-bottom\"> <a class=\"standard\" href=\"https://www.hikr.org/dir/Cime_de_Roccassiera_21054/\">Cime de Roccassiera 1501 m   (2)</a>\\n</li>\\n\\n\\n</ul>\\n</td>   \n",
       "199                                                                                                                                                                                                                                                                                                                                                                                                                                                                                                                                                                                                                        <td class=\"fiche_rando\">\\n<ul style=\"list-style-type:none;list-style-position:outside\">\\n<li style=\"list-style-type:none;list-style-position:outside\"><img src=\"https://s.hikr.org/r4icons/ico2_peak_s.png\" style=\"vertical-align:text-bottom\"> <a class=\"standard\" href=\"https://www.hikr.org/dir/Hochiss_19821/\">Hochiss 2299 m   (25)</a>\\n</li>\\n\\n\\n<li style=\"list-style-type:none;list-style-position:outside\"><img src=\"https://s.hikr.org/r4icons/ico2_peak_s.png\" style=\"vertical-align:text-bottom\"> <a class=\"standard\" href=\"https://www.hikr.org/dir/Spieljoch_20297/\">Spieljoch 2236 m   (13)</a>\\n</li>\\n\\n\\n<li style=\"list-style-type:none;list-style-position:outside\"><img src=\"https://s.hikr.org/r4icons/ico2_peak_s.png\" style=\"vertical-align:text-bottom\"> <a class=\"standard\" href=\"https://www.hikr.org/dir/Streichkopf_21146/\">Streichkopf 2243 m   (15)</a>\\n</li>\\n\\n\\n<li style=\"list-style-type:none;list-style-position:outside\"><img src=\"https://s.hikr.org/r4icons/ico2_peak_s.png\" style=\"vertical-align:text-bottom\"> <a class=\"standard\" href=\"https://www.hikr.org/dir/Dalfazer_Joch_21147/\">Dalfazer Joch 2233 m   (12)</a>\\n</li>\\n\\n\\n<li style=\"list-style-type:none;list-style-position:outside\"><img src=\"https://s.hikr.org/r4icons/ico2_peak_s.png\" style=\"vertical-align:text-bottom\"> <a class=\"standard\" href=\"https://www.hikr.org/dir/Dalfazer_Ro%C3%9Fkopf_21148/\">Dalfazer Roßkopf 2143 m   (12)</a>\\n</li>\\n\\n\\n<li style=\"list-style-type:none;list-style-position:outside\"><img src=\"https://s.hikr.org/r4icons/ico2_peak_s.png\" style=\"vertical-align:text-bottom\"> <a class=\"standard\" href=\"https://www.hikr.org/dir/Rotspitze_21149/\">Rotspitze 2067 m   (13)</a>\\n</li>\\n\\n\\n<li style=\"list-style-type:none;list-style-position:outside\"><img src=\"https://s.hikr.org/r4icons/ico2_peak_s.png\" style=\"vertical-align:text-bottom\"> <a class=\"standard\" href=\"https://www.hikr.org/dir/Seekarlspitze_15040/\">Seekarlspitze 2261 m   (17)</a>\\n</li>\\n\\n\\n</ul>\\n</td>   \n",
       "\n",
       "                                                                                                                                                                                                                                                                             Zufahrt zum Ausgangspunkt:_raw  \\\n",
       "0                                                                                                                                                                                                                                                                         Télécabine Madrisa, Klosters Dorf   \n",
       "1                                                      <td class=\"fiche_rando\"><img src=\"https://s.hikr.org/r4icons/cff.gif\" style=\"border:0;vertical-align:middle;\" alt=\"cff logo\"> <a rel=\"nofollow\" href=\"http://www.cff.ch/\" onclick=\"r4showOVForm('Wasserauen');return false;\">Wasserauen</a><br></td>   \n",
       "2                                                                                                                                                                                                                                                                                           ÖV nach Triemli   \n",
       "3                                                                                                                                                                                                                                                                   Fontana in auto. da Malvaglia ca. 30min   \n",
       "4                                                                                                                                                                                                            En voiture ou en car postal depuis Küblis\\nEn voiture : place de parc no3\\nEn car : arrêt Rüti   \n",
       "..                                                                                                                                                                                                                                                                                                      ...   \n",
       "195  <td class=\"fiche_rando\"><img src=\"https://s.hikr.org/r4icons/cff.gif\" style=\"border:0;vertical-align:middle;\" alt=\"cff logo\"> <a rel=\"nofollow\" href=\"http://www.cff.ch/\" onclick=\"r4showOVForm('- Bus Biel: Orvin - Sous les Roches');return false;\">- Bus Biel: Orvin - Sous les Roches</a><br></td>   \n",
       "196                                                                                                                                                                                                                                                                                                    None   \n",
       "197                                                                <td class=\"fiche_rando\"><img src=\"https://s.hikr.org/r4icons/cff.gif\" style=\"border:0;vertical-align:middle;\" alt=\"cff logo\"> <a rel=\"nofollow\" href=\"http://www.cff.ch/\" onclick=\"r4showOVForm('Sion');return false;\">Sion</a><br></td>   \n",
       "198                                                                                                                                       Von Nizza die D2204 Richtung Sospel, in La Pointe de Contes links auf die D15 bis nach Coaraze. Parken auf dem ausgewiesenen Parkplatz, im Ort keine Möglichkeit.   \n",
       "199                                                                                                                                                                                                                                                                       Bei der Bergstation der Rofanbahn   \n",
       "\n",
       "                                                                                                                                                                                                                                         Zufahrt zum Ankunftspunkt:_raw  \n",
       "0                                                                                                                                                                                                                                                                  None  \n",
       "1                    <td class=\"fiche_rando\"><img src=\"https://s.hikr.org/r4icons/cff.gif\" style=\"border:0;vertical-align:middle;\" alt=\"cff logo\"> <a rel=\"nofollow\" href=\"http://www.cff.ch/\" onclick=\"r4showOVForm('Schwägalp');return false;\">Schwägalp</a><br></td>  \n",
       "2                                                                                                                                                                                                                                                                  None  \n",
       "3                                                                                                                                                                                                                                                                  None  \n",
       "4                                                                                                                                                                                                                                                                  None  \n",
       "..                                                                                                                                                                                                                                                                  ...  \n",
       "195  <td class=\"fiche_rando\"><img src=\"https://s.hikr.org/r4icons/cff.gif\" style=\"border:0;vertical-align:middle;\" alt=\"cff logo\"> <a rel=\"nofollow\" href=\"http://www.cff.ch/\" onclick=\"r4showOVForm('- Bus Biel: Orvin');return false;\">- Bus Biel: Orvin</a><br></td>  \n",
       "196                                                                                                                                                                                                                                                                None  \n",
       "197                <td class=\"fiche_rando\"><img src=\"https://s.hikr.org/r4icons/cff.gif\" style=\"border:0;vertical-align:middle;\" alt=\"cff logo\"> <a rel=\"nofollow\" href=\"http://www.cff.ch/\" onclick=\"r4showOVForm('St-Léonard');return false;\">St-Léonard</a><br></td>  \n",
       "198                                                                                                                                                                                                                                                                None  \n",
       "199                                                                                                                                                                                                                                                                None  \n",
       "\n",
       "[200 rows x 26 columns]"
      ]
     },
     "execution_count": 5,
     "metadata": {},
     "output_type": "execute_result"
    }
   ],
   "source": [
    "posts_raw_df = pd.DataFrame(posts_raw)\n",
    "posts_raw_df"
   ]
  },
  {
   "cell_type": "code",
   "execution_count": 6,
   "metadata": {},
   "outputs": [
    {
     "name": "stdout",
     "output_type": "stream",
     "text": [
      "Index(['name', 'id', 'author_public_name', 'author_internal_name', 'author_id',\n",
      "       'publishing_date_str', 'publishing_date',\n",
      "       'Hochtouren Schwierigkeit:_raw', 'Ski Schwierigkeit:_raw',\n",
      "       'Geo-Tags:_raw', 'Klettern Schwierigkeit:_raw', 'Region:_raw',\n",
      "       'Unterkunftmöglichkeiten:_raw', 'Strecke:_raw',\n",
      "       'Wandern Schwierigkeit:_raw', 'Tour Datum:_raw', 'Zeitbedarf:_raw',\n",
      "       'Abstieg:_raw', 'Kartennummer:_raw', 'Aufstieg:_raw',\n",
      "       'Klettersteig Schwierigkeit:_raw', 'Mountainbike Schwierigkeit:_raw',\n",
      "       'Schneeshuhtouren Schwierigkeit:_raw', 'Wegpunkte:_raw',\n",
      "       'Zufahrt zum Ausgangspunkt:_raw', 'Zufahrt zum Ankunftspunkt:_raw'],\n",
      "      dtype='object')\n"
     ]
    }
   ],
   "source": [
    "print(posts_raw_df.columns)"
   ]
  },
  {
   "cell_type": "code",
   "execution_count": 7,
   "metadata": {},
   "outputs": [
    {
     "name": "stdout",
     "output_type": "stream",
     "text": [
      "Region:_raw: 200\n",
      "Tour Datum:_raw: 199\n",
      "Wegpunkte:_raw: 199\n",
      "Geo-Tags:_raw: 195\n",
      "Wandern Schwierigkeit:_raw: 169\n",
      "Aufstieg:_raw: 161\n",
      "Zeitbedarf:_raw: 158\n",
      "Abstieg:_raw: 147\n",
      "Zufahrt zum Ausgangspunkt:_raw: 137\n",
      "Strecke:_raw: 124\n",
      "Kartennummer:_raw: 83\n",
      "Unterkunftmöglichkeiten:_raw: 55\n",
      "Zufahrt zum Ankunftspunkt:_raw: 50\n",
      "Klettern Schwierigkeit:_raw: 32\n",
      "Hochtouren Schwierigkeit:_raw: 10\n",
      "Mountainbike Schwierigkeit:_raw: 7\n",
      "Klettersteig Schwierigkeit:_raw: 6\n",
      "Ski Schwierigkeit:_raw: 5\n",
      "Schneeshuhtouren Schwierigkeit:_raw: 3\n",
      "----\n",
      "Total Rows:  200\n"
     ]
    }
   ],
   "source": [
    "counts = {}\n",
    "\n",
    "for column in posts_raw_df.columns:\n",
    "    if column.endswith('_raw'):\n",
    "        counts[column] = posts_raw_df[column].count()\n",
    "\n",
    "for column, count in sorted(counts.items(), key=lambda item: item[1], reverse=True):\n",
    "    print(f'{column}: {count}')\n",
    "\n",
    "print(\"----\")\n",
    "print(\"Total Rows: \", len(posts_raw_df))"
   ]
  },
  {
   "cell_type": "code",
   "execution_count": 8,
   "metadata": {},
   "outputs": [
    {
     "name": "stdout",
     "output_type": "stream",
     "text": [
      "{'region_0_content': 'Welt', 'region_1_content': 'Schweiz', 'region_2_content': 'Graubünden', 'region_3_content': 'Prättigau'}\n"
     ]
    }
   ],
   "source": [
    "from IPython.display import display, HTML\n",
    "posts_raw_df['Region:_raw'].iloc[0]\n",
    "\n",
    "# How can I extract all a tags with scrapy?\n",
    "\n",
    "def parse_region(region_raw: str):\n",
    "    if region_raw is None:\n",
    "        return None\n",
    "    document = Selector(text=region_raw)\n",
    "    a_tags = document.css('a')\n",
    "    output = {}\n",
    "    for i, a_tag in enumerate(a_tags):\n",
    "        href = a_tag.css('::attr(href)').get()\n",
    "        content = a_tag.css('::text').get()\n",
    "        #output[f\"region_{i}_href\"] = href.strip()\n",
    "        output[f\"region_{i}_content\"] = content.strip()\n",
    "    return output\n",
    "    \n",
    "\n",
    "print(parse_region(posts_raw_df['Region:_raw'].iloc[0]))\n",
    "\n"
   ]
  },
  {
   "cell_type": "code",
   "execution_count": 9,
   "metadata": {},
   "outputs": [
    {
     "data": {
      "text/html": [
       "<td class=\"fiche_rando\">\n",
       " \n",
       "<a class=\"standard\" href=\"https://www.hikr.org/region1.html\">Welt</a>\n",
       "\n",
       " » <img src=\"https://s.hikr.org/r4flag/ch.gif\" style=\"border:0;vertical-align:middle\"> \n",
       "<a class=\"standard\" href=\"https://www.hikr.org/region2.html\">Schweiz</a>\n",
       "\n",
       " » <img src=\"https://s.hikr.org/r4flag/ch.gr.gif\" style=\"border:0;vertical-align:middle\"> \n",
       "<a class=\"standard\" href=\"https://www.hikr.org/region4.html\">Graubünden</a>\n",
       "\n",
       " »  \n",
       "<a class=\"standard\" href=\"https://www.hikr.org/region313.html\">Prättigau</a>\n",
       "\n",
       "</td>"
      ],
      "text/plain": [
       "<IPython.core.display.HTML object>"
      ]
     },
     "metadata": {},
     "output_type": "display_data"
    },
    {
     "name": "stdout",
     "output_type": "stream",
     "text": [
      "{'region_0_content': 'Welt', 'region_1_content': 'Schweiz', 'region_2_content': 'Graubünden', 'region_3_content': 'Prättigau'}\n"
     ]
    },
    {
     "data": {
      "text/html": [
       "<td class=\"fiche_rando\">\n",
       " \n",
       "<a class=\"standard\" href=\"https://www.hikr.org/region1.html\">Welt</a>\n",
       "\n",
       " » <img src=\"https://s.hikr.org/r4flag/ch.gif\" style=\"border:0;vertical-align:middle\"> \n",
       "<a class=\"standard\" href=\"https://www.hikr.org/region2.html\">Schweiz</a>\n",
       "\n",
       " » <img src=\"https://s.hikr.org/r4flag/ch.ap.gif\" style=\"border:0;vertical-align:middle\"> \n",
       "<a class=\"standard\" href=\"https://www.hikr.org/region171.html\">Appenzell</a>\n",
       "\n",
       "</td>"
      ],
      "text/plain": [
       "<IPython.core.display.HTML object>"
      ]
     },
     "metadata": {},
     "output_type": "display_data"
    },
    {
     "name": "stdout",
     "output_type": "stream",
     "text": [
      "{'region_0_content': 'Welt', 'region_1_content': 'Schweiz', 'region_2_content': 'Appenzell'}\n"
     ]
    },
    {
     "data": {
      "text/html": [
       "<td class=\"fiche_rando\">\n",
       " \n",
       "<a class=\"standard\" href=\"https://www.hikr.org/region1.html\">Welt</a>\n",
       "\n",
       " » <img src=\"https://s.hikr.org/r4flag/ch.gif\" style=\"border:0;vertical-align:middle\"> \n",
       "<a class=\"standard\" href=\"https://www.hikr.org/region2.html\">Schweiz</a>\n",
       "\n",
       " » <img src=\"https://s.hikr.org/r4flag/ch.zh.gif\" style=\"border:0;vertical-align:middle\"> \n",
       "<a class=\"standard\" href=\"https://www.hikr.org/region148.html\">Zürich</a>\n",
       "\n",
       "</td>"
      ],
      "text/plain": [
       "<IPython.core.display.HTML object>"
      ]
     },
     "metadata": {},
     "output_type": "display_data"
    },
    {
     "name": "stdout",
     "output_type": "stream",
     "text": [
      "{'region_0_content': 'Welt', 'region_1_content': 'Schweiz', 'region_2_content': 'Zürich'}\n"
     ]
    },
    {
     "data": {
      "text/html": [
       "<td class=\"fiche_rando\">\n",
       " \n",
       "<a class=\"standard\" href=\"https://www.hikr.org/region1.html\">Welt</a>\n",
       "\n",
       " » <img src=\"https://s.hikr.org/r4flag/ch.gif\" style=\"border:0;vertical-align:middle\"> \n",
       "<a class=\"standard\" href=\"https://www.hikr.org/region2.html\">Schweiz</a>\n",
       "\n",
       " » <img src=\"https://s.hikr.org/r4flag/ch.ti.gif\" style=\"border:0;vertical-align:middle\"> \n",
       "<a class=\"standard\" href=\"https://www.hikr.org/region41.html\">Tessin</a>\n",
       "\n",
       " »  \n",
       "<a class=\"standard\" href=\"https://www.hikr.org/region493.html\">Bellinzonese</a>\n",
       "\n",
       "</td>"
      ],
      "text/plain": [
       "<IPython.core.display.HTML object>"
      ]
     },
     "metadata": {},
     "output_type": "display_data"
    },
    {
     "name": "stdout",
     "output_type": "stream",
     "text": [
      "{'region_0_content': 'Welt', 'region_1_content': 'Schweiz', 'region_2_content': 'Tessin', 'region_3_content': 'Bellinzonese'}\n"
     ]
    },
    {
     "data": {
      "text/html": [
       "<td class=\"fiche_rando\">\n",
       " \n",
       "<a class=\"standard\" href=\"https://www.hikr.org/region1.html\">Welt</a>\n",
       "\n",
       " » <img src=\"https://s.hikr.org/r4flag/ch.gif\" style=\"border:0;vertical-align:middle\"> \n",
       "<a class=\"standard\" href=\"https://www.hikr.org/region2.html\">Schweiz</a>\n",
       "\n",
       " » <img src=\"https://s.hikr.org/r4flag/ch.gr.gif\" style=\"border:0;vertical-align:middle\"> \n",
       "<a class=\"standard\" href=\"https://www.hikr.org/region4.html\">Graubünden</a>\n",
       "\n",
       " »  \n",
       "<a class=\"standard\" href=\"https://www.hikr.org/region313.html\">Prättigau</a>\n",
       "\n",
       "</td>"
      ],
      "text/plain": [
       "<IPython.core.display.HTML object>"
      ]
     },
     "metadata": {},
     "output_type": "display_data"
    },
    {
     "name": "stdout",
     "output_type": "stream",
     "text": [
      "{'region_0_content': 'Welt', 'region_1_content': 'Schweiz', 'region_2_content': 'Graubünden', 'region_3_content': 'Prättigau'}\n"
     ]
    },
    {
     "data": {
      "text/html": [
       "<td class=\"fiche_rando\">\n",
       " \n",
       "<a class=\"standard\" href=\"https://www.hikr.org/region1.html\">Welt</a>\n",
       "\n",
       " » <img src=\"https://s.hikr.org/r4flag/es.gif\" style=\"border:0;vertical-align:middle\"> \n",
       "<a class=\"standard\" href=\"https://www.hikr.org/region172.html\">Spanien</a>\n",
       "\n",
       " »  \n",
       "<a class=\"standard\" href=\"https://www.hikr.org/region772.html\">Kanarische Inseln</a>\n",
       "\n",
       " »  \n",
       "<a class=\"standard\" href=\"https://www.hikr.org/region774.html\">Santa Cruz de Tenerife</a>\n",
       "\n",
       "</td>"
      ],
      "text/plain": [
       "<IPython.core.display.HTML object>"
      ]
     },
     "metadata": {},
     "output_type": "display_data"
    },
    {
     "name": "stdout",
     "output_type": "stream",
     "text": [
      "{'region_0_content': 'Welt', 'region_1_content': 'Spanien', 'region_2_content': 'Kanarische Inseln', 'region_3_content': 'Santa Cruz de Tenerife'}\n"
     ]
    },
    {
     "data": {
      "text/html": [
       "<td class=\"fiche_rando\">\n",
       " \n",
       "<a class=\"standard\" href=\"https://www.hikr.org/region1.html\">Welt</a>\n",
       "\n",
       " » <img src=\"https://s.hikr.org/r4flag/ch.gif\" style=\"border:0;vertical-align:middle\"> \n",
       "<a class=\"standard\" href=\"https://www.hikr.org/region2.html\">Schweiz</a>\n",
       "\n",
       " » <img src=\"https://s.hikr.org/r4flag/ch.ti.gif\" style=\"border:0;vertical-align:middle\"> \n",
       "<a class=\"standard\" href=\"https://www.hikr.org/region41.html\">Tessin</a>\n",
       "\n",
       " »  \n",
       "<a class=\"standard\" href=\"https://www.hikr.org/region492.html\">Locarnese</a>\n",
       "\n",
       "</td>"
      ],
      "text/plain": [
       "<IPython.core.display.HTML object>"
      ]
     },
     "metadata": {},
     "output_type": "display_data"
    },
    {
     "name": "stdout",
     "output_type": "stream",
     "text": [
      "{'region_0_content': 'Welt', 'region_1_content': 'Schweiz', 'region_2_content': 'Tessin', 'region_3_content': 'Locarnese'}\n"
     ]
    },
    {
     "data": {
      "text/html": [
       "<td class=\"fiche_rando\">\n",
       " \n",
       "<a class=\"standard\" href=\"https://www.hikr.org/region1.html\">Welt</a>\n",
       "\n",
       " » <img src=\"https://s.hikr.org/r4flag/es.gif\" style=\"border:0;vertical-align:middle\"> \n",
       "<a class=\"standard\" href=\"https://www.hikr.org/region172.html\">Spanien</a>\n",
       "\n",
       " »  \n",
       "<a class=\"standard\" href=\"https://www.hikr.org/region772.html\">Kanarische Inseln</a>\n",
       "\n",
       " »  \n",
       "<a class=\"standard\" href=\"https://www.hikr.org/region774.html\">Santa Cruz de Tenerife</a>\n",
       "\n",
       "</td>"
      ],
      "text/plain": [
       "<IPython.core.display.HTML object>"
      ]
     },
     "metadata": {},
     "output_type": "display_data"
    },
    {
     "name": "stdout",
     "output_type": "stream",
     "text": [
      "{'region_0_content': 'Welt', 'region_1_content': 'Spanien', 'region_2_content': 'Kanarische Inseln', 'region_3_content': 'Santa Cruz de Tenerife'}\n"
     ]
    },
    {
     "data": {
      "text/html": [
       "<td class=\"fiche_rando\">\n",
       " \n",
       "<a class=\"standard\" href=\"https://www.hikr.org/region1.html\">Welt</a>\n",
       "\n",
       " » <img src=\"https://s.hikr.org/r4flag/ch.gif\" style=\"border:0;vertical-align:middle\"> \n",
       "<a class=\"standard\" href=\"https://www.hikr.org/region2.html\">Schweiz</a>\n",
       "\n",
       " » <img src=\"https://s.hikr.org/r4flag/ch.sg.gif\" style=\"border:0;vertical-align:middle\"> \n",
       "<a class=\"standard\" href=\"https://www.hikr.org/region45.html\">St.Gallen</a>\n",
       "\n",
       "</td>"
      ],
      "text/plain": [
       "<IPython.core.display.HTML object>"
      ]
     },
     "metadata": {},
     "output_type": "display_data"
    },
    {
     "name": "stdout",
     "output_type": "stream",
     "text": [
      "{'region_0_content': 'Welt', 'region_1_content': 'Schweiz', 'region_2_content': 'St.Gallen'}\n"
     ]
    },
    {
     "data": {
      "text/html": [
       "<td class=\"fiche_rando\">\n",
       " \n",
       "<a class=\"standard\" href=\"https://www.hikr.org/region1.html\">Welt</a>\n",
       "\n",
       " » <img src=\"https://s.hikr.org/r4flag/de.gif\" style=\"border:0;vertical-align:middle\"> \n",
       "<a class=\"standard\" href=\"https://www.hikr.org/region69.html\">Deutschland</a>\n",
       "\n",
       " »  \n",
       "<a class=\"standard\" href=\"https://www.hikr.org/region1178.html\">Westliche Mittelgebirge</a>\n",
       "\n",
       " »  \n",
       "<a class=\"standard\" href=\"https://www.hikr.org/region907.html\">Harz</a>\n",
       "\n",
       "</td>"
      ],
      "text/plain": [
       "<IPython.core.display.HTML object>"
      ]
     },
     "metadata": {},
     "output_type": "display_data"
    },
    {
     "name": "stdout",
     "output_type": "stream",
     "text": [
      "{'region_0_content': 'Welt', 'region_1_content': 'Deutschland', 'region_2_content': 'Westliche Mittelgebirge', 'region_3_content': 'Harz'}\n"
     ]
    },
    {
     "data": {
      "text/html": [
       "<td class=\"fiche_rando\">\n",
       " \n",
       "<a class=\"standard\" href=\"https://www.hikr.org/region1.html\">Welt</a>\n",
       "\n",
       " » <img src=\"https://s.hikr.org/r4flag/it.gif\" style=\"border:0;vertical-align:middle\"> \n",
       "<a class=\"standard\" href=\"https://www.hikr.org/region16.html\">Italien</a>\n",
       "\n",
       " »  \n",
       "<a class=\"standard\" href=\"https://www.hikr.org/region17.html\">Sizilien</a>\n",
       "\n",
       "</td>"
      ],
      "text/plain": [
       "<IPython.core.display.HTML object>"
      ]
     },
     "metadata": {},
     "output_type": "display_data"
    },
    {
     "name": "stdout",
     "output_type": "stream",
     "text": [
      "{'region_0_content': 'Welt', 'region_1_content': 'Italien', 'region_2_content': 'Sizilien'}\n"
     ]
    },
    {
     "data": {
      "text/html": [
       "<td class=\"fiche_rando\">\n",
       " \n",
       "<a class=\"standard\" href=\"https://www.hikr.org/region1.html\">Welt</a>\n",
       "\n",
       " » <img src=\"https://s.hikr.org/r4flag/ch.gif\" style=\"border:0;vertical-align:middle\"> \n",
       "<a class=\"standard\" href=\"https://www.hikr.org/region2.html\">Schweiz</a>\n",
       "\n",
       " » <img src=\"https://s.hikr.org/r4flag/ch.ti.gif\" style=\"border:0;vertical-align:middle\"> \n",
       "<a class=\"standard\" href=\"https://www.hikr.org/region41.html\">Tessin</a>\n",
       "\n",
       " »  \n",
       "<a class=\"standard\" href=\"https://www.hikr.org/region493.html\">Bellinzonese</a>\n",
       "\n",
       "</td>"
      ],
      "text/plain": [
       "<IPython.core.display.HTML object>"
      ]
     },
     "metadata": {},
     "output_type": "display_data"
    },
    {
     "name": "stdout",
     "output_type": "stream",
     "text": [
      "{'region_0_content': 'Welt', 'region_1_content': 'Schweiz', 'region_2_content': 'Tessin', 'region_3_content': 'Bellinzonese'}\n"
     ]
    },
    {
     "data": {
      "text/html": [
       "<td class=\"fiche_rando\">\n",
       " \n",
       "<a class=\"standard\" href=\"https://www.hikr.org/region1.html\">Welt</a>\n",
       "\n",
       " » <img src=\"https://s.hikr.org/r4flag/ch.gif\" style=\"border:0;vertical-align:middle\"> \n",
       "<a class=\"standard\" href=\"https://www.hikr.org/region2.html\">Schweiz</a>\n",
       "\n",
       " » <img src=\"https://s.hikr.org/r4flag/ch.gl.gif\" style=\"border:0;vertical-align:middle\"> \n",
       "<a class=\"standard\" href=\"https://www.hikr.org/region44.html\">Glarus</a>\n",
       "\n",
       "</td>"
      ],
      "text/plain": [
       "<IPython.core.display.HTML object>"
      ]
     },
     "metadata": {},
     "output_type": "display_data"
    },
    {
     "name": "stdout",
     "output_type": "stream",
     "text": [
      "{'region_0_content': 'Welt', 'region_1_content': 'Schweiz', 'region_2_content': 'Glarus'}\n"
     ]
    },
    {
     "data": {
      "text/html": [
       "<td class=\"fiche_rando\">\n",
       " \n",
       "<a class=\"standard\" href=\"https://www.hikr.org/region1.html\">Welt</a>\n",
       "\n",
       " » <img src=\"https://s.hikr.org/r4flag/ch.gif\" style=\"border:0;vertical-align:middle\"> \n",
       "<a class=\"standard\" href=\"https://www.hikr.org/region2.html\">Schweiz</a>\n",
       "\n",
       " » <img src=\"https://s.hikr.org/r4flag/ch.vd.gif\" style=\"border:0;vertical-align:middle\"> \n",
       "<a class=\"standard\" href=\"https://www.hikr.org/region8.html\">Waadt</a>\n",
       "\n",
       " »  \n",
       "<a class=\"standard\" href=\"https://www.hikr.org/region545.html\">Waadtländer Alpen</a>\n",
       "\n",
       "</td>"
      ],
      "text/plain": [
       "<IPython.core.display.HTML object>"
      ]
     },
     "metadata": {},
     "output_type": "display_data"
    },
    {
     "name": "stdout",
     "output_type": "stream",
     "text": [
      "{'region_0_content': 'Welt', 'region_1_content': 'Schweiz', 'region_2_content': 'Waadt', 'region_3_content': 'Waadtländer Alpen'}\n"
     ]
    },
    {
     "data": {
      "text/html": [
       "<td class=\"fiche_rando\">\n",
       " \n",
       "<a class=\"standard\" href=\"https://www.hikr.org/region1.html\">Welt</a>\n",
       "\n",
       " » <img src=\"https://s.hikr.org/r4flag/li.gif\" style=\"border:0;vertical-align:middle\"> \n",
       "<a class=\"standard\" href=\"https://www.hikr.org/region147.html\">Liechtenstein</a>\n",
       "\n",
       "</td>"
      ],
      "text/plain": [
       "<IPython.core.display.HTML object>"
      ]
     },
     "metadata": {},
     "output_type": "display_data"
    },
    {
     "name": "stdout",
     "output_type": "stream",
     "text": [
      "{'region_0_content': 'Welt', 'region_1_content': 'Liechtenstein'}\n"
     ]
    },
    {
     "data": {
      "text/html": [
       "<td class=\"fiche_rando\">\n",
       " \n",
       "<a class=\"standard\" href=\"https://www.hikr.org/region1.html\">Welt</a>\n",
       "\n",
       " » <img src=\"https://s.hikr.org/r4flag/ch.gif\" style=\"border:0;vertical-align:middle\"> \n",
       "<a class=\"standard\" href=\"https://www.hikr.org/region2.html\">Schweiz</a>\n",
       "\n",
       " » <img src=\"https://s.hikr.org/r4flag/ch.sg.gif\" style=\"border:0;vertical-align:middle\"> \n",
       "<a class=\"standard\" href=\"https://www.hikr.org/region45.html\">St.Gallen</a>\n",
       "\n",
       "</td>"
      ],
      "text/plain": [
       "<IPython.core.display.HTML object>"
      ]
     },
     "metadata": {},
     "output_type": "display_data"
    },
    {
     "name": "stdout",
     "output_type": "stream",
     "text": [
      "{'region_0_content': 'Welt', 'region_1_content': 'Schweiz', 'region_2_content': 'St.Gallen'}\n"
     ]
    },
    {
     "data": {
      "text/html": [
       "<td class=\"fiche_rando\">\n",
       " \n",
       "<a class=\"standard\" href=\"https://www.hikr.org/region1.html\">Welt</a>\n",
       "\n",
       " » <img src=\"https://s.hikr.org/r4flag/fr.gif\" style=\"border:0;vertical-align:middle\"> \n",
       "<a class=\"standard\" href=\"https://www.hikr.org/region14.html\">Frankreich</a>\n",
       "\n",
       " »  \n",
       "<a class=\"standard\" href=\"https://www.hikr.org/region1307.html\">Alpes-Maritimes</a>\n",
       "\n",
       "</td>"
      ],
      "text/plain": [
       "<IPython.core.display.HTML object>"
      ]
     },
     "metadata": {},
     "output_type": "display_data"
    },
    {
     "name": "stdout",
     "output_type": "stream",
     "text": [
      "{'region_0_content': 'Welt', 'region_1_content': 'Frankreich', 'region_2_content': 'Alpes-Maritimes'}\n"
     ]
    },
    {
     "data": {
      "text/html": [
       "<td class=\"fiche_rando\">\n",
       " \n",
       "<a class=\"standard\" href=\"https://www.hikr.org/region1.html\">Welt</a>\n",
       "\n",
       " » <img src=\"https://s.hikr.org/r4flag/at.gif\" style=\"border:0;vertical-align:middle\"> \n",
       "<a class=\"standard\" href=\"https://www.hikr.org/region33.html\">Österreich</a>\n",
       "\n",
       " »  \n",
       "<a class=\"standard\" href=\"https://www.hikr.org/region1082.html\">Nördliche Ostalpen</a>\n",
       "\n",
       " »  \n",
       "<a class=\"standard\" href=\"https://www.hikr.org/region1136.html\">Karwendel</a>\n",
       "\n",
       "</td>"
      ],
      "text/plain": [
       "<IPython.core.display.HTML object>"
      ]
     },
     "metadata": {},
     "output_type": "display_data"
    },
    {
     "name": "stdout",
     "output_type": "stream",
     "text": [
      "{'region_0_content': 'Welt', 'region_1_content': 'Österreich', 'region_2_content': 'Nördliche Ostalpen', 'region_3_content': 'Karwendel'}\n"
     ]
    },
    {
     "data": {
      "text/html": [
       "<td class=\"fiche_rando\">\n",
       " \n",
       "<a class=\"standard\" href=\"https://www.hikr.org/region1.html\">Welt</a>\n",
       "\n",
       " » <img src=\"https://s.hikr.org/r4flag/it.gif\" style=\"border:0;vertical-align:middle\"> \n",
       "<a class=\"standard\" href=\"https://www.hikr.org/region16.html\">Italien</a>\n",
       "\n",
       " »  \n",
       "<a class=\"standard\" href=\"https://www.hikr.org/region18.html\">Trentino-Südtirol</a>\n",
       "\n",
       "</td>"
      ],
      "text/plain": [
       "<IPython.core.display.HTML object>"
      ]
     },
     "metadata": {},
     "output_type": "display_data"
    },
    {
     "name": "stdout",
     "output_type": "stream",
     "text": [
      "{'region_0_content': 'Welt', 'region_1_content': 'Italien', 'region_2_content': 'Trentino-Südtirol'}\n"
     ]
    },
    {
     "data": {
      "text/html": [
       "<td class=\"fiche_rando\">\n",
       " \n",
       "<a class=\"standard\" href=\"https://www.hikr.org/region1.html\">Welt</a>\n",
       "\n",
       " » <img src=\"https://s.hikr.org/r4flag/it.gif\" style=\"border:0;vertical-align:middle\"> \n",
       "<a class=\"standard\" href=\"https://www.hikr.org/region16.html\">Italien</a>\n",
       "\n",
       " »  \n",
       "<a class=\"standard\" href=\"https://www.hikr.org/region18.html\">Trentino-Südtirol</a>\n",
       "\n",
       "</td>"
      ],
      "text/plain": [
       "<IPython.core.display.HTML object>"
      ]
     },
     "metadata": {},
     "output_type": "display_data"
    },
    {
     "name": "stdout",
     "output_type": "stream",
     "text": [
      "{'region_0_content': 'Welt', 'region_1_content': 'Italien', 'region_2_content': 'Trentino-Südtirol'}\n"
     ]
    },
    {
     "data": {
      "text/html": [
       "<td class=\"fiche_rando\">\n",
       " \n",
       "<a class=\"standard\" href=\"https://www.hikr.org/region1.html\">Welt</a>\n",
       "\n",
       " » <img src=\"https://s.hikr.org/r4flag/ch.gif\" style=\"border:0;vertical-align:middle\"> \n",
       "<a class=\"standard\" href=\"https://www.hikr.org/region2.html\">Schweiz</a>\n",
       "\n",
       " » <img src=\"https://s.hikr.org/r4flag/ch.vs.gif\" style=\"border:0;vertical-align:middle\"> \n",
       "<a class=\"standard\" href=\"https://www.hikr.org/region3.html\">Wallis</a>\n",
       "\n",
       " »  \n",
       "<a class=\"standard\" href=\"https://www.hikr.org/region180.html\">Oberwallis</a>\n",
       "\n",
       "</td>"
      ],
      "text/plain": [
       "<IPython.core.display.HTML object>"
      ]
     },
     "metadata": {},
     "output_type": "display_data"
    },
    {
     "name": "stdout",
     "output_type": "stream",
     "text": [
      "{'region_0_content': 'Welt', 'region_1_content': 'Schweiz', 'region_2_content': 'Wallis', 'region_3_content': 'Oberwallis'}\n"
     ]
    },
    {
     "data": {
      "text/html": [
       "<td class=\"fiche_rando\">\n",
       " \n",
       "<a class=\"standard\" href=\"https://www.hikr.org/region1.html\">Welt</a>\n",
       "\n",
       " » <img src=\"https://s.hikr.org/r4flag/ch.gif\" style=\"border:0;vertical-align:middle\"> \n",
       "<a class=\"standard\" href=\"https://www.hikr.org/region2.html\">Schweiz</a>\n",
       "\n",
       " » <img src=\"https://s.hikr.org/r4flag/ch.ur.gif\" style=\"border:0;vertical-align:middle\"> \n",
       "<a class=\"standard\" href=\"https://www.hikr.org/region146.html\">Uri</a>\n",
       "\n",
       "</td>"
      ],
      "text/plain": [
       "<IPython.core.display.HTML object>"
      ]
     },
     "metadata": {},
     "output_type": "display_data"
    },
    {
     "name": "stdout",
     "output_type": "stream",
     "text": [
      "{'region_0_content': 'Welt', 'region_1_content': 'Schweiz', 'region_2_content': 'Uri'}\n"
     ]
    },
    {
     "data": {
      "text/html": [
       "<td class=\"fiche_rando\">\n",
       " \n",
       "<a class=\"standard\" href=\"https://www.hikr.org/region1.html\">Welt</a>\n",
       "\n",
       " » <img src=\"https://s.hikr.org/r4flag/ch.gif\" style=\"border:0;vertical-align:middle\"> \n",
       "<a class=\"standard\" href=\"https://www.hikr.org/region2.html\">Schweiz</a>\n",
       "\n",
       " » <img src=\"https://s.hikr.org/r4flag/ch.gl.gif\" style=\"border:0;vertical-align:middle\"> \n",
       "<a class=\"standard\" href=\"https://www.hikr.org/region44.html\">Glarus</a>\n",
       "\n",
       "</td>"
      ],
      "text/plain": [
       "<IPython.core.display.HTML object>"
      ]
     },
     "metadata": {},
     "output_type": "display_data"
    },
    {
     "name": "stdout",
     "output_type": "stream",
     "text": [
      "{'region_0_content': 'Welt', 'region_1_content': 'Schweiz', 'region_2_content': 'Glarus'}\n"
     ]
    },
    {
     "data": {
      "text/html": [
       "<td class=\"fiche_rando\">\n",
       " \n",
       "<a class=\"standard\" href=\"https://www.hikr.org/region1.html\">Welt</a>\n",
       "\n",
       " » <img src=\"https://s.hikr.org/r4flag/it.gif\" style=\"border:0;vertical-align:middle\"> \n",
       "<a class=\"standard\" href=\"https://www.hikr.org/region16.html\">Italien</a>\n",
       "\n",
       " »  \n",
       "<a class=\"standard\" href=\"https://www.hikr.org/region18.html\">Trentino-Südtirol</a>\n",
       "\n",
       "</td>"
      ],
      "text/plain": [
       "<IPython.core.display.HTML object>"
      ]
     },
     "metadata": {},
     "output_type": "display_data"
    },
    {
     "name": "stdout",
     "output_type": "stream",
     "text": [
      "{'region_0_content': 'Welt', 'region_1_content': 'Italien', 'region_2_content': 'Trentino-Südtirol'}\n"
     ]
    },
    {
     "data": {
      "text/html": [
       "<td class=\"fiche_rando\">\n",
       " \n",
       "<a class=\"standard\" href=\"https://www.hikr.org/region1.html\">Welt</a>\n",
       "\n",
       " » <img src=\"https://s.hikr.org/r4flag/ch.gif\" style=\"border:0;vertical-align:middle\"> \n",
       "<a class=\"standard\" href=\"https://www.hikr.org/region2.html\">Schweiz</a>\n",
       "\n",
       " » <img src=\"https://s.hikr.org/r4flag/ch.sz.gif\" style=\"border:0;vertical-align:middle\"> \n",
       "<a class=\"standard\" href=\"https://www.hikr.org/region109.html\">Schwyz</a>\n",
       "\n",
       "</td>"
      ],
      "text/plain": [
       "<IPython.core.display.HTML object>"
      ]
     },
     "metadata": {},
     "output_type": "display_data"
    },
    {
     "name": "stdout",
     "output_type": "stream",
     "text": [
      "{'region_0_content': 'Welt', 'region_1_content': 'Schweiz', 'region_2_content': 'Schwyz'}\n"
     ]
    },
    {
     "data": {
      "text/html": [
       "<td class=\"fiche_rando\">\n",
       " \n",
       "<a class=\"standard\" href=\"https://www.hikr.org/region1.html\">Welt</a>\n",
       "\n",
       " » <img src=\"https://s.hikr.org/r4flag/ma.gif\" style=\"border:0;vertical-align:middle\"> \n",
       "<a class=\"standard\" href=\"https://www.hikr.org/region653.html\">Marokko</a>\n",
       "\n",
       "</td>"
      ],
      "text/plain": [
       "<IPython.core.display.HTML object>"
      ]
     },
     "metadata": {},
     "output_type": "display_data"
    },
    {
     "name": "stdout",
     "output_type": "stream",
     "text": [
      "{'region_0_content': 'Welt', 'region_1_content': 'Marokko'}\n"
     ]
    },
    {
     "data": {
      "text/html": [
       "<td class=\"fiche_rando\">\n",
       " \n",
       "<a class=\"standard\" href=\"https://www.hikr.org/region1.html\">Welt</a>\n",
       "\n",
       " » <img src=\"https://s.hikr.org/r4flag/ch.gif\" style=\"border:0;vertical-align:middle\"> \n",
       "<a class=\"standard\" href=\"https://www.hikr.org/region2.html\">Schweiz</a>\n",
       "\n",
       " » <img src=\"https://s.hikr.org/r4flag/ch.gr.gif\" style=\"border:0;vertical-align:middle\"> \n",
       "<a class=\"standard\" href=\"https://www.hikr.org/region4.html\">Graubünden</a>\n",
       "\n",
       " »  \n",
       "<a class=\"standard\" href=\"https://www.hikr.org/region467.html\">Oberhalbstein</a>\n",
       "\n",
       "</td>"
      ],
      "text/plain": [
       "<IPython.core.display.HTML object>"
      ]
     },
     "metadata": {},
     "output_type": "display_data"
    },
    {
     "name": "stdout",
     "output_type": "stream",
     "text": [
      "{'region_0_content': 'Welt', 'region_1_content': 'Schweiz', 'region_2_content': 'Graubünden', 'region_3_content': 'Oberhalbstein'}\n"
     ]
    },
    {
     "data": {
      "text/html": [
       "<td class=\"fiche_rando\">\n",
       " \n",
       "<a class=\"standard\" href=\"https://www.hikr.org/region1.html\">Welt</a>\n",
       "\n",
       " » <img src=\"https://s.hikr.org/r4flag/ch.gif\" style=\"border:0;vertical-align:middle\"> \n",
       "<a class=\"standard\" href=\"https://www.hikr.org/region2.html\">Schweiz</a>\n",
       "\n",
       " » <img src=\"https://s.hikr.org/r4flag/ch.ti.gif\" style=\"border:0;vertical-align:middle\"> \n",
       "<a class=\"standard\" href=\"https://www.hikr.org/region41.html\">Tessin</a>\n",
       "\n",
       " »  \n",
       "<a class=\"standard\" href=\"https://www.hikr.org/region492.html\">Locarnese</a>\n",
       "\n",
       "</td>"
      ],
      "text/plain": [
       "<IPython.core.display.HTML object>"
      ]
     },
     "metadata": {},
     "output_type": "display_data"
    },
    {
     "name": "stdout",
     "output_type": "stream",
     "text": [
      "{'region_0_content': 'Welt', 'region_1_content': 'Schweiz', 'region_2_content': 'Tessin', 'region_3_content': 'Locarnese'}\n"
     ]
    },
    {
     "data": {
      "text/html": [
       "<td class=\"fiche_rando\">\n",
       " \n",
       "<a class=\"standard\" href=\"https://www.hikr.org/region1.html\">Welt</a>\n",
       "\n",
       " » <img src=\"https://s.hikr.org/r4flag/ch.gif\" style=\"border:0;vertical-align:middle\"> \n",
       "<a class=\"standard\" href=\"https://www.hikr.org/region2.html\">Schweiz</a>\n",
       "\n",
       " » <img src=\"https://s.hikr.org/r4flag/ch.uw.gif\" style=\"border:0;vertical-align:middle\"> \n",
       "<a class=\"standard\" href=\"https://www.hikr.org/region127.html\">Obwalden</a>\n",
       "\n",
       "</td>"
      ],
      "text/plain": [
       "<IPython.core.display.HTML object>"
      ]
     },
     "metadata": {},
     "output_type": "display_data"
    },
    {
     "name": "stdout",
     "output_type": "stream",
     "text": [
      "{'region_0_content': 'Welt', 'region_1_content': 'Schweiz', 'region_2_content': 'Obwalden'}\n"
     ]
    },
    {
     "data": {
      "text/html": [
       "<td class=\"fiche_rando\">\n",
       " \n",
       "<a class=\"standard\" href=\"https://www.hikr.org/region1.html\">Welt</a>\n",
       "\n",
       " » <img src=\"https://s.hikr.org/r4flag/ch.gif\" style=\"border:0;vertical-align:middle\"> \n",
       "<a class=\"standard\" href=\"https://www.hikr.org/region2.html\">Schweiz</a>\n",
       "\n",
       " » <img src=\"https://s.hikr.org/r4flag/ch.be.gif\" style=\"border:0;vertical-align:middle\"> \n",
       "<a class=\"standard\" href=\"https://www.hikr.org/region13.html\">Bern</a>\n",
       "\n",
       " »  \n",
       "<a class=\"standard\" href=\"https://www.hikr.org/region525.html\">Bern Mittelland</a>\n",
       "\n",
       "</td>"
      ],
      "text/plain": [
       "<IPython.core.display.HTML object>"
      ]
     },
     "metadata": {},
     "output_type": "display_data"
    },
    {
     "name": "stdout",
     "output_type": "stream",
     "text": [
      "{'region_0_content': 'Welt', 'region_1_content': 'Schweiz', 'region_2_content': 'Bern', 'region_3_content': 'Bern Mittelland'}\n"
     ]
    },
    {
     "data": {
      "text/html": [
       "<td class=\"fiche_rando\">\n",
       " \n",
       "<a class=\"standard\" href=\"https://www.hikr.org/region1.html\">Welt</a>\n",
       "\n",
       " » <img src=\"https://s.hikr.org/r4flag/it.gif\" style=\"border:0;vertical-align:middle\"> \n",
       "<a class=\"standard\" href=\"https://www.hikr.org/region16.html\">Italien</a>\n",
       "\n",
       " »  \n",
       "<a class=\"standard\" href=\"https://www.hikr.org/region17.html\">Sizilien</a>\n",
       "\n",
       "</td>"
      ],
      "text/plain": [
       "<IPython.core.display.HTML object>"
      ]
     },
     "metadata": {},
     "output_type": "display_data"
    },
    {
     "name": "stdout",
     "output_type": "stream",
     "text": [
      "{'region_0_content': 'Welt', 'region_1_content': 'Italien', 'region_2_content': 'Sizilien'}\n"
     ]
    },
    {
     "data": {
      "text/html": [
       "<td class=\"fiche_rando\">\n",
       " \n",
       "<a class=\"standard\" href=\"https://www.hikr.org/region1.html\">Welt</a>\n",
       "\n",
       " » <img src=\"https://s.hikr.org/r4flag/ch.gif\" style=\"border:0;vertical-align:middle\"> \n",
       "<a class=\"standard\" href=\"https://www.hikr.org/region2.html\">Schweiz</a>\n",
       "\n",
       " » <img src=\"https://s.hikr.org/r4flag/ch.vs.gif\" style=\"border:0;vertical-align:middle\"> \n",
       "<a class=\"standard\" href=\"https://www.hikr.org/region3.html\">Wallis</a>\n",
       "\n",
       " »  \n",
       "<a class=\"standard\" href=\"https://www.hikr.org/region180.html\">Oberwallis</a>\n",
       "\n",
       "</td>"
      ],
      "text/plain": [
       "<IPython.core.display.HTML object>"
      ]
     },
     "metadata": {},
     "output_type": "display_data"
    },
    {
     "name": "stdout",
     "output_type": "stream",
     "text": [
      "{'region_0_content': 'Welt', 'region_1_content': 'Schweiz', 'region_2_content': 'Wallis', 'region_3_content': 'Oberwallis'}\n"
     ]
    },
    {
     "data": {
      "text/html": [
       "<td class=\"fiche_rando\">\n",
       " \n",
       "<a class=\"standard\" href=\"https://www.hikr.org/region1.html\">Welt</a>\n",
       "\n",
       " » <img src=\"https://s.hikr.org/r4flag/at.gif\" style=\"border:0;vertical-align:middle\"> \n",
       "<a class=\"standard\" href=\"https://www.hikr.org/region33.html\">Österreich</a>\n",
       "\n",
       " »  \n",
       "<a class=\"standard\" href=\"https://www.hikr.org/region1102.html\">Zentrale Ostalpen</a>\n",
       "\n",
       " »  \n",
       "<a class=\"standard\" href=\"https://www.hikr.org/region1103.html\">Rätikon</a>\n",
       "\n",
       "</td>"
      ],
      "text/plain": [
       "<IPython.core.display.HTML object>"
      ]
     },
     "metadata": {},
     "output_type": "display_data"
    },
    {
     "name": "stdout",
     "output_type": "stream",
     "text": [
      "{'region_0_content': 'Welt', 'region_1_content': 'Österreich', 'region_2_content': 'Zentrale Ostalpen', 'region_3_content': 'Rätikon'}\n"
     ]
    },
    {
     "data": {
      "text/html": [
       "<td class=\"fiche_rando\">\n",
       " \n",
       "<a class=\"standard\" href=\"https://www.hikr.org/region1.html\">Welt</a>\n",
       "\n",
       " » <img src=\"https://s.hikr.org/r4flag/ch.gif\" style=\"border:0;vertical-align:middle\"> \n",
       "<a class=\"standard\" href=\"https://www.hikr.org/region2.html\">Schweiz</a>\n",
       "\n",
       " » <img src=\"https://s.hikr.org/r4flag/ch.gr.gif\" style=\"border:0;vertical-align:middle\"> \n",
       "<a class=\"standard\" href=\"https://www.hikr.org/region4.html\">Graubünden</a>\n",
       "\n",
       " »  \n",
       "<a class=\"standard\" href=\"https://www.hikr.org/region389.html\">Domleschg</a>\n",
       "\n",
       "</td>"
      ],
      "text/plain": [
       "<IPython.core.display.HTML object>"
      ]
     },
     "metadata": {},
     "output_type": "display_data"
    },
    {
     "name": "stdout",
     "output_type": "stream",
     "text": [
      "{'region_0_content': 'Welt', 'region_1_content': 'Schweiz', 'region_2_content': 'Graubünden', 'region_3_content': 'Domleschg'}\n"
     ]
    },
    {
     "data": {
      "text/html": [
       "<td class=\"fiche_rando\">\n",
       " \n",
       "<a class=\"standard\" href=\"https://www.hikr.org/region1.html\">Welt</a>\n",
       "\n",
       " » <img src=\"https://s.hikr.org/r4flag/ch.gif\" style=\"border:0;vertical-align:middle\"> \n",
       "<a class=\"standard\" href=\"https://www.hikr.org/region2.html\">Schweiz</a>\n",
       "\n",
       " » <img src=\"https://s.hikr.org/r4flag/ch.be.gif\" style=\"border:0;vertical-align:middle\"> \n",
       "<a class=\"standard\" href=\"https://www.hikr.org/region13.html\">Bern</a>\n",
       "\n",
       " »  \n",
       "<a class=\"standard\" href=\"https://www.hikr.org/region527.html\">Berner Jura</a>\n",
       "\n",
       "</td>"
      ],
      "text/plain": [
       "<IPython.core.display.HTML object>"
      ]
     },
     "metadata": {},
     "output_type": "display_data"
    },
    {
     "name": "stdout",
     "output_type": "stream",
     "text": [
      "{'region_0_content': 'Welt', 'region_1_content': 'Schweiz', 'region_2_content': 'Bern', 'region_3_content': 'Berner Jura'}\n"
     ]
    },
    {
     "data": {
      "text/html": [
       "<td class=\"fiche_rando\">\n",
       " \n",
       "<a class=\"standard\" href=\"https://www.hikr.org/region1.html\">Welt</a>\n",
       "\n",
       " » <img src=\"https://s.hikr.org/r4flag/ch.gif\" style=\"border:0;vertical-align:middle\"> \n",
       "<a class=\"standard\" href=\"https://www.hikr.org/region2.html\">Schweiz</a>\n",
       "\n",
       " » <img src=\"https://s.hikr.org/r4flag/ch.uw.gif\" style=\"border:0;vertical-align:middle\"> \n",
       "<a class=\"standard\" href=\"https://www.hikr.org/region127.html\">Obwalden</a>\n",
       "\n",
       "</td>"
      ],
      "text/plain": [
       "<IPython.core.display.HTML object>"
      ]
     },
     "metadata": {},
     "output_type": "display_data"
    },
    {
     "name": "stdout",
     "output_type": "stream",
     "text": [
      "{'region_0_content': 'Welt', 'region_1_content': 'Schweiz', 'region_2_content': 'Obwalden'}\n"
     ]
    },
    {
     "data": {
      "text/html": [
       "<td class=\"fiche_rando\">\n",
       " \n",
       "<a class=\"standard\" href=\"https://www.hikr.org/region1.html\">Welt</a>\n",
       "\n",
       " » <img src=\"https://s.hikr.org/r4flag/it.gif\" style=\"border:0;vertical-align:middle\"> \n",
       "<a class=\"standard\" href=\"https://www.hikr.org/region16.html\">Italien</a>\n",
       "\n",
       " »  \n",
       "<a class=\"standard\" href=\"https://www.hikr.org/region18.html\">Trentino-Südtirol</a>\n",
       "\n",
       "</td>"
      ],
      "text/plain": [
       "<IPython.core.display.HTML object>"
      ]
     },
     "metadata": {},
     "output_type": "display_data"
    },
    {
     "name": "stdout",
     "output_type": "stream",
     "text": [
      "{'region_0_content': 'Welt', 'region_1_content': 'Italien', 'region_2_content': 'Trentino-Südtirol'}\n"
     ]
    },
    {
     "data": {
      "text/html": [
       "<td class=\"fiche_rando\">\n",
       " \n",
       "<a class=\"standard\" href=\"https://www.hikr.org/region1.html\">Welt</a>\n",
       "\n",
       " » <img src=\"https://s.hikr.org/r4flag/ch.gif\" style=\"border:0;vertical-align:middle\"> \n",
       "<a class=\"standard\" href=\"https://www.hikr.org/region2.html\">Schweiz</a>\n",
       "\n",
       " » <img src=\"https://s.hikr.org/r4flag/ch.ag.gif\" style=\"border:0;vertical-align:middle\"> \n",
       "<a class=\"standard\" href=\"https://www.hikr.org/region150.html\">Aargau</a>\n",
       "\n",
       "</td>"
      ],
      "text/plain": [
       "<IPython.core.display.HTML object>"
      ]
     },
     "metadata": {},
     "output_type": "display_data"
    },
    {
     "name": "stdout",
     "output_type": "stream",
     "text": [
      "{'region_0_content': 'Welt', 'region_1_content': 'Schweiz', 'region_2_content': 'Aargau'}\n"
     ]
    },
    {
     "data": {
      "text/html": [
       "<td class=\"fiche_rando\">\n",
       " \n",
       "<a class=\"standard\" href=\"https://www.hikr.org/region1.html\">Welt</a>\n",
       "\n",
       " » <img src=\"https://s.hikr.org/r4flag/ch.gif\" style=\"border:0;vertical-align:middle\"> \n",
       "<a class=\"standard\" href=\"https://www.hikr.org/region2.html\">Schweiz</a>\n",
       "\n",
       " » <img src=\"https://s.hikr.org/r4flag/ch.ti.gif\" style=\"border:0;vertical-align:middle\"> \n",
       "<a class=\"standard\" href=\"https://www.hikr.org/region41.html\">Tessin</a>\n",
       "\n",
       " »  \n",
       "<a class=\"standard\" href=\"https://www.hikr.org/region492.html\">Locarnese</a>\n",
       "\n",
       "</td>"
      ],
      "text/plain": [
       "<IPython.core.display.HTML object>"
      ]
     },
     "metadata": {},
     "output_type": "display_data"
    },
    {
     "name": "stdout",
     "output_type": "stream",
     "text": [
      "{'region_0_content': 'Welt', 'region_1_content': 'Schweiz', 'region_2_content': 'Tessin', 'region_3_content': 'Locarnese'}\n"
     ]
    },
    {
     "data": {
      "text/html": [
       "<td class=\"fiche_rando\">\n",
       " \n",
       "<a class=\"standard\" href=\"https://www.hikr.org/region1.html\">Welt</a>\n",
       "\n",
       " » <img src=\"https://s.hikr.org/r4flag/fr.gif\" style=\"border:0;vertical-align:middle\"> \n",
       "<a class=\"standard\" href=\"https://www.hikr.org/region14.html\">Frankreich</a>\n",
       "\n",
       " »  \n",
       "<a class=\"standard\" href=\"https://www.hikr.org/region537.html\">Vogesen</a>\n",
       "\n",
       "</td>"
      ],
      "text/plain": [
       "<IPython.core.display.HTML object>"
      ]
     },
     "metadata": {},
     "output_type": "display_data"
    },
    {
     "name": "stdout",
     "output_type": "stream",
     "text": [
      "{'region_0_content': 'Welt', 'region_1_content': 'Frankreich', 'region_2_content': 'Vogesen'}\n"
     ]
    },
    {
     "data": {
      "text/html": [
       "<td class=\"fiche_rando\">\n",
       " \n",
       "<a class=\"standard\" href=\"https://www.hikr.org/region1.html\">Welt</a>\n",
       "\n",
       " » <img src=\"https://s.hikr.org/r4flag/at.gif\" style=\"border:0;vertical-align:middle\"> \n",
       "<a class=\"standard\" href=\"https://www.hikr.org/region33.html\">Österreich</a>\n",
       "\n",
       " »  \n",
       "<a class=\"standard\" href=\"https://www.hikr.org/region1102.html\">Zentrale Ostalpen</a>\n",
       "\n",
       " »  \n",
       "<a class=\"standard\" href=\"https://www.hikr.org/region1107.html\">Ötztaler Alpen</a>\n",
       "\n",
       "</td>"
      ],
      "text/plain": [
       "<IPython.core.display.HTML object>"
      ]
     },
     "metadata": {},
     "output_type": "display_data"
    },
    {
     "name": "stdout",
     "output_type": "stream",
     "text": [
      "{'region_0_content': 'Welt', 'region_1_content': 'Österreich', 'region_2_content': 'Zentrale Ostalpen', 'region_3_content': 'Ötztaler Alpen'}\n"
     ]
    },
    {
     "data": {
      "text/html": [
       "<td class=\"fiche_rando\">\n",
       " \n",
       "<a class=\"standard\" href=\"https://www.hikr.org/region1.html\">Welt</a>\n",
       "\n",
       " » <img src=\"https://s.hikr.org/r4flag/ch.gif\" style=\"border:0;vertical-align:middle\"> \n",
       "<a class=\"standard\" href=\"https://www.hikr.org/region2.html\">Schweiz</a>\n",
       "\n",
       " » <img src=\"https://s.hikr.org/r4flag/ch.sz.gif\" style=\"border:0;vertical-align:middle\"> \n",
       "<a class=\"standard\" href=\"https://www.hikr.org/region109.html\">Schwyz</a>\n",
       "\n",
       "</td>"
      ],
      "text/plain": [
       "<IPython.core.display.HTML object>"
      ]
     },
     "metadata": {},
     "output_type": "display_data"
    },
    {
     "name": "stdout",
     "output_type": "stream",
     "text": [
      "{'region_0_content': 'Welt', 'region_1_content': 'Schweiz', 'region_2_content': 'Schwyz'}\n"
     ]
    },
    {
     "data": {
      "text/html": [
       "<td class=\"fiche_rando\">\n",
       " \n",
       "<a class=\"standard\" href=\"https://www.hikr.org/region1.html\">Welt</a>\n",
       "\n",
       " » <img src=\"https://s.hikr.org/r4flag/ch.gif\" style=\"border:0;vertical-align:middle\"> \n",
       "<a class=\"standard\" href=\"https://www.hikr.org/region2.html\">Schweiz</a>\n",
       "\n",
       " » <img src=\"https://s.hikr.org/r4flag/ch.gr.gif\" style=\"border:0;vertical-align:middle\"> \n",
       "<a class=\"standard\" href=\"https://www.hikr.org/region4.html\">Graubünden</a>\n",
       "\n",
       " »  \n",
       "<a class=\"standard\" href=\"https://www.hikr.org/region455.html\">Bregaglia</a>\n",
       "\n",
       "</td>"
      ],
      "text/plain": [
       "<IPython.core.display.HTML object>"
      ]
     },
     "metadata": {},
     "output_type": "display_data"
    },
    {
     "name": "stdout",
     "output_type": "stream",
     "text": [
      "{'region_0_content': 'Welt', 'region_1_content': 'Schweiz', 'region_2_content': 'Graubünden', 'region_3_content': 'Bregaglia'}\n"
     ]
    },
    {
     "data": {
      "text/html": [
       "<td class=\"fiche_rando\">\n",
       " \n",
       "<a class=\"standard\" href=\"https://www.hikr.org/region1.html\">Welt</a>\n",
       "\n",
       " » <img src=\"https://s.hikr.org/r4flag/ch.gif\" style=\"border:0;vertical-align:middle\"> \n",
       "<a class=\"standard\" href=\"https://www.hikr.org/region2.html\">Schweiz</a>\n",
       "\n",
       " » <img src=\"https://s.hikr.org/r4flag/ch.gl.gif\" style=\"border:0;vertical-align:middle\"> \n",
       "<a class=\"standard\" href=\"https://www.hikr.org/region44.html\">Glarus</a>\n",
       "\n",
       "</td>"
      ],
      "text/plain": [
       "<IPython.core.display.HTML object>"
      ]
     },
     "metadata": {},
     "output_type": "display_data"
    },
    {
     "name": "stdout",
     "output_type": "stream",
     "text": [
      "{'region_0_content': 'Welt', 'region_1_content': 'Schweiz', 'region_2_content': 'Glarus'}\n"
     ]
    },
    {
     "data": {
      "text/html": [
       "<td class=\"fiche_rando\">\n",
       " \n",
       "<a class=\"standard\" href=\"https://www.hikr.org/region1.html\">Welt</a>\n",
       "\n",
       " » <img src=\"https://s.hikr.org/r4flag/ch.gif\" style=\"border:0;vertical-align:middle\"> \n",
       "<a class=\"standard\" href=\"https://www.hikr.org/region2.html\">Schweiz</a>\n",
       "\n",
       " » <img src=\"https://s.hikr.org/r4flag/ch.fr.gif\" style=\"border:0;vertical-align:middle\"> \n",
       "<a class=\"standard\" href=\"https://www.hikr.org/region6.html\">Freiburg</a>\n",
       "\n",
       "</td>"
      ],
      "text/plain": [
       "<IPython.core.display.HTML object>"
      ]
     },
     "metadata": {},
     "output_type": "display_data"
    },
    {
     "name": "stdout",
     "output_type": "stream",
     "text": [
      "{'region_0_content': 'Welt', 'region_1_content': 'Schweiz', 'region_2_content': 'Freiburg'}\n"
     ]
    },
    {
     "data": {
      "text/html": [
       "<td class=\"fiche_rando\">\n",
       " \n",
       "<a class=\"standard\" href=\"https://www.hikr.org/region1.html\">Welt</a>\n",
       "\n",
       " » <img src=\"https://s.hikr.org/r4flag/ch.gif\" style=\"border:0;vertical-align:middle\"> \n",
       "<a class=\"standard\" href=\"https://www.hikr.org/region2.html\">Schweiz</a>\n",
       "\n",
       " » <img src=\"https://s.hikr.org/r4flag/ch.sz.gif\" style=\"border:0;vertical-align:middle\"> \n",
       "<a class=\"standard\" href=\"https://www.hikr.org/region109.html\">Schwyz</a>\n",
       "\n",
       "</td>"
      ],
      "text/plain": [
       "<IPython.core.display.HTML object>"
      ]
     },
     "metadata": {},
     "output_type": "display_data"
    },
    {
     "name": "stdout",
     "output_type": "stream",
     "text": [
      "{'region_0_content': 'Welt', 'region_1_content': 'Schweiz', 'region_2_content': 'Schwyz'}\n"
     ]
    },
    {
     "data": {
      "text/html": [
       "<td class=\"fiche_rando\">\n",
       " \n",
       "<a class=\"standard\" href=\"https://www.hikr.org/region1.html\">Welt</a>\n",
       "\n",
       " » <img src=\"https://s.hikr.org/r4flag/ch.gif\" style=\"border:0;vertical-align:middle\"> \n",
       "<a class=\"standard\" href=\"https://www.hikr.org/region2.html\">Schweiz</a>\n",
       "\n",
       " » <img src=\"https://s.hikr.org/r4flag/ch.ti.gif\" style=\"border:0;vertical-align:middle\"> \n",
       "<a class=\"standard\" href=\"https://www.hikr.org/region41.html\">Tessin</a>\n",
       "\n",
       " »  \n",
       "<a class=\"standard\" href=\"https://www.hikr.org/region492.html\">Locarnese</a>\n",
       "\n",
       "</td>"
      ],
      "text/plain": [
       "<IPython.core.display.HTML object>"
      ]
     },
     "metadata": {},
     "output_type": "display_data"
    },
    {
     "name": "stdout",
     "output_type": "stream",
     "text": [
      "{'region_0_content': 'Welt', 'region_1_content': 'Schweiz', 'region_2_content': 'Tessin', 'region_3_content': 'Locarnese'}\n"
     ]
    },
    {
     "data": {
      "text/html": [
       "<td class=\"fiche_rando\">\n",
       " \n",
       "<a class=\"standard\" href=\"https://www.hikr.org/region1.html\">Welt</a>\n",
       "\n",
       " » <img src=\"https://s.hikr.org/r4flag/ch.gif\" style=\"border:0;vertical-align:middle\"> \n",
       "<a class=\"standard\" href=\"https://www.hikr.org/region2.html\">Schweiz</a>\n",
       "\n",
       " » <img src=\"https://s.hikr.org/r4flag/ch.ti.gif\" style=\"border:0;vertical-align:middle\"> \n",
       "<a class=\"standard\" href=\"https://www.hikr.org/region41.html\">Tessin</a>\n",
       "\n",
       " »  \n",
       "<a class=\"standard\" href=\"https://www.hikr.org/region492.html\">Locarnese</a>\n",
       "\n",
       "</td>"
      ],
      "text/plain": [
       "<IPython.core.display.HTML object>"
      ]
     },
     "metadata": {},
     "output_type": "display_data"
    },
    {
     "name": "stdout",
     "output_type": "stream",
     "text": [
      "{'region_0_content': 'Welt', 'region_1_content': 'Schweiz', 'region_2_content': 'Tessin', 'region_3_content': 'Locarnese'}\n"
     ]
    },
    {
     "data": {
      "text/html": [
       "<td class=\"fiche_rando\">\n",
       " \n",
       "<a class=\"standard\" href=\"https://www.hikr.org/region1.html\">Welt</a>\n",
       "\n",
       " » <img src=\"https://s.hikr.org/r4flag/at.gif\" style=\"border:0;vertical-align:middle\"> \n",
       "<a class=\"standard\" href=\"https://www.hikr.org/region33.html\">Österreich</a>\n",
       "\n",
       " »  \n",
       "<a class=\"standard\" href=\"https://www.hikr.org/region1102.html\">Zentrale Ostalpen</a>\n",
       "\n",
       " »  \n",
       "<a class=\"standard\" href=\"https://www.hikr.org/region1110.html\">Kitzbüheler Alpen</a>\n",
       "\n",
       "</td>"
      ],
      "text/plain": [
       "<IPython.core.display.HTML object>"
      ]
     },
     "metadata": {},
     "output_type": "display_data"
    },
    {
     "name": "stdout",
     "output_type": "stream",
     "text": [
      "{'region_0_content': 'Welt', 'region_1_content': 'Österreich', 'region_2_content': 'Zentrale Ostalpen', 'region_3_content': 'Kitzbüheler Alpen'}\n"
     ]
    },
    {
     "data": {
      "text/html": [
       "<td class=\"fiche_rando\">\n",
       " \n",
       "<a class=\"standard\" href=\"https://www.hikr.org/region1.html\">Welt</a>\n",
       "\n",
       " » <img src=\"https://s.hikr.org/r4flag/de.gif\" style=\"border:0;vertical-align:middle\"> \n",
       "<a class=\"standard\" href=\"https://www.hikr.org/region69.html\">Deutschland</a>\n",
       "\n",
       " »  \n",
       "<a class=\"standard\" href=\"https://www.hikr.org/region1181.html\">Alpenvorland</a>\n",
       "\n",
       "</td>"
      ],
      "text/plain": [
       "<IPython.core.display.HTML object>"
      ]
     },
     "metadata": {},
     "output_type": "display_data"
    },
    {
     "name": "stdout",
     "output_type": "stream",
     "text": [
      "{'region_0_content': 'Welt', 'region_1_content': 'Deutschland', 'region_2_content': 'Alpenvorland'}\n"
     ]
    },
    {
     "data": {
      "text/html": [
       "<td class=\"fiche_rando\">\n",
       " \n",
       "<a class=\"standard\" href=\"https://www.hikr.org/region1.html\">Welt</a>\n",
       "\n",
       " » <img src=\"https://s.hikr.org/r4flag/ch.gif\" style=\"border:0;vertical-align:middle\"> \n",
       "<a class=\"standard\" href=\"https://www.hikr.org/region2.html\">Schweiz</a>\n",
       "\n",
       " » <img src=\"https://s.hikr.org/r4flag/ch.uw.gif\" style=\"border:0;vertical-align:middle\"> \n",
       "<a class=\"standard\" href=\"https://www.hikr.org/region127.html\">Obwalden</a>\n",
       "\n",
       "</td>"
      ],
      "text/plain": [
       "<IPython.core.display.HTML object>"
      ]
     },
     "metadata": {},
     "output_type": "display_data"
    },
    {
     "name": "stdout",
     "output_type": "stream",
     "text": [
      "{'region_0_content': 'Welt', 'region_1_content': 'Schweiz', 'region_2_content': 'Obwalden'}\n"
     ]
    },
    {
     "data": {
      "text/html": [
       "<td class=\"fiche_rando\">\n",
       " \n",
       "<a class=\"standard\" href=\"https://www.hikr.org/region1.html\">Welt</a>\n",
       "\n",
       " » <img src=\"https://s.hikr.org/r4flag/ch.gif\" style=\"border:0;vertical-align:middle\"> \n",
       "<a class=\"standard\" href=\"https://www.hikr.org/region2.html\">Schweiz</a>\n",
       "\n",
       " » <img src=\"https://s.hikr.org/r4flag/ch.gr.gif\" style=\"border:0;vertical-align:middle\"> \n",
       "<a class=\"standard\" href=\"https://www.hikr.org/region4.html\">Graubünden</a>\n",
       "\n",
       " »  \n",
       "<a class=\"standard\" href=\"https://www.hikr.org/region458.html\">Misox</a>\n",
       "\n",
       "</td>"
      ],
      "text/plain": [
       "<IPython.core.display.HTML object>"
      ]
     },
     "metadata": {},
     "output_type": "display_data"
    },
    {
     "name": "stdout",
     "output_type": "stream",
     "text": [
      "{'region_0_content': 'Welt', 'region_1_content': 'Schweiz', 'region_2_content': 'Graubünden', 'region_3_content': 'Misox'}\n"
     ]
    },
    {
     "data": {
      "text/html": [
       "<td class=\"fiche_rando\">\n",
       " \n",
       "<a class=\"standard\" href=\"https://www.hikr.org/region1.html\">Welt</a>\n",
       "\n",
       " » <img src=\"https://s.hikr.org/r4flag/ch.gif\" style=\"border:0;vertical-align:middle\"> \n",
       "<a class=\"standard\" href=\"https://www.hikr.org/region2.html\">Schweiz</a>\n",
       "\n",
       " » <img src=\"https://s.hikr.org/r4flag/ch.uw.gif\" style=\"border:0;vertical-align:middle\"> \n",
       "<a class=\"standard\" href=\"https://www.hikr.org/region127.html\">Obwalden</a>\n",
       "\n",
       "</td>"
      ],
      "text/plain": [
       "<IPython.core.display.HTML object>"
      ]
     },
     "metadata": {},
     "output_type": "display_data"
    },
    {
     "name": "stdout",
     "output_type": "stream",
     "text": [
      "{'region_0_content': 'Welt', 'region_1_content': 'Schweiz', 'region_2_content': 'Obwalden'}\n"
     ]
    },
    {
     "data": {
      "text/html": [
       "<td class=\"fiche_rando\">\n",
       " \n",
       "<a class=\"standard\" href=\"https://www.hikr.org/region1.html\">Welt</a>\n",
       "\n",
       " » <img src=\"https://s.hikr.org/r4flag/ch.gif\" style=\"border:0;vertical-align:middle\"> \n",
       "<a class=\"standard\" href=\"https://www.hikr.org/region2.html\">Schweiz</a>\n",
       "\n",
       " » <img src=\"https://s.hikr.org/r4flag/ch.sg.gif\" style=\"border:0;vertical-align:middle\"> \n",
       "<a class=\"standard\" href=\"https://www.hikr.org/region45.html\">St.Gallen</a>\n",
       "\n",
       "</td>"
      ],
      "text/plain": [
       "<IPython.core.display.HTML object>"
      ]
     },
     "metadata": {},
     "output_type": "display_data"
    },
    {
     "name": "stdout",
     "output_type": "stream",
     "text": [
      "{'region_0_content': 'Welt', 'region_1_content': 'Schweiz', 'region_2_content': 'St.Gallen'}\n"
     ]
    },
    {
     "data": {
      "text/html": [
       "<td class=\"fiche_rando\">\n",
       " \n",
       "<a class=\"standard\" href=\"https://www.hikr.org/region1.html\">Welt</a>\n",
       "\n",
       " » <img src=\"https://s.hikr.org/r4flag/ch.gif\" style=\"border:0;vertical-align:middle\"> \n",
       "<a class=\"standard\" href=\"https://www.hikr.org/region2.html\">Schweiz</a>\n",
       "\n",
       " » <img src=\"https://s.hikr.org/r4flag/ch.sg.gif\" style=\"border:0;vertical-align:middle\"> \n",
       "<a class=\"standard\" href=\"https://www.hikr.org/region45.html\">St.Gallen</a>\n",
       "\n",
       "</td>"
      ],
      "text/plain": [
       "<IPython.core.display.HTML object>"
      ]
     },
     "metadata": {},
     "output_type": "display_data"
    },
    {
     "name": "stdout",
     "output_type": "stream",
     "text": [
      "{'region_0_content': 'Welt', 'region_1_content': 'Schweiz', 'region_2_content': 'St.Gallen'}\n"
     ]
    },
    {
     "data": {
      "text/html": [
       "<td class=\"fiche_rando\">\n",
       " \n",
       "<a class=\"standard\" href=\"https://www.hikr.org/region1.html\">Welt</a>\n",
       "\n",
       " » <img src=\"https://s.hikr.org/r4flag/de.gif\" style=\"border:0;vertical-align:middle\"> \n",
       "<a class=\"standard\" href=\"https://www.hikr.org/region69.html\">Deutschland</a>\n",
       "\n",
       " »  \n",
       "<a class=\"standard\" href=\"https://www.hikr.org/region1182.html\">Alpen</a>\n",
       "\n",
       " »  \n",
       "<a class=\"standard\" href=\"https://www.hikr.org/region88.html\">Berchtesgadener Alpen</a>\n",
       "\n",
       "</td>"
      ],
      "text/plain": [
       "<IPython.core.display.HTML object>"
      ]
     },
     "metadata": {},
     "output_type": "display_data"
    },
    {
     "name": "stdout",
     "output_type": "stream",
     "text": [
      "{'region_0_content': 'Welt', 'region_1_content': 'Deutschland', 'region_2_content': 'Alpen', 'region_3_content': 'Berchtesgadener Alpen'}\n"
     ]
    },
    {
     "data": {
      "text/html": [
       "<td class=\"fiche_rando\">\n",
       " \n",
       "<a class=\"standard\" href=\"https://www.hikr.org/region1.html\">Welt</a>\n",
       "\n",
       " » <img src=\"https://s.hikr.org/r4flag/it.gif\" style=\"border:0;vertical-align:middle\"> \n",
       "<a class=\"standard\" href=\"https://www.hikr.org/region16.html\">Italien</a>\n",
       "\n",
       " »  \n",
       "<a class=\"standard\" href=\"https://www.hikr.org/region500.html\">Lombardei</a>\n",
       "\n",
       "</td>"
      ],
      "text/plain": [
       "<IPython.core.display.HTML object>"
      ]
     },
     "metadata": {},
     "output_type": "display_data"
    },
    {
     "name": "stdout",
     "output_type": "stream",
     "text": [
      "{'region_0_content': 'Welt', 'region_1_content': 'Italien', 'region_2_content': 'Lombardei'}\n"
     ]
    },
    {
     "data": {
      "text/html": [
       "<td class=\"fiche_rando\">\n",
       " \n",
       "<a class=\"standard\" href=\"https://www.hikr.org/region1.html\">Welt</a>\n",
       "\n",
       " » <img src=\"https://s.hikr.org/r4flag/at.gif\" style=\"border:0;vertical-align:middle\"> \n",
       "<a class=\"standard\" href=\"https://www.hikr.org/region33.html\">Österreich</a>\n",
       "\n",
       " »  \n",
       "<a class=\"standard\" href=\"https://www.hikr.org/region1082.html\">Nördliche Ostalpen</a>\n",
       "\n",
       " »  \n",
       "<a class=\"standard\" href=\"https://www.hikr.org/region1136.html\">Karwendel</a>\n",
       "\n",
       "</td>"
      ],
      "text/plain": [
       "<IPython.core.display.HTML object>"
      ]
     },
     "metadata": {},
     "output_type": "display_data"
    },
    {
     "name": "stdout",
     "output_type": "stream",
     "text": [
      "{'region_0_content': 'Welt', 'region_1_content': 'Österreich', 'region_2_content': 'Nördliche Ostalpen', 'region_3_content': 'Karwendel'}\n"
     ]
    },
    {
     "data": {
      "text/html": [
       "<td class=\"fiche_rando\">\n",
       " \n",
       "<a class=\"standard\" href=\"https://www.hikr.org/region1.html\">Welt</a>\n",
       "\n",
       " » <img src=\"https://s.hikr.org/r4flag/ch.gif\" style=\"border:0;vertical-align:middle\"> \n",
       "<a class=\"standard\" href=\"https://www.hikr.org/region2.html\">Schweiz</a>\n",
       "\n",
       " » <img src=\"https://s.hikr.org/r4flag/ch.sg.gif\" style=\"border:0;vertical-align:middle\"> \n",
       "<a class=\"standard\" href=\"https://www.hikr.org/region45.html\">St.Gallen</a>\n",
       "\n",
       "</td>"
      ],
      "text/plain": [
       "<IPython.core.display.HTML object>"
      ]
     },
     "metadata": {},
     "output_type": "display_data"
    },
    {
     "name": "stdout",
     "output_type": "stream",
     "text": [
      "{'region_0_content': 'Welt', 'region_1_content': 'Schweiz', 'region_2_content': 'St.Gallen'}\n"
     ]
    },
    {
     "data": {
      "text/html": [
       "<td class=\"fiche_rando\">\n",
       " \n",
       "<a class=\"standard\" href=\"https://www.hikr.org/region1.html\">Welt</a>\n",
       "\n",
       " » <img src=\"https://s.hikr.org/r4flag/it.gif\" style=\"border:0;vertical-align:middle\"> \n",
       "<a class=\"standard\" href=\"https://www.hikr.org/region16.html\">Italien</a>\n",
       "\n",
       " »  \n",
       "<a class=\"standard\" href=\"https://www.hikr.org/region502.html\">Piemont</a>\n",
       "\n",
       "</td>"
      ],
      "text/plain": [
       "<IPython.core.display.HTML object>"
      ]
     },
     "metadata": {},
     "output_type": "display_data"
    },
    {
     "name": "stdout",
     "output_type": "stream",
     "text": [
      "{'region_0_content': 'Welt', 'region_1_content': 'Italien', 'region_2_content': 'Piemont'}\n"
     ]
    },
    {
     "data": {
      "text/html": [
       "<td class=\"fiche_rando\">\n",
       " \n",
       "<a class=\"standard\" href=\"https://www.hikr.org/region1.html\">Welt</a>\n",
       "\n",
       " » <img src=\"https://s.hikr.org/r4flag/ch.gif\" style=\"border:0;vertical-align:middle\"> \n",
       "<a class=\"standard\" href=\"https://www.hikr.org/region2.html\">Schweiz</a>\n",
       "\n",
       " » <img src=\"https://s.hikr.org/r4flag/ch.vd.gif\" style=\"border:0;vertical-align:middle\"> \n",
       "<a class=\"standard\" href=\"https://www.hikr.org/region8.html\">Waadt</a>\n",
       "\n",
       " »  \n",
       "<a class=\"standard\" href=\"https://www.hikr.org/region545.html\">Waadtländer Alpen</a>\n",
       "\n",
       "</td>"
      ],
      "text/plain": [
       "<IPython.core.display.HTML object>"
      ]
     },
     "metadata": {},
     "output_type": "display_data"
    },
    {
     "name": "stdout",
     "output_type": "stream",
     "text": [
      "{'region_0_content': 'Welt', 'region_1_content': 'Schweiz', 'region_2_content': 'Waadt', 'region_3_content': 'Waadtländer Alpen'}\n"
     ]
    },
    {
     "data": {
      "text/html": [
       "<td class=\"fiche_rando\">\n",
       " \n",
       "<a class=\"standard\" href=\"https://www.hikr.org/region1.html\">Welt</a>\n",
       "\n",
       " » <img src=\"https://s.hikr.org/r4flag/ch.gif\" style=\"border:0;vertical-align:middle\"> \n",
       "<a class=\"standard\" href=\"https://www.hikr.org/region2.html\">Schweiz</a>\n",
       "\n",
       " » <img src=\"https://s.hikr.org/r4flag/ch.be.gif\" style=\"border:0;vertical-align:middle\"> \n",
       "<a class=\"standard\" href=\"https://www.hikr.org/region13.html\">Bern</a>\n",
       "\n",
       " »  \n",
       "<a class=\"standard\" href=\"https://www.hikr.org/region256.html\">Berner Voralpen</a>\n",
       "\n",
       "</td>"
      ],
      "text/plain": [
       "<IPython.core.display.HTML object>"
      ]
     },
     "metadata": {},
     "output_type": "display_data"
    },
    {
     "name": "stdout",
     "output_type": "stream",
     "text": [
      "{'region_0_content': 'Welt', 'region_1_content': 'Schweiz', 'region_2_content': 'Bern', 'region_3_content': 'Berner Voralpen'}\n"
     ]
    },
    {
     "data": {
      "text/html": [
       "<td class=\"fiche_rando\">\n",
       " \n",
       "<a class=\"standard\" href=\"https://www.hikr.org/region1.html\">Welt</a>\n",
       "\n",
       " » <img src=\"https://s.hikr.org/r4flag/ch.gif\" style=\"border:0;vertical-align:middle\"> \n",
       "<a class=\"standard\" href=\"https://www.hikr.org/region2.html\">Schweiz</a>\n",
       "\n",
       " » <img src=\"https://s.hikr.org/r4flag/ch.sg.gif\" style=\"border:0;vertical-align:middle\"> \n",
       "<a class=\"standard\" href=\"https://www.hikr.org/region45.html\">St.Gallen</a>\n",
       "\n",
       "</td>"
      ],
      "text/plain": [
       "<IPython.core.display.HTML object>"
      ]
     },
     "metadata": {},
     "output_type": "display_data"
    },
    {
     "name": "stdout",
     "output_type": "stream",
     "text": [
      "{'region_0_content': 'Welt', 'region_1_content': 'Schweiz', 'region_2_content': 'St.Gallen'}\n"
     ]
    },
    {
     "data": {
      "text/html": [
       "<td class=\"fiche_rando\">\n",
       " \n",
       "<a class=\"standard\" href=\"https://www.hikr.org/region1.html\">Welt</a>\n",
       "\n",
       " » <img src=\"https://s.hikr.org/r4flag/it.gif\" style=\"border:0;vertical-align:middle\"> \n",
       "<a class=\"standard\" href=\"https://www.hikr.org/region16.html\">Italien</a>\n",
       "\n",
       " »  \n",
       "<a class=\"standard\" href=\"https://www.hikr.org/region17.html\">Sizilien</a>\n",
       "\n",
       "</td>"
      ],
      "text/plain": [
       "<IPython.core.display.HTML object>"
      ]
     },
     "metadata": {},
     "output_type": "display_data"
    },
    {
     "name": "stdout",
     "output_type": "stream",
     "text": [
      "{'region_0_content': 'Welt', 'region_1_content': 'Italien', 'region_2_content': 'Sizilien'}\n"
     ]
    },
    {
     "data": {
      "text/html": [
       "<td class=\"fiche_rando\">\n",
       " \n",
       "<a class=\"standard\" href=\"https://www.hikr.org/region1.html\">Welt</a>\n",
       "\n",
       " » <img src=\"https://s.hikr.org/r4flag/ch.gif\" style=\"border:0;vertical-align:middle\"> \n",
       "<a class=\"standard\" href=\"https://www.hikr.org/region2.html\">Schweiz</a>\n",
       "\n",
       " » <img src=\"https://s.hikr.org/r4flag/ch.uw.gif\" style=\"border:0;vertical-align:middle\"> \n",
       "<a class=\"standard\" href=\"https://www.hikr.org/region127.html\">Obwalden</a>\n",
       "\n",
       "</td>"
      ],
      "text/plain": [
       "<IPython.core.display.HTML object>"
      ]
     },
     "metadata": {},
     "output_type": "display_data"
    },
    {
     "name": "stdout",
     "output_type": "stream",
     "text": [
      "{'region_0_content': 'Welt', 'region_1_content': 'Schweiz', 'region_2_content': 'Obwalden'}\n"
     ]
    },
    {
     "data": {
      "text/html": [
       "<td class=\"fiche_rando\">\n",
       " \n",
       "<a class=\"standard\" href=\"https://www.hikr.org/region1.html\">Welt</a>\n",
       "\n",
       " » <img src=\"https://s.hikr.org/r4flag/it.gif\" style=\"border:0;vertical-align:middle\"> \n",
       "<a class=\"standard\" href=\"https://www.hikr.org/region16.html\">Italien</a>\n",
       "\n",
       " »  \n",
       "<a class=\"standard\" href=\"https://www.hikr.org/region18.html\">Trentino-Südtirol</a>\n",
       "\n",
       "</td>"
      ],
      "text/plain": [
       "<IPython.core.display.HTML object>"
      ]
     },
     "metadata": {},
     "output_type": "display_data"
    },
    {
     "name": "stdout",
     "output_type": "stream",
     "text": [
      "{'region_0_content': 'Welt', 'region_1_content': 'Italien', 'region_2_content': 'Trentino-Südtirol'}\n"
     ]
    },
    {
     "data": {
      "text/html": [
       "<td class=\"fiche_rando\">\n",
       " \n",
       "<a class=\"standard\" href=\"https://www.hikr.org/region1.html\">Welt</a>\n",
       "\n",
       " » <img src=\"https://s.hikr.org/r4flag/it.gif\" style=\"border:0;vertical-align:middle\"> \n",
       "<a class=\"standard\" href=\"https://www.hikr.org/region16.html\">Italien</a>\n",
       "\n",
       " »  \n",
       "<a class=\"standard\" href=\"https://www.hikr.org/region17.html\">Sizilien</a>\n",
       "\n",
       "</td>"
      ],
      "text/plain": [
       "<IPython.core.display.HTML object>"
      ]
     },
     "metadata": {},
     "output_type": "display_data"
    },
    {
     "name": "stdout",
     "output_type": "stream",
     "text": [
      "{'region_0_content': 'Welt', 'region_1_content': 'Italien', 'region_2_content': 'Sizilien'}\n"
     ]
    },
    {
     "data": {
      "text/html": [
       "<td class=\"fiche_rando\">\n",
       " \n",
       "<a class=\"standard\" href=\"https://www.hikr.org/region1.html\">Welt</a>\n",
       "\n",
       " » <img src=\"https://s.hikr.org/r4flag/ch.gif\" style=\"border:0;vertical-align:middle\"> \n",
       "<a class=\"standard\" href=\"https://www.hikr.org/region2.html\">Schweiz</a>\n",
       "\n",
       " » <img src=\"https://s.hikr.org/r4flag/ch.ti.gif\" style=\"border:0;vertical-align:middle\"> \n",
       "<a class=\"standard\" href=\"https://www.hikr.org/region41.html\">Tessin</a>\n",
       "\n",
       " »  \n",
       "<a class=\"standard\" href=\"https://www.hikr.org/region493.html\">Bellinzonese</a>\n",
       "\n",
       "</td>"
      ],
      "text/plain": [
       "<IPython.core.display.HTML object>"
      ]
     },
     "metadata": {},
     "output_type": "display_data"
    },
    {
     "name": "stdout",
     "output_type": "stream",
     "text": [
      "{'region_0_content': 'Welt', 'region_1_content': 'Schweiz', 'region_2_content': 'Tessin', 'region_3_content': 'Bellinzonese'}\n"
     ]
    },
    {
     "data": {
      "text/html": [
       "<td class=\"fiche_rando\">\n",
       " \n",
       "<a class=\"standard\" href=\"https://www.hikr.org/region1.html\">Welt</a>\n",
       "\n",
       " » <img src=\"https://s.hikr.org/r4flag/nl.gif\" style=\"border:0;vertical-align:middle\"> \n",
       "<a class=\"standard\" href=\"https://www.hikr.org/region827.html\">Niederlande</a>\n",
       "\n",
       "</td>"
      ],
      "text/plain": [
       "<IPython.core.display.HTML object>"
      ]
     },
     "metadata": {},
     "output_type": "display_data"
    },
    {
     "name": "stdout",
     "output_type": "stream",
     "text": [
      "{'region_0_content': 'Welt', 'region_1_content': 'Niederlande'}\n"
     ]
    },
    {
     "data": {
      "text/html": [
       "<td class=\"fiche_rando\">\n",
       " \n",
       "<a class=\"standard\" href=\"https://www.hikr.org/region1.html\">Welt</a>\n",
       "\n",
       " » <img src=\"https://s.hikr.org/r4flag/at.gif\" style=\"border:0;vertical-align:middle\"> \n",
       "<a class=\"standard\" href=\"https://www.hikr.org/region33.html\">Österreich</a>\n",
       "\n",
       " »  \n",
       "<a class=\"standard\" href=\"https://www.hikr.org/region1102.html\">Zentrale Ostalpen</a>\n",
       "\n",
       " »  \n",
       "<a class=\"standard\" href=\"https://www.hikr.org/region1118.html\">Randgebirge östlich der Mur</a>\n",
       "\n",
       "</td>"
      ],
      "text/plain": [
       "<IPython.core.display.HTML object>"
      ]
     },
     "metadata": {},
     "output_type": "display_data"
    },
    {
     "name": "stdout",
     "output_type": "stream",
     "text": [
      "{'region_0_content': 'Welt', 'region_1_content': 'Österreich', 'region_2_content': 'Zentrale Ostalpen', 'region_3_content': 'Randgebirge östlich der Mur'}\n"
     ]
    },
    {
     "data": {
      "text/html": [
       "<td class=\"fiche_rando\">\n",
       " \n",
       "<a class=\"standard\" href=\"https://www.hikr.org/region1.html\">Welt</a>\n",
       "\n",
       " » <img src=\"https://s.hikr.org/r4flag/it.gif\" style=\"border:0;vertical-align:middle\"> \n",
       "<a class=\"standard\" href=\"https://www.hikr.org/region16.html\">Italien</a>\n",
       "\n",
       " »  \n",
       "<a class=\"standard\" href=\"https://www.hikr.org/region502.html\">Piemont</a>\n",
       "\n",
       "</td>"
      ],
      "text/plain": [
       "<IPython.core.display.HTML object>"
      ]
     },
     "metadata": {},
     "output_type": "display_data"
    },
    {
     "name": "stdout",
     "output_type": "stream",
     "text": [
      "{'region_0_content': 'Welt', 'region_1_content': 'Italien', 'region_2_content': 'Piemont'}\n"
     ]
    },
    {
     "data": {
      "text/html": [
       "<td class=\"fiche_rando\">\n",
       " \n",
       "<a class=\"standard\" href=\"https://www.hikr.org/region1.html\">Welt</a>\n",
       "\n",
       " » <img src=\"https://s.hikr.org/r4flag/ch.gif\" style=\"border:0;vertical-align:middle\"> \n",
       "<a class=\"standard\" href=\"https://www.hikr.org/region2.html\">Schweiz</a>\n",
       "\n",
       " » <img src=\"https://s.hikr.org/r4flag/ch.gr.gif\" style=\"border:0;vertical-align:middle\"> \n",
       "<a class=\"standard\" href=\"https://www.hikr.org/region4.html\">Graubünden</a>\n",
       "\n",
       " »  \n",
       "<a class=\"standard\" href=\"https://www.hikr.org/region257.html\">Surselva</a>\n",
       "\n",
       "</td>"
      ],
      "text/plain": [
       "<IPython.core.display.HTML object>"
      ]
     },
     "metadata": {},
     "output_type": "display_data"
    },
    {
     "name": "stdout",
     "output_type": "stream",
     "text": [
      "{'region_0_content': 'Welt', 'region_1_content': 'Schweiz', 'region_2_content': 'Graubünden', 'region_3_content': 'Surselva'}\n"
     ]
    },
    {
     "data": {
      "text/html": [
       "<td class=\"fiche_rando\">\n",
       " \n",
       "<a class=\"standard\" href=\"https://www.hikr.org/region1.html\">Welt</a>\n",
       "\n",
       " » <img src=\"https://s.hikr.org/r4flag/ch.gif\" style=\"border:0;vertical-align:middle\"> \n",
       "<a class=\"standard\" href=\"https://www.hikr.org/region2.html\">Schweiz</a>\n",
       "\n",
       " » <img src=\"https://s.hikr.org/r4flag/ch.be.gif\" style=\"border:0;vertical-align:middle\"> \n",
       "<a class=\"standard\" href=\"https://www.hikr.org/region13.html\">Bern</a>\n",
       "\n",
       " »  \n",
       "<a class=\"standard\" href=\"https://www.hikr.org/region534.html\">Simmental</a>\n",
       "\n",
       "</td>"
      ],
      "text/plain": [
       "<IPython.core.display.HTML object>"
      ]
     },
     "metadata": {},
     "output_type": "display_data"
    },
    {
     "name": "stdout",
     "output_type": "stream",
     "text": [
      "{'region_0_content': 'Welt', 'region_1_content': 'Schweiz', 'region_2_content': 'Bern', 'region_3_content': 'Simmental'}\n"
     ]
    },
    {
     "data": {
      "text/html": [
       "<td class=\"fiche_rando\">\n",
       " \n",
       "<a class=\"standard\" href=\"https://www.hikr.org/region1.html\">Welt</a>\n",
       "\n",
       " » <img src=\"https://s.hikr.org/r4flag/it.gif\" style=\"border:0;vertical-align:middle\"> \n",
       "<a class=\"standard\" href=\"https://www.hikr.org/region16.html\">Italien</a>\n",
       "\n",
       " »  \n",
       "<a class=\"standard\" href=\"https://www.hikr.org/region502.html\">Piemont</a>\n",
       "\n",
       "</td>"
      ],
      "text/plain": [
       "<IPython.core.display.HTML object>"
      ]
     },
     "metadata": {},
     "output_type": "display_data"
    },
    {
     "name": "stdout",
     "output_type": "stream",
     "text": [
      "{'region_0_content': 'Welt', 'region_1_content': 'Italien', 'region_2_content': 'Piemont'}\n"
     ]
    },
    {
     "data": {
      "text/html": [
       "<td class=\"fiche_rando\">\n",
       " \n",
       "<a class=\"standard\" href=\"https://www.hikr.org/region1.html\">Welt</a>\n",
       "\n",
       " » <img src=\"https://s.hikr.org/r4flag/ch.gif\" style=\"border:0;vertical-align:middle\"> \n",
       "<a class=\"standard\" href=\"https://www.hikr.org/region2.html\">Schweiz</a>\n",
       "\n",
       " » <img src=\"https://s.hikr.org/r4flag/ch.be.gif\" style=\"border:0;vertical-align:middle\"> \n",
       "<a class=\"standard\" href=\"https://www.hikr.org/region13.html\">Bern</a>\n",
       "\n",
       " »  \n",
       "<a class=\"standard\" href=\"https://www.hikr.org/region531.html\">Jungfraugebiet</a>\n",
       "\n",
       "</td>"
      ],
      "text/plain": [
       "<IPython.core.display.HTML object>"
      ]
     },
     "metadata": {},
     "output_type": "display_data"
    },
    {
     "name": "stdout",
     "output_type": "stream",
     "text": [
      "{'region_0_content': 'Welt', 'region_1_content': 'Schweiz', 'region_2_content': 'Bern', 'region_3_content': 'Jungfraugebiet'}\n"
     ]
    },
    {
     "data": {
      "text/html": [
       "<td class=\"fiche_rando\">\n",
       " \n",
       "<a class=\"standard\" href=\"https://www.hikr.org/region1.html\">Welt</a>\n",
       "\n",
       " » <img src=\"https://s.hikr.org/r4flag/it.gif\" style=\"border:0;vertical-align:middle\"> \n",
       "<a class=\"standard\" href=\"https://www.hikr.org/region16.html\">Italien</a>\n",
       "\n",
       " »  \n",
       "<a class=\"standard\" href=\"https://www.hikr.org/region500.html\">Lombardei</a>\n",
       "\n",
       "</td>"
      ],
      "text/plain": [
       "<IPython.core.display.HTML object>"
      ]
     },
     "metadata": {},
     "output_type": "display_data"
    },
    {
     "name": "stdout",
     "output_type": "stream",
     "text": [
      "{'region_0_content': 'Welt', 'region_1_content': 'Italien', 'region_2_content': 'Lombardei'}\n"
     ]
    },
    {
     "data": {
      "text/html": [
       "<td class=\"fiche_rando\">\n",
       " \n",
       "<a class=\"standard\" href=\"https://www.hikr.org/region1.html\">Welt</a>\n",
       "\n",
       " » <img src=\"https://s.hikr.org/r4flag/es.gif\" style=\"border:0;vertical-align:middle\"> \n",
       "<a class=\"standard\" href=\"https://www.hikr.org/region172.html\">Spanien</a>\n",
       "\n",
       " »  \n",
       "<a class=\"standard\" href=\"https://www.hikr.org/region772.html\">Kanarische Inseln</a>\n",
       "\n",
       " »  \n",
       "<a class=\"standard\" href=\"https://www.hikr.org/region774.html\">Santa Cruz de Tenerife</a>\n",
       "\n",
       "</td>"
      ],
      "text/plain": [
       "<IPython.core.display.HTML object>"
      ]
     },
     "metadata": {},
     "output_type": "display_data"
    },
    {
     "name": "stdout",
     "output_type": "stream",
     "text": [
      "{'region_0_content': 'Welt', 'region_1_content': 'Spanien', 'region_2_content': 'Kanarische Inseln', 'region_3_content': 'Santa Cruz de Tenerife'}\n"
     ]
    },
    {
     "data": {
      "text/html": [
       "<td class=\"fiche_rando\">\n",
       " \n",
       "<a class=\"standard\" href=\"https://www.hikr.org/region1.html\">Welt</a>\n",
       "\n",
       " » <img src=\"https://s.hikr.org/r4flag/es.gif\" style=\"border:0;vertical-align:middle\"> \n",
       "<a class=\"standard\" href=\"https://www.hikr.org/region172.html\">Spanien</a>\n",
       "\n",
       " »  \n",
       "<a class=\"standard\" href=\"https://www.hikr.org/region772.html\">Kanarische Inseln</a>\n",
       "\n",
       " »  \n",
       "<a class=\"standard\" href=\"https://www.hikr.org/region774.html\">Santa Cruz de Tenerife</a>\n",
       "\n",
       "</td>"
      ],
      "text/plain": [
       "<IPython.core.display.HTML object>"
      ]
     },
     "metadata": {},
     "output_type": "display_data"
    },
    {
     "name": "stdout",
     "output_type": "stream",
     "text": [
      "{'region_0_content': 'Welt', 'region_1_content': 'Spanien', 'region_2_content': 'Kanarische Inseln', 'region_3_content': 'Santa Cruz de Tenerife'}\n"
     ]
    },
    {
     "data": {
      "text/html": [
       "<td class=\"fiche_rando\">\n",
       " \n",
       "<a class=\"standard\" href=\"https://www.hikr.org/region1.html\">Welt</a>\n",
       "\n",
       " » <img src=\"https://s.hikr.org/r4flag/ch.gif\" style=\"border:0;vertical-align:middle\"> \n",
       "<a class=\"standard\" href=\"https://www.hikr.org/region2.html\">Schweiz</a>\n",
       "\n",
       " » <img src=\"https://s.hikr.org/r4flag/ch.be.gif\" style=\"border:0;vertical-align:middle\"> \n",
       "<a class=\"standard\" href=\"https://www.hikr.org/region13.html\">Bern</a>\n",
       "\n",
       " »  \n",
       "<a class=\"standard\" href=\"https://www.hikr.org/region534.html\">Simmental</a>\n",
       "\n",
       "</td>"
      ],
      "text/plain": [
       "<IPython.core.display.HTML object>"
      ]
     },
     "metadata": {},
     "output_type": "display_data"
    },
    {
     "name": "stdout",
     "output_type": "stream",
     "text": [
      "{'region_0_content': 'Welt', 'region_1_content': 'Schweiz', 'region_2_content': 'Bern', 'region_3_content': 'Simmental'}\n"
     ]
    },
    {
     "data": {
      "text/html": [
       "<td class=\"fiche_rando\">\n",
       " \n",
       "<a class=\"standard\" href=\"https://www.hikr.org/region1.html\">Welt</a>\n",
       "\n",
       " » <img src=\"https://s.hikr.org/r4flag/ch.gif\" style=\"border:0;vertical-align:middle\"> \n",
       "<a class=\"standard\" href=\"https://www.hikr.org/region2.html\">Schweiz</a>\n",
       "\n",
       " » <img src=\"https://s.hikr.org/r4flag/ch.be.gif\" style=\"border:0;vertical-align:middle\"> \n",
       "<a class=\"standard\" href=\"https://www.hikr.org/region13.html\">Bern</a>\n",
       "\n",
       " »  \n",
       "<a class=\"standard\" href=\"https://www.hikr.org/region533.html\">Frutigland</a>\n",
       "\n",
       "</td>"
      ],
      "text/plain": [
       "<IPython.core.display.HTML object>"
      ]
     },
     "metadata": {},
     "output_type": "display_data"
    },
    {
     "name": "stdout",
     "output_type": "stream",
     "text": [
      "{'region_0_content': 'Welt', 'region_1_content': 'Schweiz', 'region_2_content': 'Bern', 'region_3_content': 'Frutigland'}\n"
     ]
    },
    {
     "data": {
      "text/html": [
       "<td class=\"fiche_rando\">\n",
       " \n",
       "<a class=\"standard\" href=\"https://www.hikr.org/region1.html\">Welt</a>\n",
       "\n",
       " » <img src=\"https://s.hikr.org/r4flag/at.gif\" style=\"border:0;vertical-align:middle\"> \n",
       "<a class=\"standard\" href=\"https://www.hikr.org/region33.html\">Österreich</a>\n",
       "\n",
       " »  \n",
       "<a class=\"standard\" href=\"https://www.hikr.org/region1082.html\">Nördliche Ostalpen</a>\n",
       "\n",
       " »  \n",
       "<a class=\"standard\" href=\"https://www.hikr.org/region1136.html\">Karwendel</a>\n",
       "\n",
       "</td>"
      ],
      "text/plain": [
       "<IPython.core.display.HTML object>"
      ]
     },
     "metadata": {},
     "output_type": "display_data"
    },
    {
     "name": "stdout",
     "output_type": "stream",
     "text": [
      "{'region_0_content': 'Welt', 'region_1_content': 'Österreich', 'region_2_content': 'Nördliche Ostalpen', 'region_3_content': 'Karwendel'}\n"
     ]
    },
    {
     "data": {
      "text/html": [
       "<td class=\"fiche_rando\">\n",
       " \n",
       "<a class=\"standard\" href=\"https://www.hikr.org/region1.html\">Welt</a>\n",
       "\n",
       " » <img src=\"https://s.hikr.org/r4flag/hr.gif\" style=\"border:0;vertical-align:middle\"> \n",
       "<a class=\"standard\" href=\"https://www.hikr.org/region163.html\">Kroatien</a>\n",
       "\n",
       "</td>"
      ],
      "text/plain": [
       "<IPython.core.display.HTML object>"
      ]
     },
     "metadata": {},
     "output_type": "display_data"
    },
    {
     "name": "stdout",
     "output_type": "stream",
     "text": [
      "{'region_0_content': 'Welt', 'region_1_content': 'Kroatien'}\n"
     ]
    },
    {
     "data": {
      "text/html": [
       "<td class=\"fiche_rando\">\n",
       " \n",
       "<a class=\"standard\" href=\"https://www.hikr.org/region1.html\">Welt</a>\n",
       "\n",
       " » <img src=\"https://s.hikr.org/r4flag/ch.gif\" style=\"border:0;vertical-align:middle\"> \n",
       "<a class=\"standard\" href=\"https://www.hikr.org/region2.html\">Schweiz</a>\n",
       "\n",
       " » <img src=\"https://s.hikr.org/r4flag/ch.sz.gif\" style=\"border:0;vertical-align:middle\"> \n",
       "<a class=\"standard\" href=\"https://www.hikr.org/region109.html\">Schwyz</a>\n",
       "\n",
       "</td>"
      ],
      "text/plain": [
       "<IPython.core.display.HTML object>"
      ]
     },
     "metadata": {},
     "output_type": "display_data"
    },
    {
     "name": "stdout",
     "output_type": "stream",
     "text": [
      "{'region_0_content': 'Welt', 'region_1_content': 'Schweiz', 'region_2_content': 'Schwyz'}\n"
     ]
    },
    {
     "data": {
      "text/html": [
       "<td class=\"fiche_rando\">\n",
       " \n",
       "<a class=\"standard\" href=\"https://www.hikr.org/region1.html\">Welt</a>\n",
       "\n",
       " » <img src=\"https://s.hikr.org/r4flag/ch.gif\" style=\"border:0;vertical-align:middle\"> \n",
       "<a class=\"standard\" href=\"https://www.hikr.org/region2.html\">Schweiz</a>\n",
       "\n",
       " » <img src=\"https://s.hikr.org/r4flag/ch.sg.gif\" style=\"border:0;vertical-align:middle\"> \n",
       "<a class=\"standard\" href=\"https://www.hikr.org/region45.html\">St.Gallen</a>\n",
       "\n",
       "</td>"
      ],
      "text/plain": [
       "<IPython.core.display.HTML object>"
      ]
     },
     "metadata": {},
     "output_type": "display_data"
    },
    {
     "name": "stdout",
     "output_type": "stream",
     "text": [
      "{'region_0_content': 'Welt', 'region_1_content': 'Schweiz', 'region_2_content': 'St.Gallen'}\n"
     ]
    },
    {
     "data": {
      "text/html": [
       "<td class=\"fiche_rando\">\n",
       " \n",
       "<a class=\"standard\" href=\"https://www.hikr.org/region1.html\">Welt</a>\n",
       "\n",
       " » <img src=\"https://s.hikr.org/r4flag/de.gif\" style=\"border:0;vertical-align:middle\"> \n",
       "<a class=\"standard\" href=\"https://www.hikr.org/region69.html\">Deutschland</a>\n",
       "\n",
       " »  \n",
       "<a class=\"standard\" href=\"https://www.hikr.org/region1178.html\">Westliche Mittelgebirge</a>\n",
       "\n",
       " »  \n",
       "<a class=\"standard\" href=\"https://www.hikr.org/region1184.html\">Sonstige Höhenzüge und Talgebiete</a>\n",
       "\n",
       "</td>"
      ],
      "text/plain": [
       "<IPython.core.display.HTML object>"
      ]
     },
     "metadata": {},
     "output_type": "display_data"
    },
    {
     "name": "stdout",
     "output_type": "stream",
     "text": [
      "{'region_0_content': 'Welt', 'region_1_content': 'Deutschland', 'region_2_content': 'Westliche Mittelgebirge', 'region_3_content': 'Sonstige Höhenzüge und Talgebiete'}\n"
     ]
    },
    {
     "data": {
      "text/html": [
       "<td class=\"fiche_rando\">\n",
       " \n",
       "<a class=\"standard\" href=\"https://www.hikr.org/region1.html\">Welt</a>\n",
       "\n",
       " » <img src=\"https://s.hikr.org/r4flag/ch.gif\" style=\"border:0;vertical-align:middle\"> \n",
       "<a class=\"standard\" href=\"https://www.hikr.org/region2.html\">Schweiz</a>\n",
       "\n",
       " » <img src=\"https://s.hikr.org/r4flag/ch.vs.gif\" style=\"border:0;vertical-align:middle\"> \n",
       "<a class=\"standard\" href=\"https://www.hikr.org/region3.html\">Wallis</a>\n",
       "\n",
       " »  \n",
       "<a class=\"standard\" href=\"https://www.hikr.org/region180.html\">Oberwallis</a>\n",
       "\n",
       "</td>"
      ],
      "text/plain": [
       "<IPython.core.display.HTML object>"
      ]
     },
     "metadata": {},
     "output_type": "display_data"
    },
    {
     "name": "stdout",
     "output_type": "stream",
     "text": [
      "{'region_0_content': 'Welt', 'region_1_content': 'Schweiz', 'region_2_content': 'Wallis', 'region_3_content': 'Oberwallis'}\n"
     ]
    },
    {
     "data": {
      "text/html": [
       "<td class=\"fiche_rando\">\n",
       " \n",
       "<a class=\"standard\" href=\"https://www.hikr.org/region1.html\">Welt</a>\n",
       "\n",
       " » <img src=\"https://s.hikr.org/r4flag/de.gif\" style=\"border:0;vertical-align:middle\"> \n",
       "<a class=\"standard\" href=\"https://www.hikr.org/region69.html\">Deutschland</a>\n",
       "\n",
       " »  \n",
       "<a class=\"standard\" href=\"https://www.hikr.org/region1182.html\">Alpen</a>\n",
       "\n",
       " »  \n",
       "<a class=\"standard\" href=\"https://www.hikr.org/region88.html\">Berchtesgadener Alpen</a>\n",
       "\n",
       "</td>"
      ],
      "text/plain": [
       "<IPython.core.display.HTML object>"
      ]
     },
     "metadata": {},
     "output_type": "display_data"
    },
    {
     "name": "stdout",
     "output_type": "stream",
     "text": [
      "{'region_0_content': 'Welt', 'region_1_content': 'Deutschland', 'region_2_content': 'Alpen', 'region_3_content': 'Berchtesgadener Alpen'}\n"
     ]
    },
    {
     "data": {
      "text/html": [
       "<td class=\"fiche_rando\">\n",
       " \n",
       "<a class=\"standard\" href=\"https://www.hikr.org/region1.html\">Welt</a>\n",
       "\n",
       " » <img src=\"https://s.hikr.org/r4flag/ch.gif\" style=\"border:0;vertical-align:middle\"> \n",
       "<a class=\"standard\" href=\"https://www.hikr.org/region2.html\">Schweiz</a>\n",
       "\n",
       " » <img src=\"https://s.hikr.org/r4flag/ch.ti.gif\" style=\"border:0;vertical-align:middle\"> \n",
       "<a class=\"standard\" href=\"https://www.hikr.org/region41.html\">Tessin</a>\n",
       "\n",
       " »  \n",
       "<a class=\"standard\" href=\"https://www.hikr.org/region492.html\">Locarnese</a>\n",
       "\n",
       "</td>"
      ],
      "text/plain": [
       "<IPython.core.display.HTML object>"
      ]
     },
     "metadata": {},
     "output_type": "display_data"
    },
    {
     "name": "stdout",
     "output_type": "stream",
     "text": [
      "{'region_0_content': 'Welt', 'region_1_content': 'Schweiz', 'region_2_content': 'Tessin', 'region_3_content': 'Locarnese'}\n"
     ]
    },
    {
     "data": {
      "text/html": [
       "<td class=\"fiche_rando\">\n",
       " \n",
       "<a class=\"standard\" href=\"https://www.hikr.org/region1.html\">Welt</a>\n",
       "\n",
       " » <img src=\"https://s.hikr.org/r4flag/ch.gif\" style=\"border:0;vertical-align:middle\"> \n",
       "<a class=\"standard\" href=\"https://www.hikr.org/region2.html\">Schweiz</a>\n",
       "\n",
       " » <img src=\"https://s.hikr.org/r4flag/ch.ur.gif\" style=\"border:0;vertical-align:middle\"> \n",
       "<a class=\"standard\" href=\"https://www.hikr.org/region146.html\">Uri</a>\n",
       "\n",
       "</td>"
      ],
      "text/plain": [
       "<IPython.core.display.HTML object>"
      ]
     },
     "metadata": {},
     "output_type": "display_data"
    },
    {
     "name": "stdout",
     "output_type": "stream",
     "text": [
      "{'region_0_content': 'Welt', 'region_1_content': 'Schweiz', 'region_2_content': 'Uri'}\n"
     ]
    },
    {
     "data": {
      "text/html": [
       "<td class=\"fiche_rando\">\n",
       " \n",
       "<a class=\"standard\" href=\"https://www.hikr.org/region1.html\">Welt</a>\n",
       "\n",
       " » <img src=\"https://s.hikr.org/r4flag/fr.gif\" style=\"border:0;vertical-align:middle\"> \n",
       "<a class=\"standard\" href=\"https://www.hikr.org/region14.html\">Frankreich</a>\n",
       "\n",
       " »  \n",
       "<a class=\"standard\" href=\"https://www.hikr.org/region473.html\">Cote d'Azur</a>\n",
       "\n",
       "</td>"
      ],
      "text/plain": [
       "<IPython.core.display.HTML object>"
      ]
     },
     "metadata": {},
     "output_type": "display_data"
    },
    {
     "name": "stdout",
     "output_type": "stream",
     "text": [
      "{'region_0_content': 'Welt', 'region_1_content': 'Frankreich', 'region_2_content': \"Cote d'Azur\"}\n"
     ]
    },
    {
     "data": {
      "text/html": [
       "<td class=\"fiche_rando\">\n",
       " \n",
       "<a class=\"standard\" href=\"https://www.hikr.org/region1.html\">Welt</a>\n",
       "\n",
       " » <img src=\"https://s.hikr.org/r4flag/ch.gif\" style=\"border:0;vertical-align:middle\"> \n",
       "<a class=\"standard\" href=\"https://www.hikr.org/region2.html\">Schweiz</a>\n",
       "\n",
       " » <img src=\"https://s.hikr.org/r4flag/ch.gr.gif\" style=\"border:0;vertical-align:middle\"> \n",
       "<a class=\"standard\" href=\"https://www.hikr.org/region4.html\">Graubünden</a>\n",
       "\n",
       " »  \n",
       "<a class=\"standard\" href=\"https://www.hikr.org/region458.html\">Misox</a>\n",
       "\n",
       "</td>"
      ],
      "text/plain": [
       "<IPython.core.display.HTML object>"
      ]
     },
     "metadata": {},
     "output_type": "display_data"
    },
    {
     "name": "stdout",
     "output_type": "stream",
     "text": [
      "{'region_0_content': 'Welt', 'region_1_content': 'Schweiz', 'region_2_content': 'Graubünden', 'region_3_content': 'Misox'}\n"
     ]
    },
    {
     "data": {
      "text/html": [
       "<td class=\"fiche_rando\">\n",
       " \n",
       "<a class=\"standard\" href=\"https://www.hikr.org/region1.html\">Welt</a>\n",
       "\n",
       " » <img src=\"https://s.hikr.org/r4flag/ch.gif\" style=\"border:0;vertical-align:middle\"> \n",
       "<a class=\"standard\" href=\"https://www.hikr.org/region2.html\">Schweiz</a>\n",
       "\n",
       " » <img src=\"https://s.hikr.org/r4flag/ch.sg.gif\" style=\"border:0;vertical-align:middle\"> \n",
       "<a class=\"standard\" href=\"https://www.hikr.org/region45.html\">St.Gallen</a>\n",
       "\n",
       "</td>"
      ],
      "text/plain": [
       "<IPython.core.display.HTML object>"
      ]
     },
     "metadata": {},
     "output_type": "display_data"
    },
    {
     "name": "stdout",
     "output_type": "stream",
     "text": [
      "{'region_0_content': 'Welt', 'region_1_content': 'Schweiz', 'region_2_content': 'St.Gallen'}\n"
     ]
    },
    {
     "data": {
      "text/html": [
       "<td class=\"fiche_rando\">\n",
       " \n",
       "<a class=\"standard\" href=\"https://www.hikr.org/region1.html\">Welt</a>\n",
       "\n",
       " » <img src=\"https://s.hikr.org/r4flag/ch.gif\" style=\"border:0;vertical-align:middle\"> \n",
       "<a class=\"standard\" href=\"https://www.hikr.org/region2.html\">Schweiz</a>\n",
       "\n",
       " » <img src=\"https://s.hikr.org/r4flag/ch.sh.gif\" style=\"border:0;vertical-align:middle\"> \n",
       "<a class=\"standard\" href=\"https://www.hikr.org/region142.html\">Schaffhausen</a>\n",
       "\n",
       "</td>"
      ],
      "text/plain": [
       "<IPython.core.display.HTML object>"
      ]
     },
     "metadata": {},
     "output_type": "display_data"
    },
    {
     "name": "stdout",
     "output_type": "stream",
     "text": [
      "{'region_0_content': 'Welt', 'region_1_content': 'Schweiz', 'region_2_content': 'Schaffhausen'}\n"
     ]
    },
    {
     "data": {
      "text/html": [
       "<td class=\"fiche_rando\">\n",
       " \n",
       "<a class=\"standard\" href=\"https://www.hikr.org/region1.html\">Welt</a>\n",
       "\n",
       " » <img src=\"https://s.hikr.org/r4flag/it.gif\" style=\"border:0;vertical-align:middle\"> \n",
       "<a class=\"standard\" href=\"https://www.hikr.org/region16.html\">Italien</a>\n",
       "\n",
       " »  \n",
       "<a class=\"standard\" href=\"https://www.hikr.org/region500.html\">Lombardei</a>\n",
       "\n",
       "</td>"
      ],
      "text/plain": [
       "<IPython.core.display.HTML object>"
      ]
     },
     "metadata": {},
     "output_type": "display_data"
    },
    {
     "name": "stdout",
     "output_type": "stream",
     "text": [
      "{'region_0_content': 'Welt', 'region_1_content': 'Italien', 'region_2_content': 'Lombardei'}\n"
     ]
    },
    {
     "data": {
      "text/html": [
       "<td class=\"fiche_rando\">\n",
       " \n",
       "<a class=\"standard\" href=\"https://www.hikr.org/region1.html\">Welt</a>\n",
       "\n",
       " » <img src=\"https://s.hikr.org/r4flag/ch.gif\" style=\"border:0;vertical-align:middle\"> \n",
       "<a class=\"standard\" href=\"https://www.hikr.org/region2.html\">Schweiz</a>\n",
       "\n",
       " » <img src=\"https://s.hikr.org/r4flag/ch.uw.gif\" style=\"border:0;vertical-align:middle\"> \n",
       "<a class=\"standard\" href=\"https://www.hikr.org/region154.html\">Nidwalden</a>\n",
       "\n",
       "</td>"
      ],
      "text/plain": [
       "<IPython.core.display.HTML object>"
      ]
     },
     "metadata": {},
     "output_type": "display_data"
    },
    {
     "name": "stdout",
     "output_type": "stream",
     "text": [
      "{'region_0_content': 'Welt', 'region_1_content': 'Schweiz', 'region_2_content': 'Nidwalden'}\n"
     ]
    },
    {
     "data": {
      "text/html": [
       "<td class=\"fiche_rando\">\n",
       " \n",
       "<a class=\"standard\" href=\"https://www.hikr.org/region1.html\">Welt</a>\n",
       "\n",
       " » <img src=\"https://s.hikr.org/r4flag/es.gif\" style=\"border:0;vertical-align:middle\"> \n",
       "<a class=\"standard\" href=\"https://www.hikr.org/region172.html\">Spanien</a>\n",
       "\n",
       " »  \n",
       "<a class=\"standard\" href=\"https://www.hikr.org/region772.html\">Kanarische Inseln</a>\n",
       "\n",
       " »  \n",
       "<a class=\"standard\" href=\"https://www.hikr.org/region774.html\">Santa Cruz de Tenerife</a>\n",
       "\n",
       "</td>"
      ],
      "text/plain": [
       "<IPython.core.display.HTML object>"
      ]
     },
     "metadata": {},
     "output_type": "display_data"
    },
    {
     "name": "stdout",
     "output_type": "stream",
     "text": [
      "{'region_0_content': 'Welt', 'region_1_content': 'Spanien', 'region_2_content': 'Kanarische Inseln', 'region_3_content': 'Santa Cruz de Tenerife'}\n"
     ]
    },
    {
     "data": {
      "text/html": [
       "<td class=\"fiche_rando\">\n",
       " \n",
       "<a class=\"standard\" href=\"https://www.hikr.org/region1.html\">Welt</a>\n",
       "\n",
       " » <img src=\"https://s.hikr.org/r4flag/ch.gif\" style=\"border:0;vertical-align:middle\"> \n",
       "<a class=\"standard\" href=\"https://www.hikr.org/region2.html\">Schweiz</a>\n",
       "\n",
       " » <img src=\"https://s.hikr.org/r4flag/ch.vs.gif\" style=\"border:0;vertical-align:middle\"> \n",
       "<a class=\"standard\" href=\"https://www.hikr.org/region3.html\">Wallis</a>\n",
       "\n",
       " »  \n",
       "<a class=\"standard\" href=\"https://www.hikr.org/region180.html\">Oberwallis</a>\n",
       "\n",
       "</td>"
      ],
      "text/plain": [
       "<IPython.core.display.HTML object>"
      ]
     },
     "metadata": {},
     "output_type": "display_data"
    },
    {
     "name": "stdout",
     "output_type": "stream",
     "text": [
      "{'region_0_content': 'Welt', 'region_1_content': 'Schweiz', 'region_2_content': 'Wallis', 'region_3_content': 'Oberwallis'}\n"
     ]
    },
    {
     "data": {
      "text/html": [
       "<td class=\"fiche_rando\">\n",
       " \n",
       "<a class=\"standard\" href=\"https://www.hikr.org/region1.html\">Welt</a>\n",
       "\n",
       " » <img src=\"https://s.hikr.org/r4flag/ch.gif\" style=\"border:0;vertical-align:middle\"> \n",
       "<a class=\"standard\" href=\"https://www.hikr.org/region2.html\">Schweiz</a>\n",
       "\n",
       " » <img src=\"https://s.hikr.org/r4flag/ch.be.gif\" style=\"border:0;vertical-align:middle\"> \n",
       "<a class=\"standard\" href=\"https://www.hikr.org/region13.html\">Bern</a>\n",
       "\n",
       " »  \n",
       "<a class=\"standard\" href=\"https://www.hikr.org/region527.html\">Berner Jura</a>\n",
       "\n",
       "</td>"
      ],
      "text/plain": [
       "<IPython.core.display.HTML object>"
      ]
     },
     "metadata": {},
     "output_type": "display_data"
    },
    {
     "name": "stdout",
     "output_type": "stream",
     "text": [
      "{'region_0_content': 'Welt', 'region_1_content': 'Schweiz', 'region_2_content': 'Bern', 'region_3_content': 'Berner Jura'}\n"
     ]
    },
    {
     "data": {
      "text/html": [
       "<td class=\"fiche_rando\">\n",
       " \n",
       "<a class=\"standard\" href=\"https://www.hikr.org/region1.html\">Welt</a>\n",
       "\n",
       " » <img src=\"https://s.hikr.org/r4flag/ch.gif\" style=\"border:0;vertical-align:middle\"> \n",
       "<a class=\"standard\" href=\"https://www.hikr.org/region2.html\">Schweiz</a>\n",
       "\n",
       " » <img src=\"https://s.hikr.org/r4flag/ch.gr.gif\" style=\"border:0;vertical-align:middle\"> \n",
       "<a class=\"standard\" href=\"https://www.hikr.org/region4.html\">Graubünden</a>\n",
       "\n",
       " »  \n",
       "<a class=\"standard\" href=\"https://www.hikr.org/region105.html\">Oberengadin</a>\n",
       "\n",
       "</td>"
      ],
      "text/plain": [
       "<IPython.core.display.HTML object>"
      ]
     },
     "metadata": {},
     "output_type": "display_data"
    },
    {
     "name": "stdout",
     "output_type": "stream",
     "text": [
      "{'region_0_content': 'Welt', 'region_1_content': 'Schweiz', 'region_2_content': 'Graubünden', 'region_3_content': 'Oberengadin'}\n"
     ]
    },
    {
     "data": {
      "text/html": [
       "<td class=\"fiche_rando\">\n",
       " \n",
       "<a class=\"standard\" href=\"https://www.hikr.org/region1.html\">Welt</a>\n",
       "\n",
       " » <img src=\"https://s.hikr.org/r4flag/it.gif\" style=\"border:0;vertical-align:middle\"> \n",
       "<a class=\"standard\" href=\"https://www.hikr.org/region16.html\">Italien</a>\n",
       "\n",
       " »  \n",
       "<a class=\"standard\" href=\"https://www.hikr.org/region515.html\">Venetien</a>\n",
       "\n",
       "</td>"
      ],
      "text/plain": [
       "<IPython.core.display.HTML object>"
      ]
     },
     "metadata": {},
     "output_type": "display_data"
    },
    {
     "name": "stdout",
     "output_type": "stream",
     "text": [
      "{'region_0_content': 'Welt', 'region_1_content': 'Italien', 'region_2_content': 'Venetien'}\n"
     ]
    },
    {
     "data": {
      "text/html": [
       "<td class=\"fiche_rando\">\n",
       " \n",
       "<a class=\"standard\" href=\"https://www.hikr.org/region1.html\">Welt</a>\n",
       "\n",
       " » <img src=\"https://s.hikr.org/r4flag/ch.gif\" style=\"border:0;vertical-align:middle\"> \n",
       "<a class=\"standard\" href=\"https://www.hikr.org/region2.html\">Schweiz</a>\n",
       "\n",
       " » <img src=\"https://s.hikr.org/r4flag/ch.sg.gif\" style=\"border:0;vertical-align:middle\"> \n",
       "<a class=\"standard\" href=\"https://www.hikr.org/region45.html\">St.Gallen</a>\n",
       "\n",
       "</td>"
      ],
      "text/plain": [
       "<IPython.core.display.HTML object>"
      ]
     },
     "metadata": {},
     "output_type": "display_data"
    },
    {
     "name": "stdout",
     "output_type": "stream",
     "text": [
      "{'region_0_content': 'Welt', 'region_1_content': 'Schweiz', 'region_2_content': 'St.Gallen'}\n"
     ]
    },
    {
     "data": {
      "text/html": [
       "<td class=\"fiche_rando\">\n",
       " \n",
       "<a class=\"standard\" href=\"https://www.hikr.org/region1.html\">Welt</a>\n",
       "\n",
       " » <img src=\"https://s.hikr.org/r4flag/es.gif\" style=\"border:0;vertical-align:middle\"> \n",
       "<a class=\"standard\" href=\"https://www.hikr.org/region172.html\">Spanien</a>\n",
       "\n",
       " »  \n",
       "<a class=\"standard\" href=\"https://www.hikr.org/region772.html\">Kanarische Inseln</a>\n",
       "\n",
       " »  \n",
       "<a class=\"standard\" href=\"https://www.hikr.org/region774.html\">Santa Cruz de Tenerife</a>\n",
       "\n",
       "</td>"
      ],
      "text/plain": [
       "<IPython.core.display.HTML object>"
      ]
     },
     "metadata": {},
     "output_type": "display_data"
    },
    {
     "name": "stdout",
     "output_type": "stream",
     "text": [
      "{'region_0_content': 'Welt', 'region_1_content': 'Spanien', 'region_2_content': 'Kanarische Inseln', 'region_3_content': 'Santa Cruz de Tenerife'}\n"
     ]
    },
    {
     "data": {
      "text/html": [
       "<td class=\"fiche_rando\">\n",
       " \n",
       "<a class=\"standard\" href=\"https://www.hikr.org/region1.html\">Welt</a>\n",
       "\n",
       " » <img src=\"https://s.hikr.org/r4flag/at.gif\" style=\"border:0;vertical-align:middle\"> \n",
       "<a class=\"standard\" href=\"https://www.hikr.org/region33.html\">Österreich</a>\n",
       "\n",
       " »  \n",
       "<a class=\"standard\" href=\"https://www.hikr.org/region1082.html\">Nördliche Ostalpen</a>\n",
       "\n",
       " »  \n",
       "<a class=\"standard\" href=\"https://www.hikr.org/region1097.html\">Hochschwabgruppe</a>\n",
       "\n",
       "</td>"
      ],
      "text/plain": [
       "<IPython.core.display.HTML object>"
      ]
     },
     "metadata": {},
     "output_type": "display_data"
    },
    {
     "name": "stdout",
     "output_type": "stream",
     "text": [
      "{'region_0_content': 'Welt', 'region_1_content': 'Österreich', 'region_2_content': 'Nördliche Ostalpen', 'region_3_content': 'Hochschwabgruppe'}\n"
     ]
    },
    {
     "data": {
      "text/html": [
       "<td class=\"fiche_rando\">\n",
       " \n",
       "<a class=\"standard\" href=\"https://www.hikr.org/region1.html\">Welt</a>\n",
       "\n",
       " » <img src=\"https://s.hikr.org/r4flag/ch.gif\" style=\"border:0;vertical-align:middle\"> \n",
       "<a class=\"standard\" href=\"https://www.hikr.org/region2.html\">Schweiz</a>\n",
       "\n",
       " » <img src=\"https://s.hikr.org/r4flag/ch.be.gif\" style=\"border:0;vertical-align:middle\"> \n",
       "<a class=\"standard\" href=\"https://www.hikr.org/region13.html\">Bern</a>\n",
       "\n",
       " »  \n",
       "<a class=\"standard\" href=\"https://www.hikr.org/region256.html\">Berner Voralpen</a>\n",
       "\n",
       "</td>"
      ],
      "text/plain": [
       "<IPython.core.display.HTML object>"
      ]
     },
     "metadata": {},
     "output_type": "display_data"
    },
    {
     "name": "stdout",
     "output_type": "stream",
     "text": [
      "{'region_0_content': 'Welt', 'region_1_content': 'Schweiz', 'region_2_content': 'Bern', 'region_3_content': 'Berner Voralpen'}\n"
     ]
    },
    {
     "data": {
      "text/html": [
       "<td class=\"fiche_rando\">\n",
       " \n",
       "<a class=\"standard\" href=\"https://www.hikr.org/region1.html\">Welt</a>\n",
       "\n",
       " » <img src=\"https://s.hikr.org/r4flag/ch.gif\" style=\"border:0;vertical-align:middle\"> \n",
       "<a class=\"standard\" href=\"https://www.hikr.org/region2.html\">Schweiz</a>\n",
       "\n",
       " » <img src=\"https://s.hikr.org/r4flag/ch.gr.gif\" style=\"border:0;vertical-align:middle\"> \n",
       "<a class=\"standard\" href=\"https://www.hikr.org/region4.html\">Graubünden</a>\n",
       "\n",
       " »  \n",
       "<a class=\"standard\" href=\"https://www.hikr.org/region105.html\">Oberengadin</a>\n",
       "\n",
       "</td>"
      ],
      "text/plain": [
       "<IPython.core.display.HTML object>"
      ]
     },
     "metadata": {},
     "output_type": "display_data"
    },
    {
     "name": "stdout",
     "output_type": "stream",
     "text": [
      "{'region_0_content': 'Welt', 'region_1_content': 'Schweiz', 'region_2_content': 'Graubünden', 'region_3_content': 'Oberengadin'}\n"
     ]
    },
    {
     "data": {
      "text/html": [
       "<td class=\"fiche_rando\">\n",
       " \n",
       "<a class=\"standard\" href=\"https://www.hikr.org/region1.html\">Welt</a>\n",
       "\n",
       " » <img src=\"https://s.hikr.org/r4flag/ch.gif\" style=\"border:0;vertical-align:middle\"> \n",
       "<a class=\"standard\" href=\"https://www.hikr.org/region2.html\">Schweiz</a>\n",
       "\n",
       " » <img src=\"https://s.hikr.org/r4flag/ch.uw.gif\" style=\"border:0;vertical-align:middle\"> \n",
       "<a class=\"standard\" href=\"https://www.hikr.org/region127.html\">Obwalden</a>\n",
       "\n",
       "</td>"
      ],
      "text/plain": [
       "<IPython.core.display.HTML object>"
      ]
     },
     "metadata": {},
     "output_type": "display_data"
    },
    {
     "name": "stdout",
     "output_type": "stream",
     "text": [
      "{'region_0_content': 'Welt', 'region_1_content': 'Schweiz', 'region_2_content': 'Obwalden'}\n"
     ]
    },
    {
     "data": {
      "text/html": [
       "<td class=\"fiche_rando\">\n",
       " \n",
       "<a class=\"standard\" href=\"https://www.hikr.org/region1.html\">Welt</a>\n",
       "\n",
       " » <img src=\"https://s.hikr.org/r4flag/ch.gif\" style=\"border:0;vertical-align:middle\"> \n",
       "<a class=\"standard\" href=\"https://www.hikr.org/region2.html\">Schweiz</a>\n",
       "\n",
       " » <img src=\"https://s.hikr.org/r4flag/ch.vs.gif\" style=\"border:0;vertical-align:middle\"> \n",
       "<a class=\"standard\" href=\"https://www.hikr.org/region3.html\">Wallis</a>\n",
       "\n",
       " »  \n",
       "<a class=\"standard\" href=\"https://www.hikr.org/region562.html\">Mittelwallis</a>\n",
       "\n",
       "</td>"
      ],
      "text/plain": [
       "<IPython.core.display.HTML object>"
      ]
     },
     "metadata": {},
     "output_type": "display_data"
    },
    {
     "name": "stdout",
     "output_type": "stream",
     "text": [
      "{'region_0_content': 'Welt', 'region_1_content': 'Schweiz', 'region_2_content': 'Wallis', 'region_3_content': 'Mittelwallis'}\n"
     ]
    },
    {
     "data": {
      "text/html": [
       "<td class=\"fiche_rando\">\n",
       " \n",
       "<a class=\"standard\" href=\"https://www.hikr.org/region1.html\">Welt</a>\n",
       "\n",
       " » <img src=\"https://s.hikr.org/r4flag/de.gif\" style=\"border:0;vertical-align:middle\"> \n",
       "<a class=\"standard\" href=\"https://www.hikr.org/region69.html\">Deutschland</a>\n",
       "\n",
       " »  \n",
       "<a class=\"standard\" href=\"https://www.hikr.org/region1180.html\">Südwestliche Mittelgebirge</a>\n",
       "\n",
       " »  \n",
       "<a class=\"standard\" href=\"https://www.hikr.org/region1193.html\">Sonstige Höhenzüge und Talgebiete</a>\n",
       "\n",
       "</td>"
      ],
      "text/plain": [
       "<IPython.core.display.HTML object>"
      ]
     },
     "metadata": {},
     "output_type": "display_data"
    },
    {
     "name": "stdout",
     "output_type": "stream",
     "text": [
      "{'region_0_content': 'Welt', 'region_1_content': 'Deutschland', 'region_2_content': 'Südwestliche Mittelgebirge', 'region_3_content': 'Sonstige Höhenzüge und Talgebiete'}\n"
     ]
    },
    {
     "data": {
      "text/html": [
       "<td class=\"fiche_rando\">\n",
       " \n",
       "<a class=\"standard\" href=\"https://www.hikr.org/region1.html\">Welt</a>\n",
       "\n",
       " » <img src=\"https://s.hikr.org/r4flag/it.gif\" style=\"border:0;vertical-align:middle\"> \n",
       "<a class=\"standard\" href=\"https://www.hikr.org/region16.html\">Italien</a>\n",
       "\n",
       " »  \n",
       "<a class=\"standard\" href=\"https://www.hikr.org/region500.html\">Lombardei</a>\n",
       "\n",
       "</td>"
      ],
      "text/plain": [
       "<IPython.core.display.HTML object>"
      ]
     },
     "metadata": {},
     "output_type": "display_data"
    },
    {
     "name": "stdout",
     "output_type": "stream",
     "text": [
      "{'region_0_content': 'Welt', 'region_1_content': 'Italien', 'region_2_content': 'Lombardei'}\n"
     ]
    },
    {
     "data": {
      "text/html": [
       "<td class=\"fiche_rando\">\n",
       " \n",
       "<a class=\"standard\" href=\"https://www.hikr.org/region1.html\">Welt</a>\n",
       "\n",
       " » <img src=\"https://s.hikr.org/r4flag/it.gif\" style=\"border:0;vertical-align:middle\"> \n",
       "<a class=\"standard\" href=\"https://www.hikr.org/region16.html\">Italien</a>\n",
       "\n",
       " »  \n",
       "<a class=\"standard\" href=\"https://www.hikr.org/region500.html\">Lombardei</a>\n",
       "\n",
       "</td>"
      ],
      "text/plain": [
       "<IPython.core.display.HTML object>"
      ]
     },
     "metadata": {},
     "output_type": "display_data"
    },
    {
     "name": "stdout",
     "output_type": "stream",
     "text": [
      "{'region_0_content': 'Welt', 'region_1_content': 'Italien', 'region_2_content': 'Lombardei'}\n"
     ]
    },
    {
     "data": {
      "text/html": [
       "<td class=\"fiche_rando\">\n",
       " \n",
       "<a class=\"standard\" href=\"https://www.hikr.org/region1.html\">Welt</a>\n",
       "\n",
       " » <img src=\"https://s.hikr.org/r4flag/it.gif\" style=\"border:0;vertical-align:middle\"> \n",
       "<a class=\"standard\" href=\"https://www.hikr.org/region16.html\">Italien</a>\n",
       "\n",
       " »  \n",
       "<a class=\"standard\" href=\"https://www.hikr.org/region502.html\">Piemont</a>\n",
       "\n",
       "</td>"
      ],
      "text/plain": [
       "<IPython.core.display.HTML object>"
      ]
     },
     "metadata": {},
     "output_type": "display_data"
    },
    {
     "name": "stdout",
     "output_type": "stream",
     "text": [
      "{'region_0_content': 'Welt', 'region_1_content': 'Italien', 'region_2_content': 'Piemont'}\n"
     ]
    },
    {
     "data": {
      "text/html": [
       "<td class=\"fiche_rando\">\n",
       " \n",
       "<a class=\"standard\" href=\"https://www.hikr.org/region1.html\">Welt</a>\n",
       "\n",
       " » <img src=\"https://s.hikr.org/r4flag/at.gif\" style=\"border:0;vertical-align:middle\"> \n",
       "<a class=\"standard\" href=\"https://www.hikr.org/region33.html\">Österreich</a>\n",
       "\n",
       " »  \n",
       "<a class=\"standard\" href=\"https://www.hikr.org/region1102.html\">Zentrale Ostalpen</a>\n",
       "\n",
       " »  \n",
       "<a class=\"standard\" href=\"https://www.hikr.org/region1118.html\">Randgebirge östlich der Mur</a>\n",
       "\n",
       "</td>"
      ],
      "text/plain": [
       "<IPython.core.display.HTML object>"
      ]
     },
     "metadata": {},
     "output_type": "display_data"
    },
    {
     "name": "stdout",
     "output_type": "stream",
     "text": [
      "{'region_0_content': 'Welt', 'region_1_content': 'Österreich', 'region_2_content': 'Zentrale Ostalpen', 'region_3_content': 'Randgebirge östlich der Mur'}\n"
     ]
    },
    {
     "data": {
      "text/html": [
       "<td class=\"fiche_rando\">\n",
       " \n",
       "<a class=\"standard\" href=\"https://www.hikr.org/region1.html\">Welt</a>\n",
       "\n",
       " » <img src=\"https://s.hikr.org/r4flag/it.gif\" style=\"border:0;vertical-align:middle\"> \n",
       "<a class=\"standard\" href=\"https://www.hikr.org/region16.html\">Italien</a>\n",
       "\n",
       " »  \n",
       "<a class=\"standard\" href=\"https://www.hikr.org/region502.html\">Piemont</a>\n",
       "\n",
       "</td>"
      ],
      "text/plain": [
       "<IPython.core.display.HTML object>"
      ]
     },
     "metadata": {},
     "output_type": "display_data"
    },
    {
     "name": "stdout",
     "output_type": "stream",
     "text": [
      "{'region_0_content': 'Welt', 'region_1_content': 'Italien', 'region_2_content': 'Piemont'}\n"
     ]
    },
    {
     "data": {
      "text/html": [
       "<td class=\"fiche_rando\">\n",
       " \n",
       "<a class=\"standard\" href=\"https://www.hikr.org/region1.html\">Welt</a>\n",
       "\n",
       " » <img src=\"https://s.hikr.org/r4flag/it.gif\" style=\"border:0;vertical-align:middle\"> \n",
       "<a class=\"standard\" href=\"https://www.hikr.org/region16.html\">Italien</a>\n",
       "\n",
       " »  \n",
       "<a class=\"standard\" href=\"https://www.hikr.org/region17.html\">Sizilien</a>\n",
       "\n",
       "</td>"
      ],
      "text/plain": [
       "<IPython.core.display.HTML object>"
      ]
     },
     "metadata": {},
     "output_type": "display_data"
    },
    {
     "name": "stdout",
     "output_type": "stream",
     "text": [
      "{'region_0_content': 'Welt', 'region_1_content': 'Italien', 'region_2_content': 'Sizilien'}\n"
     ]
    },
    {
     "data": {
      "text/html": [
       "<td class=\"fiche_rando\">\n",
       " \n",
       "<a class=\"standard\" href=\"https://www.hikr.org/region1.html\">Welt</a>\n",
       "\n",
       " » <img src=\"https://s.hikr.org/r4flag/ch.gif\" style=\"border:0;vertical-align:middle\"> \n",
       "<a class=\"standard\" href=\"https://www.hikr.org/region2.html\">Schweiz</a>\n",
       "\n",
       " » <img src=\"https://s.hikr.org/r4flag/ch.be.gif\" style=\"border:0;vertical-align:middle\"> \n",
       "<a class=\"standard\" href=\"https://www.hikr.org/region13.html\">Bern</a>\n",
       "\n",
       " »  \n",
       "<a class=\"standard\" href=\"https://www.hikr.org/region527.html\">Berner Jura</a>\n",
       "\n",
       "</td>"
      ],
      "text/plain": [
       "<IPython.core.display.HTML object>"
      ]
     },
     "metadata": {},
     "output_type": "display_data"
    },
    {
     "name": "stdout",
     "output_type": "stream",
     "text": [
      "{'region_0_content': 'Welt', 'region_1_content': 'Schweiz', 'region_2_content': 'Bern', 'region_3_content': 'Berner Jura'}\n"
     ]
    },
    {
     "data": {
      "text/html": [
       "<td class=\"fiche_rando\">\n",
       " \n",
       "<a class=\"standard\" href=\"https://www.hikr.org/region1.html\">Welt</a>\n",
       "\n",
       " » <img src=\"https://s.hikr.org/r4flag/es.gif\" style=\"border:0;vertical-align:middle\"> \n",
       "<a class=\"standard\" href=\"https://www.hikr.org/region172.html\">Spanien</a>\n",
       "\n",
       " »  \n",
       "<a class=\"standard\" href=\"https://www.hikr.org/region772.html\">Kanarische Inseln</a>\n",
       "\n",
       " »  \n",
       "<a class=\"standard\" href=\"https://www.hikr.org/region774.html\">Santa Cruz de Tenerife</a>\n",
       "\n",
       "</td>"
      ],
      "text/plain": [
       "<IPython.core.display.HTML object>"
      ]
     },
     "metadata": {},
     "output_type": "display_data"
    },
    {
     "name": "stdout",
     "output_type": "stream",
     "text": [
      "{'region_0_content': 'Welt', 'region_1_content': 'Spanien', 'region_2_content': 'Kanarische Inseln', 'region_3_content': 'Santa Cruz de Tenerife'}\n"
     ]
    },
    {
     "data": {
      "text/html": [
       "<td class=\"fiche_rando\">\n",
       " \n",
       "<a class=\"standard\" href=\"https://www.hikr.org/region1.html\">Welt</a>\n",
       "\n",
       " » <img src=\"https://s.hikr.org/r4flag/it.gif\" style=\"border:0;vertical-align:middle\"> \n",
       "<a class=\"standard\" href=\"https://www.hikr.org/region16.html\">Italien</a>\n",
       "\n",
       " »  \n",
       "<a class=\"standard\" href=\"https://www.hikr.org/region502.html\">Piemont</a>\n",
       "\n",
       "</td>"
      ],
      "text/plain": [
       "<IPython.core.display.HTML object>"
      ]
     },
     "metadata": {},
     "output_type": "display_data"
    },
    {
     "name": "stdout",
     "output_type": "stream",
     "text": [
      "{'region_0_content': 'Welt', 'region_1_content': 'Italien', 'region_2_content': 'Piemont'}\n"
     ]
    },
    {
     "data": {
      "text/html": [
       "<td class=\"fiche_rando\">\n",
       " \n",
       "<a class=\"standard\" href=\"https://www.hikr.org/region1.html\">Welt</a>\n",
       "\n",
       " » <img src=\"https://s.hikr.org/r4flag/at.gif\" style=\"border:0;vertical-align:middle\"> \n",
       "<a class=\"standard\" href=\"https://www.hikr.org/region33.html\">Österreich</a>\n",
       "\n",
       " »  \n",
       "<a class=\"standard\" href=\"https://www.hikr.org/region1082.html\">Nördliche Ostalpen</a>\n",
       "\n",
       " »  \n",
       "<a class=\"standard\" href=\"https://www.hikr.org/region1084.html\">Lechquellengebirge</a>\n",
       "\n",
       "</td>"
      ],
      "text/plain": [
       "<IPython.core.display.HTML object>"
      ]
     },
     "metadata": {},
     "output_type": "display_data"
    },
    {
     "name": "stdout",
     "output_type": "stream",
     "text": [
      "{'region_0_content': 'Welt', 'region_1_content': 'Österreich', 'region_2_content': 'Nördliche Ostalpen', 'region_3_content': 'Lechquellengebirge'}\n"
     ]
    },
    {
     "data": {
      "text/html": [
       "<td class=\"fiche_rando\">\n",
       " \n",
       "<a class=\"standard\" href=\"https://www.hikr.org/region1.html\">Welt</a>\n",
       "\n",
       " » <img src=\"https://s.hikr.org/r4flag/de.gif\" style=\"border:0;vertical-align:middle\"> \n",
       "<a class=\"standard\" href=\"https://www.hikr.org/region69.html\">Deutschland</a>\n",
       "\n",
       " »  \n",
       "<a class=\"standard\" href=\"https://www.hikr.org/region1182.html\">Alpen</a>\n",
       "\n",
       " »  \n",
       "<a class=\"standard\" href=\"https://www.hikr.org/region88.html\">Berchtesgadener Alpen</a>\n",
       "\n",
       "</td>"
      ],
      "text/plain": [
       "<IPython.core.display.HTML object>"
      ]
     },
     "metadata": {},
     "output_type": "display_data"
    },
    {
     "name": "stdout",
     "output_type": "stream",
     "text": [
      "{'region_0_content': 'Welt', 'region_1_content': 'Deutschland', 'region_2_content': 'Alpen', 'region_3_content': 'Berchtesgadener Alpen'}\n"
     ]
    },
    {
     "data": {
      "text/html": [
       "<td class=\"fiche_rando\">\n",
       " \n",
       "<a class=\"standard\" href=\"https://www.hikr.org/region1.html\">Welt</a>\n",
       "\n",
       " » <img src=\"https://s.hikr.org/r4flag/ch.gif\" style=\"border:0;vertical-align:middle\"> \n",
       "<a class=\"standard\" href=\"https://www.hikr.org/region2.html\">Schweiz</a>\n",
       "\n",
       " » <img src=\"https://s.hikr.org/r4flag/ch.be.gif\" style=\"border:0;vertical-align:middle\"> \n",
       "<a class=\"standard\" href=\"https://www.hikr.org/region13.html\">Bern</a>\n",
       "\n",
       " »  \n",
       "<a class=\"standard\" href=\"https://www.hikr.org/region533.html\">Frutigland</a>\n",
       "\n",
       "</td>"
      ],
      "text/plain": [
       "<IPython.core.display.HTML object>"
      ]
     },
     "metadata": {},
     "output_type": "display_data"
    },
    {
     "name": "stdout",
     "output_type": "stream",
     "text": [
      "{'region_0_content': 'Welt', 'region_1_content': 'Schweiz', 'region_2_content': 'Bern', 'region_3_content': 'Frutigland'}\n"
     ]
    },
    {
     "data": {
      "text/html": [
       "<td class=\"fiche_rando\">\n",
       " \n",
       "<a class=\"standard\" href=\"https://www.hikr.org/region1.html\">Welt</a>\n",
       "\n",
       " » <img src=\"https://s.hikr.org/r4flag/ch.gif\" style=\"border:0;vertical-align:middle\"> \n",
       "<a class=\"standard\" href=\"https://www.hikr.org/region2.html\">Schweiz</a>\n",
       "\n",
       " » <img src=\"https://s.hikr.org/r4flag/ch.gr.gif\" style=\"border:0;vertical-align:middle\"> \n",
       "<a class=\"standard\" href=\"https://www.hikr.org/region4.html\">Graubünden</a>\n",
       "\n",
       " »  \n",
       "<a class=\"standard\" href=\"https://www.hikr.org/region462.html\">Safiental</a>\n",
       "\n",
       "</td>"
      ],
      "text/plain": [
       "<IPython.core.display.HTML object>"
      ]
     },
     "metadata": {},
     "output_type": "display_data"
    },
    {
     "name": "stdout",
     "output_type": "stream",
     "text": [
      "{'region_0_content': 'Welt', 'region_1_content': 'Schweiz', 'region_2_content': 'Graubünden', 'region_3_content': 'Safiental'}\n"
     ]
    },
    {
     "data": {
      "text/html": [
       "<td class=\"fiche_rando\">\n",
       " \n",
       "<a class=\"standard\" href=\"https://www.hikr.org/region1.html\">Welt</a>\n",
       "\n",
       " » <img src=\"https://s.hikr.org/r4flag/ch.gif\" style=\"border:0;vertical-align:middle\"> \n",
       "<a class=\"standard\" href=\"https://www.hikr.org/region2.html\">Schweiz</a>\n",
       "\n",
       " » <img src=\"https://s.hikr.org/r4flag/ch.so.gif\" style=\"border:0;vertical-align:middle\"> \n",
       "<a class=\"standard\" href=\"https://www.hikr.org/region139.html\">Solothurn</a>\n",
       "\n",
       "</td>"
      ],
      "text/plain": [
       "<IPython.core.display.HTML object>"
      ]
     },
     "metadata": {},
     "output_type": "display_data"
    },
    {
     "name": "stdout",
     "output_type": "stream",
     "text": [
      "{'region_0_content': 'Welt', 'region_1_content': 'Schweiz', 'region_2_content': 'Solothurn'}\n"
     ]
    },
    {
     "data": {
      "text/html": [
       "<td class=\"fiche_rando\">\n",
       " \n",
       "<a class=\"standard\" href=\"https://www.hikr.org/region1.html\">Welt</a>\n",
       "\n",
       " » <img src=\"https://s.hikr.org/r4flag/ch.gif\" style=\"border:0;vertical-align:middle\"> \n",
       "<a class=\"standard\" href=\"https://www.hikr.org/region2.html\">Schweiz</a>\n",
       "\n",
       " » <img src=\"https://s.hikr.org/r4flag/ch.vd.gif\" style=\"border:0;vertical-align:middle\"> \n",
       "<a class=\"standard\" href=\"https://www.hikr.org/region8.html\">Waadt</a>\n",
       "\n",
       " »  \n",
       "<a class=\"standard\" href=\"https://www.hikr.org/region544.html\">Waadtländer Jura</a>\n",
       "\n",
       "</td>"
      ],
      "text/plain": [
       "<IPython.core.display.HTML object>"
      ]
     },
     "metadata": {},
     "output_type": "display_data"
    },
    {
     "name": "stdout",
     "output_type": "stream",
     "text": [
      "{'region_0_content': 'Welt', 'region_1_content': 'Schweiz', 'region_2_content': 'Waadt', 'region_3_content': 'Waadtländer Jura'}\n"
     ]
    },
    {
     "data": {
      "text/html": [
       "<td class=\"fiche_rando\">\n",
       " \n",
       "<a class=\"standard\" href=\"https://www.hikr.org/region1.html\">Welt</a>\n",
       "\n",
       " » <img src=\"https://s.hikr.org/r4flag/it.gif\" style=\"border:0;vertical-align:middle\"> \n",
       "<a class=\"standard\" href=\"https://www.hikr.org/region16.html\">Italien</a>\n",
       "\n",
       " »  \n",
       "<a class=\"standard\" href=\"https://www.hikr.org/region18.html\">Trentino-Südtirol</a>\n",
       "\n",
       "</td>"
      ],
      "text/plain": [
       "<IPython.core.display.HTML object>"
      ]
     },
     "metadata": {},
     "output_type": "display_data"
    },
    {
     "name": "stdout",
     "output_type": "stream",
     "text": [
      "{'region_0_content': 'Welt', 'region_1_content': 'Italien', 'region_2_content': 'Trentino-Südtirol'}\n"
     ]
    },
    {
     "data": {
      "text/html": [
       "<td class=\"fiche_rando\">\n",
       " \n",
       "<a class=\"standard\" href=\"https://www.hikr.org/region1.html\">Welt</a>\n",
       "\n",
       " » <img src=\"https://s.hikr.org/r4flag/it.gif\" style=\"border:0;vertical-align:middle\"> \n",
       "<a class=\"standard\" href=\"https://www.hikr.org/region16.html\">Italien</a>\n",
       "\n",
       " »  \n",
       "<a class=\"standard\" href=\"https://www.hikr.org/region504.html\">Aostatal</a>\n",
       "\n",
       "</td>"
      ],
      "text/plain": [
       "<IPython.core.display.HTML object>"
      ]
     },
     "metadata": {},
     "output_type": "display_data"
    },
    {
     "name": "stdout",
     "output_type": "stream",
     "text": [
      "{'region_0_content': 'Welt', 'region_1_content': 'Italien', 'region_2_content': 'Aostatal'}\n"
     ]
    },
    {
     "data": {
      "text/html": [
       "<td class=\"fiche_rando\">\n",
       " \n",
       "<a class=\"standard\" href=\"https://www.hikr.org/region1.html\">Welt</a>\n",
       "\n",
       " » <img src=\"https://s.hikr.org/r4flag/ch.gif\" style=\"border:0;vertical-align:middle\"> \n",
       "<a class=\"standard\" href=\"https://www.hikr.org/region2.html\">Schweiz</a>\n",
       "\n",
       " » <img src=\"https://s.hikr.org/r4flag/ch.be.gif\" style=\"border:0;vertical-align:middle\"> \n",
       "<a class=\"standard\" href=\"https://www.hikr.org/region13.html\">Bern</a>\n",
       "\n",
       " »  \n",
       "<a class=\"standard\" href=\"https://www.hikr.org/region527.html\">Berner Jura</a>\n",
       "\n",
       "</td>"
      ],
      "text/plain": [
       "<IPython.core.display.HTML object>"
      ]
     },
     "metadata": {},
     "output_type": "display_data"
    },
    {
     "name": "stdout",
     "output_type": "stream",
     "text": [
      "{'region_0_content': 'Welt', 'region_1_content': 'Schweiz', 'region_2_content': 'Bern', 'region_3_content': 'Berner Jura'}\n"
     ]
    },
    {
     "data": {
      "text/html": [
       "<td class=\"fiche_rando\">\n",
       " \n",
       "<a class=\"standard\" href=\"https://www.hikr.org/region1.html\">Welt</a>\n",
       "\n",
       " » <img src=\"https://s.hikr.org/r4flag/ch.gif\" style=\"border:0;vertical-align:middle\"> \n",
       "<a class=\"standard\" href=\"https://www.hikr.org/region2.html\">Schweiz</a>\n",
       "\n",
       " » <img src=\"https://s.hikr.org/r4flag/ch.sg.gif\" style=\"border:0;vertical-align:middle\"> \n",
       "<a class=\"standard\" href=\"https://www.hikr.org/region45.html\">St.Gallen</a>\n",
       "\n",
       "</td>"
      ],
      "text/plain": [
       "<IPython.core.display.HTML object>"
      ]
     },
     "metadata": {},
     "output_type": "display_data"
    },
    {
     "name": "stdout",
     "output_type": "stream",
     "text": [
      "{'region_0_content': 'Welt', 'region_1_content': 'Schweiz', 'region_2_content': 'St.Gallen'}\n"
     ]
    },
    {
     "data": {
      "text/html": [
       "<td class=\"fiche_rando\">\n",
       " \n",
       "<a class=\"standard\" href=\"https://www.hikr.org/region1.html\">Welt</a>\n",
       "\n",
       " » <img src=\"https://s.hikr.org/r4flag/ch.gif\" style=\"border:0;vertical-align:middle\"> \n",
       "<a class=\"standard\" href=\"https://www.hikr.org/region2.html\">Schweiz</a>\n",
       "\n",
       " » <img src=\"https://s.hikr.org/r4flag/ch.ag.gif\" style=\"border:0;vertical-align:middle\"> \n",
       "<a class=\"standard\" href=\"https://www.hikr.org/region150.html\">Aargau</a>\n",
       "\n",
       "</td>"
      ],
      "text/plain": [
       "<IPython.core.display.HTML object>"
      ]
     },
     "metadata": {},
     "output_type": "display_data"
    },
    {
     "name": "stdout",
     "output_type": "stream",
     "text": [
      "{'region_0_content': 'Welt', 'region_1_content': 'Schweiz', 'region_2_content': 'Aargau'}\n"
     ]
    },
    {
     "data": {
      "text/html": [
       "<td class=\"fiche_rando\">\n",
       " \n",
       "<a class=\"standard\" href=\"https://www.hikr.org/region1.html\">Welt</a>\n",
       "\n",
       " » <img src=\"https://s.hikr.org/r4flag/ch.gif\" style=\"border:0;vertical-align:middle\"> \n",
       "<a class=\"standard\" href=\"https://www.hikr.org/region2.html\">Schweiz</a>\n",
       "\n",
       " » <img src=\"https://s.hikr.org/r4flag/ch.gr.gif\" style=\"border:0;vertical-align:middle\"> \n",
       "<a class=\"standard\" href=\"https://www.hikr.org/region4.html\">Graubünden</a>\n",
       "\n",
       " »  \n",
       "<a class=\"standard\" href=\"https://www.hikr.org/region313.html\">Prättigau</a>\n",
       "\n",
       "</td>"
      ],
      "text/plain": [
       "<IPython.core.display.HTML object>"
      ]
     },
     "metadata": {},
     "output_type": "display_data"
    },
    {
     "name": "stdout",
     "output_type": "stream",
     "text": [
      "{'region_0_content': 'Welt', 'region_1_content': 'Schweiz', 'region_2_content': 'Graubünden', 'region_3_content': 'Prättigau'}\n"
     ]
    },
    {
     "data": {
      "text/html": [
       "<td class=\"fiche_rando\">\n",
       " \n",
       "<a class=\"standard\" href=\"https://www.hikr.org/region1.html\">Welt</a>\n",
       "\n",
       " » <img src=\"https://s.hikr.org/r4flag/ch.gif\" style=\"border:0;vertical-align:middle\"> \n",
       "<a class=\"standard\" href=\"https://www.hikr.org/region2.html\">Schweiz</a>\n",
       "\n",
       " » <img src=\"https://s.hikr.org/r4flag/ch.sg.gif\" style=\"border:0;vertical-align:middle\"> \n",
       "<a class=\"standard\" href=\"https://www.hikr.org/region45.html\">St.Gallen</a>\n",
       "\n",
       "</td>"
      ],
      "text/plain": [
       "<IPython.core.display.HTML object>"
      ]
     },
     "metadata": {},
     "output_type": "display_data"
    },
    {
     "name": "stdout",
     "output_type": "stream",
     "text": [
      "{'region_0_content': 'Welt', 'region_1_content': 'Schweiz', 'region_2_content': 'St.Gallen'}\n"
     ]
    },
    {
     "data": {
      "text/html": [
       "<td class=\"fiche_rando\">\n",
       " \n",
       "<a class=\"standard\" href=\"https://www.hikr.org/region1.html\">Welt</a>\n",
       "\n",
       " » <img src=\"https://s.hikr.org/r4flag/ch.gif\" style=\"border:0;vertical-align:middle\"> \n",
       "<a class=\"standard\" href=\"https://www.hikr.org/region2.html\">Schweiz</a>\n",
       "\n",
       " » <img src=\"https://s.hikr.org/r4flag/ch.be.gif\" style=\"border:0;vertical-align:middle\"> \n",
       "<a class=\"standard\" href=\"https://www.hikr.org/region13.html\">Bern</a>\n",
       "\n",
       " »  \n",
       "<a class=\"standard\" href=\"https://www.hikr.org/region256.html\">Berner Voralpen</a>\n",
       "\n",
       "</td>"
      ],
      "text/plain": [
       "<IPython.core.display.HTML object>"
      ]
     },
     "metadata": {},
     "output_type": "display_data"
    },
    {
     "name": "stdout",
     "output_type": "stream",
     "text": [
      "{'region_0_content': 'Welt', 'region_1_content': 'Schweiz', 'region_2_content': 'Bern', 'region_3_content': 'Berner Voralpen'}\n"
     ]
    },
    {
     "data": {
      "text/html": [
       "<td class=\"fiche_rando\">\n",
       " \n",
       "<a class=\"standard\" href=\"https://www.hikr.org/region1.html\">Welt</a>\n",
       "\n",
       " » <img src=\"https://s.hikr.org/r4flag/ch.gif\" style=\"border:0;vertical-align:middle\"> \n",
       "<a class=\"standard\" href=\"https://www.hikr.org/region2.html\">Schweiz</a>\n",
       "\n",
       " » <img src=\"https://s.hikr.org/r4flag/ch.ap.gif\" style=\"border:0;vertical-align:middle\"> \n",
       "<a class=\"standard\" href=\"https://www.hikr.org/region171.html\">Appenzell</a>\n",
       "\n",
       "</td>"
      ],
      "text/plain": [
       "<IPython.core.display.HTML object>"
      ]
     },
     "metadata": {},
     "output_type": "display_data"
    },
    {
     "name": "stdout",
     "output_type": "stream",
     "text": [
      "{'region_0_content': 'Welt', 'region_1_content': 'Schweiz', 'region_2_content': 'Appenzell'}\n"
     ]
    },
    {
     "data": {
      "text/html": [
       "<td class=\"fiche_rando\">\n",
       " \n",
       "<a class=\"standard\" href=\"https://www.hikr.org/region1.html\">Welt</a>\n",
       "\n",
       " » <img src=\"https://s.hikr.org/r4flag/ch.gif\" style=\"border:0;vertical-align:middle\"> \n",
       "<a class=\"standard\" href=\"https://www.hikr.org/region2.html\">Schweiz</a>\n",
       "\n",
       " » <img src=\"https://s.hikr.org/r4flag/ch.be.gif\" style=\"border:0;vertical-align:middle\"> \n",
       "<a class=\"standard\" href=\"https://www.hikr.org/region13.html\">Bern</a>\n",
       "\n",
       " »  \n",
       "<a class=\"standard\" href=\"https://www.hikr.org/region527.html\">Berner Jura</a>\n",
       "\n",
       "</td>"
      ],
      "text/plain": [
       "<IPython.core.display.HTML object>"
      ]
     },
     "metadata": {},
     "output_type": "display_data"
    },
    {
     "name": "stdout",
     "output_type": "stream",
     "text": [
      "{'region_0_content': 'Welt', 'region_1_content': 'Schweiz', 'region_2_content': 'Bern', 'region_3_content': 'Berner Jura'}\n"
     ]
    },
    {
     "data": {
      "text/html": [
       "<td class=\"fiche_rando\">\n",
       " \n",
       "<a class=\"standard\" href=\"https://www.hikr.org/region1.html\">Welt</a>\n",
       "\n",
       " » <img src=\"https://s.hikr.org/r4flag/ch.gif\" style=\"border:0;vertical-align:middle\"> \n",
       "<a class=\"standard\" href=\"https://www.hikr.org/region2.html\">Schweiz</a>\n",
       "\n",
       " » <img src=\"https://s.hikr.org/r4flag/ch.sz.gif\" style=\"border:0;vertical-align:middle\"> \n",
       "<a class=\"standard\" href=\"https://www.hikr.org/region109.html\">Schwyz</a>\n",
       "\n",
       "</td>"
      ],
      "text/plain": [
       "<IPython.core.display.HTML object>"
      ]
     },
     "metadata": {},
     "output_type": "display_data"
    },
    {
     "name": "stdout",
     "output_type": "stream",
     "text": [
      "{'region_0_content': 'Welt', 'region_1_content': 'Schweiz', 'region_2_content': 'Schwyz'}\n"
     ]
    },
    {
     "data": {
      "text/html": [
       "<td class=\"fiche_rando\">\n",
       " \n",
       "<a class=\"standard\" href=\"https://www.hikr.org/region1.html\">Welt</a>\n",
       "\n",
       " » <img src=\"https://s.hikr.org/r4flag/ch.gif\" style=\"border:0;vertical-align:middle\"> \n",
       "<a class=\"standard\" href=\"https://www.hikr.org/region2.html\">Schweiz</a>\n",
       "\n",
       " » <img src=\"https://s.hikr.org/r4flag/ch.sz.gif\" style=\"border:0;vertical-align:middle\"> \n",
       "<a class=\"standard\" href=\"https://www.hikr.org/region109.html\">Schwyz</a>\n",
       "\n",
       "</td>"
      ],
      "text/plain": [
       "<IPython.core.display.HTML object>"
      ]
     },
     "metadata": {},
     "output_type": "display_data"
    },
    {
     "name": "stdout",
     "output_type": "stream",
     "text": [
      "{'region_0_content': 'Welt', 'region_1_content': 'Schweiz', 'region_2_content': 'Schwyz'}\n"
     ]
    },
    {
     "data": {
      "text/html": [
       "<td class=\"fiche_rando\">\n",
       " \n",
       "<a class=\"standard\" href=\"https://www.hikr.org/region1.html\">Welt</a>\n",
       "\n",
       " » <img src=\"https://s.hikr.org/r4flag/it.gif\" style=\"border:0;vertical-align:middle\"> \n",
       "<a class=\"standard\" href=\"https://www.hikr.org/region16.html\">Italien</a>\n",
       "\n",
       " »  \n",
       "<a class=\"standard\" href=\"https://www.hikr.org/region17.html\">Sizilien</a>\n",
       "\n",
       "</td>"
      ],
      "text/plain": [
       "<IPython.core.display.HTML object>"
      ]
     },
     "metadata": {},
     "output_type": "display_data"
    },
    {
     "name": "stdout",
     "output_type": "stream",
     "text": [
      "{'region_0_content': 'Welt', 'region_1_content': 'Italien', 'region_2_content': 'Sizilien'}\n"
     ]
    },
    {
     "data": {
      "text/html": [
       "<td class=\"fiche_rando\">\n",
       " \n",
       "<a class=\"standard\" href=\"https://www.hikr.org/region1.html\">Welt</a>\n",
       "\n",
       " » <img src=\"https://s.hikr.org/r4flag/ch.gif\" style=\"border:0;vertical-align:middle\"> \n",
       "<a class=\"standard\" href=\"https://www.hikr.org/region2.html\">Schweiz</a>\n",
       "\n",
       " » <img src=\"https://s.hikr.org/r4flag/ch.so.gif\" style=\"border:0;vertical-align:middle\"> \n",
       "<a class=\"standard\" href=\"https://www.hikr.org/region139.html\">Solothurn</a>\n",
       "\n",
       "</td>"
      ],
      "text/plain": [
       "<IPython.core.display.HTML object>"
      ]
     },
     "metadata": {},
     "output_type": "display_data"
    },
    {
     "name": "stdout",
     "output_type": "stream",
     "text": [
      "{'region_0_content': 'Welt', 'region_1_content': 'Schweiz', 'region_2_content': 'Solothurn'}\n"
     ]
    },
    {
     "data": {
      "text/html": [
       "<td class=\"fiche_rando\">\n",
       " \n",
       "<a class=\"standard\" href=\"https://www.hikr.org/region1.html\">Welt</a>\n",
       "\n",
       " » <img src=\"https://s.hikr.org/r4flag/at.gif\" style=\"border:0;vertical-align:middle\"> \n",
       "<a class=\"standard\" href=\"https://www.hikr.org/region33.html\">Österreich</a>\n",
       "\n",
       " »  \n",
       "<a class=\"standard\" href=\"https://www.hikr.org/region1102.html\">Zentrale Ostalpen</a>\n",
       "\n",
       " »  \n",
       "<a class=\"standard\" href=\"https://www.hikr.org/region1105.html\">Verwallgruppe</a>\n",
       "\n",
       "</td>"
      ],
      "text/plain": [
       "<IPython.core.display.HTML object>"
      ]
     },
     "metadata": {},
     "output_type": "display_data"
    },
    {
     "name": "stdout",
     "output_type": "stream",
     "text": [
      "{'region_0_content': 'Welt', 'region_1_content': 'Österreich', 'region_2_content': 'Zentrale Ostalpen', 'region_3_content': 'Verwallgruppe'}\n"
     ]
    },
    {
     "data": {
      "text/html": [
       "<td class=\"fiche_rando\">\n",
       " \n",
       "<a class=\"standard\" href=\"https://www.hikr.org/region1.html\">Welt</a>\n",
       "\n",
       " » <img src=\"https://s.hikr.org/r4flag/ch.gif\" style=\"border:0;vertical-align:middle\"> \n",
       "<a class=\"standard\" href=\"https://www.hikr.org/region2.html\">Schweiz</a>\n",
       "\n",
       " » <img src=\"https://s.hikr.org/r4flag/ch.ap.gif\" style=\"border:0;vertical-align:middle\"> \n",
       "<a class=\"standard\" href=\"https://www.hikr.org/region171.html\">Appenzell</a>\n",
       "\n",
       "</td>"
      ],
      "text/plain": [
       "<IPython.core.display.HTML object>"
      ]
     },
     "metadata": {},
     "output_type": "display_data"
    },
    {
     "name": "stdout",
     "output_type": "stream",
     "text": [
      "{'region_0_content': 'Welt', 'region_1_content': 'Schweiz', 'region_2_content': 'Appenzell'}\n"
     ]
    },
    {
     "data": {
      "text/html": [
       "<td class=\"fiche_rando\">\n",
       " \n",
       "<a class=\"standard\" href=\"https://www.hikr.org/region1.html\">Welt</a>\n",
       "\n",
       " » <img src=\"https://s.hikr.org/r4flag/at.gif\" style=\"border:0;vertical-align:middle\"> \n",
       "<a class=\"standard\" href=\"https://www.hikr.org/region33.html\">Österreich</a>\n",
       "\n",
       " »  \n",
       "<a class=\"standard\" href=\"https://www.hikr.org/region1082.html\">Nördliche Ostalpen</a>\n",
       "\n",
       " »  \n",
       "<a class=\"standard\" href=\"https://www.hikr.org/region1097.html\">Hochschwabgruppe</a>\n",
       "\n",
       "</td>"
      ],
      "text/plain": [
       "<IPython.core.display.HTML object>"
      ]
     },
     "metadata": {},
     "output_type": "display_data"
    },
    {
     "name": "stdout",
     "output_type": "stream",
     "text": [
      "{'region_0_content': 'Welt', 'region_1_content': 'Österreich', 'region_2_content': 'Nördliche Ostalpen', 'region_3_content': 'Hochschwabgruppe'}\n"
     ]
    },
    {
     "data": {
      "text/html": [
       "<td class=\"fiche_rando\">\n",
       " \n",
       "<a class=\"standard\" href=\"https://www.hikr.org/region1.html\">Welt</a>\n",
       "\n",
       " » <img src=\"https://s.hikr.org/r4flag/ch.gif\" style=\"border:0;vertical-align:middle\"> \n",
       "<a class=\"standard\" href=\"https://www.hikr.org/region2.html\">Schweiz</a>\n",
       "\n",
       " » <img src=\"https://s.hikr.org/r4flag/ch.be.gif\" style=\"border:0;vertical-align:middle\"> \n",
       "<a class=\"standard\" href=\"https://www.hikr.org/region13.html\">Bern</a>\n",
       "\n",
       " »  \n",
       "<a class=\"standard\" href=\"https://www.hikr.org/region533.html\">Frutigland</a>\n",
       "\n",
       "</td>"
      ],
      "text/plain": [
       "<IPython.core.display.HTML object>"
      ]
     },
     "metadata": {},
     "output_type": "display_data"
    },
    {
     "name": "stdout",
     "output_type": "stream",
     "text": [
      "{'region_0_content': 'Welt', 'region_1_content': 'Schweiz', 'region_2_content': 'Bern', 'region_3_content': 'Frutigland'}\n"
     ]
    },
    {
     "data": {
      "text/html": [
       "<td class=\"fiche_rando\">\n",
       " \n",
       "<a class=\"standard\" href=\"https://www.hikr.org/region1.html\">Welt</a>\n",
       "\n",
       " » <img src=\"https://s.hikr.org/r4flag/ch.gif\" style=\"border:0;vertical-align:middle\"> \n",
       "<a class=\"standard\" href=\"https://www.hikr.org/region2.html\">Schweiz</a>\n",
       "\n",
       " » <img src=\"https://s.hikr.org/r4flag/ch.lu.gif\" style=\"border:0;vertical-align:middle\"> \n",
       "<a class=\"standard\" href=\"https://www.hikr.org/region162.html\">Luzern</a>\n",
       "\n",
       "</td>"
      ],
      "text/plain": [
       "<IPython.core.display.HTML object>"
      ]
     },
     "metadata": {},
     "output_type": "display_data"
    },
    {
     "name": "stdout",
     "output_type": "stream",
     "text": [
      "{'region_0_content': 'Welt', 'region_1_content': 'Schweiz', 'region_2_content': 'Luzern'}\n"
     ]
    },
    {
     "data": {
      "text/html": [
       "<td class=\"fiche_rando\">\n",
       " \n",
       "<a class=\"standard\" href=\"https://www.hikr.org/region1.html\">Welt</a>\n",
       "\n",
       " » <img src=\"https://s.hikr.org/r4flag/de.gif\" style=\"border:0;vertical-align:middle\"> \n",
       "<a class=\"standard\" href=\"https://www.hikr.org/region69.html\">Deutschland</a>\n",
       "\n",
       " »  \n",
       "<a class=\"standard\" href=\"https://www.hikr.org/region1182.html\">Alpen</a>\n",
       "\n",
       " »  \n",
       "<a class=\"standard\" href=\"https://www.hikr.org/region100.html\">Ammergauer Alpen</a>\n",
       "\n",
       "</td>"
      ],
      "text/plain": [
       "<IPython.core.display.HTML object>"
      ]
     },
     "metadata": {},
     "output_type": "display_data"
    },
    {
     "name": "stdout",
     "output_type": "stream",
     "text": [
      "{'region_0_content': 'Welt', 'region_1_content': 'Deutschland', 'region_2_content': 'Alpen', 'region_3_content': 'Ammergauer Alpen'}\n"
     ]
    },
    {
     "data": {
      "text/html": [
       "<td class=\"fiche_rando\">\n",
       " \n",
       "<a class=\"standard\" href=\"https://www.hikr.org/region1.html\">Welt</a>\n",
       "\n",
       " » <img src=\"https://s.hikr.org/r4flag/it.gif\" style=\"border:0;vertical-align:middle\"> \n",
       "<a class=\"standard\" href=\"https://www.hikr.org/region16.html\">Italien</a>\n",
       "\n",
       " »  \n",
       "<a class=\"standard\" href=\"https://www.hikr.org/region500.html\">Lombardei</a>\n",
       "\n",
       "</td>"
      ],
      "text/plain": [
       "<IPython.core.display.HTML object>"
      ]
     },
     "metadata": {},
     "output_type": "display_data"
    },
    {
     "name": "stdout",
     "output_type": "stream",
     "text": [
      "{'region_0_content': 'Welt', 'region_1_content': 'Italien', 'region_2_content': 'Lombardei'}\n"
     ]
    },
    {
     "data": {
      "text/html": [
       "<td class=\"fiche_rando\">\n",
       " \n",
       "<a class=\"standard\" href=\"https://www.hikr.org/region1.html\">Welt</a>\n",
       "\n",
       " » <img src=\"https://s.hikr.org/r4flag/it.gif\" style=\"border:0;vertical-align:middle\"> \n",
       "<a class=\"standard\" href=\"https://www.hikr.org/region16.html\">Italien</a>\n",
       "\n",
       " »  \n",
       "<a class=\"standard\" href=\"https://www.hikr.org/region18.html\">Trentino-Südtirol</a>\n",
       "\n",
       "</td>"
      ],
      "text/plain": [
       "<IPython.core.display.HTML object>"
      ]
     },
     "metadata": {},
     "output_type": "display_data"
    },
    {
     "name": "stdout",
     "output_type": "stream",
     "text": [
      "{'region_0_content': 'Welt', 'region_1_content': 'Italien', 'region_2_content': 'Trentino-Südtirol'}\n"
     ]
    },
    {
     "data": {
      "text/html": [
       "<td class=\"fiche_rando\">\n",
       " \n",
       "<a class=\"standard\" href=\"https://www.hikr.org/region1.html\">Welt</a>\n",
       "\n",
       " » <img src=\"https://s.hikr.org/r4flag/ch.gif\" style=\"border:0;vertical-align:middle\"> \n",
       "<a class=\"standard\" href=\"https://www.hikr.org/region2.html\">Schweiz</a>\n",
       "\n",
       " » <img src=\"https://s.hikr.org/r4flag/ch.uw.gif\" style=\"border:0;vertical-align:middle\"> \n",
       "<a class=\"standard\" href=\"https://www.hikr.org/region127.html\">Obwalden</a>\n",
       "\n",
       "</td>"
      ],
      "text/plain": [
       "<IPython.core.display.HTML object>"
      ]
     },
     "metadata": {},
     "output_type": "display_data"
    },
    {
     "name": "stdout",
     "output_type": "stream",
     "text": [
      "{'region_0_content': 'Welt', 'region_1_content': 'Schweiz', 'region_2_content': 'Obwalden'}\n"
     ]
    },
    {
     "data": {
      "text/html": [
       "<td class=\"fiche_rando\">\n",
       " \n",
       "<a class=\"standard\" href=\"https://www.hikr.org/region1.html\">Welt</a>\n",
       "\n",
       " » <img src=\"https://s.hikr.org/r4flag/it.gif\" style=\"border:0;vertical-align:middle\"> \n",
       "<a class=\"standard\" href=\"https://www.hikr.org/region16.html\">Italien</a>\n",
       "\n",
       " »  \n",
       "<a class=\"standard\" href=\"https://www.hikr.org/region500.html\">Lombardei</a>\n",
       "\n",
       "</td>"
      ],
      "text/plain": [
       "<IPython.core.display.HTML object>"
      ]
     },
     "metadata": {},
     "output_type": "display_data"
    },
    {
     "name": "stdout",
     "output_type": "stream",
     "text": [
      "{'region_0_content': 'Welt', 'region_1_content': 'Italien', 'region_2_content': 'Lombardei'}\n"
     ]
    },
    {
     "data": {
      "text/html": [
       "<td class=\"fiche_rando\">\n",
       " \n",
       "<a class=\"standard\" href=\"https://www.hikr.org/region1.html\">Welt</a>\n",
       "\n",
       " » <img src=\"https://s.hikr.org/r4flag/it.gif\" style=\"border:0;vertical-align:middle\"> \n",
       "<a class=\"standard\" href=\"https://www.hikr.org/region16.html\">Italien</a>\n",
       "\n",
       " »  \n",
       "<a class=\"standard\" href=\"https://www.hikr.org/region18.html\">Trentino-Südtirol</a>\n",
       "\n",
       "</td>"
      ],
      "text/plain": [
       "<IPython.core.display.HTML object>"
      ]
     },
     "metadata": {},
     "output_type": "display_data"
    },
    {
     "name": "stdout",
     "output_type": "stream",
     "text": [
      "{'region_0_content': 'Welt', 'region_1_content': 'Italien', 'region_2_content': 'Trentino-Südtirol'}\n"
     ]
    },
    {
     "data": {
      "text/html": [
       "<td class=\"fiche_rando\">\n",
       " \n",
       "<a class=\"standard\" href=\"https://www.hikr.org/region1.html\">Welt</a>\n",
       "\n",
       " » <img src=\"https://s.hikr.org/r4flag/ch.gif\" style=\"border:0;vertical-align:middle\"> \n",
       "<a class=\"standard\" href=\"https://www.hikr.org/region2.html\">Schweiz</a>\n",
       "\n",
       " » <img src=\"https://s.hikr.org/r4flag/ch.be.gif\" style=\"border:0;vertical-align:middle\"> \n",
       "<a class=\"standard\" href=\"https://www.hikr.org/region13.html\">Bern</a>\n",
       "\n",
       " »  \n",
       "<a class=\"standard\" href=\"https://www.hikr.org/region531.html\">Jungfraugebiet</a>\n",
       "\n",
       "</td>"
      ],
      "text/plain": [
       "<IPython.core.display.HTML object>"
      ]
     },
     "metadata": {},
     "output_type": "display_data"
    },
    {
     "name": "stdout",
     "output_type": "stream",
     "text": [
      "{'region_0_content': 'Welt', 'region_1_content': 'Schweiz', 'region_2_content': 'Bern', 'region_3_content': 'Jungfraugebiet'}\n"
     ]
    },
    {
     "data": {
      "text/html": [
       "<td class=\"fiche_rando\">\n",
       " \n",
       "<a class=\"standard\" href=\"https://www.hikr.org/region1.html\">Welt</a>\n",
       "\n",
       " » <img src=\"https://s.hikr.org/r4flag/ch.gif\" style=\"border:0;vertical-align:middle\"> \n",
       "<a class=\"standard\" href=\"https://www.hikr.org/region2.html\">Schweiz</a>\n",
       "\n",
       " » <img src=\"https://s.hikr.org/r4flag/ch.gl.gif\" style=\"border:0;vertical-align:middle\"> \n",
       "<a class=\"standard\" href=\"https://www.hikr.org/region44.html\">Glarus</a>\n",
       "\n",
       "</td>"
      ],
      "text/plain": [
       "<IPython.core.display.HTML object>"
      ]
     },
     "metadata": {},
     "output_type": "display_data"
    },
    {
     "name": "stdout",
     "output_type": "stream",
     "text": [
      "{'region_0_content': 'Welt', 'region_1_content': 'Schweiz', 'region_2_content': 'Glarus'}\n"
     ]
    },
    {
     "data": {
      "text/html": [
       "<td class=\"fiche_rando\">\n",
       " \n",
       "<a class=\"standard\" href=\"https://www.hikr.org/region1.html\">Welt</a>\n",
       "\n",
       " » <img src=\"https://s.hikr.org/r4flag/de.gif\" style=\"border:0;vertical-align:middle\"> \n",
       "<a class=\"standard\" href=\"https://www.hikr.org/region69.html\">Deutschland</a>\n",
       "\n",
       " »  \n",
       "<a class=\"standard\" href=\"https://www.hikr.org/region1181.html\">Alpenvorland</a>\n",
       "\n",
       "</td>"
      ],
      "text/plain": [
       "<IPython.core.display.HTML object>"
      ]
     },
     "metadata": {},
     "output_type": "display_data"
    },
    {
     "name": "stdout",
     "output_type": "stream",
     "text": [
      "{'region_0_content': 'Welt', 'region_1_content': 'Deutschland', 'region_2_content': 'Alpenvorland'}\n"
     ]
    },
    {
     "data": {
      "text/html": [
       "<td class=\"fiche_rando\">\n",
       " \n",
       "<a class=\"standard\" href=\"https://www.hikr.org/region1.html\">Welt</a>\n",
       "\n",
       " » <img src=\"https://s.hikr.org/r4flag/ch.gif\" style=\"border:0;vertical-align:middle\"> \n",
       "<a class=\"standard\" href=\"https://www.hikr.org/region2.html\">Schweiz</a>\n",
       "\n",
       " » <img src=\"https://s.hikr.org/r4flag/ch.sg.gif\" style=\"border:0;vertical-align:middle\"> \n",
       "<a class=\"standard\" href=\"https://www.hikr.org/region45.html\">St.Gallen</a>\n",
       "\n",
       "</td>"
      ],
      "text/plain": [
       "<IPython.core.display.HTML object>"
      ]
     },
     "metadata": {},
     "output_type": "display_data"
    },
    {
     "name": "stdout",
     "output_type": "stream",
     "text": [
      "{'region_0_content': 'Welt', 'region_1_content': 'Schweiz', 'region_2_content': 'St.Gallen'}\n"
     ]
    },
    {
     "data": {
      "text/html": [
       "<td class=\"fiche_rando\">\n",
       " \n",
       "<a class=\"standard\" href=\"https://www.hikr.org/region1.html\">Welt</a>\n",
       "\n",
       " » <img src=\"https://s.hikr.org/r4flag/ch.gif\" style=\"border:0;vertical-align:middle\"> \n",
       "<a class=\"standard\" href=\"https://www.hikr.org/region2.html\">Schweiz</a>\n",
       "\n",
       " » <img src=\"https://s.hikr.org/r4flag/ch.gl.gif\" style=\"border:0;vertical-align:middle\"> \n",
       "<a class=\"standard\" href=\"https://www.hikr.org/region44.html\">Glarus</a>\n",
       "\n",
       "</td>"
      ],
      "text/plain": [
       "<IPython.core.display.HTML object>"
      ]
     },
     "metadata": {},
     "output_type": "display_data"
    },
    {
     "name": "stdout",
     "output_type": "stream",
     "text": [
      "{'region_0_content': 'Welt', 'region_1_content': 'Schweiz', 'region_2_content': 'Glarus'}\n"
     ]
    },
    {
     "data": {
      "text/html": [
       "<td class=\"fiche_rando\">\n",
       " \n",
       "<a class=\"standard\" href=\"https://www.hikr.org/region1.html\">Welt</a>\n",
       "\n",
       " »  \n",
       "<a class=\"standard\" href=\"https://www.hikr.org/region1891.html\">Panama</a>\n",
       "\n",
       "</td>"
      ],
      "text/plain": [
       "<IPython.core.display.HTML object>"
      ]
     },
     "metadata": {},
     "output_type": "display_data"
    },
    {
     "name": "stdout",
     "output_type": "stream",
     "text": [
      "{'region_0_content': 'Welt', 'region_1_content': 'Panama'}\n"
     ]
    },
    {
     "data": {
      "text/html": [
       "<td class=\"fiche_rando\">\n",
       " \n",
       "<a class=\"standard\" href=\"https://www.hikr.org/region1.html\">Welt</a>\n",
       "\n",
       " » <img src=\"https://s.hikr.org/r4flag/ec.gif\" style=\"border:0;vertical-align:middle\"> \n",
       "<a class=\"standard\" href=\"https://www.hikr.org/region183.html\">Ecuador</a>\n",
       "\n",
       "</td>"
      ],
      "text/plain": [
       "<IPython.core.display.HTML object>"
      ]
     },
     "metadata": {},
     "output_type": "display_data"
    },
    {
     "name": "stdout",
     "output_type": "stream",
     "text": [
      "{'region_0_content': 'Welt', 'region_1_content': 'Ecuador'}\n"
     ]
    },
    {
     "data": {
      "text/html": [
       "<td class=\"fiche_rando\">\n",
       " \n",
       "<a class=\"standard\" href=\"https://www.hikr.org/region1.html\">Welt</a>\n",
       "\n",
       " » <img src=\"https://s.hikr.org/r4flag/it.gif\" style=\"border:0;vertical-align:middle\"> \n",
       "<a class=\"standard\" href=\"https://www.hikr.org/region16.html\">Italien</a>\n",
       "\n",
       " »  \n",
       "<a class=\"standard\" href=\"https://www.hikr.org/region500.html\">Lombardei</a>\n",
       "\n",
       "</td>"
      ],
      "text/plain": [
       "<IPython.core.display.HTML object>"
      ]
     },
     "metadata": {},
     "output_type": "display_data"
    },
    {
     "name": "stdout",
     "output_type": "stream",
     "text": [
      "{'region_0_content': 'Welt', 'region_1_content': 'Italien', 'region_2_content': 'Lombardei'}\n"
     ]
    },
    {
     "data": {
      "text/html": [
       "<td class=\"fiche_rando\">\n",
       " \n",
       "<a class=\"standard\" href=\"https://www.hikr.org/region1.html\">Welt</a>\n",
       "\n",
       " » <img src=\"https://s.hikr.org/r4flag/ch.gif\" style=\"border:0;vertical-align:middle\"> \n",
       "<a class=\"standard\" href=\"https://www.hikr.org/region2.html\">Schweiz</a>\n",
       "\n",
       " » <img src=\"https://s.hikr.org/r4flag/ch.ur.gif\" style=\"border:0;vertical-align:middle\"> \n",
       "<a class=\"standard\" href=\"https://www.hikr.org/region146.html\">Uri</a>\n",
       "\n",
       "</td>"
      ],
      "text/plain": [
       "<IPython.core.display.HTML object>"
      ]
     },
     "metadata": {},
     "output_type": "display_data"
    },
    {
     "name": "stdout",
     "output_type": "stream",
     "text": [
      "{'region_0_content': 'Welt', 'region_1_content': 'Schweiz', 'region_2_content': 'Uri'}\n"
     ]
    },
    {
     "data": {
      "text/html": [
       "<td class=\"fiche_rando\">\n",
       " \n",
       "<a class=\"standard\" href=\"https://www.hikr.org/region1.html\">Welt</a>\n",
       "\n",
       " » <img src=\"https://s.hikr.org/r4flag/ch.gif\" style=\"border:0;vertical-align:middle\"> \n",
       "<a class=\"standard\" href=\"https://www.hikr.org/region2.html\">Schweiz</a>\n",
       "\n",
       " » <img src=\"https://s.hikr.org/r4flag/ch.ti.gif\" style=\"border:0;vertical-align:middle\"> \n",
       "<a class=\"standard\" href=\"https://www.hikr.org/region41.html\">Tessin</a>\n",
       "\n",
       " »  \n",
       "<a class=\"standard\" href=\"https://www.hikr.org/region492.html\">Locarnese</a>\n",
       "\n",
       "</td>"
      ],
      "text/plain": [
       "<IPython.core.display.HTML object>"
      ]
     },
     "metadata": {},
     "output_type": "display_data"
    },
    {
     "name": "stdout",
     "output_type": "stream",
     "text": [
      "{'region_0_content': 'Welt', 'region_1_content': 'Schweiz', 'region_2_content': 'Tessin', 'region_3_content': 'Locarnese'}\n"
     ]
    },
    {
     "data": {
      "text/html": [
       "<td class=\"fiche_rando\">\n",
       " \n",
       "<a class=\"standard\" href=\"https://www.hikr.org/region1.html\">Welt</a>\n",
       "\n",
       " » <img src=\"https://s.hikr.org/r4flag/it.gif\" style=\"border:0;vertical-align:middle\"> \n",
       "<a class=\"standard\" href=\"https://www.hikr.org/region16.html\">Italien</a>\n",
       "\n",
       " »  \n",
       "<a class=\"standard\" href=\"https://www.hikr.org/region18.html\">Trentino-Südtirol</a>\n",
       "\n",
       "</td>"
      ],
      "text/plain": [
       "<IPython.core.display.HTML object>"
      ]
     },
     "metadata": {},
     "output_type": "display_data"
    },
    {
     "name": "stdout",
     "output_type": "stream",
     "text": [
      "{'region_0_content': 'Welt', 'region_1_content': 'Italien', 'region_2_content': 'Trentino-Südtirol'}\n"
     ]
    },
    {
     "data": {
      "text/html": [
       "<td class=\"fiche_rando\">\n",
       " \n",
       "<a class=\"standard\" href=\"https://www.hikr.org/region1.html\">Welt</a>\n",
       "\n",
       " » <img src=\"https://s.hikr.org/r4flag/ch.gif\" style=\"border:0;vertical-align:middle\"> \n",
       "<a class=\"standard\" href=\"https://www.hikr.org/region2.html\">Schweiz</a>\n",
       "\n",
       " » <img src=\"https://s.hikr.org/r4flag/ch.be.gif\" style=\"border:0;vertical-align:middle\"> \n",
       "<a class=\"standard\" href=\"https://www.hikr.org/region13.html\">Bern</a>\n",
       "\n",
       " »  \n",
       "<a class=\"standard\" href=\"https://www.hikr.org/region256.html\">Berner Voralpen</a>\n",
       "\n",
       "</td>"
      ],
      "text/plain": [
       "<IPython.core.display.HTML object>"
      ]
     },
     "metadata": {},
     "output_type": "display_data"
    },
    {
     "name": "stdout",
     "output_type": "stream",
     "text": [
      "{'region_0_content': 'Welt', 'region_1_content': 'Schweiz', 'region_2_content': 'Bern', 'region_3_content': 'Berner Voralpen'}\n"
     ]
    },
    {
     "data": {
      "text/html": [
       "<td class=\"fiche_rando\">\n",
       " \n",
       "<a class=\"standard\" href=\"https://www.hikr.org/region1.html\">Welt</a>\n",
       "\n",
       " » <img src=\"https://s.hikr.org/r4flag/ch.gif\" style=\"border:0;vertical-align:middle\"> \n",
       "<a class=\"standard\" href=\"https://www.hikr.org/region2.html\">Schweiz</a>\n",
       "\n",
       " » <img src=\"https://s.hikr.org/r4flag/ch.be.gif\" style=\"border:0;vertical-align:middle\"> \n",
       "<a class=\"standard\" href=\"https://www.hikr.org/region13.html\">Bern</a>\n",
       "\n",
       " »  \n",
       "<a class=\"standard\" href=\"https://www.hikr.org/region532.html\">Oberhasli</a>\n",
       "\n",
       "</td>"
      ],
      "text/plain": [
       "<IPython.core.display.HTML object>"
      ]
     },
     "metadata": {},
     "output_type": "display_data"
    },
    {
     "name": "stdout",
     "output_type": "stream",
     "text": [
      "{'region_0_content': 'Welt', 'region_1_content': 'Schweiz', 'region_2_content': 'Bern', 'region_3_content': 'Oberhasli'}\n"
     ]
    },
    {
     "data": {
      "text/html": [
       "<td class=\"fiche_rando\">\n",
       " \n",
       "<a class=\"standard\" href=\"https://www.hikr.org/region1.html\">Welt</a>\n",
       "\n",
       " » <img src=\"https://s.hikr.org/r4flag/ch.gif\" style=\"border:0;vertical-align:middle\"> \n",
       "<a class=\"standard\" href=\"https://www.hikr.org/region2.html\">Schweiz</a>\n",
       "\n",
       " » <img src=\"https://s.hikr.org/r4flag/ch.uw.gif\" style=\"border:0;vertical-align:middle\"> \n",
       "<a class=\"standard\" href=\"https://www.hikr.org/region154.html\">Nidwalden</a>\n",
       "\n",
       "</td>"
      ],
      "text/plain": [
       "<IPython.core.display.HTML object>"
      ]
     },
     "metadata": {},
     "output_type": "display_data"
    },
    {
     "name": "stdout",
     "output_type": "stream",
     "text": [
      "{'region_0_content': 'Welt', 'region_1_content': 'Schweiz', 'region_2_content': 'Nidwalden'}\n"
     ]
    },
    {
     "data": {
      "text/html": [
       "<td class=\"fiche_rando\">\n",
       " \n",
       "<a class=\"standard\" href=\"https://www.hikr.org/region1.html\">Welt</a>\n",
       "\n",
       " » <img src=\"https://s.hikr.org/r4flag/li.gif\" style=\"border:0;vertical-align:middle\"> \n",
       "<a class=\"standard\" href=\"https://www.hikr.org/region147.html\">Liechtenstein</a>\n",
       "\n",
       "</td>"
      ],
      "text/plain": [
       "<IPython.core.display.HTML object>"
      ]
     },
     "metadata": {},
     "output_type": "display_data"
    },
    {
     "name": "stdout",
     "output_type": "stream",
     "text": [
      "{'region_0_content': 'Welt', 'region_1_content': 'Liechtenstein'}\n"
     ]
    },
    {
     "data": {
      "text/html": [
       "<td class=\"fiche_rando\">\n",
       " \n",
       "<a class=\"standard\" href=\"https://www.hikr.org/region1.html\">Welt</a>\n",
       "\n",
       " » <img src=\"https://s.hikr.org/r4flag/ch.gif\" style=\"border:0;vertical-align:middle\"> \n",
       "<a class=\"standard\" href=\"https://www.hikr.org/region2.html\">Schweiz</a>\n",
       "\n",
       " » <img src=\"https://s.hikr.org/r4flag/ch.zh.gif\" style=\"border:0;vertical-align:middle\"> \n",
       "<a class=\"standard\" href=\"https://www.hikr.org/region148.html\">Zürich</a>\n",
       "\n",
       "</td>"
      ],
      "text/plain": [
       "<IPython.core.display.HTML object>"
      ]
     },
     "metadata": {},
     "output_type": "display_data"
    },
    {
     "name": "stdout",
     "output_type": "stream",
     "text": [
      "{'region_0_content': 'Welt', 'region_1_content': 'Schweiz', 'region_2_content': 'Zürich'}\n"
     ]
    },
    {
     "data": {
      "text/html": [
       "<td class=\"fiche_rando\">\n",
       " \n",
       "<a class=\"standard\" href=\"https://www.hikr.org/region1.html\">Welt</a>\n",
       "\n",
       " » <img src=\"https://s.hikr.org/r4flag/es.gif\" style=\"border:0;vertical-align:middle\"> \n",
       "<a class=\"standard\" href=\"https://www.hikr.org/region172.html\">Spanien</a>\n",
       "\n",
       " »  \n",
       "<a class=\"standard\" href=\"https://www.hikr.org/region772.html\">Kanarische Inseln</a>\n",
       "\n",
       " »  \n",
       "<a class=\"standard\" href=\"https://www.hikr.org/region774.html\">Santa Cruz de Tenerife</a>\n",
       "\n",
       "</td>"
      ],
      "text/plain": [
       "<IPython.core.display.HTML object>"
      ]
     },
     "metadata": {},
     "output_type": "display_data"
    },
    {
     "name": "stdout",
     "output_type": "stream",
     "text": [
      "{'region_0_content': 'Welt', 'region_1_content': 'Spanien', 'region_2_content': 'Kanarische Inseln', 'region_3_content': 'Santa Cruz de Tenerife'}\n"
     ]
    },
    {
     "data": {
      "text/html": [
       "<td class=\"fiche_rando\">\n",
       " \n",
       "<a class=\"standard\" href=\"https://www.hikr.org/region1.html\">Welt</a>\n",
       "\n",
       " » <img src=\"https://s.hikr.org/r4flag/ch.gif\" style=\"border:0;vertical-align:middle\"> \n",
       "<a class=\"standard\" href=\"https://www.hikr.org/region2.html\">Schweiz</a>\n",
       "\n",
       " » <img src=\"https://s.hikr.org/r4flag/ch.lu.gif\" style=\"border:0;vertical-align:middle\"> \n",
       "<a class=\"standard\" href=\"https://www.hikr.org/region162.html\">Luzern</a>\n",
       "\n",
       "</td>"
      ],
      "text/plain": [
       "<IPython.core.display.HTML object>"
      ]
     },
     "metadata": {},
     "output_type": "display_data"
    },
    {
     "name": "stdout",
     "output_type": "stream",
     "text": [
      "{'region_0_content': 'Welt', 'region_1_content': 'Schweiz', 'region_2_content': 'Luzern'}\n"
     ]
    },
    {
     "data": {
      "text/html": [
       "<td class=\"fiche_rando\">\n",
       " \n",
       "<a class=\"standard\" href=\"https://www.hikr.org/region1.html\">Welt</a>\n",
       "\n",
       " » <img src=\"https://s.hikr.org/r4flag/de.gif\" style=\"border:0;vertical-align:middle\"> \n",
       "<a class=\"standard\" href=\"https://www.hikr.org/region69.html\">Deutschland</a>\n",
       "\n",
       " »  \n",
       "<a class=\"standard\" href=\"https://www.hikr.org/region1180.html\">Südwestliche Mittelgebirge</a>\n",
       "\n",
       " »  \n",
       "<a class=\"standard\" href=\"https://www.hikr.org/region1193.html\">Sonstige Höhenzüge und Talgebiete</a>\n",
       "\n",
       "</td>"
      ],
      "text/plain": [
       "<IPython.core.display.HTML object>"
      ]
     },
     "metadata": {},
     "output_type": "display_data"
    },
    {
     "name": "stdout",
     "output_type": "stream",
     "text": [
      "{'region_0_content': 'Welt', 'region_1_content': 'Deutschland', 'region_2_content': 'Südwestliche Mittelgebirge', 'region_3_content': 'Sonstige Höhenzüge und Talgebiete'}\n"
     ]
    },
    {
     "data": {
      "text/html": [
       "<td class=\"fiche_rando\">\n",
       " \n",
       "<a class=\"standard\" href=\"https://www.hikr.org/region1.html\">Welt</a>\n",
       "\n",
       " » <img src=\"https://s.hikr.org/r4flag/at.gif\" style=\"border:0;vertical-align:middle\"> \n",
       "<a class=\"standard\" href=\"https://www.hikr.org/region33.html\">Österreich</a>\n",
       "\n",
       " »  \n",
       "<a class=\"standard\" href=\"https://www.hikr.org/region1082.html\">Nördliche Ostalpen</a>\n",
       "\n",
       " »  \n",
       "<a class=\"standard\" href=\"https://www.hikr.org/region1136.html\">Karwendel</a>\n",
       "\n",
       "</td>"
      ],
      "text/plain": [
       "<IPython.core.display.HTML object>"
      ]
     },
     "metadata": {},
     "output_type": "display_data"
    },
    {
     "name": "stdout",
     "output_type": "stream",
     "text": [
      "{'region_0_content': 'Welt', 'region_1_content': 'Österreich', 'region_2_content': 'Nördliche Ostalpen', 'region_3_content': 'Karwendel'}\n"
     ]
    },
    {
     "data": {
      "text/html": [
       "<td class=\"fiche_rando\">\n",
       " \n",
       "<a class=\"standard\" href=\"https://www.hikr.org/region1.html\">Welt</a>\n",
       "\n",
       " » <img src=\"https://s.hikr.org/r4flag/ch.gif\" style=\"border:0;vertical-align:middle\"> \n",
       "<a class=\"standard\" href=\"https://www.hikr.org/region2.html\">Schweiz</a>\n",
       "\n",
       " » <img src=\"https://s.hikr.org/r4flag/ch.ap.gif\" style=\"border:0;vertical-align:middle\"> \n",
       "<a class=\"standard\" href=\"https://www.hikr.org/region171.html\">Appenzell</a>\n",
       "\n",
       "</td>"
      ],
      "text/plain": [
       "<IPython.core.display.HTML object>"
      ]
     },
     "metadata": {},
     "output_type": "display_data"
    },
    {
     "name": "stdout",
     "output_type": "stream",
     "text": [
      "{'region_0_content': 'Welt', 'region_1_content': 'Schweiz', 'region_2_content': 'Appenzell'}\n"
     ]
    },
    {
     "data": {
      "text/html": [
       "<td class=\"fiche_rando\">\n",
       " \n",
       "<a class=\"standard\" href=\"https://www.hikr.org/region1.html\">Welt</a>\n",
       "\n",
       " » <img src=\"https://s.hikr.org/r4flag/at.gif\" style=\"border:0;vertical-align:middle\"> \n",
       "<a class=\"standard\" href=\"https://www.hikr.org/region33.html\">Österreich</a>\n",
       "\n",
       " »  \n",
       "<a class=\"standard\" href=\"https://www.hikr.org/region1082.html\">Nördliche Ostalpen</a>\n",
       "\n",
       " »  \n",
       "<a class=\"standard\" href=\"https://www.hikr.org/region1138.html\">Berchtesgadener Alpen</a>\n",
       "\n",
       "</td>"
      ],
      "text/plain": [
       "<IPython.core.display.HTML object>"
      ]
     },
     "metadata": {},
     "output_type": "display_data"
    },
    {
     "name": "stdout",
     "output_type": "stream",
     "text": [
      "{'region_0_content': 'Welt', 'region_1_content': 'Österreich', 'region_2_content': 'Nördliche Ostalpen', 'region_3_content': 'Berchtesgadener Alpen'}\n"
     ]
    },
    {
     "data": {
      "text/html": [
       "<td class=\"fiche_rando\">\n",
       " \n",
       "<a class=\"standard\" href=\"https://www.hikr.org/region1.html\">Welt</a>\n",
       "\n",
       " » <img src=\"https://s.hikr.org/r4flag/ch.gif\" style=\"border:0;vertical-align:middle\"> \n",
       "<a class=\"standard\" href=\"https://www.hikr.org/region2.html\">Schweiz</a>\n",
       "\n",
       " » <img src=\"https://s.hikr.org/r4flag/ch.ap.gif\" style=\"border:0;vertical-align:middle\"> \n",
       "<a class=\"standard\" href=\"https://www.hikr.org/region171.html\">Appenzell</a>\n",
       "\n",
       "</td>"
      ],
      "text/plain": [
       "<IPython.core.display.HTML object>"
      ]
     },
     "metadata": {},
     "output_type": "display_data"
    },
    {
     "name": "stdout",
     "output_type": "stream",
     "text": [
      "{'region_0_content': 'Welt', 'region_1_content': 'Schweiz', 'region_2_content': 'Appenzell'}\n"
     ]
    },
    {
     "data": {
      "text/html": [
       "<td class=\"fiche_rando\">\n",
       " \n",
       "<a class=\"standard\" href=\"https://www.hikr.org/region1.html\">Welt</a>\n",
       "\n",
       " » <img src=\"https://s.hikr.org/r4flag/ch.gif\" style=\"border:0;vertical-align:middle\"> \n",
       "<a class=\"standard\" href=\"https://www.hikr.org/region2.html\">Schweiz</a>\n",
       "\n",
       " » <img src=\"https://s.hikr.org/r4flag/ch.uw.gif\" style=\"border:0;vertical-align:middle\"> \n",
       "<a class=\"standard\" href=\"https://www.hikr.org/region127.html\">Obwalden</a>\n",
       "\n",
       "</td>"
      ],
      "text/plain": [
       "<IPython.core.display.HTML object>"
      ]
     },
     "metadata": {},
     "output_type": "display_data"
    },
    {
     "name": "stdout",
     "output_type": "stream",
     "text": [
      "{'region_0_content': 'Welt', 'region_1_content': 'Schweiz', 'region_2_content': 'Obwalden'}\n"
     ]
    },
    {
     "data": {
      "text/html": [
       "<td class=\"fiche_rando\">\n",
       " \n",
       "<a class=\"standard\" href=\"https://www.hikr.org/region1.html\">Welt</a>\n",
       "\n",
       " » <img src=\"https://s.hikr.org/r4flag/fr.gif\" style=\"border:0;vertical-align:middle\"> \n",
       "<a class=\"standard\" href=\"https://www.hikr.org/region14.html\">Frankreich</a>\n",
       "\n",
       " »  \n",
       "<a class=\"standard\" href=\"https://www.hikr.org/region25.html\">Haute-Savoie</a>\n",
       "\n",
       "</td>"
      ],
      "text/plain": [
       "<IPython.core.display.HTML object>"
      ]
     },
     "metadata": {},
     "output_type": "display_data"
    },
    {
     "name": "stdout",
     "output_type": "stream",
     "text": [
      "{'region_0_content': 'Welt', 'region_1_content': 'Frankreich', 'region_2_content': 'Haute-Savoie'}\n"
     ]
    },
    {
     "data": {
      "text/html": [
       "<td class=\"fiche_rando\">\n",
       " \n",
       "<a class=\"standard\" href=\"https://www.hikr.org/region1.html\">Welt</a>\n",
       "\n",
       " » <img src=\"https://s.hikr.org/r4flag/ch.gif\" style=\"border:0;vertical-align:middle\"> \n",
       "<a class=\"standard\" href=\"https://www.hikr.org/region2.html\">Schweiz</a>\n",
       "\n",
       " » <img src=\"https://s.hikr.org/r4flag/ch.gr.gif\" style=\"border:0;vertical-align:middle\"> \n",
       "<a class=\"standard\" href=\"https://www.hikr.org/region4.html\">Graubünden</a>\n",
       "\n",
       " »  \n",
       "<a class=\"standard\" href=\"https://www.hikr.org/region313.html\">Prättigau</a>\n",
       "\n",
       "</td>"
      ],
      "text/plain": [
       "<IPython.core.display.HTML object>"
      ]
     },
     "metadata": {},
     "output_type": "display_data"
    },
    {
     "name": "stdout",
     "output_type": "stream",
     "text": [
      "{'region_0_content': 'Welt', 'region_1_content': 'Schweiz', 'region_2_content': 'Graubünden', 'region_3_content': 'Prättigau'}\n"
     ]
    },
    {
     "data": {
      "text/html": [
       "<td class=\"fiche_rando\">\n",
       " \n",
       "<a class=\"standard\" href=\"https://www.hikr.org/region1.html\">Welt</a>\n",
       "\n",
       " » <img src=\"https://s.hikr.org/r4flag/ch.gif\" style=\"border:0;vertical-align:middle\"> \n",
       "<a class=\"standard\" href=\"https://www.hikr.org/region2.html\">Schweiz</a>\n",
       "\n",
       " » <img src=\"https://s.hikr.org/r4flag/ch.be.gif\" style=\"border:0;vertical-align:middle\"> \n",
       "<a class=\"standard\" href=\"https://www.hikr.org/region13.html\">Bern</a>\n",
       "\n",
       " »  \n",
       "<a class=\"standard\" href=\"https://www.hikr.org/region256.html\">Berner Voralpen</a>\n",
       "\n",
       "</td>"
      ],
      "text/plain": [
       "<IPython.core.display.HTML object>"
      ]
     },
     "metadata": {},
     "output_type": "display_data"
    },
    {
     "name": "stdout",
     "output_type": "stream",
     "text": [
      "{'region_0_content': 'Welt', 'region_1_content': 'Schweiz', 'region_2_content': 'Bern', 'region_3_content': 'Berner Voralpen'}\n"
     ]
    },
    {
     "data": {
      "text/html": [
       "<td class=\"fiche_rando\">\n",
       " \n",
       "<a class=\"standard\" href=\"https://www.hikr.org/region1.html\">Welt</a>\n",
       "\n",
       " » <img src=\"https://s.hikr.org/r4flag/ch.gif\" style=\"border:0;vertical-align:middle\"> \n",
       "<a class=\"standard\" href=\"https://www.hikr.org/region2.html\">Schweiz</a>\n",
       "\n",
       " » <img src=\"https://s.hikr.org/r4flag/ch.ti.gif\" style=\"border:0;vertical-align:middle\"> \n",
       "<a class=\"standard\" href=\"https://www.hikr.org/region41.html\">Tessin</a>\n",
       "\n",
       " »  \n",
       "<a class=\"standard\" href=\"https://www.hikr.org/region492.html\">Locarnese</a>\n",
       "\n",
       "</td>"
      ],
      "text/plain": [
       "<IPython.core.display.HTML object>"
      ]
     },
     "metadata": {},
     "output_type": "display_data"
    },
    {
     "name": "stdout",
     "output_type": "stream",
     "text": [
      "{'region_0_content': 'Welt', 'region_1_content': 'Schweiz', 'region_2_content': 'Tessin', 'region_3_content': 'Locarnese'}\n"
     ]
    },
    {
     "data": {
      "text/html": [
       "<td class=\"fiche_rando\">\n",
       " \n",
       "<a class=\"standard\" href=\"https://www.hikr.org/region1.html\">Welt</a>\n",
       "\n",
       " » <img src=\"https://s.hikr.org/r4flag/ch.gif\" style=\"border:0;vertical-align:middle\"> \n",
       "<a class=\"standard\" href=\"https://www.hikr.org/region2.html\">Schweiz</a>\n",
       "\n",
       " » <img src=\"https://s.hikr.org/r4flag/ch.tg.gif\" style=\"border:0;vertical-align:middle\"> \n",
       "<a class=\"standard\" href=\"https://www.hikr.org/region496.html\">Thurgau</a>\n",
       "\n",
       "</td>"
      ],
      "text/plain": [
       "<IPython.core.display.HTML object>"
      ]
     },
     "metadata": {},
     "output_type": "display_data"
    },
    {
     "name": "stdout",
     "output_type": "stream",
     "text": [
      "{'region_0_content': 'Welt', 'region_1_content': 'Schweiz', 'region_2_content': 'Thurgau'}\n"
     ]
    },
    {
     "data": {
      "text/html": [
       "<td class=\"fiche_rando\">\n",
       " \n",
       "<a class=\"standard\" href=\"https://www.hikr.org/region1.html\">Welt</a>\n",
       "\n",
       " » <img src=\"https://s.hikr.org/r4flag/li.gif\" style=\"border:0;vertical-align:middle\"> \n",
       "<a class=\"standard\" href=\"https://www.hikr.org/region147.html\">Liechtenstein</a>\n",
       "\n",
       "</td>"
      ],
      "text/plain": [
       "<IPython.core.display.HTML object>"
      ]
     },
     "metadata": {},
     "output_type": "display_data"
    },
    {
     "name": "stdout",
     "output_type": "stream",
     "text": [
      "{'region_0_content': 'Welt', 'region_1_content': 'Liechtenstein'}\n"
     ]
    },
    {
     "data": {
      "text/html": [
       "<td class=\"fiche_rando\">\n",
       " \n",
       "<a class=\"standard\" href=\"https://www.hikr.org/region1.html\">Welt</a>\n",
       "\n",
       " » <img src=\"https://s.hikr.org/r4flag/ch.gif\" style=\"border:0;vertical-align:middle\"> \n",
       "<a class=\"standard\" href=\"https://www.hikr.org/region2.html\">Schweiz</a>\n",
       "\n",
       " » <img src=\"https://s.hikr.org/r4flag/ch.vs.gif\" style=\"border:0;vertical-align:middle\"> \n",
       "<a class=\"standard\" href=\"https://www.hikr.org/region3.html\">Wallis</a>\n",
       "\n",
       " »  \n",
       "<a class=\"standard\" href=\"https://www.hikr.org/region562.html\">Mittelwallis</a>\n",
       "\n",
       "</td>"
      ],
      "text/plain": [
       "<IPython.core.display.HTML object>"
      ]
     },
     "metadata": {},
     "output_type": "display_data"
    },
    {
     "name": "stdout",
     "output_type": "stream",
     "text": [
      "{'region_0_content': 'Welt', 'region_1_content': 'Schweiz', 'region_2_content': 'Wallis', 'region_3_content': 'Mittelwallis'}\n"
     ]
    },
    {
     "data": {
      "text/html": [
       "<td class=\"fiche_rando\">\n",
       " \n",
       "<a class=\"standard\" href=\"https://www.hikr.org/region1.html\">Welt</a>\n",
       "\n",
       " » <img src=\"https://s.hikr.org/r4flag/ch.gif\" style=\"border:0;vertical-align:middle\"> \n",
       "<a class=\"standard\" href=\"https://www.hikr.org/region2.html\">Schweiz</a>\n",
       "\n",
       " » <img src=\"https://s.hikr.org/r4flag/ch.vd.gif\" style=\"border:0;vertical-align:middle\"> \n",
       "<a class=\"standard\" href=\"https://www.hikr.org/region8.html\">Waadt</a>\n",
       "\n",
       " »  \n",
       "<a class=\"standard\" href=\"https://www.hikr.org/region544.html\">Waadtländer Jura</a>\n",
       "\n",
       "</td>"
      ],
      "text/plain": [
       "<IPython.core.display.HTML object>"
      ]
     },
     "metadata": {},
     "output_type": "display_data"
    },
    {
     "name": "stdout",
     "output_type": "stream",
     "text": [
      "{'region_0_content': 'Welt', 'region_1_content': 'Schweiz', 'region_2_content': 'Waadt', 'region_3_content': 'Waadtländer Jura'}\n"
     ]
    },
    {
     "data": {
      "text/html": [
       "<td class=\"fiche_rando\">\n",
       " \n",
       "<a class=\"standard\" href=\"https://www.hikr.org/region1.html\">Welt</a>\n",
       "\n",
       " » <img src=\"https://s.hikr.org/r4flag/it.gif\" style=\"border:0;vertical-align:middle\"> \n",
       "<a class=\"standard\" href=\"https://www.hikr.org/region16.html\">Italien</a>\n",
       "\n",
       " »  \n",
       "<a class=\"standard\" href=\"https://www.hikr.org/region508.html\">Kampanien</a>\n",
       "\n",
       "</td>"
      ],
      "text/plain": [
       "<IPython.core.display.HTML object>"
      ]
     },
     "metadata": {},
     "output_type": "display_data"
    },
    {
     "name": "stdout",
     "output_type": "stream",
     "text": [
      "{'region_0_content': 'Welt', 'region_1_content': 'Italien', 'region_2_content': 'Kampanien'}\n"
     ]
    },
    {
     "data": {
      "text/html": [
       "<td class=\"fiche_rando\">\n",
       " \n",
       "<a class=\"standard\" href=\"https://www.hikr.org/region1.html\">Welt</a>\n",
       "\n",
       " » <img src=\"https://s.hikr.org/r4flag/li.gif\" style=\"border:0;vertical-align:middle\"> \n",
       "<a class=\"standard\" href=\"https://www.hikr.org/region147.html\">Liechtenstein</a>\n",
       "\n",
       "</td>"
      ],
      "text/plain": [
       "<IPython.core.display.HTML object>"
      ]
     },
     "metadata": {},
     "output_type": "display_data"
    },
    {
     "name": "stdout",
     "output_type": "stream",
     "text": [
      "{'region_0_content': 'Welt', 'region_1_content': 'Liechtenstein'}\n"
     ]
    },
    {
     "data": {
      "text/html": [
       "<td class=\"fiche_rando\">\n",
       " \n",
       "<a class=\"standard\" href=\"https://www.hikr.org/region1.html\">Welt</a>\n",
       "\n",
       " » <img src=\"https://s.hikr.org/r4flag/gb.gif\" style=\"border:0;vertical-align:middle\"> \n",
       "<a class=\"standard\" href=\"https://www.hikr.org/region516.html\">United Kindom</a>\n",
       "\n",
       " » <img src=\"https://s.hikr.org/r4flag/scotland.gif\" style=\"border:0;vertical-align:middle\"> \n",
       "<a class=\"standard\" href=\"https://www.hikr.org/region518.html\">Schottland</a>\n",
       "\n",
       "</td>"
      ],
      "text/plain": [
       "<IPython.core.display.HTML object>"
      ]
     },
     "metadata": {},
     "output_type": "display_data"
    },
    {
     "name": "stdout",
     "output_type": "stream",
     "text": [
      "{'region_0_content': 'Welt', 'region_1_content': 'United Kindom', 'region_2_content': 'Schottland'}\n"
     ]
    },
    {
     "data": {
      "text/html": [
       "<td class=\"fiche_rando\">\n",
       " \n",
       "<a class=\"standard\" href=\"https://www.hikr.org/region1.html\">Welt</a>\n",
       "\n",
       " » <img src=\"https://s.hikr.org/r4flag/at.gif\" style=\"border:0;vertical-align:middle\"> \n",
       "<a class=\"standard\" href=\"https://www.hikr.org/region33.html\">Österreich</a>\n",
       "\n",
       " »  \n",
       "<a class=\"standard\" href=\"https://www.hikr.org/region1082.html\">Nördliche Ostalpen</a>\n",
       "\n",
       " »  \n",
       "<a class=\"standard\" href=\"https://www.hikr.org/region1136.html\">Karwendel</a>\n",
       "\n",
       "</td>"
      ],
      "text/plain": [
       "<IPython.core.display.HTML object>"
      ]
     },
     "metadata": {},
     "output_type": "display_data"
    },
    {
     "name": "stdout",
     "output_type": "stream",
     "text": [
      "{'region_0_content': 'Welt', 'region_1_content': 'Österreich', 'region_2_content': 'Nördliche Ostalpen', 'region_3_content': 'Karwendel'}\n"
     ]
    },
    {
     "data": {
      "text/html": [
       "<td class=\"fiche_rando\">\n",
       " \n",
       "<a class=\"standard\" href=\"https://www.hikr.org/region1.html\">Welt</a>\n",
       "\n",
       " » <img src=\"https://s.hikr.org/r4flag/ch.gif\" style=\"border:0;vertical-align:middle\"> \n",
       "<a class=\"standard\" href=\"https://www.hikr.org/region2.html\">Schweiz</a>\n",
       "\n",
       " » <img src=\"https://s.hikr.org/r4flag/ch.be.gif\" style=\"border:0;vertical-align:middle\"> \n",
       "<a class=\"standard\" href=\"https://www.hikr.org/region13.html\">Bern</a>\n",
       "\n",
       " »  \n",
       "<a class=\"standard\" href=\"https://www.hikr.org/region534.html\">Simmental</a>\n",
       "\n",
       "</td>"
      ],
      "text/plain": [
       "<IPython.core.display.HTML object>"
      ]
     },
     "metadata": {},
     "output_type": "display_data"
    },
    {
     "name": "stdout",
     "output_type": "stream",
     "text": [
      "{'region_0_content': 'Welt', 'region_1_content': 'Schweiz', 'region_2_content': 'Bern', 'region_3_content': 'Simmental'}\n"
     ]
    },
    {
     "data": {
      "text/html": [
       "<td class=\"fiche_rando\">\n",
       " \n",
       "<a class=\"standard\" href=\"https://www.hikr.org/region1.html\">Welt</a>\n",
       "\n",
       " » <img src=\"https://s.hikr.org/r4flag/it.gif\" style=\"border:0;vertical-align:middle\"> \n",
       "<a class=\"standard\" href=\"https://www.hikr.org/region16.html\">Italien</a>\n",
       "\n",
       " »  \n",
       "<a class=\"standard\" href=\"https://www.hikr.org/region17.html\">Sizilien</a>\n",
       "\n",
       "</td>"
      ],
      "text/plain": [
       "<IPython.core.display.HTML object>"
      ]
     },
     "metadata": {},
     "output_type": "display_data"
    },
    {
     "name": "stdout",
     "output_type": "stream",
     "text": [
      "{'region_0_content': 'Welt', 'region_1_content': 'Italien', 'region_2_content': 'Sizilien'}\n"
     ]
    },
    {
     "data": {
      "text/html": [
       "<td class=\"fiche_rando\">\n",
       " \n",
       "<a class=\"standard\" href=\"https://www.hikr.org/region1.html\">Welt</a>\n",
       "\n",
       " » <img src=\"https://s.hikr.org/r4flag/ch.gif\" style=\"border:0;vertical-align:middle\"> \n",
       "<a class=\"standard\" href=\"https://www.hikr.org/region2.html\">Schweiz</a>\n",
       "\n",
       " » <img src=\"https://s.hikr.org/r4flag/ch.ne.gif\" style=\"border:0;vertical-align:middle\"> \n",
       "<a class=\"standard\" href=\"https://www.hikr.org/region12.html\">Neuenburg</a>\n",
       "\n",
       "</td>"
      ],
      "text/plain": [
       "<IPython.core.display.HTML object>"
      ]
     },
     "metadata": {},
     "output_type": "display_data"
    },
    {
     "name": "stdout",
     "output_type": "stream",
     "text": [
      "{'region_0_content': 'Welt', 'region_1_content': 'Schweiz', 'region_2_content': 'Neuenburg'}\n"
     ]
    },
    {
     "data": {
      "text/html": [
       "<td class=\"fiche_rando\">\n",
       " \n",
       "<a class=\"standard\" href=\"https://www.hikr.org/region1.html\">Welt</a>\n",
       "\n",
       " » <img src=\"https://s.hikr.org/r4flag/at.gif\" style=\"border:0;vertical-align:middle\"> \n",
       "<a class=\"standard\" href=\"https://www.hikr.org/region33.html\">Österreich</a>\n",
       "\n",
       " »  \n",
       "<a class=\"standard\" href=\"https://www.hikr.org/region1082.html\">Nördliche Ostalpen</a>\n",
       "\n",
       " »  \n",
       "<a class=\"standard\" href=\"https://www.hikr.org/region1086.html\">Kaiser-Gebirge</a>\n",
       "\n",
       "</td>"
      ],
      "text/plain": [
       "<IPython.core.display.HTML object>"
      ]
     },
     "metadata": {},
     "output_type": "display_data"
    },
    {
     "name": "stdout",
     "output_type": "stream",
     "text": [
      "{'region_0_content': 'Welt', 'region_1_content': 'Österreich', 'region_2_content': 'Nördliche Ostalpen', 'region_3_content': 'Kaiser-Gebirge'}\n"
     ]
    },
    {
     "data": {
      "text/html": [
       "<td class=\"fiche_rando\">\n",
       " \n",
       "<a class=\"standard\" href=\"https://www.hikr.org/region1.html\">Welt</a>\n",
       "\n",
       " » <img src=\"https://s.hikr.org/r4flag/ch.gif\" style=\"border:0;vertical-align:middle\"> \n",
       "<a class=\"standard\" href=\"https://www.hikr.org/region2.html\">Schweiz</a>\n",
       "\n",
       " » <img src=\"https://s.hikr.org/r4flag/ch.vs.gif\" style=\"border:0;vertical-align:middle\"> \n",
       "<a class=\"standard\" href=\"https://www.hikr.org/region3.html\">Wallis</a>\n",
       "\n",
       " »  \n",
       "<a class=\"standard\" href=\"https://www.hikr.org/region180.html\">Oberwallis</a>\n",
       "\n",
       "</td>"
      ],
      "text/plain": [
       "<IPython.core.display.HTML object>"
      ]
     },
     "metadata": {},
     "output_type": "display_data"
    },
    {
     "name": "stdout",
     "output_type": "stream",
     "text": [
      "{'region_0_content': 'Welt', 'region_1_content': 'Schweiz', 'region_2_content': 'Wallis', 'region_3_content': 'Oberwallis'}\n"
     ]
    },
    {
     "data": {
      "text/html": [
       "<td class=\"fiche_rando\">\n",
       " \n",
       "<a class=\"standard\" href=\"https://www.hikr.org/region1.html\">Welt</a>\n",
       "\n",
       " » <img src=\"https://s.hikr.org/r4flag/ch.gif\" style=\"border:0;vertical-align:middle\"> \n",
       "<a class=\"standard\" href=\"https://www.hikr.org/region2.html\">Schweiz</a>\n",
       "\n",
       " » <img src=\"https://s.hikr.org/r4flag/ch.ti.gif\" style=\"border:0;vertical-align:middle\"> \n",
       "<a class=\"standard\" href=\"https://www.hikr.org/region41.html\">Tessin</a>\n",
       "\n",
       " »  \n",
       "<a class=\"standard\" href=\"https://www.hikr.org/region492.html\">Locarnese</a>\n",
       "\n",
       "</td>"
      ],
      "text/plain": [
       "<IPython.core.display.HTML object>"
      ]
     },
     "metadata": {},
     "output_type": "display_data"
    },
    {
     "name": "stdout",
     "output_type": "stream",
     "text": [
      "{'region_0_content': 'Welt', 'region_1_content': 'Schweiz', 'region_2_content': 'Tessin', 'region_3_content': 'Locarnese'}\n"
     ]
    },
    {
     "data": {
      "text/html": [
       "<td class=\"fiche_rando\">\n",
       " \n",
       "<a class=\"standard\" href=\"https://www.hikr.org/region1.html\">Welt</a>\n",
       "\n",
       " » <img src=\"https://s.hikr.org/r4flag/it.gif\" style=\"border:0;vertical-align:middle\"> \n",
       "<a class=\"standard\" href=\"https://www.hikr.org/region16.html\">Italien</a>\n",
       "\n",
       " »  \n",
       "<a class=\"standard\" href=\"https://www.hikr.org/region502.html\">Piemont</a>\n",
       "\n",
       "</td>"
      ],
      "text/plain": [
       "<IPython.core.display.HTML object>"
      ]
     },
     "metadata": {},
     "output_type": "display_data"
    },
    {
     "name": "stdout",
     "output_type": "stream",
     "text": [
      "{'region_0_content': 'Welt', 'region_1_content': 'Italien', 'region_2_content': 'Piemont'}\n"
     ]
    },
    {
     "data": {
      "text/html": [
       "<td class=\"fiche_rando\">\n",
       " \n",
       "<a class=\"standard\" href=\"https://www.hikr.org/region1.html\">Welt</a>\n",
       "\n",
       " » <img src=\"https://s.hikr.org/r4flag/at.gif\" style=\"border:0;vertical-align:middle\"> \n",
       "<a class=\"standard\" href=\"https://www.hikr.org/region33.html\">Österreich</a>\n",
       "\n",
       " »  \n",
       "<a class=\"standard\" href=\"https://www.hikr.org/region1082.html\">Nördliche Ostalpen</a>\n",
       "\n",
       " »  \n",
       "<a class=\"standard\" href=\"https://www.hikr.org/region1135.html\">Wetterstein-Gebirge und  Mieminger Kette</a>\n",
       "\n",
       "</td>"
      ],
      "text/plain": [
       "<IPython.core.display.HTML object>"
      ]
     },
     "metadata": {},
     "output_type": "display_data"
    },
    {
     "name": "stdout",
     "output_type": "stream",
     "text": [
      "{'region_0_content': 'Welt', 'region_1_content': 'Österreich', 'region_2_content': 'Nördliche Ostalpen', 'region_3_content': 'Wetterstein-Gebirge und  Mieminger Kette'}\n"
     ]
    },
    {
     "data": {
      "text/html": [
       "<td class=\"fiche_rando\">\n",
       " \n",
       "<a class=\"standard\" href=\"https://www.hikr.org/region1.html\">Welt</a>\n",
       "\n",
       " » <img src=\"https://s.hikr.org/r4flag/ch.gif\" style=\"border:0;vertical-align:middle\"> \n",
       "<a class=\"standard\" href=\"https://www.hikr.org/region2.html\">Schweiz</a>\n",
       "\n",
       " » <img src=\"https://s.hikr.org/r4flag/ch.uw.gif\" style=\"border:0;vertical-align:middle\"> \n",
       "<a class=\"standard\" href=\"https://www.hikr.org/region127.html\">Obwalden</a>\n",
       "\n",
       "</td>"
      ],
      "text/plain": [
       "<IPython.core.display.HTML object>"
      ]
     },
     "metadata": {},
     "output_type": "display_data"
    },
    {
     "name": "stdout",
     "output_type": "stream",
     "text": [
      "{'region_0_content': 'Welt', 'region_1_content': 'Schweiz', 'region_2_content': 'Obwalden'}\n"
     ]
    },
    {
     "data": {
      "text/html": [
       "<td class=\"fiche_rando\">\n",
       " \n",
       "<a class=\"standard\" href=\"https://www.hikr.org/region1.html\">Welt</a>\n",
       "\n",
       " » <img src=\"https://s.hikr.org/r4flag/it.gif\" style=\"border:0;vertical-align:middle\"> \n",
       "<a class=\"standard\" href=\"https://www.hikr.org/region16.html\">Italien</a>\n",
       "\n",
       " »  \n",
       "<a class=\"standard\" href=\"https://www.hikr.org/region500.html\">Lombardei</a>\n",
       "\n",
       "</td>"
      ],
      "text/plain": [
       "<IPython.core.display.HTML object>"
      ]
     },
     "metadata": {},
     "output_type": "display_data"
    },
    {
     "name": "stdout",
     "output_type": "stream",
     "text": [
      "{'region_0_content': 'Welt', 'region_1_content': 'Italien', 'region_2_content': 'Lombardei'}\n"
     ]
    },
    {
     "data": {
      "text/html": [
       "<td class=\"fiche_rando\">\n",
       " \n",
       "<a class=\"standard\" href=\"https://www.hikr.org/region1.html\">Welt</a>\n",
       "\n",
       " » <img src=\"https://s.hikr.org/r4flag/de.gif\" style=\"border:0;vertical-align:middle\"> \n",
       "<a class=\"standard\" href=\"https://www.hikr.org/region69.html\">Deutschland</a>\n",
       "\n",
       " »  \n",
       "<a class=\"standard\" href=\"https://www.hikr.org/region1180.html\">Südwestliche Mittelgebirge</a>\n",
       "\n",
       " »  \n",
       "<a class=\"standard\" href=\"https://www.hikr.org/region1193.html\">Sonstige Höhenzüge und Talgebiete</a>\n",
       "\n",
       "</td>"
      ],
      "text/plain": [
       "<IPython.core.display.HTML object>"
      ]
     },
     "metadata": {},
     "output_type": "display_data"
    },
    {
     "name": "stdout",
     "output_type": "stream",
     "text": [
      "{'region_0_content': 'Welt', 'region_1_content': 'Deutschland', 'region_2_content': 'Südwestliche Mittelgebirge', 'region_3_content': 'Sonstige Höhenzüge und Talgebiete'}\n"
     ]
    },
    {
     "data": {
      "text/html": [
       "<td class=\"fiche_rando\">\n",
       " \n",
       "<a class=\"standard\" href=\"https://www.hikr.org/region1.html\">Welt</a>\n",
       "\n",
       " » <img src=\"https://s.hikr.org/r4flag/ch.gif\" style=\"border:0;vertical-align:middle\"> \n",
       "<a class=\"standard\" href=\"https://www.hikr.org/region2.html\">Schweiz</a>\n",
       "\n",
       " » <img src=\"https://s.hikr.org/r4flag/ch.be.gif\" style=\"border:0;vertical-align:middle\"> \n",
       "<a class=\"standard\" href=\"https://www.hikr.org/region13.html\">Bern</a>\n",
       "\n",
       " »  \n",
       "<a class=\"standard\" href=\"https://www.hikr.org/region527.html\">Berner Jura</a>\n",
       "\n",
       "</td>"
      ],
      "text/plain": [
       "<IPython.core.display.HTML object>"
      ]
     },
     "metadata": {},
     "output_type": "display_data"
    },
    {
     "name": "stdout",
     "output_type": "stream",
     "text": [
      "{'region_0_content': 'Welt', 'region_1_content': 'Schweiz', 'region_2_content': 'Bern', 'region_3_content': 'Berner Jura'}\n"
     ]
    },
    {
     "data": {
      "text/html": [
       "<td class=\"fiche_rando\">\n",
       " \n",
       "<a class=\"standard\" href=\"https://www.hikr.org/region1.html\">Welt</a>\n",
       "\n",
       " » <img src=\"https://s.hikr.org/r4flag/ch.gif\" style=\"border:0;vertical-align:middle\"> \n",
       "<a class=\"standard\" href=\"https://www.hikr.org/region2.html\">Schweiz</a>\n",
       "\n",
       " » <img src=\"https://s.hikr.org/r4flag/ch.ur.gif\" style=\"border:0;vertical-align:middle\"> \n",
       "<a class=\"standard\" href=\"https://www.hikr.org/region146.html\">Uri</a>\n",
       "\n",
       "</td>"
      ],
      "text/plain": [
       "<IPython.core.display.HTML object>"
      ]
     },
     "metadata": {},
     "output_type": "display_data"
    },
    {
     "name": "stdout",
     "output_type": "stream",
     "text": [
      "{'region_0_content': 'Welt', 'region_1_content': 'Schweiz', 'region_2_content': 'Uri'}\n"
     ]
    },
    {
     "data": {
      "text/html": [
       "<td class=\"fiche_rando\">\n",
       " \n",
       "<a class=\"standard\" href=\"https://www.hikr.org/region1.html\">Welt</a>\n",
       "\n",
       " » <img src=\"https://s.hikr.org/r4flag/ch.gif\" style=\"border:0;vertical-align:middle\"> \n",
       "<a class=\"standard\" href=\"https://www.hikr.org/region2.html\">Schweiz</a>\n",
       "\n",
       " » <img src=\"https://s.hikr.org/r4flag/ch.vs.gif\" style=\"border:0;vertical-align:middle\"> \n",
       "<a class=\"standard\" href=\"https://www.hikr.org/region3.html\">Wallis</a>\n",
       "\n",
       " »  \n",
       "<a class=\"standard\" href=\"https://www.hikr.org/region562.html\">Mittelwallis</a>\n",
       "\n",
       "</td>"
      ],
      "text/plain": [
       "<IPython.core.display.HTML object>"
      ]
     },
     "metadata": {},
     "output_type": "display_data"
    },
    {
     "name": "stdout",
     "output_type": "stream",
     "text": [
      "{'region_0_content': 'Welt', 'region_1_content': 'Schweiz', 'region_2_content': 'Wallis', 'region_3_content': 'Mittelwallis'}\n"
     ]
    },
    {
     "data": {
      "text/html": [
       "<td class=\"fiche_rando\">\n",
       " \n",
       "<a class=\"standard\" href=\"https://www.hikr.org/region1.html\">Welt</a>\n",
       "\n",
       " » <img src=\"https://s.hikr.org/r4flag/fr.gif\" style=\"border:0;vertical-align:middle\"> \n",
       "<a class=\"standard\" href=\"https://www.hikr.org/region14.html\">Frankreich</a>\n",
       "\n",
       " »  \n",
       "<a class=\"standard\" href=\"https://www.hikr.org/region1307.html\">Alpes-Maritimes</a>\n",
       "\n",
       "</td>"
      ],
      "text/plain": [
       "<IPython.core.display.HTML object>"
      ]
     },
     "metadata": {},
     "output_type": "display_data"
    },
    {
     "name": "stdout",
     "output_type": "stream",
     "text": [
      "{'region_0_content': 'Welt', 'region_1_content': 'Frankreich', 'region_2_content': 'Alpes-Maritimes'}\n"
     ]
    },
    {
     "data": {
      "text/html": [
       "<td class=\"fiche_rando\">\n",
       " \n",
       "<a class=\"standard\" href=\"https://www.hikr.org/region1.html\">Welt</a>\n",
       "\n",
       " » <img src=\"https://s.hikr.org/r4flag/at.gif\" style=\"border:0;vertical-align:middle\"> \n",
       "<a class=\"standard\" href=\"https://www.hikr.org/region33.html\">Österreich</a>\n",
       "\n",
       " »  \n",
       "<a class=\"standard\" href=\"https://www.hikr.org/region1082.html\">Nördliche Ostalpen</a>\n",
       "\n",
       " »  \n",
       "<a class=\"standard\" href=\"https://www.hikr.org/region1137.html\">Rofangebirge und Brandenberger Alpen</a>\n",
       "\n",
       "</td>"
      ],
      "text/plain": [
       "<IPython.core.display.HTML object>"
      ]
     },
     "metadata": {},
     "output_type": "display_data"
    },
    {
     "name": "stdout",
     "output_type": "stream",
     "text": [
      "{'region_0_content': 'Welt', 'region_1_content': 'Österreich', 'region_2_content': 'Nördliche Ostalpen', 'region_3_content': 'Rofangebirge und Brandenberger Alpen'}\n"
     ]
    }
   ],
   "source": [
    "regions = []\n",
    "for i in range(0, posts_raw_df.shape[0]):\n",
    "    display(HTML(posts_raw_df['Region:_raw'].iloc[i]))\n",
    "    region = parse_region(posts_raw_df['Region:_raw'].iloc[i])\n",
    "    print(region)\n",
    "    regions.append(region)\n"
   ]
  },
  {
   "cell_type": "code",
   "execution_count": 10,
   "metadata": {},
   "outputs": [
    {
     "name": "stdout",
     "output_type": "stream",
     "text": [
      "Index(['region_0_content', 'region_1_content', 'region_2_content',\n",
      "       'region_3_content'],\n",
      "      dtype='object')\n",
      "region_0_content: 200\n",
      "region_1_content: 200\n",
      "region_2_content: 191\n",
      "region_3_content: 93\n",
      "region_0_content: ['Welt']\n",
      "region_1_content: ['Schweiz' 'Spanien' 'Deutschland' 'Italien' 'Liechtenstein' 'Frankreich'\n",
      " 'Österreich' 'Marokko' 'Niederlande' 'Kroatien' 'Panama' 'Ecuador'\n",
      " 'United Kindom']\n",
      "region_2_content: ['Graubünden' 'Appenzell' 'Zürich' 'Tessin' 'Kanarische Inseln'\n",
      " 'St.Gallen' 'Westliche Mittelgebirge' 'Sizilien' 'Glarus' 'Waadt' nan\n",
      " 'Alpes-Maritimes' 'Nördliche Ostalpen' 'Trentino-Südtirol' 'Wallis' 'Uri'\n",
      " 'Schwyz' 'Obwalden' 'Bern' 'Zentrale Ostalpen' 'Aargau' 'Vogesen'\n",
      " 'Freiburg' 'Alpenvorland' 'Alpen' 'Lombardei' 'Piemont' \"Cote d'Azur\"\n",
      " 'Schaffhausen' 'Nidwalden' 'Venetien' 'Südwestliche Mittelgebirge'\n",
      " 'Solothurn' 'Aostatal' 'Luzern' 'Haute-Savoie' 'Thurgau' 'Kampanien'\n",
      " 'Schottland' 'Neuenburg']\n",
      "region_3_content: ['Prättigau' nan 'Bellinzonese' 'Santa Cruz de Tenerife' 'Locarnese'\n",
      " 'Harz' 'Waadtländer Alpen' 'Karwendel' 'Oberwallis' 'Oberhalbstein'\n",
      " 'Bern Mittelland' 'Rätikon' 'Domleschg' 'Berner Jura' 'Ötztaler Alpen'\n",
      " 'Bregaglia' 'Kitzbüheler Alpen' 'Misox' 'Berchtesgadener Alpen'\n",
      " 'Berner Voralpen' 'Randgebirge östlich der Mur' 'Surselva' 'Simmental'\n",
      " 'Jungfraugebiet' 'Frutigland' 'Sonstige Höhenzüge und Talgebiete'\n",
      " 'Oberengadin' 'Hochschwabgruppe' 'Mittelwallis' 'Lechquellengebirge'\n",
      " 'Safiental' 'Waadtländer Jura' 'Verwallgruppe' 'Ammergauer Alpen'\n",
      " 'Oberhasli' 'Kaiser-Gebirge' 'Wetterstein-Gebirge und  Mieminger Kette'\n",
      " 'Rofangebirge und Brandenberger Alpen']\n"
     ]
    }
   ],
   "source": [
    "regions_df = pd.DataFrame(regions)\n",
    "print(regions_df.columns)\n",
    "\n",
    "for column in regions_df.columns:\n",
    "    print(f'{column}: {regions_df[column].count()}')\n",
    "\n",
    "for column in regions_df.columns:\n",
    "    print(f'{column}: {regions_df[column].unique()}')    "
   ]
  },
  {
   "cell_type": "code",
   "execution_count": 11,
   "metadata": {},
   "outputs": [
    {
     "name": "stdout",
     "output_type": "stream",
     "text": [
      "0      13 Juni 2010\n",
      "1      10 Juni 2010\n",
      "2      13 Juni 2010\n",
      "3       3 Juni 2010\n",
      "4      12 Juni 2010\n",
      "           ...     \n",
      "195    12 Juni 2010\n",
      "196    12 Juni 2010\n",
      "197    15 Juni 2010\n",
      "198     3 Juni 2010\n",
      "199    20 Juli 2009\n",
      "Name: Tour Datum:_raw, Length: 200, dtype: object\n"
     ]
    }
   ],
   "source": [
    "print(posts_raw_df['Tour Datum:_raw'])"
   ]
  },
  {
   "cell_type": "code",
   "execution_count": 12,
   "metadata": {},
   "outputs": [
    {
     "name": "stdout",
     "output_type": "stream",
     "text": [
      "2010-06-13\n"
     ]
    }
   ],
   "source": [
    "def parse_tour_date(tour_date_raw: str):\n",
    "    if tour_date_raw is None:\n",
    "        return None\n",
    "    \n",
    "    return datetime.strptime(tour_date_raw, '%d %B %Y').date()\n",
    "\n",
    "print(parse_tour_date(posts_raw_df['Tour Datum:_raw'].iloc[0]))"
   ]
  },
  {
   "cell_type": "code",
   "execution_count": 13,
   "metadata": {},
   "outputs": [
    {
     "name": "stdout",
     "output_type": "stream",
     "text": [
      "Raw: 13 Juni 2010, Parsed: 2010-06-13\n",
      "Raw: 10 Juni 2010, Parsed: 2010-06-10\n",
      "Raw: 13 Juni 2010, Parsed: 2010-06-13\n",
      "Raw: 3 Juni 2010, Parsed: 2010-06-03\n",
      "Raw: 12 Juni 2010, Parsed: 2010-06-12\n",
      "Raw: 31 Mai 2010, Parsed: 2010-05-31\n",
      "Raw: 7 Juli 2009, Parsed: 2009-07-07\n",
      "Raw: 25 März 2003, Parsed: 2003-03-25\n",
      "Raw: 9 Juni 2010, Parsed: 2010-06-09\n",
      "Raw: 10 Juni 2010, Parsed: 2010-06-10\n",
      "Raw: 29 Mai 2010, Parsed: 2010-05-29\n",
      "Raw: 13 Juni 2010, Parsed: 2010-06-13\n",
      "Raw: 15 November 2008, Parsed: 2008-11-15\n",
      "Raw: 10 Juni 2010, Parsed: 2010-06-10\n",
      "Raw: 29 Mai 2010, Parsed: 2010-05-29\n",
      "Raw: 24 April 2010, Parsed: 2010-04-24\n",
      "Raw: 2 Juni 2010, Parsed: 2010-06-02\n",
      "Raw: 6 Juni 2010, Parsed: 2010-06-06\n",
      "Raw: 5 Juni 2010, Parsed: 2010-06-05\n",
      "Raw: 4 Juni 2010, Parsed: 2010-06-04\n",
      "Raw: 22 Juni 2010, Parsed: 2010-06-22\n",
      "Raw: 5 Dezember 2004, Parsed: 2004-12-05\n",
      "Raw: 9 Juni 2010, Parsed: 2010-06-09\n",
      "Raw: 5 Juni 2010, Parsed: 2010-06-05\n",
      "Raw: 5 Juni 2010, Parsed: 2010-06-05\n",
      "Raw: 3 Juni 2012, Parsed: 2012-06-03\n",
      "Raw: 12 Juni 2010, Parsed: 2010-06-12\n",
      "Raw: 30 Mai 2010, Parsed: 2010-05-30\n",
      "Raw: 13 Juni 2010, Parsed: 2010-06-13\n",
      "Raw: 10 Juni 2010, Parsed: 2010-06-10\n",
      "Raw: 27 Mai 2010, Parsed: 2010-05-27\n",
      "Raw: 13 Juni 2010, Parsed: 2010-06-13\n",
      "Raw: 8 Juni 2010, Parsed: 2010-06-08\n",
      "Raw: 13 Juni 2010, Parsed: 2010-06-13\n",
      "Raw: 15 Juni 2010, Parsed: 2010-06-15\n",
      "Raw: 12 Juni 2010, Parsed: 2010-06-12\n",
      "Raw: 4 Juni 2010, Parsed: 2010-06-04\n",
      "Raw: 13 Juni 2010, Parsed: 2010-06-13\n",
      "Raw: 1 Juni 2010, Parsed: 2010-06-01\n",
      "Raw: 12 Februar 2010, Parsed: 2010-02-12\n",
      "Raw: 20 Juli 1996, Parsed: 1996-07-20\n",
      "Raw: 21 April 2010, Parsed: 2010-04-21\n",
      "Raw: 11 Juni 2010, Parsed: 2010-06-11\n",
      "Raw: 13 Juni 2010, Parsed: 2010-06-13\n",
      "Raw: 4 April 2020, Parsed: 2020-04-04\n",
      "Raw: 10 Juni 2010, Parsed: 2010-06-10\n",
      "Raw: 11 Juni 2010, Parsed: 2010-06-11\n",
      "Raw: 5 Juni 2010, Parsed: 2010-06-05\n",
      "Raw: 6 Juni 2010, Parsed: 2010-06-06\n",
      "Raw: 13 Juni 2010, Parsed: 2010-06-13\n",
      "Raw: 13 Juni 2010, Parsed: 2010-06-13\n",
      "Raw: 13 Juni 2010, Parsed: 2010-06-13\n",
      "Raw: 5 April 2010, Parsed: 2010-04-05\n",
      "Raw: 18 April 2010, Parsed: 2010-04-18\n",
      "Raw: 10 Juni 2010, Parsed: 2010-06-10\n",
      "Raw: 12 Juni 2010, Parsed: 2010-06-12\n",
      "Raw: 12 Juni 2010, Parsed: 2010-06-12\n",
      "Raw: 19 Juni 2006, Parsed: 2006-06-19\n",
      "Raw: 18 April 2010, Parsed: 2010-04-18\n",
      "Raw: 30 August 2009, Parsed: 2009-08-30\n",
      "Raw: 12 Juni 2010, Parsed: 2010-06-12\n",
      "Raw: 16 Juli 2009, Parsed: 2009-07-16\n",
      "Raw: 23 Mai 2010, Parsed: 2010-05-23\n",
      "Raw: 23 Mai 2010, Parsed: 2010-05-23\n",
      "Raw: None, Parsed: None\n",
      "Raw: 5 Juni 2010, Parsed: 2010-06-05\n",
      "Raw: 26 Mai 2010, Parsed: 2010-05-26\n",
      "Raw: 5 August 2008, Parsed: 2008-08-05\n",
      "Raw: 31 März 2020, Parsed: 2020-03-31\n",
      "Raw: 12 Juni 2010, Parsed: 2010-06-12\n",
      "Raw: 1 März 2019, Parsed: 2019-03-01\n",
      "Raw: 13 Juni 2010, Parsed: 2010-06-13\n",
      "Raw: 13 Mai 2010, Parsed: 2010-05-13\n",
      "Raw: 3 Juni 2010, Parsed: 2010-06-03\n",
      "Raw: 6 Juni 2010, Parsed: 2010-06-06\n",
      "Raw: 5 Juni 2010, Parsed: 2010-06-05\n",
      "Raw: 18 März 2003, Parsed: 2003-03-18\n",
      "Raw: 27 März 2003, Parsed: 2003-03-27\n",
      "Raw: 8 Juni 2010, Parsed: 2010-06-08\n",
      "Raw: 7 Juni 2010, Parsed: 2010-06-07\n",
      "Raw: 5 Juni 2010, Parsed: 2010-06-05\n",
      "Raw: 26 Mai 2010, Parsed: 2010-05-26\n",
      "Raw: 29 Mai 2010, Parsed: 2010-05-29\n",
      "Raw: 29 Mai 2010, Parsed: 2010-05-29\n",
      "Raw: 7 Juni 2010, Parsed: 2010-06-07\n",
      "Raw: 16 Juli 2013, Parsed: 2013-07-16\n",
      "Raw: 11 Juni 2010, Parsed: 2010-06-11\n",
      "Raw: 7 Juni 2010, Parsed: 2010-06-07\n",
      "Raw: 15 Oktober 2006, Parsed: 2006-10-15\n",
      "Raw: 17 April 2001, Parsed: 2001-04-17\n",
      "Raw: 17 Juni 2018, Parsed: 2018-06-17\n",
      "Raw: 12 Juni 2010, Parsed: 2010-06-12\n",
      "Raw: 12 Juni 2010, Parsed: 2010-06-12\n",
      "Raw: 30 Mai 2010, Parsed: 2010-05-30\n",
      "Raw: 5 Juni 2010, Parsed: 2010-06-05\n",
      "Raw: 30 Mai 2010, Parsed: 2010-05-30\n",
      "Raw: 14 August 2009, Parsed: 2009-08-14\n",
      "Raw: 13 Juni 2010, Parsed: 2010-06-13\n",
      "Raw: 12 Juli 2009, Parsed: 2009-07-12\n",
      "Raw: 27 Mai 2010, Parsed: 2010-05-27\n",
      "Raw: 13 Juni 2010, Parsed: 2010-06-13\n",
      "Raw: 28 März 2003, Parsed: 2003-03-28\n",
      "Raw: 13 Juni 2010, Parsed: 2010-06-13\n",
      "Raw: 13 Juni 2010, Parsed: 2010-06-13\n",
      "Raw: 6 Juni 2010, Parsed: 2010-06-06\n",
      "Raw: 11 Juni 2001, Parsed: 2001-06-11\n",
      "Raw: 1 Juni 2008, Parsed: 2008-06-01\n",
      "Raw: 1 April 2020, Parsed: 2020-04-01\n",
      "Raw: 11 Juni 2010, Parsed: 2010-06-11\n",
      "Raw: 5 Juni 2010, Parsed: 2010-06-05\n",
      "Raw: 20 September 2009, Parsed: 2009-09-20\n",
      "Raw: 24 Mai 2010, Parsed: 2010-05-24\n",
      "Raw: 30 Mai 2010, Parsed: 2010-05-30\n",
      "Raw: 25 Mai 2010, Parsed: 2010-05-25\n",
      "Raw: 13 Juni 2010, Parsed: 2010-06-13\n",
      "Raw: 1 Juni 2010, Parsed: 2010-06-01\n",
      "Raw: 6 September 2009, Parsed: 2009-09-06\n",
      "Raw: 9 Juni 2010, Parsed: 2010-06-09\n",
      "Raw: 18 Juni 2010, Parsed: 2010-06-18\n",
      "Raw: 12 Juni 2010, Parsed: 2010-06-12\n",
      "Raw: 25 Juli 1996, Parsed: 1996-07-25\n",
      "Raw: 12 Juni 2010, Parsed: 2010-06-12\n",
      "Raw: 13 August 2009, Parsed: 2009-08-13\n",
      "Raw: 24 Juli 2009, Parsed: 2009-07-24\n",
      "Raw: 25 Juni 2019, Parsed: 2019-06-25\n",
      "Raw: 12 Juni 2010, Parsed: 2010-06-12\n",
      "Raw: 29 Mai 2010, Parsed: 2010-05-29\n",
      "Raw: 12 Juni 2010, Parsed: 2010-06-12\n",
      "Raw: 6 Juni 2010, Parsed: 2010-06-06\n",
      "Raw: 4 Juni 2010, Parsed: 2010-06-04\n",
      "Raw: 12 Juni 2010, Parsed: 2010-06-12\n",
      "Raw: 11 Juni 2010, Parsed: 2010-06-11\n",
      "Raw: 9 Juni 2010, Parsed: 2010-06-09\n",
      "Raw: 11 Juni 2010, Parsed: 2010-06-11\n",
      "Raw: 23 August 2006, Parsed: 2006-08-23\n",
      "Raw: 28 Mai 2010, Parsed: 2010-05-28\n",
      "Raw: 13 Juni 2010, Parsed: 2010-06-13\n",
      "Raw: 5 Juni 2010, Parsed: 2010-06-05\n",
      "Raw: 23 Mai 2010, Parsed: 2010-05-23\n",
      "Raw: 11 Juni 2010, Parsed: 2010-06-11\n",
      "Raw: 10 Juni 2010, Parsed: 2010-06-10\n",
      "Raw: 14 Juni 2010, Parsed: 2010-06-14\n",
      "Raw: 12 Juni 2010, Parsed: 2010-06-12\n",
      "Raw: 22 November 2009, Parsed: 2009-11-22\n",
      "Raw: 3 Juni 2010, Parsed: 2010-06-03\n",
      "Raw: 9 Juni 2010, Parsed: 2010-06-09\n",
      "Raw: 13 Juni 2010, Parsed: 2010-06-13\n",
      "Raw: 6 Juni 2010, Parsed: 2010-06-06\n",
      "Raw: 16 August 2003, Parsed: 2003-08-16\n",
      "Raw: 6 Juni 2010, Parsed: 2010-06-06\n",
      "Raw: 12 Juni 2010, Parsed: 2010-06-12\n",
      "Raw: 6 Juni 2010, Parsed: 2010-06-06\n",
      "Raw: 11 Juni 2010, Parsed: 2010-06-11\n",
      "Raw: 28 November 2017, Parsed: 2017-11-28\n",
      "Raw: 15 Januar 2003, Parsed: 2003-01-15\n",
      "Raw: 26 Oktober 2008, Parsed: 2008-10-26\n",
      "Raw: 11 Juni 2010, Parsed: 2010-06-11\n",
      "Raw: 22 Juni 2008, Parsed: 2008-06-22\n",
      "Raw: 3 Juni 2010, Parsed: 2010-06-03\n",
      "Raw: 12 Juni 2010, Parsed: 2010-06-12\n",
      "Raw: 6 Juni 2010, Parsed: 2010-06-06\n",
      "Raw: 3 November 2007, Parsed: 2007-11-03\n",
      "Raw: 13 Juni 2010, Parsed: 2010-06-13\n",
      "Raw: 9 Juni 2010, Parsed: 2010-06-09\n",
      "Raw: 19 März 2003, Parsed: 2003-03-19\n",
      "Raw: 12 Juni 2010, Parsed: 2010-06-12\n",
      "Raw: 5 April 2020, Parsed: 2020-04-05\n",
      "Raw: 11 Juni 2010, Parsed: 2010-06-11\n",
      "Raw: 12 Juni 2010, Parsed: 2010-06-12\n",
      "Raw: 13 Juni 2010, Parsed: 2010-06-13\n",
      "Raw: 11 Juni 2010, Parsed: 2010-06-11\n",
      "Raw: 6 Juni 2010, Parsed: 2010-06-06\n",
      "Raw: 13 Juni 2010, Parsed: 2010-06-13\n",
      "Raw: 13 Juni 2010, Parsed: 2010-06-13\n",
      "Raw: 11 Juni 2010, Parsed: 2010-06-11\n",
      "Raw: 1 August 2009, Parsed: 2009-08-01\n",
      "Raw: 13 Juni 2010, Parsed: 2010-06-13\n",
      "Raw: 10 Juni 2010, Parsed: 2010-06-10\n",
      "Raw: 12 Juni 2010, Parsed: 2010-06-12\n",
      "Raw: 23 August 2009, Parsed: 2009-08-23\n",
      "Raw: 21 Mai 2010, Parsed: 2010-05-21\n",
      "Raw: 6 Juni 2010, Parsed: 2010-06-06\n",
      "Raw: 19 September 2015, Parsed: 2015-09-19\n",
      "Raw: 13 Mai 2001, Parsed: 2001-05-13\n",
      "Raw: 8 Juni 2010, Parsed: 2010-06-08\n",
      "Raw: 22 Mai 2010, Parsed: 2010-05-22\n",
      "Raw: 6 Juni 2010, Parsed: 2010-06-06\n",
      "Raw: 9 Juni 2010, Parsed: 2010-06-09\n",
      "Raw: 12 Juni 2010, Parsed: 2010-06-12\n",
      "Raw: 3 Juni 2010, Parsed: 2010-06-03\n",
      "Raw: 13 Juni 2010, Parsed: 2010-06-13\n",
      "Raw: 6 Juni 2010, Parsed: 2010-06-06\n",
      "Raw: 6 Juni 2010, Parsed: 2010-06-06\n",
      "Raw: 12 Juni 2010, Parsed: 2010-06-12\n",
      "Raw: 4 April 2020, Parsed: 2020-04-04\n",
      "Raw: 12 Juni 2010, Parsed: 2010-06-12\n",
      "Raw: 12 Juni 2010, Parsed: 2010-06-12\n",
      "Raw: 15 Juni 2010, Parsed: 2010-06-15\n",
      "Raw: 3 Juni 2010, Parsed: 2010-06-03\n",
      "Raw: 20 Juli 2009, Parsed: 2009-07-20\n"
     ]
    }
   ],
   "source": [
    "# Parse the tour date for all rows\n",
    "tour_dates = []\n",
    "for i in range(0, posts_raw_df.shape[0]):\n",
    "    raw = posts_raw_df['Tour Datum:_raw'].iloc[i]\n",
    "    tour_date = parse_tour_date(raw)\n",
    "    tour_dates.append(tour_date)\n",
    "    print(f\"Raw: {raw}, Parsed: {tour_date}\")\n",
    "\n"
   ]
  },
  {
   "cell_type": "code",
   "execution_count": 14,
   "metadata": {},
   "outputs": [
    {
     "name": "stdout",
     "output_type": "stream",
     "text": [
      "<td class=\"fiche_rando\">\n",
      "<ul style=\"list-style-type:none;list-style-position:outside\">\n",
      "<li style=\"list-style-type:none;list-style-position:outside\"><img src=\"https://s.hikr.org/r4icons/ico2_ort_s.png\" style=\"vertical-align:text-bottom\"> <a class=\"standard\" href=\"https://www.hikr.org/dir/Wasserauen_6854/\">Wasserauen 868 m   (381)</a>\n",
      "</li>\n",
      "\n",
      "\n",
      "<li style=\"list-style-type:none;list-style-position:outside\"><img src=\"https://s.hikr.org/r4icons/ico2_lake_s.png\" style=\"vertical-align:text-bottom\"> <a class=\"standard\" href=\"https://www.hikr.org/dir/Seealpsee_8235/\">Seealpsee 1141 m   (217)</a>\n",
      "</li>\n",
      "\n",
      "\n",
      "<li style=\"list-style-type:none;list-style-position:outside\"><img src=\"https://s.hikr.org/r4icons/ico2_hut_s.png\" style=\"vertical-align:text-bottom\"> <a class=\"standard\" href=\"https://www.hikr.org/dir/Altenalp_10913/\">Altenalp 1595 m   (58)</a>\n",
      "</li>\n",
      "\n",
      "\n",
      "<li style=\"list-style-type:none;list-style-position:outside\"><img src=\"https://s.hikr.org/r4icons/ico2_peak_s.png\" style=\"vertical-align:text-bottom\"> <a class=\"standard\" href=\"https://www.hikr.org/dir/Altenalpt%C3%BCrm_-_Ost_96015/\">Altenalptürm - Ost 1986 m   (11)</a>\n",
      "</li>\n",
      "\n",
      "\n",
      "<li style=\"list-style-type:none;list-style-position:outside\"><img src=\"https://s.hikr.org/r4icons/ico2_peak_s.png\" style=\"vertical-align:text-bottom\"> <a class=\"standard\" href=\"https://www.hikr.org/dir/Altenalpt%C3%BCrm_101/\">Altenalptürm 2031 m   (27)</a>\n",
      "</li>\n",
      "\n",
      "\n",
      "<li style=\"list-style-type:none;list-style-position:outside\"><img src=\"https://s.hikr.org/r4icons/ico2_pass_s.png\" style=\"vertical-align:text-bottom\"> <a class=\"standard\" href=\"https://www.hikr.org/dir/%C3%96hrlisattel_11553/\">Öhrlisattel 2121 m   (94)</a>\n",
      "</li>\n",
      "\n",
      "\n",
      "<li style=\"list-style-type:none;list-style-position:outside\"><img src=\"https://s.hikr.org/r4icons/ico2_peak_s.png\" style=\"vertical-align:text-bottom\"> <a class=\"standard\" href=\"https://www.hikr.org/dir/%C3%96hrli_%C3%96hrlikopf_3662/\">Öhrli / Öhrlikopf 2193 m   (84)</a>\n",
      "</li>\n",
      "\n",
      "\n",
      "<li style=\"list-style-type:none;list-style-position:outside\"><img src=\"https://s.hikr.org/r4icons/ico2_peak_s.png\" style=\"vertical-align:text-bottom\"> <a class=\"standard\" href=\"https://www.hikr.org/dir/H%C3%A4ngeten_-_Westlicher_Vorgipfel_16373/\">Hängeten - Westlicher Vorgipfel 2205 m   (8)</a>\n",
      "</li>\n",
      "\n",
      "\n",
      "<li style=\"list-style-type:none;list-style-position:outside\"><img src=\"https://s.hikr.org/r4icons/ico2_ort_s.png\" style=\"vertical-align:text-bottom\"> <a class=\"standard\" href=\"https://www.hikr.org/dir/Schw%C3%A4galp_8319/\">Schwägalp 1352 m   (269)</a>\n",
      "</li>\n",
      "\n",
      "\n",
      "</ul>\n",
      "</td>\n"
     ]
    },
    {
     "data": {
      "text/html": [
       "<td class=\"fiche_rando\">\n",
       "<ul style=\"list-style-type:none;list-style-position:outside\">\n",
       "<li style=\"list-style-type:none;list-style-position:outside\"><img src=\"https://s.hikr.org/r4icons/ico2_ort_s.png\" style=\"vertical-align:text-bottom\"> <a class=\"standard\" href=\"https://www.hikr.org/dir/Wasserauen_6854/\">Wasserauen 868 m   (381)</a>\n",
       "</li>\n",
       "\n",
       "\n",
       "<li style=\"list-style-type:none;list-style-position:outside\"><img src=\"https://s.hikr.org/r4icons/ico2_lake_s.png\" style=\"vertical-align:text-bottom\"> <a class=\"standard\" href=\"https://www.hikr.org/dir/Seealpsee_8235/\">Seealpsee 1141 m   (217)</a>\n",
       "</li>\n",
       "\n",
       "\n",
       "<li style=\"list-style-type:none;list-style-position:outside\"><img src=\"https://s.hikr.org/r4icons/ico2_hut_s.png\" style=\"vertical-align:text-bottom\"> <a class=\"standard\" href=\"https://www.hikr.org/dir/Altenalp_10913/\">Altenalp 1595 m   (58)</a>\n",
       "</li>\n",
       "\n",
       "\n",
       "<li style=\"list-style-type:none;list-style-position:outside\"><img src=\"https://s.hikr.org/r4icons/ico2_peak_s.png\" style=\"vertical-align:text-bottom\"> <a class=\"standard\" href=\"https://www.hikr.org/dir/Altenalpt%C3%BCrm_-_Ost_96015/\">Altenalptürm - Ost 1986 m   (11)</a>\n",
       "</li>\n",
       "\n",
       "\n",
       "<li style=\"list-style-type:none;list-style-position:outside\"><img src=\"https://s.hikr.org/r4icons/ico2_peak_s.png\" style=\"vertical-align:text-bottom\"> <a class=\"standard\" href=\"https://www.hikr.org/dir/Altenalpt%C3%BCrm_101/\">Altenalptürm 2031 m   (27)</a>\n",
       "</li>\n",
       "\n",
       "\n",
       "<li style=\"list-style-type:none;list-style-position:outside\"><img src=\"https://s.hikr.org/r4icons/ico2_pass_s.png\" style=\"vertical-align:text-bottom\"> <a class=\"standard\" href=\"https://www.hikr.org/dir/%C3%96hrlisattel_11553/\">Öhrlisattel 2121 m   (94)</a>\n",
       "</li>\n",
       "\n",
       "\n",
       "<li style=\"list-style-type:none;list-style-position:outside\"><img src=\"https://s.hikr.org/r4icons/ico2_peak_s.png\" style=\"vertical-align:text-bottom\"> <a class=\"standard\" href=\"https://www.hikr.org/dir/%C3%96hrli_%C3%96hrlikopf_3662/\">Öhrli / Öhrlikopf 2193 m   (84)</a>\n",
       "</li>\n",
       "\n",
       "\n",
       "<li style=\"list-style-type:none;list-style-position:outside\"><img src=\"https://s.hikr.org/r4icons/ico2_peak_s.png\" style=\"vertical-align:text-bottom\"> <a class=\"standard\" href=\"https://www.hikr.org/dir/H%C3%A4ngeten_-_Westlicher_Vorgipfel_16373/\">Hängeten - Westlicher Vorgipfel 2205 m   (8)</a>\n",
       "</li>\n",
       "\n",
       "\n",
       "<li style=\"list-style-type:none;list-style-position:outside\"><img src=\"https://s.hikr.org/r4icons/ico2_ort_s.png\" style=\"vertical-align:text-bottom\"> <a class=\"standard\" href=\"https://www.hikr.org/dir/Schw%C3%A4galp_8319/\">Schwägalp 1352 m   (269)</a>\n",
       "</li>\n",
       "\n",
       "\n",
       "</ul>\n",
       "</td>"
      ],
      "text/plain": [
       "<IPython.core.display.HTML object>"
      ]
     },
     "metadata": {},
     "output_type": "display_data"
    }
   ],
   "source": [
    "print(posts_raw_df['Wegpunkte:_raw'].iloc[1])\n",
    "display(HTML(posts_raw_df['Wegpunkte:_raw'].iloc[1]))"
   ]
  },
  {
   "cell_type": "code",
   "execution_count": 15,
   "metadata": {},
   "outputs": [
    {
     "data": {
      "text/plain": [
       "[{'image': 'https://s.hikr.org/r4icons/ico2_ort_s.png',\n",
       "  'name_raw': 'Wasserauen 868 m   (381)',\n",
       "  'type': 'location',\n",
       "  'waypoint_url': 'https://www.hikr.org/dir/Wasserauen_6854/',\n",
       "  'height': 868,\n",
       "  'name': 'Wasserauen',\n",
       "  'peak_id': '6854'},\n",
       " {'image': 'https://s.hikr.org/r4icons/ico2_lake_s.png',\n",
       "  'name_raw': 'Seealpsee 1141 m   (217)',\n",
       "  'type': 'lake',\n",
       "  'waypoint_url': 'https://www.hikr.org/dir/Seealpsee_8235/',\n",
       "  'height': 1141,\n",
       "  'name': 'Seealpsee',\n",
       "  'peak_id': '8235'},\n",
       " {'image': 'https://s.hikr.org/r4icons/ico2_hut_s.png',\n",
       "  'name_raw': 'Altenalp 1595 m   (58)',\n",
       "  'type': 'hut',\n",
       "  'waypoint_url': 'https://www.hikr.org/dir/Altenalp_10913/',\n",
       "  'height': 1595,\n",
       "  'name': 'Altenalp',\n",
       "  'peak_id': '10913'},\n",
       " {'image': 'https://s.hikr.org/r4icons/ico2_peak_s.png',\n",
       "  'name_raw': 'Altenalptürm - Ost 1986 m   (11)',\n",
       "  'type': 'peak',\n",
       "  'waypoint_url': 'https://www.hikr.org/dir/Altenalpt%C3%BCrm_-_Ost_96015/',\n",
       "  'height': 1986,\n",
       "  'name': 'Altenalptürm - Ost',\n",
       "  'peak_id': '3'},\n",
       " {'image': 'https://s.hikr.org/r4icons/ico2_peak_s.png',\n",
       "  'name_raw': 'Altenalptürm 2031 m   (27)',\n",
       "  'type': 'peak',\n",
       "  'waypoint_url': 'https://www.hikr.org/dir/Altenalpt%C3%BCrm_101/',\n",
       "  'height': 2031,\n",
       "  'name': 'Altenalptürm',\n",
       "  'peak_id': '3'},\n",
       " {'image': 'https://s.hikr.org/r4icons/ico2_pass_s.png',\n",
       "  'name_raw': 'Öhrlisattel 2121 m   (94)',\n",
       "  'type': 'pass',\n",
       "  'waypoint_url': 'https://www.hikr.org/dir/%C3%96hrlisattel_11553/',\n",
       "  'height': 2121,\n",
       "  'name': 'Öhrlisattel',\n",
       "  'peak_id': '3'},\n",
       " {'image': 'https://s.hikr.org/r4icons/ico2_peak_s.png',\n",
       "  'name_raw': 'Öhrli / Öhrlikopf 2193 m   (84)',\n",
       "  'type': 'peak',\n",
       "  'waypoint_url': 'https://www.hikr.org/dir/%C3%96hrli_%C3%96hrlikopf_3662/',\n",
       "  'height': 2193,\n",
       "  'name': 'Öhrli / Öhrlikopf',\n",
       "  'peak_id': '3'},\n",
       " {'image': 'https://s.hikr.org/r4icons/ico2_peak_s.png',\n",
       "  'name_raw': 'Hängeten - Westlicher Vorgipfel 2205 m   (8)',\n",
       "  'type': 'peak',\n",
       "  'waypoint_url': 'https://www.hikr.org/dir/H%C3%A4ngeten_-_Westlicher_Vorgipfel_16373/',\n",
       "  'height': 2205,\n",
       "  'name': 'Hängeten - Westlicher Vorgipfel',\n",
       "  'peak_id': '3'},\n",
       " {'image': 'https://s.hikr.org/r4icons/ico2_ort_s.png',\n",
       "  'name_raw': 'Schwägalp 1352 m   (269)',\n",
       "  'type': 'location',\n",
       "  'waypoint_url': 'https://www.hikr.org/dir/Schw%C3%A4galp_8319/',\n",
       "  'height': 1352,\n",
       "  'name': 'Schwägalp',\n",
       "  'peak_id': '3'}]"
      ]
     },
     "execution_count": 15,
     "metadata": {},
     "output_type": "execute_result"
    }
   ],
   "source": [
    "# ALL options can be found on the hikr.org website in the html file during route creation: https://www.hikr.org/add_rando.php#fiche\n",
    "# No need to save anything\n",
    "icon_lookup = {\n",
    "    \"https://s.hikr.org/r4icons/ico2_point_s.png\": \"other\",\n",
    "    \"https://s.hikr.org/r4icons/ico2_ruin_s.png\": \"ruin\",\n",
    "    \"https://s.hikr.org/r4icons/ico2_cave_s.png\": \"cave\",\n",
    "    \"https://s.hikr.org/r4icons/ico2_ort_s.png\": \"location\",\n",
    "    \"https://s.hikr.org/r4icons/ico2_bridg_s.png\": \"bridge\",\n",
    "    \"https://s.hikr.org/r4icons/ico2_pass_s.png\": \"pass\",\n",
    "    \"https://s.hikr.org/r4icons/ico2_viafe_s.png\": \"via_ferrata\", #Klettersteig\n",
    "    \"https://s.hikr.org/r4icons/ico2_climb_s.png\": \"climb\",\n",
    "    \"https://s.hikr.org/r4icons/ico2_wand_s.png\": \"wall\",\n",
    "    \"https://s.hikr.org/r4icons/ico2_lake_s.png\": \"lake\",\n",
    "    \"https://s.hikr.org/r4icons/ico2_peak_s.png\": \"peak\",\n",
    "    \"https://s.hikr.org/r4icons/ico2_hut_s.png\": \"hut\",\n",
    "    \"https://s.hikr.org/r4icons/ico2_eisfa_s.png\": \"icefall\",\n",
    "}\n",
    "\n",
    "\n",
    "\n",
    "def parse_waypoints(wegpunkte_raw: str):\n",
    "    if wegpunkte_raw is None:\n",
    "        return None\n",
    "    document = Selector(text=wegpunkte_raw)\n",
    "    list_items = document.css('li:not([class])')\n",
    "    # This is a special casse for some of the waypoints also have subpoints which I ignore for now: example: post24156.html\n",
    "\n",
    "    \n",
    "    output = []\n",
    "    for i, li in enumerate(list_items):\n",
    "        image = li.css('img::attr(src)').get()\n",
    "        name_raw = li.css('a::text').get().strip()\n",
    "        waypoint_url = li.css('a::attr(href)').get()\n",
    "        peak_id = li.css('a::attr(href)').re_first(r'(\\d+)')\n",
    "        \n",
    "        regex_pattern = r\"(.*?)\\s+(\\d+)\\s+m\" # https://regex101.com/r/MNWWxW/1\n",
    "\n",
    "\n",
    "        if image is None:\n",
    "            print(f\"Image not found for {name_raw}\")\n",
    "        match = re.search(regex_pattern, name_raw)\n",
    "        if match:\n",
    "            name = match.group(1).strip()\n",
    "            height = int(match.group(2))\n",
    "        waypoint = {\n",
    "            'image': image,\n",
    "            'name_raw': name_raw,\n",
    "            'type': icon_lookup.get(image, None),\n",
    "            'waypoint_url': waypoint_url,\n",
    "            'height': height,\n",
    "            'name': name,\n",
    "            'peak_id': peak_id\n",
    "        }\n",
    "        output.append(waypoint)\n",
    "    return output\n",
    "\n",
    "\n",
    "parse_waypoints(posts_raw_df['Wegpunkte:_raw'].iloc[1])"
   ]
  },
  {
   "cell_type": "code",
   "execution_count": 16,
   "metadata": {},
   "outputs": [
    {
     "name": "stdout",
     "output_type": "stream",
     "text": [
      "[[{'image': 'https://s.hikr.org/r4icons/ico2_peak_s.png', 'name_raw': 'Schlappiner Spitz 2442 m   (5)', 'type': 'peak', 'waypoint_url': 'https://www.hikr.org/dir/Schlappiner_Spitz_19661/', 'height': 2442, 'name': 'Schlappiner Spitz', 'peak_id': '19661'}, {'image': 'https://s.hikr.org/r4icons/ico2_pass_s.png', 'name_raw': 'Schlappiner Joch 2203 m   (12)', 'type': 'pass', 'waypoint_url': 'https://www.hikr.org/dir/Schlappiner_Joch_19660/', 'height': 2203, 'name': 'Schlappiner Joch', 'peak_id': '19660'}], [{'image': 'https://s.hikr.org/r4icons/ico2_ort_s.png', 'name_raw': 'Wasserauen 868 m   (381)', 'type': 'location', 'waypoint_url': 'https://www.hikr.org/dir/Wasserauen_6854/', 'height': 868, 'name': 'Wasserauen', 'peak_id': '6854'}, {'image': 'https://s.hikr.org/r4icons/ico2_lake_s.png', 'name_raw': 'Seealpsee 1141 m   (217)', 'type': 'lake', 'waypoint_url': 'https://www.hikr.org/dir/Seealpsee_8235/', 'height': 1141, 'name': 'Seealpsee', 'peak_id': '8235'}, {'image': 'https://s.hikr.org/r4icons/ico2_hut_s.png', 'name_raw': 'Altenalp 1595 m   (58)', 'type': 'hut', 'waypoint_url': 'https://www.hikr.org/dir/Altenalp_10913/', 'height': 1595, 'name': 'Altenalp', 'peak_id': '10913'}, {'image': 'https://s.hikr.org/r4icons/ico2_peak_s.png', 'name_raw': 'Altenalptürm - Ost 1986 m   (11)', 'type': 'peak', 'waypoint_url': 'https://www.hikr.org/dir/Altenalpt%C3%BCrm_-_Ost_96015/', 'height': 1986, 'name': 'Altenalptürm - Ost', 'peak_id': '3'}, {'image': 'https://s.hikr.org/r4icons/ico2_peak_s.png', 'name_raw': 'Altenalptürm 2031 m   (27)', 'type': 'peak', 'waypoint_url': 'https://www.hikr.org/dir/Altenalpt%C3%BCrm_101/', 'height': 2031, 'name': 'Altenalptürm', 'peak_id': '3'}, {'image': 'https://s.hikr.org/r4icons/ico2_pass_s.png', 'name_raw': 'Öhrlisattel 2121 m   (94)', 'type': 'pass', 'waypoint_url': 'https://www.hikr.org/dir/%C3%96hrlisattel_11553/', 'height': 2121, 'name': 'Öhrlisattel', 'peak_id': '3'}, {'image': 'https://s.hikr.org/r4icons/ico2_peak_s.png', 'name_raw': 'Öhrli / Öhrlikopf 2193 m   (84)', 'type': 'peak', 'waypoint_url': 'https://www.hikr.org/dir/%C3%96hrli_%C3%96hrlikopf_3662/', 'height': 2193, 'name': 'Öhrli / Öhrlikopf', 'peak_id': '3'}, {'image': 'https://s.hikr.org/r4icons/ico2_peak_s.png', 'name_raw': 'Hängeten - Westlicher Vorgipfel 2205 m   (8)', 'type': 'peak', 'waypoint_url': 'https://www.hikr.org/dir/H%C3%A4ngeten_-_Westlicher_Vorgipfel_16373/', 'height': 2205, 'name': 'Hängeten - Westlicher Vorgipfel', 'peak_id': '3'}, {'image': 'https://s.hikr.org/r4icons/ico2_ort_s.png', 'name_raw': 'Schwägalp 1352 m   (269)', 'type': 'location', 'waypoint_url': 'https://www.hikr.org/dir/Schw%C3%A4galp_8319/', 'height': 1352, 'name': 'Schwägalp', 'peak_id': '3'}], [{'image': 'https://s.hikr.org/r4icons/ico2_point_s.png', 'name_raw': 'Zürich - Haltestelle Triemli 449 m   (32)', 'type': 'other', 'waypoint_url': 'https://www.hikr.org/dir/Z%C3%BCrich_-_Haltestelle_Triemli_17109/', 'height': 449, 'name': 'Zürich - Haltestelle Triemli', 'peak_id': '3'}, {'image': 'https://s.hikr.org/r4icons/ico2_ruin_s.png', 'name_raw': 'Ruine Friesenburg 658 m   (15)', 'type': 'ruin', 'waypoint_url': 'https://www.hikr.org/dir/Ruine_Friesenburg_17110/', 'height': 658, 'name': 'Ruine Friesenburg', 'peak_id': '17110'}, {'image': 'https://s.hikr.org/r4icons/ico2_point_s.png', 'name_raw': 'Üetliberg - Aussichtsturm 900 m   (38)', 'type': 'other', 'waypoint_url': 'https://www.hikr.org/dir/%C3%9Cetliberg_-_Aussichtsturm_17111/', 'height': 900, 'name': 'Üetliberg - Aussichtsturm', 'peak_id': '3'}], [{'image': 'https://s.hikr.org/r4icons/ico2_peak_s.png', 'name_raw': 'Cima di Biasagn 2417 m   (19)', 'type': 'peak', 'waypoint_url': 'https://www.hikr.org/dir/Cima_di_Biasagn_387/', 'height': 2417, 'name': 'Cima di Biasagn', 'peak_id': '387'}, {'image': 'https://s.hikr.org/r4icons/ico2_hut_s.png', 'name_raw': 'Capanna Biasagn 2023 m   (23)', 'type': 'hut', 'waypoint_url': 'https://www.hikr.org/dir/Capanna_Biasagn_8600/', 'height': 2023, 'name': 'Capanna Biasagn', 'peak_id': '8600'}, {'image': 'https://s.hikr.org/r4icons/ico2_point_s.png', 'name_raw': 'Fontana 1347 m   (42)', 'type': 'other', 'waypoint_url': 'https://www.hikr.org/dir/Fontana_11692/', 'height': 1347, 'name': 'Fontana', 'peak_id': '11692'}], [{'image': 'https://s.hikr.org/r4icons/ico2_peak_s.png', 'name_raw': 'Riedchopf / Ronggspitz 2552 m   (30)', 'type': 'peak', 'waypoint_url': 'https://www.hikr.org/dir/Riedchopf_Ronggspitz_18956/', 'height': 2552, 'name': 'Riedchopf / Ronggspitz', 'peak_id': '18956'}], [{'image': 'https://s.hikr.org/r4icons/ico2_ort_s.png', 'name_raw': 'Vilaflor 1420 m   (9)', 'type': 'location', 'waypoint_url': 'https://www.hikr.org/dir/Vilaflor_21181/', 'height': 1420, 'name': 'Vilaflor', 'peak_id': '21181'}, {'image': 'https://s.hikr.org/r4icons/ico2_point_s.png', 'name_raw': 'Paisaje Lunar 1750 m   (13)', 'type': 'other', 'waypoint_url': 'https://www.hikr.org/dir/Paisaje_Lunar_12940/', 'height': 1750, 'name': 'Paisaje Lunar', 'peak_id': '12940'}, {'image': 'https://s.hikr.org/r4icons/ico2_peak_s.png', 'name_raw': 'Montaña de Guajara 2717 m   (26)', 'type': 'peak', 'waypoint_url': 'https://www.hikr.org/dir/Monta%C3%B1a_de_Guajara_12941/', 'height': 2717, 'name': 'Montaña de Guajara', 'peak_id': '3'}, {'image': 'https://s.hikr.org/r4icons/ico2_point_s.png', 'name_raw': 'Parador Nacional 2150 m   (39)', 'type': 'other', 'waypoint_url': 'https://www.hikr.org/dir/Parador_Nacional_12775/', 'height': 2150, 'name': 'Parador Nacional', 'peak_id': '12775'}], [{'image': 'https://s.hikr.org/r4icons/ico2_ort_s.png', 'name_raw': 'Dirinella 197 m   (19)', 'type': 'location', 'waypoint_url': 'https://www.hikr.org/dir/Dirinella_18780/', 'height': 197, 'name': 'Dirinella', 'peak_id': '18780'}, {'image': 'https://s.hikr.org/r4icons/ico2_ort_s.png', 'name_raw': 'Scaiano  331 m   (19)', 'type': 'location', 'waypoint_url': 'https://www.hikr.org/dir/Scaiano__20102/', 'height': 331, 'name': 'Scaiano', 'peak_id': '20102'}, {'image': 'https://s.hikr.org/r4icons/ico2_point_s.png', 'name_raw': 'Monti di Caviano 695 m   (33)', 'type': 'other', 'waypoint_url': 'https://www.hikr.org/dir/Monti_di_Caviano_16721/', 'height': 695, 'name': 'Monti di Caviano', 'peak_id': '16721'}, {'image': 'https://s.hikr.org/r4icons/ico2_hut_s.png', 'name_raw': 'Rifugio Alpetto di Caviano 1255 m   (28)', 'type': 'hut', 'waypoint_url': 'https://www.hikr.org/dir/Rifugio_Alpetto_di_Caviano_9483/', 'height': 1255, 'name': 'Rifugio Alpetto di Caviano', 'peak_id': '9483'}, {'image': 'https://s.hikr.org/r4icons/ico2_peak_s.png', 'name_raw': 'Sasso Torricello 1424 m   (22)', 'type': 'peak', 'waypoint_url': 'https://www.hikr.org/dir/Sasso_Torricello_9481/', 'height': 1424, 'name': 'Sasso Torricello', 'peak_id': '9481'}, {'image': 'https://s.hikr.org/r4icons/ico2_peak_s.png', 'name_raw': 'Monte Covreto 1594 m   (60)', 'type': 'peak', 'waypoint_url': 'https://www.hikr.org/dir/Monte_Covreto_9480/', 'height': 1594, 'name': 'Monte Covreto', 'peak_id': '9480'}], [{'image': 'https://s.hikr.org/r4icons/ico2_peak_s.png', 'name_raw': 'Pico Birigoyo 1807 m   (9)', 'type': 'peak', 'waypoint_url': 'https://www.hikr.org/dir/Pico_Birigoyo_13078/', 'height': 1807, 'name': 'Pico Birigoyo', 'peak_id': '13078'}, {'image': 'https://s.hikr.org/r4icons/ico2_hut_s.png', 'name_raw': 'Refugio El Pilar 1440 m   (12)', 'type': 'hut', 'waypoint_url': 'https://www.hikr.org/dir/Refugio_El_Pilar_13085/', 'height': 1440, 'name': 'Refugio El Pilar', 'peak_id': '13085'}], [{'image': 'https://s.hikr.org/r4icons/ico2_ort_s.png', 'name_raw': 'Lienz 457 m   (16)', 'type': 'location', 'waypoint_url': 'https://www.hikr.org/dir/Lienz_18521/', 'height': 457, 'name': 'Lienz', 'peak_id': '18521'}, {'image': 'https://s.hikr.org/r4icons/ico2_point_s.png', 'name_raw': 'Schwendirank 829 m   (14)', 'type': 'other', 'waypoint_url': 'https://www.hikr.org/dir/Schwendirank_19591/', 'height': 829, 'name': 'Schwendirank', 'peak_id': '19591'}, {'image': 'https://s.hikr.org/r4icons/ico2_peak_s.png', 'name_raw': 'Lienzer Spitz 1436 m   (22)', 'type': 'peak', 'waypoint_url': 'https://www.hikr.org/dir/Lienzer_Spitz_13280/', 'height': 1436, 'name': 'Lienzer Spitz', 'peak_id': '13280'}, {'image': 'https://s.hikr.org/r4icons/ico2_peak_s.png', 'name_raw': 'Hoher Kasten 1794 m   (157)', 'type': 'peak', 'waypoint_url': 'https://www.hikr.org/dir/Hoher_Kasten_2744/', 'height': 1794, 'name': 'Hoher Kasten', 'peak_id': '2744'}, {'image': 'https://s.hikr.org/r4icons/ico2_hut_s.png', 'name_raw': 'Stauberen 1746 m   (180)', 'type': 'hut', 'waypoint_url': 'https://www.hikr.org/dir/Stauberen_8956/', 'height': 1746, 'name': 'Stauberen', 'peak_id': '8956'}, {'image': 'https://s.hikr.org/r4icons/ico2_peak_s.png', 'name_raw': 'Stauberenkanzel 1860 m   (73)', 'type': 'peak', 'waypoint_url': 'https://www.hikr.org/dir/Stauberenkanzel_13767/', 'height': 1860, 'name': 'Stauberenkanzel', 'peak_id': '13767'}, {'image': 'https://s.hikr.org/r4icons/ico2_point_s.png', 'name_raw': 'Frümsen - Talstation Staubernbahn 500 m   (57)', 'type': 'other', 'waypoint_url': 'https://www.hikr.org/dir/Fr%C3%BCmsen_-_Talstation_Staubernbahn_19768/', 'height': 500, 'name': 'Frümsen - Talstation Staubernbahn', 'peak_id': '3'}], [{'image': 'https://s.hikr.org/r4icons/ico2_point_s.png', 'name_raw': 'Waldhaus Okertal 235 m   (8)', 'type': 'other', 'waypoint_url': 'https://www.hikr.org/dir/Waldhaus_Okertal_21143/', 'height': 235, 'name': 'Waldhaus Okertal', 'peak_id': '21143'}, {'image': 'https://s.hikr.org/r4icons/ico2_peak_s.png', 'name_raw': 'Brautstein 648 m   (1)', 'type': 'peak', 'waypoint_url': 'https://www.hikr.org/dir/Brautstein_21144/', 'height': 648, 'name': 'Brautstein', 'peak_id': '21144'}, {'image': 'https://s.hikr.org/r4icons/ico2_peak_s.png', 'name_raw': 'Eichenberg 670 m   (1)', 'type': 'peak', 'waypoint_url': 'https://www.hikr.org/dir/Eichenberg_21145/', 'height': 670, 'name': 'Eichenberg', 'peak_id': '21145'}, {'image': 'https://s.hikr.org/r4icons/ico2_point_s.png', 'name_raw': 'Romkerhalle 335 m   (6)', 'type': 'other', 'waypoint_url': 'https://www.hikr.org/dir/Romkerhalle_16132/', 'height': 335, 'name': 'Romkerhalle', 'peak_id': '16132'}], [{'image': 'https://s.hikr.org/r4icons/ico2_peak_s.png', 'name_raw': 'Monte Etna 3329 m   (13)', 'type': 'peak', 'waypoint_url': 'https://www.hikr.org/dir/Monte_Etna_14064/', 'height': 3329, 'name': 'Monte Etna', 'peak_id': '14064'}, {'image': 'https://s.hikr.org/r4icons/ico2_point_s.png', 'name_raw': 'Torre del Filosofo 2920 m   (12)', 'type': 'other', 'waypoint_url': 'https://www.hikr.org/dir/Torre_del_Filosofo_20548/', 'height': 2920, 'name': 'Torre del Filosofo', 'peak_id': '20548'}, {'image': 'https://s.hikr.org/r4icons/ico2_point_s.png', 'name_raw': 'La Montagnola - Stazione a Monte 2490 m   (11)', 'type': 'other', 'waypoint_url': 'https://www.hikr.org/dir/La_Montagnola_-_Stazione_a_Monte_20547/', 'height': 2490, 'name': 'La Montagnola - Stazione a Monte', 'peak_id': '20547'}, {'image': 'https://s.hikr.org/r4icons/ico2_hut_s.png', 'name_raw': 'Rifugio Sapienza 1900 m   (15)', 'type': 'hut', 'waypoint_url': 'https://www.hikr.org/dir/Rifugio_Sapienza_20546/', 'height': 1900, 'name': 'Rifugio Sapienza', 'peak_id': '20546'}], [{'image': 'https://s.hikr.org/r4icons/ico2_hut_s.png', 'name_raw': 'Rifugio Garzonera 1973 m   (69)', 'type': 'hut', 'waypoint_url': 'https://www.hikr.org/dir/Rifugio_Garzonera_6403/', 'height': 1973, 'name': 'Rifugio Garzonera', 'peak_id': '6403'}, {'image': 'https://s.hikr.org/r4icons/ico2_point_s.png', 'name_raw': 'Pian Taiöi 1668 m   (53)', 'type': 'other', 'waypoint_url': 'https://www.hikr.org/dir/Pian_Tai%C3%B6i_11779/', 'height': 1668, 'name': 'Pian Taiöi', 'peak_id': '3'}, {'image': 'https://s.hikr.org/r4icons/ico2_point_s.png', 'name_raw': 'Giof 1386 m   (25)', 'type': 'other', 'waypoint_url': 'https://www.hikr.org/dir/Giof_11060/', 'height': 1386, 'name': 'Giof', 'peak_id': '11060'}], [{'image': 'https://s.hikr.org/r4icons/ico2_hut_s.png', 'name_raw': 'Ennetberg 1201 m   (10)', 'type': 'hut', 'waypoint_url': 'https://www.hikr.org/dir/Ennetberg_21133/', 'height': 1201, 'name': 'Ennetberg', 'peak_id': '21133'}, {'image': 'https://s.hikr.org/r4icons/ico2_hut_s.png', 'name_raw': 'Ober Heuboden 1826 m   (10)', 'type': 'hut', 'waypoint_url': 'https://www.hikr.org/dir/Ober_Heuboden_21130/', 'height': 1826, 'name': 'Ober Heuboden', 'peak_id': '21130'}, {'image': 'https://s.hikr.org/r4icons/ico2_peak_s.png', 'name_raw': 'Schilt 2299 m   (109)', 'type': 'peak', 'waypoint_url': 'https://www.hikr.org/dir/Schilt_4683/', 'height': 2299, 'name': 'Schilt', 'peak_id': '4683'}], [{'image': 'https://s.hikr.org/r4icons/ico2_peak_s.png', 'name_raw': 'Mont Pèlerin 1080 m   (8)', 'type': 'peak', 'waypoint_url': 'https://www.hikr.org/dir/Mont_P%C3%A8lerin_3785/', 'height': 1080, 'name': 'Mont Pèlerin', 'peak_id': '3'}, {'image': 'https://s.hikr.org/r4icons/ico2_ort_s.png', 'name_raw': 'Vevey 383 m   (19)', 'type': 'location', 'waypoint_url': 'https://www.hikr.org/dir/Vevey_13657/', 'height': 383, 'name': 'Vevey', 'peak_id': '13657'}, {'image': 'https://s.hikr.org/r4icons/ico2_ort_s.png', 'name_raw': 'Saint-Saphorin 400 m   (8)', 'type': 'location', 'waypoint_url': 'https://www.hikr.org/dir/Saint-Saphorin_39852/', 'height': 400, 'name': 'Saint-Saphorin', 'peak_id': '39852'}], [{'image': 'https://s.hikr.org/r4icons/ico2_ort_s.png', 'name_raw': 'Planken 770 m   (44)', 'type': 'location', 'waypoint_url': 'https://www.hikr.org/dir/Planken_24625/', 'height': 770, 'name': 'Planken', 'peak_id': '24625'}, {'image': 'https://s.hikr.org/r4icons/ico2_hut_s.png', 'name_raw': 'Gafadurahütte LAV 1428 m   (54)', 'type': 'hut', 'waypoint_url': 'https://www.hikr.org/dir/Gafadurah%C3%BCtte_LAV_6397/', 'height': 1428, 'name': 'Gafadurahütte LAV', 'peak_id': '3'}, {'image': 'https://s.hikr.org/r4icons/ico2_pass_s.png', 'name_raw': 'Sarojasattel 1628 m   (44)', 'type': 'pass', 'waypoint_url': 'https://www.hikr.org/dir/Sarojasattel_21103/', 'height': 1628, 'name': 'Sarojasattel', 'peak_id': '21103'}, {'image': 'https://s.hikr.org/r4icons/ico2_point_s.png', 'name_raw': 'Garsella Alp 1759 m   (9)', 'type': 'other', 'waypoint_url': 'https://www.hikr.org/dir/Garsella_Alp_16250/', 'height': 1759, 'name': 'Garsella Alp', 'peak_id': '16250'}, {'image': 'https://s.hikr.org/r4icons/ico2_peak_s.png', 'name_raw': 'Garsellikopf 2105 m   (54)', 'type': 'peak', 'waypoint_url': 'https://www.hikr.org/dir/Garsellikopf_1933/', 'height': 2105, 'name': 'Garsellikopf', 'peak_id': '1933'}, {'image': 'https://s.hikr.org/r4icons/ico2_peak_s.png', 'name_raw': 'Kuegrat 2123 m   (60)', 'type': 'peak', 'waypoint_url': 'https://www.hikr.org/dir/Kuegrat_8870/', 'height': 2123, 'name': 'Kuegrat', 'peak_id': '8870'}, {'image': 'https://s.hikr.org/r4icons/ico2_peak_s.png', 'name_raw': 'Gafleispitz 1999 m   (39)', 'type': 'peak', 'waypoint_url': 'https://www.hikr.org/dir/Gafleispitz_9184/', 'height': 1999, 'name': 'Gafleispitz', 'peak_id': '9184'}, {'image': 'https://s.hikr.org/r4icons/ico2_ort_s.png', 'name_raw': 'Gaflei 1483 m   (63)', 'type': 'location', 'waypoint_url': 'https://www.hikr.org/dir/Gaflei_11211/', 'height': 1483, 'name': 'Gaflei', 'peak_id': '11211'}, {'image': 'https://s.hikr.org/r4icons/ico2_pass_s.png', 'name_raw': 'Kulm 1433 m   (30)', 'type': 'pass', 'waypoint_url': 'https://www.hikr.org/dir/Kulm_10176/', 'height': 1433, 'name': 'Kulm', 'peak_id': '10176'}, {'image': 'https://s.hikr.org/r4icons/ico2_ort_s.png', 'name_raw': 'Steg 1301 m   (72)', 'type': 'location', 'waypoint_url': 'https://www.hikr.org/dir/Steg_11210/', 'height': 1301, 'name': 'Steg', 'peak_id': '11210'}, {'image': 'https://s.hikr.org/r4icons/ico2_ruin_s.png', 'name_raw': 'Ruine Schalun (Wildschloss) 864 m   (9)', 'type': 'ruin', 'waypoint_url': 'https://www.hikr.org/dir/Ruine_Schalun_%28Wildschloss%29_13350/', 'height': 864, 'name': 'Ruine Schalun (Wildschloss)', 'peak_id': '28'}, {'image': 'https://s.hikr.org/r4icons/ico2_ort_s.png', 'name_raw': 'Vaduz 455 m   (25)', 'type': 'location', 'waypoint_url': 'https://www.hikr.org/dir/Vaduz_13349/', 'height': 455, 'name': 'Vaduz', 'peak_id': '13349'}], [{'image': 'https://s.hikr.org/r4icons/ico2_point_s.png', 'name_raw': 'Mittlerwengi 1175 m   (49)', 'type': 'other', 'waypoint_url': 'https://www.hikr.org/dir/Mittlerwengi_11761/', 'height': 1175, 'name': 'Mittlerwengi', 'peak_id': '11761'}, {'image': 'https://s.hikr.org/r4icons/ico2_hut_s.png', 'name_raw': 'Hinterwengi 1341 m   (47)', 'type': 'hut', 'waypoint_url': 'https://www.hikr.org/dir/Hinterwengi_13595/', 'height': 1341, 'name': 'Hinterwengi', 'peak_id': '13595'}, {'image': 'https://s.hikr.org/r4icons/ico2_peak_s.png', 'name_raw': 'Speer 1950 m   (162)', 'type': 'peak', 'waypoint_url': 'https://www.hikr.org/dir/Speer_5027/', 'height': 1950, 'name': 'Speer', 'peak_id': '5027'}, {'image': 'https://s.hikr.org/r4icons/ico2_hut_s.png', 'name_raw': 'Hinterwengi 1341 m   (47)', 'type': 'hut', 'waypoint_url': 'https://www.hikr.org/dir/Hinterwengi_13595/', 'height': 1341, 'name': 'Hinterwengi', 'peak_id': '13595'}, {'image': 'https://s.hikr.org/r4icons/ico2_point_s.png', 'name_raw': 'Mittlerwengi 1175 m   (49)', 'type': 'other', 'waypoint_url': 'https://www.hikr.org/dir/Mittlerwengi_11761/', 'height': 1175, 'name': 'Mittlerwengi', 'peak_id': '11761'}], [{'image': 'https://s.hikr.org/r4icons/ico2_peak_s.png', 'name_raw': \"Brec d'Utelle 1604 m   (3)\", 'type': 'peak', 'waypoint_url': 'https://www.hikr.org/dir/Brec_d_Utelle_17297/', 'height': 1604, 'name': \"Brec d'Utelle\", 'peak_id': '17297'}], [{'image': 'https://s.hikr.org/r4icons/ico2_peak_s.png', 'name_raw': 'Nördliche Jägerkarspitze 2596 m   (4)', 'type': 'peak', 'waypoint_url': 'https://www.hikr.org/dir/N%C3%B6rdliche_J%C3%A4gerkarspitze_20956/', 'height': 2596, 'name': 'Nördliche Jägerkarspitze', 'peak_id': '3'}, {'image': 'https://s.hikr.org/r4icons/ico2_peak_s.png', 'name_raw': 'Mittlere Jägerkarspitze 2608 m   (6)', 'type': 'peak', 'waypoint_url': 'https://www.hikr.org/dir/Mittlere_J%C3%A4gerkarspitze_20943/', 'height': 2608, 'name': 'Mittlere Jägerkarspitze', 'peak_id': '3'}, {'image': 'https://s.hikr.org/r4icons/ico2_ort_s.png', 'name_raw': 'Scharnitz 964 m   (186)', 'type': 'location', 'waypoint_url': 'https://www.hikr.org/dir/Scharnitz_19501/', 'height': 964, 'name': 'Scharnitz', 'peak_id': '19501'}], [{'image': 'https://s.hikr.org/r4icons/ico2_climb_s.png', 'name_raw': 'Cima alle Coste Sud 400 m   (4)', 'type': 'climb', 'waypoint_url': 'https://www.hikr.org/dir/Cima_alle_Coste_Sud_21350/', 'height': 400, 'name': 'Cima alle Coste Sud', 'peak_id': '21350'}], [{'image': 'https://s.hikr.org/r4icons/ico2_peak_s.png', 'name_raw': 'Hinteres Schöneck 3128 m   (11)', 'type': 'peak', 'waypoint_url': 'https://www.hikr.org/dir/Hinteres_Sch%C3%B6neck_20946/', 'height': 3128, 'name': 'Hinteres Schöneck', 'peak_id': '3'}, {'image': 'https://s.hikr.org/r4icons/ico2_peak_s.png', 'name_raw': 'Vorderes Schöneck 2908 m   (5)', 'type': 'peak', 'waypoint_url': 'https://www.hikr.org/dir/Vorderes_Sch%C3%B6neck_65198/', 'height': 2908, 'name': 'Vorderes Schöneck', 'peak_id': '3'}, {'image': 'https://s.hikr.org/r4icons/ico2_hut_s.png', 'name_raw': 'Kälberalm 2344 m   (6)', 'type': 'hut', 'waypoint_url': 'https://www.hikr.org/dir/K%C3%A4lberalm_71550/', 'height': 2344, 'name': 'Kälberalm', 'peak_id': '3'}, {'image': 'https://s.hikr.org/r4icons/ico2_ort_s.png', 'name_raw': 'Sulden / Solda 1860 m   (50)', 'type': 'location', 'waypoint_url': 'https://www.hikr.org/dir/Sulden_Solda_23868/', 'height': 1860, 'name': 'Sulden / Solda', 'peak_id': '23868'}], [{'image': 'https://s.hikr.org/r4icons/ico2_ort_s.png', 'name_raw': 'Blatten bei Naters 1327 m   (47)', 'type': 'location', 'waypoint_url': 'https://www.hikr.org/dir/Blatten_bei_Naters_8714/', 'height': 1327, 'name': 'Blatten bei Naters', 'peak_id': '8714'}, {'image': 'https://s.hikr.org/r4icons/ico2_ort_s.png', 'name_raw': 'Mörel 759 m   (20)', 'type': 'location', 'waypoint_url': 'https://www.hikr.org/dir/M%C3%B6rel_14349/', 'height': 759, 'name': 'Mörel', 'peak_id': '3'}, {'image': 'https://s.hikr.org/r4icons/ico2_point_s.png', 'name_raw': 'Staumauer Gibidum 1439 m   (18)', 'type': 'other', 'waypoint_url': 'https://www.hikr.org/dir/Staumauer_Gibidum_10352/', 'height': 1439, 'name': 'Staumauer Gibidum', 'peak_id': '10352'}, {'image': 'https://s.hikr.org/r4icons/ico2_point_s.png', 'name_raw': 'Massaweg 1300 m   (18)', 'type': 'other', 'waypoint_url': 'https://www.hikr.org/dir/Massaweg_21150/', 'height': 1300, 'name': 'Massaweg', 'peak_id': '21150'}, {'image': 'https://s.hikr.org/r4icons/ico2_ort_s.png', 'name_raw': 'Ried Mörel 1200 m   (16)', 'type': 'location', 'waypoint_url': 'https://www.hikr.org/dir/Ried_M%C3%B6rel_21404/', 'height': 1200, 'name': 'Ried Mörel', 'peak_id': '3'}], [{'image': 'https://s.hikr.org/r4icons/ico2_ort_s.png', 'name_raw': 'Realp 1538 m   (278)', 'type': 'location', 'waypoint_url': 'https://www.hikr.org/dir/Realp_7301/', 'height': 1538, 'name': 'Realp', 'peak_id': '7301'}, {'image': 'https://s.hikr.org/r4icons/ico2_peak_s.png', 'name_raw': 'Gässler 2336 m   (14)', 'type': 'peak', 'waypoint_url': 'https://www.hikr.org/dir/G%C3%A4ssler_2372/', 'height': 2336, 'name': 'Gässler', 'peak_id': '3'}, {'image': 'https://s.hikr.org/r4icons/ico2_peak_s.png', 'name_raw': 'Lägenden Firsten 2589 m   (17)', 'type': 'peak', 'waypoint_url': 'https://www.hikr.org/dir/L%C3%A4genden_Firsten_15617/', 'height': 2589, 'name': 'Lägenden Firsten', 'peak_id': '3'}, {'image': 'https://s.hikr.org/r4icons/ico2_peak_s.png', 'name_raw': 'Stotzigen Firsten - Skigipfel 2747 m   (75)', 'type': 'peak', 'waypoint_url': 'https://www.hikr.org/dir/Stotzigen_Firsten_-_Skigipfel_7341/', 'height': 2747, 'name': 'Stotzigen Firsten - Skigipfel', 'peak_id': '7341'}], [{'image': 'https://s.hikr.org/r4icons/ico2_peak_s.png', 'name_raw': 'Vorder Gassenstock 2137 m   (2)', 'type': 'peak', 'waypoint_url': 'https://www.hikr.org/dir/Vorder_Gassenstock_1943/', 'height': 2137, 'name': 'Vorder Gassenstock', 'peak_id': '1943'}, {'image': 'https://s.hikr.org/r4icons/ico2_point_s.png', 'name_raw': 'Dräckloch - Stall 1770 m   (12)', 'type': 'other', 'waypoint_url': 'https://www.hikr.org/dir/Dr%C3%A4ckloch_-_Stall_20968/', 'height': 1770, 'name': 'Dräckloch - Stall', 'peak_id': '3'}, {'image': 'https://s.hikr.org/r4icons/ico2_peak_s.png', 'name_raw': 'Mittler Gassenstock 2275 m   (2)', 'type': 'peak', 'waypoint_url': 'https://www.hikr.org/dir/Mittler_Gassenstock_1942/', 'height': 2275, 'name': 'Mittler Gassenstock', 'peak_id': '1942'}, {'image': 'https://s.hikr.org/r4icons/ico2_hut_s.png', 'name_raw': 'Chäseren 1281 m   (104)', 'type': 'hut', 'waypoint_url': 'https://www.hikr.org/dir/Ch%C3%A4seren_20969/', 'height': 1281, 'name': 'Chäseren', 'peak_id': '3'}], [{'image': 'https://s.hikr.org/r4icons/ico2_climb_s.png', 'name_raw': 'Cima alle Coste Sud 400 m   (4)', 'type': 'climb', 'waypoint_url': 'https://www.hikr.org/dir/Cima_alle_Coste_Sud_21350/', 'height': 400, 'name': 'Cima alle Coste Sud', 'peak_id': '21350'}], [{'image': 'https://s.hikr.org/r4icons/ico2_peak_s.png', 'name_raw': 'Kleiner Mythen 1811 m   (158)', 'type': 'peak', 'waypoint_url': 'https://www.hikr.org/dir/Kleiner_Mythen_3458/', 'height': 1811, 'name': 'Kleiner Mythen', 'peak_id': '3458'}, {'image': 'https://s.hikr.org/r4icons/ico2_peak_s.png', 'name_raw': 'Kleiner Mythen - Südlicher Vorgipfel 1763 m   (113)', 'type': 'peak', 'waypoint_url': 'https://www.hikr.org/dir/Kleiner_Mythen_-_S%C3%BCdlicher_Vorgipfel_15355/', 'height': 1763, 'name': 'Kleiner Mythen - Südlicher Vorgipfel', 'peak_id': '3'}, {'image': 'https://s.hikr.org/r4icons/ico2_peak_s.png', 'name_raw': 'Grosser Mythen 1898 m   (225)', 'type': 'peak', 'waypoint_url': 'https://www.hikr.org/dir/Grosser_Mythen_3457/', 'height': 1898, 'name': 'Grosser Mythen', 'peak_id': '3457'}], [{'image': 'https://s.hikr.org/r4icons/ico2_ort_s.png', 'name_raw': 'Casablanca 0 m   (1)', 'type': 'location', 'waypoint_url': 'https://www.hikr.org/dir/Casablanca_118202/', 'height': 0, 'name': 'Casablanca', 'peak_id': '118202'}], [{'image': 'https://s.hikr.org/r4icons/ico2_peak_s.png', 'name_raw': 'Feil - P.2458m 2460 m   (9)', 'type': 'peak', 'waypoint_url': 'https://www.hikr.org/dir/Feil_-_P.2458m_11702/', 'height': 2460, 'name': 'Feil - P.2458m', 'peak_id': '2458'}, {'image': 'https://s.hikr.org/r4icons/ico2_peak_s.png', 'name_raw': 'Muttner Horn 2400 m   (20)', 'type': 'peak', 'waypoint_url': 'https://www.hikr.org/dir/Muttner_Horn_3442/', 'height': 2400, 'name': 'Muttner Horn', 'peak_id': '3442'}], [{'image': 'https://s.hikr.org/r4icons/ico2_ort_s.png', 'name_raw': 'Orselina Madonna del Sasso 378 m   (13)', 'type': 'location', 'waypoint_url': 'https://www.hikr.org/dir/Orselina_Madonna_del_Sasso_16092/', 'height': 378, 'name': 'Orselina Madonna del Sasso', 'peak_id': '16092'}, {'image': 'https://s.hikr.org/r4icons/ico2_hut_s.png', 'name_raw': 'Capanna Cardada Cimetta 1640 m   (55)', 'type': 'hut', 'waypoint_url': 'https://www.hikr.org/dir/Capanna_Cardada_Cimetta_9304/', 'height': 1640, 'name': 'Capanna Cardada Cimetta', 'peak_id': '9304'}, {'image': 'https://s.hikr.org/r4icons/ico2_hut_s.png', 'name_raw': 'Capanna Cardada Stallone 1480 m   (46)', 'type': 'hut', 'waypoint_url': 'https://www.hikr.org/dir/Capanna_Cardada_Stallone_9305/', 'height': 1480, 'name': 'Capanna Cardada Stallone', 'peak_id': '9305'}, {'image': 'https://s.hikr.org/r4icons/ico2_peak_s.png', 'name_raw': 'Cimetta 1671 m   (87)', 'type': 'peak', 'waypoint_url': 'https://www.hikr.org/dir/Cimetta_8657/', 'height': 1671, 'name': 'Cimetta', 'peak_id': '8657'}, {'image': 'https://s.hikr.org/r4icons/ico2_point_s.png', 'name_raw': 'Cardada 1329 m   (62)', 'type': 'other', 'waypoint_url': 'https://www.hikr.org/dir/Cardada_7516/', 'height': 1329, 'name': 'Cardada', 'peak_id': '7516'}], [{'image': 'https://s.hikr.org/r4icons/ico2_peak_s.png', 'name_raw': 'Schnidengrätli 2114 m   (9)', 'type': 'peak', 'waypoint_url': 'https://www.hikr.org/dir/Schnidengr%C3%A4tli_4733/', 'height': 2114, 'name': 'Schnidengrätli', 'peak_id': '3'}, {'image': 'https://s.hikr.org/r4icons/ico2_hut_s.png', 'name_raw': 'Älggi 1636 m   (16)', 'type': 'hut', 'waypoint_url': 'https://www.hikr.org/dir/%C3%84lggi_8161/', 'height': 1636, 'name': 'Älggi', 'peak_id': '3'}, {'image': 'https://s.hikr.org/r4icons/ico2_ort_s.png', 'name_raw': 'Sarnen 473 m   (11)', 'type': 'location', 'waypoint_url': 'https://www.hikr.org/dir/Sarnen_16827/', 'height': 473, 'name': 'Sarnen', 'peak_id': '16827'}], [{'image': 'https://s.hikr.org/r4icons/ico2_peak_s.png', 'name_raw': 'Bütschelegg 1056 m   (10)', 'type': 'peak', 'waypoint_url': 'https://www.hikr.org/dir/B%C3%BCtschelegg_701/', 'height': 1056, 'name': 'Bütschelegg', 'peak_id': '3'}, {'image': 'https://s.hikr.org/r4icons/ico2_point_s.png', 'name_raw': 'Bütschelbach - Sackau 610 m   (7)', 'type': 'other', 'waypoint_url': 'https://www.hikr.org/dir/B%C3%BCtschelbach_-_Sackau_14367/', 'height': 610, 'name': 'Bütschelbach - Sackau', 'peak_id': '3'}], [{'image': 'https://s.hikr.org/r4icons/ico2_ort_s.png', 'name_raw': 'Filicudi Porto 2 m   (5)', 'type': 'location', 'waypoint_url': 'https://www.hikr.org/dir/Filicudi_Porto_13231/', 'height': 2, 'name': 'Filicudi Porto', 'peak_id': '13231'}, {'image': 'https://s.hikr.org/r4icons/ico2_ruin_s.png', 'name_raw': 'Villagio Preistorico Capo Graziano 150 m   (1)', 'type': 'ruin', 'waypoint_url': 'https://www.hikr.org/dir/Villagio_Preistorico_Capo_Graziano_21088/', 'height': 150, 'name': 'Villagio Preistorico Capo Graziano', 'peak_id': '21088'}], [{'image': 'https://s.hikr.org/r4icons/ico2_ort_s.png', 'name_raw': 'Brig 678 m   (65)', 'type': 'location', 'waypoint_url': 'https://www.hikr.org/dir/Brig_8928/', 'height': 678, 'name': 'Brig', 'peak_id': '8928'}, {'image': 'https://s.hikr.org/r4icons/ico2_ort_s.png', 'name_raw': 'Lingwurm 827 m   (8)', 'type': 'location', 'waypoint_url': 'https://www.hikr.org/dir/Lingwurm_21134/', 'height': 827, 'name': 'Lingwurm', 'peak_id': '21134'}, {'image': 'https://s.hikr.org/r4icons/ico2_point_s.png', 'name_raw': 'Schallberg 1316 m   (13)', 'type': 'other', 'waypoint_url': 'https://www.hikr.org/dir/Schallberg_20955/', 'height': 1316, 'name': 'Schallberg', 'peak_id': '20955'}, {'image': 'https://s.hikr.org/r4icons/ico2_ort_s.png', 'name_raw': 'Grund 1071 m   (8)', 'type': 'location', 'waypoint_url': 'https://www.hikr.org/dir/Grund_21135/', 'height': 1071, 'name': 'Grund', 'peak_id': '21135'}, {'image': 'https://s.hikr.org/r4icons/ico2_point_s.png', 'name_raw': 'Taferna 1597 m   (6)', 'type': 'other', 'waypoint_url': 'https://www.hikr.org/dir/Taferna_21136/', 'height': 1597, 'name': 'Taferna', 'peak_id': '21136'}, {'image': 'https://s.hikr.org/r4icons/ico2_pass_s.png', 'name_raw': 'Simplonpass / Passo del Sempione 2006 m   (135)', 'type': 'pass', 'waypoint_url': 'https://www.hikr.org/dir/Simplonpass_Passo_del_Sempione_6928/', 'height': 2006, 'name': 'Simplonpass / Passo del Sempione', 'peak_id': '6928'}], [{'image': 'https://s.hikr.org/r4icons/ico2_point_s.png', 'name_raw': 'Gadon 690 m   (1)', 'type': 'other', 'waypoint_url': 'https://www.hikr.org/dir/Gadon_21341/', 'height': 690, 'name': 'Gadon', 'peak_id': '21341'}], [{'image': 'https://s.hikr.org/r4icons/ico2_ort_s.png', 'name_raw': 'Feldis / Veulden 1470 m   (26)', 'type': 'location', 'waypoint_url': 'https://www.hikr.org/dir/Feldis_Veulden_21102/', 'height': 1470, 'name': 'Feldis / Veulden', 'peak_id': '21102'}, {'image': 'https://s.hikr.org/r4icons/ico2_peak_s.png', 'name_raw': 'Furggabüel 2174 m   (27)', 'type': 'peak', 'waypoint_url': 'https://www.hikr.org/dir/Furggab%C3%BCel_1819/', 'height': 2174, 'name': 'Furggabüel', 'peak_id': '3'}, {'image': 'https://s.hikr.org/r4icons/ico2_peak_s.png', 'name_raw': 'Dreibündenstein / Term Bel 2160 m   (33)', 'type': 'peak', 'waypoint_url': 'https://www.hikr.org/dir/Dreib%C3%BCndenstein_Term_Bel_1431/', 'height': 2160, 'name': 'Dreibündenstein / Term Bel', 'peak_id': '3'}], [{'image': 'https://s.hikr.org/r4icons/ico2_ort_s.png', 'name_raw': 'Sombeval 653 m   (5)', 'type': 'location', 'waypoint_url': 'https://www.hikr.org/dir/Sombeval_13417/', 'height': 653, 'name': 'Sombeval', 'peak_id': '13417'}], [{'image': 'https://s.hikr.org/r4icons/ico2_hut_s.png', 'name_raw': 'Lütholdsmatt 1146 m   (71)', 'type': 'hut', 'waypoint_url': 'https://www.hikr.org/dir/L%C3%BCtholdsmatt_13463/', 'height': 1146, 'name': 'Lütholdsmatt', 'peak_id': '3'}, {'image': 'https://s.hikr.org/r4icons/ico2_hut_s.png', 'name_raw': 'Schy 1336 m   (39)', 'type': 'hut', 'waypoint_url': 'https://www.hikr.org/dir/Schy_13754/', 'height': 1336, 'name': 'Schy', 'peak_id': '13754'}, {'image': 'https://s.hikr.org/r4icons/ico2_hut_s.png', 'name_raw': 'Birchboden 1616 m   (56)', 'type': 'hut', 'waypoint_url': 'https://www.hikr.org/dir/Birchboden_13461/', 'height': 1616, 'name': 'Birchboden', 'peak_id': '13461'}, {'image': 'https://s.hikr.org/r4icons/ico2_peak_s.png', 'name_raw': 'Matthorn 2040 m   (67)', 'type': 'peak', 'waypoint_url': 'https://www.hikr.org/dir/Matthorn_3102/', 'height': 2040, 'name': 'Matthorn', 'peak_id': '3102'}, {'image': 'https://s.hikr.org/r4icons/ico2_hut_s.png', 'name_raw': 'Fräkmünt 1499 m   (56)', 'type': 'hut', 'waypoint_url': 'https://www.hikr.org/dir/Fr%C3%A4km%C3%BCnt_13755/', 'height': 1499, 'name': 'Fräkmünt', 'peak_id': '3'}], [{'image': 'https://s.hikr.org/r4icons/ico2_peak_s.png', 'name_raw': 'Sas Ciampac 2671 m   (8)', 'type': 'peak', 'waypoint_url': 'https://www.hikr.org/dir/Sas_Ciampac_20970/', 'height': 2671, 'name': 'Sas Ciampac', 'peak_id': '20970'}], [{'image': 'https://s.hikr.org/r4icons/ico2_peak_s.png', 'name_raw': 'Wasserflue 866 m   (48)', 'type': 'peak', 'waypoint_url': 'https://www.hikr.org/dir/Wasserflue_5907/', 'height': 866, 'name': 'Wasserflue', 'peak_id': '5907'}, {'image': 'https://s.hikr.org/r4icons/ico2_point_s.png', 'name_raw': 'Wasserflue - Aussichtsplattform 843 m   (46)', 'type': 'other', 'waypoint_url': 'https://www.hikr.org/dir/Wasserflue_-_Aussichtsplattform_19216/', 'height': 843, 'name': 'Wasserflue - Aussichtsplattform', 'peak_id': '19216'}, {'image': 'https://s.hikr.org/r4icons/ico2_point_s.png', 'name_raw': 'Haltestelle Küttigen-Fischbach 538 m   (29)', 'type': 'other', 'waypoint_url': 'https://www.hikr.org/dir/Haltestelle_K%C3%BCttigen-Fischbach_19215/', 'height': 538, 'name': 'Haltestelle Küttigen-Fischbach', 'peak_id': '3'}, {'image': 'https://s.hikr.org/r4icons/ico2_peak_s.png', 'name_raw': 'Ramsflue 704 m   (12)', 'type': 'peak', 'waypoint_url': 'https://www.hikr.org/dir/Ramsflue_7678/', 'height': 704, 'name': 'Ramsflue', 'peak_id': '7678'}], [{'image': 'https://s.hikr.org/r4icons/ico2_point_s.png', 'name_raw': 'Cortaccio 1067 m   (55)', 'type': 'other', 'waypoint_url': 'https://www.hikr.org/dir/Cortaccio_14181/', 'height': 1067, 'name': 'Cortaccio', 'peak_id': '14181'}, {'image': 'https://s.hikr.org/r4icons/ico2_pass_s.png', 'name_raw': 'Bocchetta di Valle 1948 m   (97)', 'type': 'pass', 'waypoint_url': 'https://www.hikr.org/dir/Bocchetta_di_Valle_9927/', 'height': 1948, 'name': 'Bocchetta di Valle', 'peak_id': '9927'}, {'image': 'https://s.hikr.org/r4icons/ico2_peak_s.png', 'name_raw': 'Gridone / Ghiridone / Monte Limidario 2188 m   (126)', 'type': 'peak', 'waypoint_url': 'https://www.hikr.org/dir/Gridone_Ghiridone_Monte_Limidario_2214/', 'height': 2188, 'name': 'Gridone / Ghiridone / Monte Limidario', 'peak_id': '2214'}, {'image': 'https://s.hikr.org/r4icons/ico2_hut_s.png', 'name_raw': 'Rifugio Al Legn 1785 m   (134)', 'type': 'hut', 'waypoint_url': 'https://www.hikr.org/dir/Rifugio_Al_Legn_7026/', 'height': 1785, 'name': 'Rifugio Al Legn', 'peak_id': '7026'}], [{'image': 'https://s.hikr.org/r4icons/ico2_ort_s.png', 'name_raw': 'Le Gaschney 985 m   (10)', 'type': 'location', 'waypoint_url': 'https://www.hikr.org/dir/Le_Gaschney_21152/', 'height': 985, 'name': 'Le Gaschney', 'peak_id': '21152'}, {'image': 'https://s.hikr.org/r4icons/ico2_hut_s.png', 'name_raw': 'Ferme Auberge du Schiessroth 1142 m   (11)', 'type': 'hut', 'waypoint_url': 'https://www.hikr.org/dir/Ferme_Auberge_du_Schiessroth_21153/', 'height': 1142, 'name': 'Ferme Auberge du Schiessroth', 'peak_id': '21153'}, {'image': 'https://s.hikr.org/r4icons/ico2_pass_s.png', 'name_raw': 'Col du Schaeferthal 1228 m   (31)', 'type': 'pass', 'waypoint_url': 'https://www.hikr.org/dir/Col_du_Schaeferthal_21154/', 'height': 1228, 'name': 'Col du Schaeferthal', 'peak_id': '21154'}, {'image': 'https://s.hikr.org/r4icons/ico2_peak_s.png', 'name_raw': 'Le Hohneck 1363 m   (41)', 'type': 'peak', 'waypoint_url': 'https://www.hikr.org/dir/Le_Hohneck_9213/', 'height': 1363, 'name': 'Le Hohneck', 'peak_id': '9213'}, {'image': 'https://s.hikr.org/r4icons/ico2_ort_s.png', 'name_raw': 'Belle Hutte - Pied des pistes 893 m   (2)', 'type': 'location', 'waypoint_url': 'https://www.hikr.org/dir/Belle_Hutte_-_Pied_des_pistes_21155/', 'height': 893, 'name': 'Belle Hutte - Pied des pistes', 'peak_id': '21155'}, {'image': 'https://s.hikr.org/r4icons/ico2_pass_s.png', 'name_raw': 'Col de Thiaville 1113 m   (5)', 'type': 'pass', 'waypoint_url': 'https://www.hikr.org/dir/Col_de_Thiaville_21156/', 'height': 1113, 'name': 'Col de Thiaville', 'peak_id': '21156'}, {'image': 'https://s.hikr.org/r4icons/ico2_hut_s.png', 'name_raw': 'Refuge du Sotré 1200 m   (4)', 'type': 'hut', 'waypoint_url': 'https://www.hikr.org/dir/Refuge_du_Sotr%C3%A9_21157/', 'height': 1200, 'name': 'Refuge du Sotré', 'peak_id': '3'}, {'image': 'https://s.hikr.org/r4icons/ico2_pass_s.png', 'name_raw': 'Col du Falimont 1290 m   (26)', 'type': 'pass', 'waypoint_url': 'https://www.hikr.org/dir/Col_du_Falimont_21158/', 'height': 1290, 'name': 'Col du Falimont', 'peak_id': '21158'}, {'image': 'https://s.hikr.org/r4icons/ico2_pass_s.png', 'name_raw': 'Col du Schaeferthal 1228 m   (31)', 'type': 'pass', 'waypoint_url': 'https://www.hikr.org/dir/Col_du_Schaeferthal_21154/', 'height': 1228, 'name': 'Col du Schaeferthal', 'peak_id': '21154'}, {'image': 'https://s.hikr.org/r4icons/ico2_peak_s.png', 'name_raw': 'Le Petit Hohneck 1289 m   (16)', 'type': 'peak', 'waypoint_url': 'https://www.hikr.org/dir/Le_Petit_Hohneck_12605/', 'height': 1289, 'name': 'Le Petit Hohneck', 'peak_id': '12605'}, {'image': 'https://s.hikr.org/r4icons/ico2_ort_s.png', 'name_raw': 'Le Gaschney 985 m   (10)', 'type': 'location', 'waypoint_url': 'https://www.hikr.org/dir/Le_Gaschney_21152/', 'height': 985, 'name': 'Le Gaschney', 'peak_id': '21152'}], [{'image': 'https://s.hikr.org/r4icons/ico2_peak_s.png', 'name_raw': 'Wildes Mannle 3023 m   (20)', 'type': 'peak', 'waypoint_url': 'https://www.hikr.org/dir/Wildes_Mannle_6817/', 'height': 3023, 'name': 'Wildes Mannle', 'peak_id': '6817'}, {'image': 'https://s.hikr.org/r4icons/ico2_ort_s.png', 'name_raw': 'Vent 1896 m   (145)', 'type': 'location', 'waypoint_url': 'https://www.hikr.org/dir/Vent_14642/', 'height': 1896, 'name': 'Vent', 'peak_id': '14642'}, {'image': 'https://s.hikr.org/r4icons/ico2_point_s.png', 'name_raw': 'Stablein 2356 m   (48)', 'type': 'other', 'waypoint_url': 'https://www.hikr.org/dir/Stablein_20954/', 'height': 2356, 'name': 'Stablein', 'peak_id': '20954'}], [{'image': 'https://s.hikr.org/r4icons/ico2_peak_s.png', 'name_raw': 'Bütziflue / Bützi 917 m   (110)', 'type': 'peak', 'waypoint_url': 'https://www.hikr.org/dir/B%C3%BCtziflue_B%C3%BCtzi_13603/', 'height': 917, 'name': 'Bütziflue / Bützi', 'peak_id': '3'}, {'image': 'https://s.hikr.org/r4icons/ico2_peak_s.png', 'name_raw': 'Stockflue / Duume 1137 m   (122)', 'type': 'peak', 'waypoint_url': 'https://www.hikr.org/dir/Stockflue_Duume_8628/', 'height': 1137, 'name': 'Stockflue / Duume', 'peak_id': '8628'}, {'image': 'https://s.hikr.org/r4icons/ico2_peak_s.png', 'name_raw': 'Rigi Hochflue / Hoflue 1699 m   (157)', 'type': 'peak', 'waypoint_url': 'https://www.hikr.org/dir/Rigi_Hochflue_Hoflue_4130/', 'height': 1699, 'name': 'Rigi Hochflue / Hoflue', 'peak_id': '4130'}], [{'image': 'https://s.hikr.org/r4icons/ico2_peak_s.png', 'name_raw': 'Spazzacaldeira 2487 m   (12)', 'type': 'peak', 'waypoint_url': 'https://www.hikr.org/dir/Spazzacaldeira_5023/', 'height': 2487, 'name': 'Spazzacaldeira', 'peak_id': '5023'}, {'image': 'https://s.hikr.org/r4icons/ico2_peak_s.png', 'name_raw': 'Fiamma 2446 m   (9)', 'type': 'peak', 'waypoint_url': 'https://www.hikr.org/dir/Fiamma_21105/', 'height': 2446, 'name': 'Fiamma', 'peak_id': '21105'}], [{'image': 'https://s.hikr.org/r4icons/ico2_ort_s.png', 'name_raw': 'Mollis 445 m   (25)', 'type': 'location', 'waypoint_url': 'https://www.hikr.org/dir/Mollis_21128/', 'height': 445, 'name': 'Mollis', 'peak_id': '21128'}, {'image': 'https://s.hikr.org/r4icons/ico2_hut_s.png', 'name_raw': 'Naturfreundehaus Fronalp 1389 m   (79)', 'type': 'hut', 'waypoint_url': 'https://www.hikr.org/dir/Naturfreundehaus_Fronalp_21129/', 'height': 1389, 'name': 'Naturfreundehaus Fronalp', 'peak_id': '21129'}, {'image': 'https://s.hikr.org/r4icons/ico2_pass_s.png', 'name_raw': 'Fronalppass 1852 m   (52)', 'type': 'pass', 'waypoint_url': 'https://www.hikr.org/dir/Fronalppass_9229/', 'height': 1852, 'name': 'Fronalppass', 'peak_id': '9229'}, {'image': 'https://s.hikr.org/r4icons/ico2_peak_s.png', 'name_raw': 'Färistock 2016 m   (13)', 'type': 'peak', 'waypoint_url': 'https://www.hikr.org/dir/F%C3%A4ristock_1859/', 'height': 2016, 'name': 'Färistock', 'peak_id': '3'}, {'image': 'https://s.hikr.org/r4icons/ico2_hut_s.png', 'name_raw': 'Ober Heuboden 1826 m   (10)', 'type': 'hut', 'waypoint_url': 'https://www.hikr.org/dir/Ober_Heuboden_21130/', 'height': 1826, 'name': 'Ober Heuboden', 'peak_id': '21130'}, {'image': 'https://s.hikr.org/r4icons/ico2_hut_s.png', 'name_raw': 'Skihütte Schilt 1338 m   (5)', 'type': 'hut', 'waypoint_url': 'https://www.hikr.org/dir/Skih%C3%BCtte_Schilt_21131/', 'height': 1338, 'name': 'Skihütte Schilt', 'peak_id': '3'}], [{'image': 'https://s.hikr.org/r4icons/ico2_ort_s.png', 'name_raw': 'Sangernboden 977 m   (13)', 'type': 'location', 'waypoint_url': 'https://www.hikr.org/dir/Sangernboden_9239/', 'height': 977, 'name': 'Sangernboden', 'peak_id': '9239'}, {'image': 'https://s.hikr.org/r4icons/ico2_point_s.png', 'name_raw': 'Unter Murenstöck 1137 m   (8)', 'type': 'other', 'waypoint_url': 'https://www.hikr.org/dir/Unter_Murenst%C3%B6ck_68092/', 'height': 1137, 'name': 'Unter Murenstöck', 'peak_id': '3'}, {'image': 'https://s.hikr.org/r4icons/ico2_peak_s.png', 'name_raw': 'Spitzhubel 1557 m   (1)', 'type': 'peak', 'waypoint_url': 'https://www.hikr.org/dir/Spitzhubel_45694/', 'height': 1557, 'name': 'Spitzhubel', 'peak_id': '45694'}, {'image': 'https://s.hikr.org/r4icons/ico2_hut_s.png', 'name_raw': 'Chalet du Hohberg SAC 1468 m   (3)', 'type': 'hut', 'waypoint_url': 'https://www.hikr.org/dir/Chalet_du_Hohberg_SAC_75378/', 'height': 1468, 'name': 'Chalet du Hohberg SAC', 'peak_id': '75378'}, {'image': 'https://s.hikr.org/r4icons/ico2_peak_s.png', 'name_raw': 'Hohmattli 1794 m   (10)', 'type': 'peak', 'waypoint_url': 'https://www.hikr.org/dir/Hohmattli_2527/', 'height': 1794, 'name': 'Hohmattli', 'peak_id': '2527'}, {'image': 'https://s.hikr.org/r4icons/ico2_pass_s.png', 'name_raw': 'Hohbergsattel 1485 m   (2)', 'type': 'pass', 'waypoint_url': 'https://www.hikr.org/dir/Hohbergsattel_75379/', 'height': 1485, 'name': 'Hohbergsattel', 'peak_id': '75379'}, {'image': 'https://s.hikr.org/r4icons/ico2_peak_s.png', 'name_raw': 'Ättenberg 1614 m   (6)', 'type': 'peak', 'waypoint_url': 'https://www.hikr.org/dir/%C3%84ttenberg_22/', 'height': 1614, 'name': 'Ättenberg', 'peak_id': '3'}, {'image': 'https://s.hikr.org/r4icons/ico2_peak_s.png', 'name_raw': 'Stoss 1537 m   (4)', 'type': 'peak', 'waypoint_url': 'https://www.hikr.org/dir/Stoss_82694/', 'height': 1537, 'name': 'Stoss', 'peak_id': '82694'}], [{'image': 'https://s.hikr.org/r4icons/ico2_peak_s.png', 'name_raw': 'Rigi Kulm 1798 m   (206)', 'type': 'peak', 'waypoint_url': 'https://www.hikr.org/dir/Rigi_Kulm_4131/', 'height': 1798, 'name': 'Rigi Kulm', 'peak_id': '4131'}, {'image': 'https://s.hikr.org/r4icons/ico2_point_s.png', 'name_raw': 'Rigi Staffel 1603 m   (155)', 'type': 'other', 'waypoint_url': 'https://www.hikr.org/dir/Rigi_Staffel_8364/', 'height': 1603, 'name': 'Rigi Staffel', 'peak_id': '8364'}, {'image': 'https://s.hikr.org/r4icons/ico2_ort_s.png', 'name_raw': 'Goldau 510 m   (59)', 'type': 'location', 'waypoint_url': 'https://www.hikr.org/dir/Goldau_8654/', 'height': 510, 'name': 'Goldau', 'peak_id': '8654'}, {'image': 'https://s.hikr.org/r4icons/ico2_hut_s.png', 'name_raw': 'Dächli 947 m   (27)', 'type': 'hut', 'waypoint_url': 'https://www.hikr.org/dir/D%C3%A4chli_20988/', 'height': 947, 'name': 'Dächli', 'peak_id': '3'}, {'image': 'https://s.hikr.org/r4icons/ico2_hut_s.png', 'name_raw': 'Zingel 1525 m   (16)', 'type': 'hut', 'waypoint_url': 'https://www.hikr.org/dir/Zingel_20989/', 'height': 1525, 'name': 'Zingel', 'peak_id': '20989'}], [{'image': 'https://s.hikr.org/r4icons/ico2_ort_s.png', 'name_raw': 'Piano di Campo 1187 m   (3)', 'type': 'location', 'waypoint_url': 'https://www.hikr.org/dir/Piano_di_Campo_21023/', 'height': 1187, 'name': 'Piano di Campo', 'peak_id': '21023'}, {'image': 'https://s.hikr.org/r4icons/ico2_point_s.png', 'name_raw': \"Alpe d'Arnau 1592 m   (6)\", 'type': 'other', 'waypoint_url': 'https://www.hikr.org/dir/Alpe_d_Arnau_21024/', 'height': 1592, 'name': \"Alpe d'Arnau\", 'peak_id': '21024'}], [{'image': 'https://s.hikr.org/r4icons/ico2_ort_s.png', 'name_raw': 'Lavertezzo 536 m   (95)', 'type': 'location', 'waypoint_url': 'https://www.hikr.org/dir/Lavertezzo_10862/', 'height': 536, 'name': 'Lavertezzo', 'peak_id': '10862'}, {'image': 'https://s.hikr.org/r4icons/ico2_point_s.png', 'name_raw': 'Eus 1603 m   (28)', 'type': 'other', 'waypoint_url': 'https://www.hikr.org/dir/Eus_20782/', 'height': 1603, 'name': 'Eus', 'peak_id': '20782'}, {'image': 'https://s.hikr.org/r4icons/ico2_peak_s.png', 'name_raw': \"Pizzo d'Eus 1728 m   (24)\", 'type': 'peak', 'waypoint_url': 'https://www.hikr.org/dir/Pizzo_d_Eus_9286/', 'height': 1728, 'name': \"Pizzo d'Eus\", 'peak_id': '9286'}], [{'image': 'https://s.hikr.org/r4icons/ico2_peak_s.png', 'name_raw': 'Brechhorn 2032 m   (6)', 'type': 'peak', 'waypoint_url': 'https://www.hikr.org/dir/Brechhorn_14552/', 'height': 2032, 'name': 'Brechhorn', 'peak_id': '14552'}], [{'image': 'https://s.hikr.org/r4icons/ico2_ort_s.png', 'name_raw': 'Bad Kohlgrub 820 m   (14)', 'type': 'location', 'waypoint_url': 'https://www.hikr.org/dir/Bad_Kohlgrub_18635/', 'height': 820, 'name': 'Bad Kohlgrub', 'peak_id': '18635'}, {'image': 'https://s.hikr.org/r4icons/ico2_ort_s.png', 'name_raw': 'Kraggenau 920 m   (3)', 'type': 'location', 'waypoint_url': 'https://www.hikr.org/dir/Kraggenau_21082/', 'height': 920, 'name': 'Kraggenau', 'peak_id': '21082'}, {'image': 'https://s.hikr.org/r4icons/ico2_ort_s.png', 'name_raw': 'Saulgrub 863 m   (2)', 'type': 'location', 'waypoint_url': 'https://www.hikr.org/dir/Saulgrub_21083/', 'height': 863, 'name': 'Saulgrub', 'peak_id': '21083'}, {'image': 'https://s.hikr.org/r4icons/ico2_ort_s.png', 'name_raw': 'Altenau 841 m   (4)', 'type': 'location', 'waypoint_url': 'https://www.hikr.org/dir/Altenau_19901/', 'height': 841, 'name': 'Altenau', 'peak_id': '19901'}, {'image': 'https://s.hikr.org/r4icons/ico2_ort_s.png', 'name_raw': 'Unternogg 844 m   (10)', 'type': 'location', 'waypoint_url': 'https://www.hikr.org/dir/Unternogg_19902/', 'height': 844, 'name': 'Unternogg', 'peak_id': '19902'}, {'image': 'https://s.hikr.org/r4icons/ico2_ort_s.png', 'name_raw': 'Morgenbach 850 m   (2)', 'type': 'location', 'waypoint_url': 'https://www.hikr.org/dir/Morgenbach_21084/', 'height': 850, 'name': 'Morgenbach', 'peak_id': '21084'}, {'image': 'https://s.hikr.org/r4icons/ico2_ort_s.png', 'name_raw': 'Bad Bayersoien 806 m   (5)', 'type': 'location', 'waypoint_url': 'https://www.hikr.org/dir/Bad_Bayersoien_20685/', 'height': 806, 'name': 'Bad Bayersoien', 'peak_id': '20685'}], [{'image': 'https://s.hikr.org/r4icons/ico2_peak_s.png', 'name_raw': 'Schnidengrätli 2114 m   (9)', 'type': 'peak', 'waypoint_url': 'https://www.hikr.org/dir/Schnidengr%C3%A4tli_4733/', 'height': 2114, 'name': 'Schnidengrätli', 'peak_id': '3'}], [{'image': 'https://s.hikr.org/r4icons/ico2_ort_s.png', 'name_raw': 'Rossa 1069 m   (42)', 'type': 'location', 'waypoint_url': 'https://www.hikr.org/dir/Rossa_7997/', 'height': 1069, 'name': 'Rossa', 'peak_id': '7997'}], [{'image': 'https://s.hikr.org/r4icons/ico2_ort_s.png', 'name_raw': 'Engelberg 1000 m   (169)', 'type': 'location', 'waypoint_url': 'https://www.hikr.org/dir/Engelberg_10891/', 'height': 1000, 'name': 'Engelberg', 'peak_id': '10891'}, {'image': 'https://s.hikr.org/r4icons/ico2_point_s.png', 'name_raw': 'Chneubos 1030 m   (5)', 'type': 'other', 'waypoint_url': 'https://www.hikr.org/dir/Chneubos_21009/', 'height': 1030, 'name': 'Chneubos', 'peak_id': '21009'}, {'image': 'https://s.hikr.org/r4icons/ico2_point_s.png', 'name_raw': 'Rietigboden 1092 m   (2)', 'type': 'other', 'waypoint_url': 'https://www.hikr.org/dir/Rietigboden_21010/', 'height': 1092, 'name': 'Rietigboden', 'peak_id': '21010'}, {'image': 'https://s.hikr.org/r4icons/ico2_point_s.png', 'name_raw': 'Schwand 1182 m   (7)', 'type': 'other', 'waypoint_url': 'https://www.hikr.org/dir/Schwand_21011/', 'height': 1182, 'name': 'Schwand', 'peak_id': '21011'}], [{'image': 'https://s.hikr.org/r4icons/ico2_peak_s.png', 'name_raw': 'Fläscherberg - Regitzer Spitz 1135 m   (70)', 'type': 'peak', 'waypoint_url': 'https://www.hikr.org/dir/Fl%C3%A4scherberg_-_Regitzer_Spitz_1702/', 'height': 1135, 'name': 'Fläscherberg - Regitzer Spitz', 'peak_id': '3'}, {'image': 'https://s.hikr.org/r4icons/ico2_ort_s.png', 'name_raw': 'Sankt Luzisteig 713 m   (43)', 'type': 'location', 'waypoint_url': 'https://www.hikr.org/dir/Sankt_Luzisteig_19538/', 'height': 713, 'name': 'Sankt Luzisteig', 'peak_id': '19538'}, {'image': 'https://s.hikr.org/r4icons/ico2_peak_s.png', 'name_raw': 'Fläscherberg - Schnielskopf 995 m   (16)', 'type': 'peak', 'waypoint_url': 'https://www.hikr.org/dir/Fl%C3%A4scherberg_-_Schnielskopf_12197/', 'height': 995, 'name': 'Fläscherberg - Schnielskopf', 'peak_id': '3'}], [{'image': 'https://s.hikr.org/r4icons/ico2_point_s.png', 'name_raw': 'Merlen 1099 m   (19)', 'type': 'other', 'waypoint_url': 'https://www.hikr.org/dir/Merlen_16821/', 'height': 1099, 'name': 'Merlen', 'peak_id': '16821'}, {'image': 'https://s.hikr.org/r4icons/ico2_point_s.png', 'name_raw': 'Gspon 1385 m   (24)', 'type': 'other', 'waypoint_url': 'https://www.hikr.org/dir/Gspon_20999/', 'height': 1385, 'name': 'Gspon', 'peak_id': '20999'}, {'image': 'https://s.hikr.org/r4icons/ico2_hut_s.png', 'name_raw': 'Ober Mürtschen 1731 m   (31)', 'type': 'hut', 'waypoint_url': 'https://www.hikr.org/dir/Ober_M%C3%BCrtschen_20997/', 'height': 1731, 'name': 'Ober Mürtschen', 'peak_id': '3'}, {'image': 'https://s.hikr.org/r4icons/ico2_pass_s.png', 'name_raw': 'Murgseefurggel 1985 m   (46)', 'type': 'pass', 'waypoint_url': 'https://www.hikr.org/dir/Murgseefurggel_7251/', 'height': 1985, 'name': 'Murgseefurggel', 'peak_id': '7251'}, {'image': 'https://s.hikr.org/r4icons/ico2_hut_s.png', 'name_raw': 'Berggasthaus Murgsee 1817 m   (34)', 'type': 'hut', 'waypoint_url': 'https://www.hikr.org/dir/Berggasthaus_Murgsee_6478/', 'height': 1817, 'name': 'Berggasthaus Murgsee', 'peak_id': '6478'}, {'image': 'https://s.hikr.org/r4icons/ico2_lake_s.png', 'name_raw': 'Unterer Murgsee 1683 m   (15)', 'type': 'lake', 'waypoint_url': 'https://www.hikr.org/dir/Unterer_Murgsee_16822/', 'height': 1683, 'name': 'Unterer Murgsee', 'peak_id': '16822'}, {'image': 'https://s.hikr.org/r4icons/ico2_point_s.png', 'name_raw': 'Mornen 1335 m   (30)', 'type': 'other', 'waypoint_url': 'https://www.hikr.org/dir/Mornen_20998/', 'height': 1335, 'name': 'Mornen', 'peak_id': '20998'}], [{'image': 'https://s.hikr.org/r4icons/ico2_peak_s.png', 'name_raw': 'Großer Bruder 1867 m   (2)', 'type': 'peak', 'waypoint_url': 'https://www.hikr.org/dir/Gro%C3%9Fer_Bruder_21165/', 'height': 1867, 'name': 'Großer Bruder', 'peak_id': '3'}, {'image': 'https://s.hikr.org/r4icons/ico2_peak_s.png', 'name_raw': 'Großer Weitschartenkopf 1979 m   (5)', 'type': 'peak', 'waypoint_url': 'https://www.hikr.org/dir/Gro%C3%9Fer_Weitschartenkopf_21166/', 'height': 1979, 'name': 'Großer Weitschartenkopf', 'peak_id': '3'}], [{'image': 'https://s.hikr.org/r4icons/ico2_lake_s.png', 'name_raw': 'Lago di Aviasco 2045 m   (14)', 'type': 'lake', 'waypoint_url': 'https://www.hikr.org/dir/Lago_di_Aviasco_21092/', 'height': 2045, 'name': 'Lago di Aviasco', 'peak_id': '21092'}, {'image': 'https://s.hikr.org/r4icons/ico2_lake_s.png', 'name_raw': 'Laghi Campelli 2036 m   (10)', 'type': 'lake', 'waypoint_url': 'https://www.hikr.org/dir/Laghi_Campelli_21093/', 'height': 2036, 'name': 'Laghi Campelli', 'peak_id': '21093'}, {'image': 'https://s.hikr.org/r4icons/ico2_lake_s.png', 'name_raw': 'Lago Sucotto 1854 m   (15)', 'type': 'lake', 'waypoint_url': 'https://www.hikr.org/dir/Lago_Sucotto_21137/', 'height': 1854, 'name': 'Lago Sucotto', 'peak_id': '21137'}, {'image': 'https://s.hikr.org/r4icons/ico2_lake_s.png', 'name_raw': 'Lago Rifugio Cernello 1996 m   (7)', 'type': 'lake', 'waypoint_url': 'https://www.hikr.org/dir/Lago_Rifugio_Cernello_21138/', 'height': 1996, 'name': 'Lago Rifugio Cernello', 'peak_id': '21138'}, {'image': 'https://s.hikr.org/r4icons/ico2_lake_s.png', 'name_raw': 'Lago Canali 1945 m   (9)', 'type': 'lake', 'waypoint_url': 'https://www.hikr.org/dir/Lago_Canali_21096/', 'height': 1945, 'name': 'Lago Canali', 'peak_id': '21096'}], [{'image': 'https://s.hikr.org/r4icons/ico2_point_s.png', 'name_raw': 'Scharnitz Parken P2 964 m   (71)', 'type': 'other', 'waypoint_url': 'https://www.hikr.org/dir/Scharnitz_Parken_P2_36903/', 'height': 964, 'name': 'Scharnitz Parken P2', 'peak_id': '2'}, {'image': 'https://s.hikr.org/r4icons/ico2_hut_s.png', 'name_raw': 'Larchetalm 1174 m   (40)', 'type': 'hut', 'waypoint_url': 'https://www.hikr.org/dir/Larchetalm_21170/', 'height': 1174, 'name': 'Larchetalm', 'peak_id': '21170'}, {'image': 'https://s.hikr.org/r4icons/ico2_point_s.png', 'name_raw': 'Raddepot / Brücke über den Karwendelbach 1280 m   (7)', 'type': 'other', 'waypoint_url': 'https://www.hikr.org/dir/Raddepot_Br%C3%BCcke_%C3%BCber_den_Karwendelbach_94519/', 'height': 1280, 'name': 'Raddepot / Brücke über den Karwendelbach', 'peak_id': '3'}, {'image': 'https://s.hikr.org/r4icons/ico2_point_s.png', 'name_raw': 'Neunerkar 2000 m   (6)', 'type': 'other', 'waypoint_url': 'https://www.hikr.org/dir/Neunerkar_63826/', 'height': 2000, 'name': 'Neunerkar', 'peak_id': '63826'}, {'image': 'https://s.hikr.org/r4icons/ico2_pass_s.png', 'name_raw': 'Breitgrieskarscharte 2388 m   (15)', 'type': 'pass', 'waypoint_url': 'https://www.hikr.org/dir/Breitgrieskarscharte_24265/', 'height': 2388, 'name': 'Breitgrieskarscharte', 'peak_id': '24265'}, {'image': 'https://s.hikr.org/r4icons/ico2_peak_s.png', 'name_raw': 'Große Seekarspitze 2679 m   (18)', 'type': 'peak', 'waypoint_url': 'https://www.hikr.org/dir/Gro%C3%9Fe_Seekarspitze_24266/', 'height': 2679, 'name': 'Große Seekarspitze', 'peak_id': '3'}, {'image': 'https://s.hikr.org/r4icons/ico2_pass_s.png', 'name_raw': 'Breitgrieskarscharte 2388 m   (15)', 'type': 'pass', 'waypoint_url': 'https://www.hikr.org/dir/Breitgrieskarscharte_24265/', 'height': 2388, 'name': 'Breitgrieskarscharte', 'peak_id': '24265'}, {'image': 'https://s.hikr.org/r4icons/ico2_point_s.png', 'name_raw': 'Neunerkar 2000 m   (6)', 'type': 'other', 'waypoint_url': 'https://www.hikr.org/dir/Neunerkar_63826/', 'height': 2000, 'name': 'Neunerkar', 'peak_id': '63826'}, {'image': 'https://s.hikr.org/r4icons/ico2_point_s.png', 'name_raw': 'Raddepot / Brücke über den Karwendelbach 1280 m   (7)', 'type': 'other', 'waypoint_url': 'https://www.hikr.org/dir/Raddepot_Br%C3%BCcke_%C3%BCber_den_Karwendelbach_94519/', 'height': 1280, 'name': 'Raddepot / Brücke über den Karwendelbach', 'peak_id': '3'}, {'image': 'https://s.hikr.org/r4icons/ico2_hut_s.png', 'name_raw': 'Larchetalm 1174 m   (40)', 'type': 'hut', 'waypoint_url': 'https://www.hikr.org/dir/Larchetalm_21170/', 'height': 1174, 'name': 'Larchetalm', 'peak_id': '21170'}, {'image': 'https://s.hikr.org/r4icons/ico2_point_s.png', 'name_raw': 'Scharnitz Parken P2 964 m   (71)', 'type': 'other', 'waypoint_url': 'https://www.hikr.org/dir/Scharnitz_Parken_P2_36903/', 'height': 964, 'name': 'Scharnitz Parken P2', 'peak_id': '2'}], [{'image': 'https://s.hikr.org/r4icons/ico2_point_s.png', 'name_raw': 'Mittlerwengi 1175 m   (49)', 'type': 'other', 'waypoint_url': 'https://www.hikr.org/dir/Mittlerwengi_11761/', 'height': 1175, 'name': 'Mittlerwengi', 'peak_id': '11761'}, {'image': 'https://s.hikr.org/r4icons/ico2_hut_s.png', 'name_raw': 'Hinterwengi 1341 m   (47)', 'type': 'hut', 'waypoint_url': 'https://www.hikr.org/dir/Hinterwengi_13595/', 'height': 1341, 'name': 'Hinterwengi', 'peak_id': '13595'}, {'image': 'https://s.hikr.org/r4icons/ico2_peak_s.png', 'name_raw': 'Chli Speer 1713 m   (26)', 'type': 'peak', 'waypoint_url': 'https://www.hikr.org/dir/Chli_Speer_7103/', 'height': 1713, 'name': 'Chli Speer', 'peak_id': '7103'}, {'image': 'https://s.hikr.org/r4icons/ico2_hut_s.png', 'name_raw': 'Hinterwengi 1341 m   (47)', 'type': 'hut', 'waypoint_url': 'https://www.hikr.org/dir/Hinterwengi_13595/', 'height': 1341, 'name': 'Hinterwengi', 'peak_id': '13595'}, {'image': 'https://s.hikr.org/r4icons/ico2_point_s.png', 'name_raw': 'Mittlerwengi 1175 m   (49)', 'type': 'other', 'waypoint_url': 'https://www.hikr.org/dir/Mittlerwengi_11761/', 'height': 1175, 'name': 'Mittlerwengi', 'peak_id': '11761'}], [{'image': 'https://s.hikr.org/r4icons/ico2_ort_s.png', 'name_raw': 'Chioso 900 m   (17)', 'type': 'location', 'waypoint_url': 'https://www.hikr.org/dir/Chioso_20974/', 'height': 900, 'name': 'Chioso', 'peak_id': '20974'}, {'image': 'https://s.hikr.org/r4icons/ico2_point_s.png', 'name_raw': 'Alpe di Vova 1492 m   (14)', 'type': 'other', 'waypoint_url': 'https://www.hikr.org/dir/Alpe_di_Vova_20901/', 'height': 1492, 'name': 'Alpe di Vova', 'peak_id': '20901'}, {'image': 'https://s.hikr.org/r4icons/ico2_point_s.png', 'name_raw': 'Alpe Giove 2159 m   (15)', 'type': 'other', 'waypoint_url': 'https://www.hikr.org/dir/Alpe_Giove_20975/', 'height': 2159, 'name': 'Alpe Giove', 'peak_id': '20975'}, {'image': 'https://s.hikr.org/r4icons/ico2_peak_s.png', 'name_raw': 'Monte Giove 3009 m   (17)', 'type': 'peak', 'waypoint_url': 'https://www.hikr.org/dir/Monte_Giove_10277/', 'height': 3009, 'name': 'Monte Giove', 'peak_id': '10277'}], [{'image': 'https://s.hikr.org/r4icons/ico2_hut_s.png', 'name_raw': 'La Cergnaule 1283 m   (8)', 'type': 'hut', 'waypoint_url': 'https://www.hikr.org/dir/La_Cergnaule_21040/', 'height': 1283, 'name': 'La Cergnaule', 'peak_id': '21040'}, {'image': 'https://s.hikr.org/r4icons/ico2_pass_s.png', 'name_raw': 'Col de Soladier 1576 m   (12)', 'type': 'pass', 'waypoint_url': 'https://www.hikr.org/dir/Col_de_Soladier_21041/', 'height': 1576, 'name': 'Col de Soladier', 'peak_id': '21041'}, {'image': 'https://s.hikr.org/r4icons/ico2_peak_s.png', 'name_raw': 'Le Molard 1752 m   (9)', 'type': 'peak', 'waypoint_url': 'https://www.hikr.org/dir/Le_Molard_3256/', 'height': 1752, 'name': 'Le Molard', 'peak_id': '3256'}, {'image': 'https://s.hikr.org/r4icons/ico2_point_s.png', 'name_raw': 'La Forcla 1622 m   (7)', 'type': 'other', 'waypoint_url': 'https://www.hikr.org/dir/La_Forcla_21042/', 'height': 1622, 'name': 'La Forcla', 'peak_id': '21042'}, {'image': 'https://s.hikr.org/r4icons/ico2_peak_s.png', 'name_raw': 'Le Folly 1730 m   (5)', 'type': 'peak', 'waypoint_url': 'https://www.hikr.org/dir/Le_Folly_21043/', 'height': 1730, 'name': 'Le Folly', 'peak_id': '21043'}, {'image': 'https://s.hikr.org/r4icons/ico2_point_s.png', 'name_raw': 'Plan de Châtel 1474 m   (3)', 'type': 'other', 'waypoint_url': 'https://www.hikr.org/dir/Plan_de_Ch%C3%A2tel_21044/', 'height': 1474, 'name': 'Plan de Châtel', 'peak_id': '3'}, {'image': 'https://s.hikr.org/r4icons/ico2_hut_s.png', 'name_raw': 'La Cergnaule 1283 m   (8)', 'type': 'hut', 'waypoint_url': 'https://www.hikr.org/dir/La_Cergnaule_21040/', 'height': 1283, 'name': 'La Cergnaule', 'peak_id': '21040'}], [{'image': 'https://s.hikr.org/r4icons/ico2_pass_s.png', 'name_raw': 'Wasserscheide / Wasserscheidi 1584 m   (132)', 'type': 'pass', 'waypoint_url': 'https://www.hikr.org/dir/Wasserscheide_Wasserscheidi_18644/', 'height': 1584, 'name': 'Wasserscheide / Wasserscheidi', 'peak_id': '18644'}, {'image': 'https://s.hikr.org/r4icons/ico2_peak_s.png', 'name_raw': 'Gantrisch 2175 m   (108)', 'type': 'peak', 'waypoint_url': 'https://www.hikr.org/dir/Gantrisch_1919/', 'height': 2175, 'name': 'Gantrisch', 'peak_id': '1919'}, {'image': 'https://s.hikr.org/r4icons/ico2_peak_s.png', 'name_raw': 'Schibenspitz 2060 m   (59)', 'type': 'peak', 'waypoint_url': 'https://www.hikr.org/dir/Schibenspitz_4651/', 'height': 2060, 'name': 'Schibenspitz', 'peak_id': '4651'}, {'image': 'https://s.hikr.org/r4icons/ico2_peak_s.png', 'name_raw': 'Bürglen 2165 m   (102)', 'type': 'peak', 'waypoint_url': 'https://www.hikr.org/dir/B%C3%BCrglen_693/', 'height': 2165, 'name': 'Bürglen', 'peak_id': '3'}, {'image': 'https://s.hikr.org/r4icons/ico2_peak_s.png', 'name_raw': 'Gemsflue 2154 m   (35)', 'type': 'peak', 'waypoint_url': 'https://www.hikr.org/dir/Gemsflue_7715/', 'height': 2154, 'name': 'Gemsflue', 'peak_id': '7715'}, {'image': 'https://s.hikr.org/r4icons/ico2_peak_s.png', 'name_raw': 'Ochsen 2189 m   (60)', 'type': 'peak', 'waypoint_url': 'https://www.hikr.org/dir/Ochsen_3652/', 'height': 2189, 'name': 'Ochsen', 'peak_id': '3652'}, {'image': 'https://s.hikr.org/r4icons/ico2_ort_s.png', 'name_raw': 'Schwefelbergbad 1389 m   (49)', 'type': 'location', 'waypoint_url': 'https://www.hikr.org/dir/Schwefelbergbad_6951/', 'height': 1389, 'name': 'Schwefelbergbad', 'peak_id': '6951'}, {'image': 'https://s.hikr.org/r4icons/ico2_hut_s.png', 'name_raw': 'Untere Gantrischhütte 1512 m   (102)', 'type': 'hut', 'waypoint_url': 'https://www.hikr.org/dir/Untere_Gantrischh%C3%BCtte_6952/', 'height': 1512, 'name': 'Untere Gantrischhütte', 'peak_id': '3'}, {'image': 'https://s.hikr.org/r4icons/ico2_pass_s.png', 'name_raw': 'Wasserscheide / Wasserscheidi 1584 m   (132)', 'type': 'pass', 'waypoint_url': 'https://www.hikr.org/dir/Wasserscheide_Wasserscheidi_18644/', 'height': 1584, 'name': 'Wasserscheide / Wasserscheidi', 'peak_id': '18644'}], [{'image': 'https://s.hikr.org/r4icons/ico2_ort_s.png', 'name_raw': 'Bad Ragaz 502 m   (53)', 'type': 'location', 'waypoint_url': 'https://www.hikr.org/dir/Bad_Ragaz_11872/', 'height': 502, 'name': 'Bad Ragaz', 'peak_id': '11872'}, {'image': 'https://s.hikr.org/r4icons/ico2_point_s.png', 'name_raw': 'Taminaschlucht 719 m   (10)', 'type': 'other', 'waypoint_url': 'https://www.hikr.org/dir/Taminaschlucht_20365/', 'height': 719, 'name': 'Taminaschlucht', 'peak_id': '20365'}, {'image': 'https://s.hikr.org/r4icons/ico2_ort_s.png', 'name_raw': 'Pfäfers 820 m   (19)', 'type': 'location', 'waypoint_url': 'https://www.hikr.org/dir/Pf%C3%A4fers_11871/', 'height': 820, 'name': 'Pfäfers', 'peak_id': '3'}, {'image': 'https://s.hikr.org/r4icons/ico2_ort_s.png', 'name_raw': 'Bad Ragaz 502 m   (53)', 'type': 'location', 'waypoint_url': 'https://www.hikr.org/dir/Bad_Ragaz_11872/', 'height': 502, 'name': 'Bad Ragaz', 'peak_id': '11872'}], [{'image': 'https://s.hikr.org/r4icons/ico2_ort_s.png', 'name_raw': 'Ginostra 50 m   (2)', 'type': 'location', 'waypoint_url': 'https://www.hikr.org/dir/Ginostra_21051/', 'height': 50, 'name': 'Ginostra', 'peak_id': '21051'}], [{'image': 'https://s.hikr.org/r4icons/ico2_hut_s.png', 'name_raw': 'Älggi 1636 m   (16)', 'type': 'hut', 'waypoint_url': 'https://www.hikr.org/dir/%C3%84lggi_8161/', 'height': 1636, 'name': 'Älggi', 'peak_id': '3'}, {'image': 'https://s.hikr.org/r4icons/ico2_peak_s.png', 'name_raw': 'Schnidengrätli 2114 m   (9)', 'type': 'peak', 'waypoint_url': 'https://www.hikr.org/dir/Schnidengr%C3%A4tli_4733/', 'height': 2114, 'name': 'Schnidengrätli', 'peak_id': '3'}, {'image': 'https://s.hikr.org/r4icons/ico2_peak_s.png', 'name_raw': 'Haupt 2312 m   (28)', 'type': 'peak', 'waypoint_url': 'https://www.hikr.org/dir/Haupt_2411/', 'height': 2312, 'name': 'Haupt', 'peak_id': '2411'}, {'image': 'https://s.hikr.org/r4icons/ico2_peak_s.png', 'name_raw': 'Chli Haupt / Murmelchopf 2256 m   (21)', 'type': 'peak', 'waypoint_url': 'https://www.hikr.org/dir/Chli_Haupt_Murmelchopf_2412/', 'height': 2256, 'name': 'Chli Haupt / Murmelchopf', 'peak_id': '2412'}, {'image': 'https://s.hikr.org/r4icons/ico2_peak_s.png', 'name_raw': 'Abgschütz 2262 m   (50)', 'type': 'peak', 'waypoint_url': 'https://www.hikr.org/dir/Abgsch%C3%BCtz_5/', 'height': 2262, 'name': 'Abgschütz', 'peak_id': '3'}, {'image': 'https://s.hikr.org/r4icons/ico2_peak_s.png', 'name_raw': 'Seefeldstock 2128 m   (4)', 'type': 'peak', 'waypoint_url': 'https://www.hikr.org/dir/Seefeldstock_4861/', 'height': 2128, 'name': 'Seefeldstock', 'peak_id': '4861'}], [{'image': 'https://s.hikr.org/r4icons/ico2_peak_s.png', 'name_raw': 'Zerminiger Spitze / Monte Cermigna - Vorgipfel 3062 m   (4)', 'type': 'peak', 'waypoint_url': 'https://www.hikr.org/dir/Zerminiger_Spitze_Monte_Cermigna_-_Vorgipfel_20964/', 'height': 3062, 'name': 'Zerminiger Spitze / Monte Cermigna - Vorgipfel', 'peak_id': '20964'}], [{'image': 'https://s.hikr.org/r4icons/ico2_peak_s.png', 'name_raw': 'Vulcano Gran Cratere 391 m   (12)', 'type': 'peak', 'waypoint_url': 'https://www.hikr.org/dir/Vulcano_Gran_Cratere_12773/', 'height': 391, 'name': 'Vulcano Gran Cratere', 'peak_id': '12773'}, {'image': 'https://s.hikr.org/r4icons/ico2_ort_s.png', 'name_raw': 'Vulcano Porto di Levante 5 m   (13)', 'type': 'location', 'waypoint_url': 'https://www.hikr.org/dir/Vulcano_Porto_di_Levante_12772/', 'height': 5, 'name': 'Vulcano Porto di Levante', 'peak_id': '12772'}], [{'image': 'https://s.hikr.org/r4icons/ico2_pass_s.png', 'name_raw': 'Bassa di Söu 2443 m   (40)', 'type': 'pass', 'waypoint_url': 'https://www.hikr.org/dir/Bassa_di_S%C3%B6u_9791/', 'height': 2443, 'name': 'Bassa di Söu', 'peak_id': '3'}, {'image': 'https://s.hikr.org/r4icons/ico2_pass_s.png', 'name_raw': 'Passo Predèlp 2452 m   (23)', 'type': 'pass', 'waypoint_url': 'https://www.hikr.org/dir/Passo_Pred%C3%A8lp_9792/', 'height': 2452, 'name': 'Passo Predèlp', 'peak_id': '3'}, {'image': 'https://s.hikr.org/r4icons/ico2_peak_s.png', 'name_raw': 'Pizzo Predèlp - Cima Occidentale 2585 m   (21)', 'type': 'peak', 'waypoint_url': 'https://www.hikr.org/dir/Pizzo_Pred%C3%A8lp_-_Cima_Occidentale_9261/', 'height': 2585, 'name': 'Pizzo Predèlp - Cima Occidentale', 'peak_id': '3'}], [{'image': 'https://s.hikr.org/r4icons/ico2_ort_s.png', 'name_raw': 'Amsterdam 2 m   (6)', 'type': 'location', 'waypoint_url': 'https://www.hikr.org/dir/Amsterdam_22384/', 'height': 2, 'name': 'Amsterdam', 'peak_id': '22384'}], [{'image': 'https://s.hikr.org/r4icons/ico2_climb_s.png', 'name_raw': 'Klammgraben 750 m   (1)', 'type': 'climb', 'waypoint_url': 'https://www.hikr.org/dir/Klammgraben_19890/', 'height': 750, 'name': 'Klammgraben', 'peak_id': '19890'}], [{'image': 'https://s.hikr.org/r4icons/ico2_point_s.png', 'name_raw': 'Oropa - parcheggio funivia 1221 m   (19)', 'type': 'other', 'waypoint_url': 'https://www.hikr.org/dir/Oropa_-_parcheggio_funivia_69780/', 'height': 1221, 'name': 'Oropa - parcheggio funivia', 'peak_id': '69780'}, {'image': 'https://s.hikr.org/r4icons/ico2_hut_s.png', 'name_raw': 'Rifugio Rosazza 1810 m   (12)', 'type': 'hut', 'waypoint_url': 'https://www.hikr.org/dir/Rifugio_Rosazza_78084/', 'height': 1810, 'name': 'Rifugio Rosazza', 'peak_id': '78084'}, {'image': 'https://s.hikr.org/r4icons/ico2_pass_s.png', 'name_raw': 'Sella Finestra 2000 m   (3)', 'type': 'pass', 'waypoint_url': 'https://www.hikr.org/dir/Sella_Finestra_78081/', 'height': 2000, 'name': 'Sella Finestra', 'peak_id': '78081'}, {'image': 'https://s.hikr.org/r4icons/ico2_peak_s.png', 'name_raw': 'Monte Tovo 2230 m   (6)', 'type': 'peak', 'waypoint_url': 'https://www.hikr.org/dir/Monte_Tovo_29930/', 'height': 2230, 'name': 'Monte Tovo', 'peak_id': '29930'}, {'image': 'https://s.hikr.org/r4icons/ico2_point_s.png', 'name_raw': 'Delubro 1245 m   (12)', 'type': 'other', 'waypoint_url': 'https://www.hikr.org/dir/Delubro_48924/', 'height': 1245, 'name': 'Delubro', 'peak_id': '48924'}, {'image': 'https://s.hikr.org/r4icons/ico2_point_s.png', 'name_raw': 'Santuario di Oropa 1185 m   (24)', 'type': 'other', 'waypoint_url': 'https://www.hikr.org/dir/Santuario_di_Oropa_27839/', 'height': 1185, 'name': 'Santuario di Oropa', 'peak_id': '27839'}, {'image': 'https://s.hikr.org/r4icons/ico2_point_s.png', 'name_raw': 'Oropa - parcheggio funivia 1221 m   (19)', 'type': 'other', 'waypoint_url': 'https://www.hikr.org/dir/Oropa_-_parcheggio_funivia_69780/', 'height': 1221, 'name': 'Oropa - parcheggio funivia', 'peak_id': '69780'}], [{'image': 'https://s.hikr.org/r4icons/ico2_viafe_s.png', 'name_raw': 'historischer Klettersteig Pinut 1500 m   (31)', 'type': 'via_ferrata', 'waypoint_url': 'https://www.hikr.org/dir/historischer_Klettersteig_Pinut_14660/', 'height': 1500, 'name': 'historischer Klettersteig Pinut', 'peak_id': '14660'}], [{'image': 'https://s.hikr.org/r4icons/ico2_peak_s.png', 'name_raw': 'Simmenfluh - Mittagflue 1421 m   (36)', 'type': 'peak', 'waypoint_url': 'https://www.hikr.org/dir/Simmenfluh_-_Mittagflue_7630/', 'height': 1421, 'name': 'Simmenfluh - Mittagflue', 'peak_id': '7630'}], [{'image': 'https://s.hikr.org/r4icons/ico2_hut_s.png', 'name_raw': 'Rifugio del Pian Cavallone 1530 m   (31)', 'type': 'hut', 'waypoint_url': 'https://www.hikr.org/dir/Rifugio_del_Pian_Cavallone_16053/', 'height': 1530, 'name': 'Rifugio del Pian Cavallone', 'peak_id': '16053'}, {'image': 'https://s.hikr.org/r4icons/ico2_point_s.png', 'name_raw': 'Cappella del Pian Cavallone 1544 m   (49)', 'type': 'other', 'waypoint_url': 'https://www.hikr.org/dir/Cappella_del_Pian_Cavallone_20483/', 'height': 1544, 'name': 'Cappella del Pian Cavallone', 'peak_id': '20483'}, {'image': 'https://s.hikr.org/r4icons/ico2_point_s.png', 'name_raw': 'Alpe Sunfaì 1247 m   (23)', 'type': 'other', 'waypoint_url': 'https://www.hikr.org/dir/Alpe_Sunfa%C3%AC_20980/', 'height': 1247, 'name': 'Alpe Sunfaì', 'peak_id': '3'}, {'image': 'https://s.hikr.org/r4icons/ico2_point_s.png', 'name_raw': 'Trecciura 1350 m   (18)', 'type': 'other', 'waypoint_url': 'https://www.hikr.org/dir/Trecciura_20981/', 'height': 1350, 'name': 'Trecciura', 'peak_id': '20981'}, {'image': 'https://s.hikr.org/r4icons/ico2_point_s.png', 'name_raw': 'Cappella Porta 1050 m   (11)', 'type': 'other', 'waypoint_url': 'https://www.hikr.org/dir/Cappella_Porta_20982/', 'height': 1050, 'name': 'Cappella Porta', 'peak_id': '20982'}, {'image': 'https://s.hikr.org/r4icons/ico2_point_s.png', 'name_raw': 'Steppio 987 m   (2)', 'type': 'other', 'waypoint_url': 'https://www.hikr.org/dir/Steppio_20984/', 'height': 987, 'name': 'Steppio', 'peak_id': '20984'}], [{'image': 'https://s.hikr.org/r4icons/ico2_peak_s.png', 'name_raw': 'Morgenberghorn 2249 m   (44)', 'type': 'peak', 'waypoint_url': 'https://www.hikr.org/dir/Morgenberghorn_3294/', 'height': 2249, 'name': 'Morgenberghorn', 'peak_id': '3294'}], [{'image': 'https://s.hikr.org/r4icons/ico2_point_s.png', 'name_raw': 'Cascina Piana 1076 m   (23)', 'type': 'other', 'waypoint_url': 'https://www.hikr.org/dir/Cascina_Piana_19423/', 'height': 1076, 'name': 'Cascina Piana', 'peak_id': '19423'}], [{'image': 'https://s.hikr.org/r4icons/ico2_peak_s.png', 'name_raw': 'Volcán Teneguía 437 m   (6)', 'type': 'peak', 'waypoint_url': 'https://www.hikr.org/dir/Volc%C3%A1n_Tenegu%C3%ADa_10887/', 'height': 437, 'name': 'Volcán Teneguía', 'peak_id': '3'}, {'image': 'https://s.hikr.org/r4icons/ico2_ort_s.png', 'name_raw': 'Los Quemados 450 m   (1)', 'type': 'location', 'waypoint_url': 'https://www.hikr.org/dir/Los_Quemados_21203/', 'height': 450, 'name': 'Los Quemados', 'peak_id': '21203'}], [{'image': 'https://s.hikr.org/r4icons/ico2_peak_s.png', 'name_raw': 'Pico Bejenado 1856 m   (8)', 'type': 'peak', 'waypoint_url': 'https://www.hikr.org/dir/Pico_Bejenado_13029/', 'height': 1856, 'name': 'Pico Bejenado', 'peak_id': '13029'}, {'image': 'https://s.hikr.org/r4icons/ico2_ort_s.png', 'name_raw': 'El Paso 664 m   (2)', 'type': 'location', 'waypoint_url': 'https://www.hikr.org/dir/El_Paso_21201/', 'height': 664, 'name': 'El Paso', 'peak_id': '21201'}, {'image': 'https://s.hikr.org/r4icons/ico2_ort_s.png', 'name_raw': 'Valencia 900 m   (2)', 'type': 'location', 'waypoint_url': 'https://www.hikr.org/dir/Valencia_21202/', 'height': 900, 'name': 'Valencia', 'peak_id': '21202'}], [{'image': 'https://s.hikr.org/r4icons/ico2_peak_s.png', 'name_raw': 'Widdergalm 2174 m   (22)', 'type': 'peak', 'waypoint_url': 'https://www.hikr.org/dir/Widdergalm_5941/', 'height': 2174, 'name': 'Widdergalm', 'peak_id': '5941'}, {'image': 'https://s.hikr.org/r4icons/ico2_hut_s.png', 'name_raw': 'Trimlenhüttli 1610 m   (3)', 'type': 'hut', 'waypoint_url': 'https://www.hikr.org/dir/Trimlenh%C3%BCttli_20639/', 'height': 1610, 'name': 'Trimlenhüttli', 'peak_id': '3'}], [{'image': 'https://s.hikr.org/r4icons/ico2_peak_s.png', 'name_raw': 'Steischlaghore / Steinschlaghore 2321 m   (34)', 'type': 'peak', 'waypoint_url': 'https://www.hikr.org/dir/Steischlaghore_Steinschlaghore_5126/', 'height': 2321, 'name': 'Steischlaghore / Steinschlaghore', 'peak_id': '5126'}, {'image': 'https://s.hikr.org/r4icons/ico2_ort_s.png', 'name_raw': 'Frutigen 780 m   (51)', 'type': 'location', 'waypoint_url': 'https://www.hikr.org/dir/Frutigen_10459/', 'height': 780, 'name': 'Frutigen', 'peak_id': '10459'}], [{'image': 'https://s.hikr.org/r4icons/ico2_peak_s.png', 'name_raw': 'Seebergspitze 2085 m   (21)', 'type': 'peak', 'waypoint_url': 'https://www.hikr.org/dir/Seebergspitze_11300/', 'height': 2085, 'name': 'Seebergspitze', 'peak_id': '11300'}], [{'image': 'https://s.hikr.org/r4icons/ico2_viafe_s.png', 'name_raw': 'Mudna Dol 500 m   (1)', 'type': 'via_ferrata', 'waypoint_url': 'https://www.hikr.org/dir/Mudna_Dol_21069/', 'height': 500, 'name': 'Mudna Dol', 'peak_id': '21069'}, {'image': 'https://s.hikr.org/r4icons/ico2_peak_s.png', 'name_raw': 'Vidalji 1184 m   (1)', 'type': 'peak', 'waypoint_url': 'https://www.hikr.org/dir/Vidalji_21065/', 'height': 1184, 'name': 'Vidalji', 'peak_id': '21065'}, {'image': 'https://s.hikr.org/r4icons/ico2_peak_s.png', 'name_raw': 'Dnić 1190 m   (1)', 'type': 'peak', 'waypoint_url': 'https://www.hikr.org/dir/Dni%C4%87_21063/', 'height': 1190, 'name': 'Dnić', 'peak_id': '4'}, {'image': 'https://s.hikr.org/r4icons/ico2_hut_s.png', 'name_raw': 'Hahlići 1097 m   (1)', 'type': 'hut', 'waypoint_url': 'https://www.hikr.org/dir/Hahli%C4%87i_21062/', 'height': 1097, 'name': 'Hahlići', 'peak_id': '4'}, {'image': 'https://s.hikr.org/r4icons/ico2_peak_s.png', 'name_raw': 'Obruč 1376 m   (1)', 'type': 'peak', 'waypoint_url': 'https://www.hikr.org/dir/Obru%C4%8D_21066/', 'height': 1376, 'name': 'Obruč', 'peak_id': '4'}, {'image': 'https://s.hikr.org/r4icons/ico2_peak_s.png', 'name_raw': 'Sjeverni Vrh Pakleno 1331 m   (1)', 'type': 'peak', 'waypoint_url': 'https://www.hikr.org/dir/Sjeverni_Vrh_Pakleno_21067/', 'height': 1331, 'name': 'Sjeverni Vrh Pakleno', 'peak_id': '21067'}, {'image': 'https://s.hikr.org/r4icons/ico2_peak_s.png', 'name_raw': 'Vrh Paklena 1340 m   (1)', 'type': 'peak', 'waypoint_url': 'https://www.hikr.org/dir/Vrh_Paklena_21068/', 'height': 1340, 'name': 'Vrh Paklena', 'peak_id': '21068'}, {'image': 'https://s.hikr.org/r4icons/ico2_peak_s.png', 'name_raw': 'Ćunina glava 1158 m   (1)', 'type': 'peak', 'waypoint_url': 'https://www.hikr.org/dir/%C4%86unina_glava_21064/', 'height': 1158, 'name': 'Ćunina glava', 'peak_id': '4'}, {'image': 'https://s.hikr.org/r4icons/ico2_ort_s.png', 'name_raw': 'Podkilavac 300 m   (2)', 'type': 'location', 'waypoint_url': 'https://www.hikr.org/dir/Podkilavac_21070/', 'height': 300, 'name': 'Podkilavac', 'peak_id': '21070'}, {'image': 'https://s.hikr.org/r4icons/ico2_ort_s.png', 'name_raw': 'Dražice 300 m   (2)', 'type': 'location', 'waypoint_url': 'https://www.hikr.org/dir/Dra%C5%BEice_21071/', 'height': 300, 'name': 'Dražice', 'peak_id': '5'}], [{'image': 'https://s.hikr.org/r4icons/ico2_ort_s.png', 'name_raw': 'Schwyz 516 m   (30)', 'type': 'location', 'waypoint_url': 'https://www.hikr.org/dir/Schwyz_17395/', 'height': 516, 'name': 'Schwyz', 'peak_id': '17395'}, {'image': 'https://s.hikr.org/r4icons/ico2_hut_s.png', 'name_raw': 'Holzegg 1405 m   (249)', 'type': 'hut', 'waypoint_url': 'https://www.hikr.org/dir/Holzegg_9683/', 'height': 1405, 'name': 'Holzegg', 'peak_id': '9683'}, {'image': 'https://s.hikr.org/r4icons/ico2_peak_s.png', 'name_raw': 'Grosser Mythen 1898 m   (225)', 'type': 'peak', 'waypoint_url': 'https://www.hikr.org/dir/Grosser_Mythen_3457/', 'height': 1898, 'name': 'Grosser Mythen', 'peak_id': '3457'}, {'image': 'https://s.hikr.org/r4icons/ico2_ort_s.png', 'name_raw': 'Brunni 1089 m   (203)', 'type': 'location', 'waypoint_url': 'https://www.hikr.org/dir/Brunni_6932/', 'height': 1089, 'name': 'Brunni', 'peak_id': '6932'}, {'image': 'https://s.hikr.org/r4icons/ico2_ort_s.png', 'name_raw': 'Einsiedeln 884 m   (44)', 'type': 'location', 'waypoint_url': 'https://www.hikr.org/dir/Einsiedeln_6965/', 'height': 884, 'name': 'Einsiedeln', 'peak_id': '6965'}], [{'image': 'https://s.hikr.org/r4icons/ico2_point_s.png', 'name_raw': 'Kurhaus Alvier 975 m   (28)', 'type': 'other', 'waypoint_url': 'https://www.hikr.org/dir/Kurhaus_Alvier_20962/', 'height': 975, 'name': 'Kurhaus Alvier', 'peak_id': '20962'}, {'image': 'https://s.hikr.org/r4icons/ico2_point_s.png', 'name_raw': 'Stofel 1472 m   (29)', 'type': 'other', 'waypoint_url': 'https://www.hikr.org/dir/Stofel_16628/', 'height': 1472, 'name': 'Stofel', 'peak_id': '16628'}, {'image': 'https://s.hikr.org/r4icons/ico2_peak_s.png', 'name_raw': 'Girenspitz 2099 m   (22)', 'type': 'peak', 'waypoint_url': 'https://www.hikr.org/dir/Girenspitz_2053/', 'height': 2099, 'name': 'Girenspitz', 'peak_id': '2053'}], [{'image': 'https://s.hikr.org/r4icons/ico2_ruin_s.png', 'name_raw': 'Burg Katz 130 m   (4)', 'type': 'ruin', 'waypoint_url': 'https://www.hikr.org/dir/Burg_Katz_18822/', 'height': 130, 'name': 'Burg Katz', 'peak_id': '18822'}, {'image': 'https://s.hikr.org/r4icons/ico2_point_s.png', 'name_raw': 'Loreley 193 m   (5)', 'type': 'other', 'waypoint_url': 'https://www.hikr.org/dir/Loreley_18821/', 'height': 193, 'name': 'Loreley', 'peak_id': '18821'}, {'image': 'https://s.hikr.org/r4icons/ico2_point_s.png', 'name_raw': 'Pfalzgrafenstein 71 m   (4)', 'type': 'other', 'waypoint_url': 'https://www.hikr.org/dir/Pfalzgrafenstein_18817/', 'height': 71, 'name': 'Pfalzgrafenstein', 'peak_id': '18817'}, {'image': 'https://s.hikr.org/r4icons/ico2_ruin_s.png', 'name_raw': 'Gutenfels 150 m   (4)', 'type': 'ruin', 'waypoint_url': 'https://www.hikr.org/dir/Gutenfels_18820/', 'height': 150, 'name': 'Gutenfels', 'peak_id': '18820'}], [{'image': 'https://s.hikr.org/r4icons/ico2_pass_s.png', 'name_raw': 'Simplonpass / Passo del Sempione 2006 m   (135)', 'type': 'pass', 'waypoint_url': 'https://www.hikr.org/dir/Simplonpass_Passo_del_Sempione_6928/', 'height': 2006, 'name': 'Simplonpass / Passo del Sempione', 'peak_id': '6928'}, {'image': 'https://s.hikr.org/r4icons/ico2_point_s.png', 'name_raw': 'P.2516m 2516 m   (15)', 'type': 'other', 'waypoint_url': 'https://www.hikr.org/dir/P.2516m_59339/', 'height': 2516, 'name': 'P.2516m', 'peak_id': '2516'}, {'image': 'https://s.hikr.org/r4icons/ico2_point_s.png', 'name_raw': 'Chaltwassergletscher 3000 m   (2)', 'type': 'other', 'waypoint_url': 'https://www.hikr.org/dir/Chaltwassergletscher_36693/', 'height': 3000, 'name': 'Chaltwassergletscher', 'peak_id': '36693'}, {'image': 'https://s.hikr.org/r4icons/ico2_pass_s.png', 'name_raw': 'P. 3350 m 3350 m   (1)', 'type': 'pass', 'waypoint_url': 'https://www.hikr.org/dir/P._3350_m_118193/', 'height': 3350, 'name': 'P.', 'peak_id': '3350'}, {'image': 'https://s.hikr.org/r4icons/ico2_pass_s.png', 'name_raw': 'P.3373m 3373 m   (14)', 'type': 'pass', 'waypoint_url': 'https://www.hikr.org/dir/P.3373m_41584/', 'height': 3373, 'name': 'P.3373m', 'peak_id': '3373'}, {'image': 'https://s.hikr.org/r4icons/ico2_peak_s.png', 'name_raw': 'Monte Leone 3553 m   (26)', 'type': 'peak', 'waypoint_url': 'https://www.hikr.org/dir/Monte_Leone_2892/', 'height': 3553, 'name': 'Monte Leone', 'peak_id': '2892'}], [{'image': 'https://s.hikr.org/r4icons/ico2_peak_s.png', 'name_raw': 'Hirschwieskopf 2114 m   (5)', 'type': 'peak', 'waypoint_url': 'https://www.hikr.org/dir/Hirschwieskopf_21029/', 'height': 2114, 'name': 'Hirschwieskopf', 'peak_id': '21029'}, {'image': 'https://s.hikr.org/r4icons/ico2_hut_s.png', 'name_raw': 'Wimbachgrieshütte 1327 m   (20)', 'type': 'hut', 'waypoint_url': 'https://www.hikr.org/dir/Wimbachgriesh%C3%BCtte_21030/', 'height': 1327, 'name': 'Wimbachgrieshütte', 'peak_id': '3'}, {'image': 'https://s.hikr.org/r4icons/ico2_ort_s.png', 'name_raw': 'Sankt Bartholomä 604 m   (24)', 'type': 'location', 'waypoint_url': 'https://www.hikr.org/dir/Sankt_Bartholom%C3%A4_9113/', 'height': 604, 'name': 'Sankt Bartholomä', 'peak_id': '3'}, {'image': 'https://s.hikr.org/r4icons/ico2_hut_s.png', 'name_raw': 'Kühroint-Alm 1420 m   (39)', 'type': 'hut', 'waypoint_url': 'https://www.hikr.org/dir/K%C3%BChroint-Alm_9114/', 'height': 1420, 'name': 'Kühroint-Alm', 'peak_id': '3'}, {'image': 'https://s.hikr.org/r4icons/ico2_point_s.png', 'name_raw': 'Wimbachbrücke 640 m   (40)', 'type': 'other', 'waypoint_url': 'https://www.hikr.org/dir/Wimbachbr%C3%BCcke_17295/', 'height': 640, 'name': 'Wimbachbrücke', 'peak_id': '3'}, {'image': 'https://s.hikr.org/r4icons/ico2_viafe_s.png', 'name_raw': 'Sigeretplatte 1180 m   (2)', 'type': 'via_ferrata', 'waypoint_url': 'https://www.hikr.org/dir/Sigeretplatte_21031/', 'height': 1180, 'name': 'Sigeretplatte', 'peak_id': '21031'}, {'image': 'https://s.hikr.org/r4icons/ico2_point_s.png', 'name_raw': 'Archenkanzel 1342 m   (12)', 'type': 'other', 'waypoint_url': 'https://www.hikr.org/dir/Archenkanzel_21032/', 'height': 1342, 'name': 'Archenkanzel', 'peak_id': '21032'}], [{'image': 'https://s.hikr.org/r4icons/ico2_hut_s.png', 'name_raw': 'Monte di Comino - Alla Capanna 1157 m   (29)', 'type': 'hut', 'waypoint_url': 'https://www.hikr.org/dir/Monte_di_Comino_-_Alla_Capanna_7619/', 'height': 1157, 'name': 'Monte di Comino - Alla Capanna', 'peak_id': '7619'}, {'image': 'https://s.hikr.org/r4icons/ico2_peak_s.png', 'name_raw': 'Pianascio 1643 m   (28)', 'type': 'peak', 'waypoint_url': 'https://www.hikr.org/dir/Pianascio_8939/', 'height': 1643, 'name': 'Pianascio', 'peak_id': '8939'}, {'image': 'https://s.hikr.org/r4icons/ico2_peak_s.png', 'name_raw': 'Pizzin 1509 m   (25)', 'type': 'peak', 'waypoint_url': 'https://www.hikr.org/dir/Pizzin_9417/', 'height': 1509, 'name': 'Pizzin', 'peak_id': '9417'}, {'image': 'https://s.hikr.org/r4icons/ico2_pass_s.png', 'name_raw': 'Pescia Lunga 1511 m   (35)', 'type': 'pass', 'waypoint_url': 'https://www.hikr.org/dir/Pescia_Lunga_16350/', 'height': 1511, 'name': 'Pescia Lunga', 'peak_id': '16350'}, {'image': 'https://s.hikr.org/r4icons/ico2_point_s.png', 'name_raw': 'Cappellone 1879 m   (22)', 'type': 'other', 'waypoint_url': 'https://www.hikr.org/dir/Cappellone_9416/', 'height': 1879, 'name': 'Cappellone', 'peak_id': '9416'}, {'image': 'https://s.hikr.org/r4icons/ico2_peak_s.png', 'name_raw': 'Pizzo Ruscada 2004 m   (53)', 'type': 'peak', 'waypoint_url': 'https://www.hikr.org/dir/Pizzo_Ruscada_4416/', 'height': 2004, 'name': 'Pizzo Ruscada', 'peak_id': '4416'}], [{'image': 'https://s.hikr.org/r4icons/ico2_ort_s.png', 'name_raw': 'Eggbergen 1446 m   (33)', 'type': 'location', 'waypoint_url': 'https://www.hikr.org/dir/Eggbergen_6742/', 'height': 1446, 'name': 'Eggbergen', 'peak_id': '6742'}, {'image': 'https://s.hikr.org/r4icons/ico2_lake_s.png', 'name_raw': 'Fleschsee 1802 m   (43)', 'type': 'lake', 'waypoint_url': 'https://www.hikr.org/dir/Fleschsee_8009/', 'height': 1802, 'name': 'Fleschsee', 'peak_id': '8009'}, {'image': 'https://s.hikr.org/r4icons/ico2_pass_s.png', 'name_raw': 'Schön Chulm 2023 m   (46)', 'type': 'pass', 'waypoint_url': 'https://www.hikr.org/dir/Sch%C3%B6n_Chulm_6749/', 'height': 2023, 'name': 'Schön Chulm', 'peak_id': '3'}, {'image': 'https://s.hikr.org/r4icons/ico2_peak_s.png', 'name_raw': 'Diepen 2222 m   (30)', 'type': 'peak', 'waypoint_url': 'https://www.hikr.org/dir/Diepen_1392/', 'height': 2222, 'name': 'Diepen', 'peak_id': '1392'}, {'image': 'https://s.hikr.org/r4icons/ico2_peak_s.png', 'name_raw': 'Äbneter Stöckli 2087 m   (44)', 'type': 'peak', 'waypoint_url': 'https://www.hikr.org/dir/%C3%84bneter_St%C3%B6ckli_6068/', 'height': 2087, 'name': 'Äbneter Stöckli', 'peak_id': '3'}, {'image': 'https://s.hikr.org/r4icons/ico2_peak_s.png', 'name_raw': 'Rophaien 2078 m   (81)', 'type': 'peak', 'waypoint_url': 'https://www.hikr.org/dir/Rophaien_4203/', 'height': 2078, 'name': 'Rophaien', 'peak_id': '4203'}, {'image': 'https://s.hikr.org/r4icons/ico2_ort_s.png', 'name_raw': 'Sisikon 446 m   (49)', 'type': 'location', 'waypoint_url': 'https://www.hikr.org/dir/Sisikon_9217/', 'height': 446, 'name': 'Sisikon', 'peak_id': '9217'}], [{'image': 'https://s.hikr.org/r4icons/ico2_peak_s.png', 'name_raw': 'Mont Boron 191 m   (1)', 'type': 'peak', 'waypoint_url': 'https://www.hikr.org/dir/Mont_Boron_18059/', 'height': 191, 'name': 'Mont Boron', 'peak_id': '18059'}, {'image': 'https://s.hikr.org/r4icons/ico2_peak_s.png', 'name_raw': 'Mont Alban 211 m   (1)', 'type': 'peak', 'waypoint_url': 'https://www.hikr.org/dir/Mont_Alban_20966/', 'height': 211, 'name': 'Mont Alban', 'peak_id': '20966'}, {'image': 'https://s.hikr.org/r4icons/ico2_peak_s.png', 'name_raw': 'Mont Leuze 577 m   (1)', 'type': 'peak', 'waypoint_url': 'https://www.hikr.org/dir/Mont_Leuze_20967/', 'height': 577, 'name': 'Mont Leuze', 'peak_id': '20967'}, {'image': 'https://s.hikr.org/r4icons/ico2_ort_s.png', 'name_raw': 'Nice 10 m   (9)', 'type': 'location', 'waypoint_url': 'https://www.hikr.org/dir/Nice_17443/', 'height': 10, 'name': 'Nice', 'peak_id': '17443'}], [{'image': 'https://s.hikr.org/r4icons/ico2_point_s.png', 'name_raw': 'Cama - Ogreda 359 m   (28)', 'type': 'other', 'waypoint_url': 'https://www.hikr.org/dir/Cama_-_Ogreda_33988/', 'height': 359, 'name': 'Cama - Ogreda', 'peak_id': '33988'}, {'image': 'https://s.hikr.org/r4icons/ico2_hut_s.png', 'name_raw': 'Capanna Miralago 1265 m   (32)', 'type': 'hut', 'waypoint_url': 'https://www.hikr.org/dir/Capanna_Miralago_6463/', 'height': 1265, 'name': 'Capanna Miralago', 'peak_id': '6463'}, {'image': 'https://s.hikr.org/r4icons/ico2_hut_s.png', 'name_raw': 'Rifugio Alp Vec 1794 m   (15)', 'type': 'hut', 'waypoint_url': 'https://www.hikr.org/dir/Rifugio_Alp_Vec_9616/', 'height': 1794, 'name': 'Rifugio Alp Vec', 'peak_id': '9616'}, {'image': 'https://s.hikr.org/r4icons/ico2_hut_s.png', 'name_raw': 'Alp de Sambrog 1993 m   (15)', 'type': 'hut', 'waypoint_url': 'https://www.hikr.org/dir/Alp_de_Sambrog_9665/', 'height': 1993, 'name': 'Alp de Sambrog', 'peak_id': '9665'}, {'image': 'https://s.hikr.org/r4icons/ico2_pass_s.png', 'name_raw': 'Sella Quota 2464m 2464 m   (2)', 'type': 'pass', 'waypoint_url': 'https://www.hikr.org/dir/Sella_Quota_2464m_64791/', 'height': 2464, 'name': 'Sella Quota 2464m', 'peak_id': '2464'}, {'image': 'https://s.hikr.org/r4icons/ico2_lake_s.png', 'name_raw': 'Lagh de Sambrog 2076 m   (14)', 'type': 'lake', 'waypoint_url': 'https://www.hikr.org/dir/Lagh_de_Sambrog_16789/', 'height': 2076, 'name': 'Lagh de Sambrog', 'peak_id': '16789'}, {'image': 'https://s.hikr.org/r4icons/ico2_hut_s.png', 'name_raw': 'Rifugio Alp Vec 1794 m   (15)', 'type': 'hut', 'waypoint_url': 'https://www.hikr.org/dir/Rifugio_Alp_Vec_9616/', 'height': 1794, 'name': 'Rifugio Alp Vec', 'peak_id': '9616'}, {'image': 'https://s.hikr.org/r4icons/ico2_hut_s.png', 'name_raw': \"Rifugio Alp d'Agnon 1905 m   (6)\", 'type': 'hut', 'waypoint_url': 'https://www.hikr.org/dir/Rifugio_Alp_d_Agnon_46756/', 'height': 1905, 'name': \"Rifugio Alp d'Agnon\", 'peak_id': '46756'}], [{'image': 'https://s.hikr.org/r4icons/ico2_ort_s.png', 'name_raw': 'Vättis 943 m   (66)', 'type': 'location', 'waypoint_url': 'https://www.hikr.org/dir/V%C3%A4ttis_8146/', 'height': 943, 'name': 'Vättis', 'peak_id': '3'}, {'image': 'https://s.hikr.org/r4icons/ico2_hut_s.png', 'name_raw': 'Gelbberg Hütte 2069 m   (8)', 'type': 'hut', 'waypoint_url': 'https://www.hikr.org/dir/Gelbberg_H%C3%BCtte_21061/', 'height': 2069, 'name': 'Gelbberg Hütte', 'peak_id': '3'}, {'image': 'https://s.hikr.org/r4icons/ico2_cave_s.png', 'name_raw': 'Drachenloch 2427 m   (9)', 'type': 'cave', 'waypoint_url': 'https://www.hikr.org/dir/Drachenloch_9712/', 'height': 2427, 'name': 'Drachenloch', 'peak_id': '9712'}], [{'image': 'https://s.hikr.org/r4icons/ico2_ort_s.png', 'name_raw': 'Zürich - Höngg 461 m   (6)', 'type': 'location', 'waypoint_url': 'https://www.hikr.org/dir/Z%C3%BCrich_-_H%C3%B6ngg_21047/', 'height': 461, 'name': 'Zürich - Höngg', 'peak_id': '3'}, {'image': 'https://s.hikr.org/r4icons/ico2_ort_s.png', 'name_raw': 'Eglisau 355 m   (18)', 'type': 'location', 'waypoint_url': 'https://www.hikr.org/dir/Eglisau_17100/', 'height': 355, 'name': 'Eglisau', 'peak_id': '17100'}, {'image': 'https://s.hikr.org/r4icons/ico2_ort_s.png', 'name_raw': 'Schaffhausen 403 m   (30)', 'type': 'location', 'waypoint_url': 'https://www.hikr.org/dir/Schaffhausen_7687/', 'height': 403, 'name': 'Schaffhausen', 'peak_id': '7687'}, {'image': 'https://s.hikr.org/r4icons/ico2_ort_s.png', 'name_raw': 'Merishausen 533 m   (18)', 'type': 'location', 'waypoint_url': 'https://www.hikr.org/dir/Merishausen_8937/', 'height': 533, 'name': 'Merishausen', 'peak_id': '8937'}, {'image': 'https://s.hikr.org/r4icons/ico2_peak_s.png', 'name_raw': 'Hagen 912 m   (36)', 'type': 'peak', 'waypoint_url': 'https://www.hikr.org/dir/Hagen_2378/', 'height': 912, 'name': 'Hagen', 'peak_id': '2378'}, {'image': 'https://s.hikr.org/r4icons/ico2_point_s.png', 'name_raw': 'Rheinfall 359 m   (34)', 'type': 'other', 'waypoint_url': 'https://www.hikr.org/dir/Rheinfall_7573/', 'height': 359, 'name': 'Rheinfall', 'peak_id': '7573'}], [{'image': 'https://s.hikr.org/r4icons/ico2_ort_s.png', 'name_raw': 'Cuveglio 286 m   (27)', 'type': 'location', 'waypoint_url': 'https://www.hikr.org/dir/Cuveglio_29027/', 'height': 286, 'name': 'Cuveglio', 'peak_id': '29027'}, {'image': 'https://s.hikr.org/r4icons/ico2_ort_s.png', 'name_raw': 'Cuvio 292 m   (11)', 'type': 'location', 'waypoint_url': 'https://www.hikr.org/dir/Cuvio_29806/', 'height': 292, 'name': 'Cuvio', 'peak_id': '29806'}, {'image': 'https://s.hikr.org/r4icons/ico2_ort_s.png', 'name_raw': 'Castello Cabiaglio 514 m   (19)', 'type': 'location', 'waypoint_url': 'https://www.hikr.org/dir/Castello_Cabiaglio_36835/', 'height': 514, 'name': 'Castello Cabiaglio', 'peak_id': '36835'}, {'image': 'https://s.hikr.org/r4icons/ico2_ort_s.png', 'name_raw': 'Brinzio 505 m   (48)', 'type': 'location', 'waypoint_url': 'https://www.hikr.org/dir/Brinzio_31421/', 'height': 505, 'name': 'Brinzio', 'peak_id': '31421'}, {'image': 'https://s.hikr.org/r4icons/ico2_lake_s.png', 'name_raw': 'Laghetto di Brinzio 540 m   (18)', 'type': 'lake', 'waypoint_url': 'https://www.hikr.org/dir/Laghetto_di_Brinzio_77304/', 'height': 540, 'name': 'Laghetto di Brinzio', 'peak_id': '77304'}, {'image': 'https://s.hikr.org/r4icons/ico2_pass_s.png', 'name_raw': 'Motta Rossa 565 m   (26)', 'type': 'pass', 'waypoint_url': 'https://www.hikr.org/dir/Motta_Rossa_36834/', 'height': 565, 'name': 'Motta Rossa', 'peak_id': '36834'}, {'image': 'https://s.hikr.org/r4icons/ico2_ort_s.png', 'name_raw': 'Rasa di Varese 543 m   (56)', 'type': 'location', 'waypoint_url': 'https://www.hikr.org/dir/Rasa_di_Varese_36827/', 'height': 543, 'name': 'Rasa di Varese', 'peak_id': '36827'}, {'image': 'https://s.hikr.org/r4icons/ico2_ort_s.png', 'name_raw': 'Oronco 547 m   (18)', 'type': 'location', 'waypoint_url': 'https://www.hikr.org/dir/Oronco_42697/', 'height': 547, 'name': 'Oronco', 'peak_id': '42697'}, {'image': 'https://s.hikr.org/r4icons/ico2_point_s.png', 'name_raw': 'Oronco - Prima Cappella 628 m   (37)', 'type': 'other', 'waypoint_url': 'https://www.hikr.org/dir/Oronco_-_Prima_Cappella_42355/', 'height': 628, 'name': 'Oronco - Prima Cappella', 'peak_id': '42355'}, {'image': 'https://s.hikr.org/r4icons/ico2_peak_s.png', 'name_raw': 'Sacro Monte di Varese 843 m   (47)', 'type': 'peak', 'waypoint_url': 'https://www.hikr.org/dir/Sacro_Monte_di_Varese_31423/', 'height': 843, 'name': 'Sacro Monte di Varese', 'peak_id': '31423'}, {'image': 'https://s.hikr.org/r4icons/ico2_pass_s.png', 'name_raw': 'Valico Pizzelle 932 m   (57)', 'type': 'pass', 'waypoint_url': 'https://www.hikr.org/dir/Valico_Pizzelle_50394/', 'height': 932, 'name': 'Valico Pizzelle', 'peak_id': '50394'}, {'image': 'https://s.hikr.org/r4icons/ico2_point_s.png', 'name_raw': 'Stazione funicolare Campo dei Fiori 1032 m   (36)', 'type': 'other', 'waypoint_url': 'https://www.hikr.org/dir/Stazione_funicolare_Campo_dei_Fiori_67373/', 'height': 1032, 'name': 'Stazione funicolare Campo dei Fiori', 'peak_id': '67373'}, {'image': 'https://s.hikr.org/r4icons/ico2_climb_s.png', 'name_raw': 'Campo dei Fiori - Palestra di roccia 1050 m   (39)', 'type': 'climb', 'waypoint_url': 'https://www.hikr.org/dir/Campo_dei_Fiori_-_Palestra_di_roccia_31454/', 'height': 1050, 'name': 'Campo dei Fiori - Palestra di roccia', 'peak_id': '31454'}, {'image': 'https://s.hikr.org/r4icons/ico2_peak_s.png', 'name_raw': 'Campo dei Fiori - Punta di Mezzo 1227 m   (60)', 'type': 'peak', 'waypoint_url': 'https://www.hikr.org/dir/Campo_dei_Fiori_-_Punta_di_Mezzo_7669/', 'height': 1227, 'name': 'Campo dei Fiori - Punta di Mezzo', 'peak_id': '7669'}, {'image': 'https://s.hikr.org/r4icons/ico2_peak_s.png', 'name_raw': 'Forte di Orino 1139 m   (57)', 'type': 'peak', 'waypoint_url': 'https://www.hikr.org/dir/Forte_di_Orino_16726/', 'height': 1139, 'name': 'Forte di Orino', 'peak_id': '16726'}, {'image': 'https://s.hikr.org/r4icons/ico2_ruin_s.png', 'name_raw': 'Rocca di Orino 530 m   (7)', 'type': 'ruin', 'waypoint_url': 'https://www.hikr.org/dir/Rocca_di_Orino_54595/', 'height': 530, 'name': 'Rocca di Orino', 'peak_id': '54595'}, {'image': 'https://s.hikr.org/r4icons/ico2_ort_s.png', 'name_raw': 'Cuveglio 286 m   (27)', 'type': 'location', 'waypoint_url': 'https://www.hikr.org/dir/Cuveglio_29027/', 'height': 286, 'name': 'Cuveglio', 'peak_id': '29027'}, {'image': 'https://s.hikr.org/r4icons/ico2_ort_s.png', 'name_raw': 'Cuvio 292 m   (11)', 'type': 'location', 'waypoint_url': 'https://www.hikr.org/dir/Cuvio_29806/', 'height': 292, 'name': 'Cuvio', 'peak_id': '29806'}], [{'image': 'https://s.hikr.org/r4icons/ico2_peak_s.png', 'name_raw': 'Stanserhorn 1897 m   (57)', 'type': 'peak', 'waypoint_url': 'https://www.hikr.org/dir/Stanserhorn_5105/', 'height': 1897, 'name': 'Stanserhorn', 'peak_id': '5105'}], [{'image': 'https://s.hikr.org/r4icons/ico2_ort_s.png', 'name_raw': 'Santiago del Teide 925 m   (12)', 'type': 'location', 'waypoint_url': 'https://www.hikr.org/dir/Santiago_del_Teide_21000/', 'height': 925, 'name': 'Santiago del Teide', 'peak_id': '21000'}, {'image': 'https://s.hikr.org/r4icons/ico2_pass_s.png', 'name_raw': 'Degollada de la Mesa 1238 m   (9)', 'type': 'pass', 'waypoint_url': 'https://www.hikr.org/dir/Degollada_de_la_Mesa_17832/', 'height': 1238, 'name': 'Degollada de la Mesa', 'peak_id': '17832'}, {'image': 'https://s.hikr.org/r4icons/ico2_peak_s.png', 'name_raw': 'Cumbre de Bolico 1184 m   (7)', 'type': 'peak', 'waypoint_url': 'https://www.hikr.org/dir/Cumbre_de_Bolico_6888/', 'height': 1184, 'name': 'Cumbre de Bolico', 'peak_id': '6888'}, {'image': 'https://s.hikr.org/r4icons/ico2_peak_s.png', 'name_raw': 'Cumbre de Masca 1048 m   (6)', 'type': 'peak', 'waypoint_url': 'https://www.hikr.org/dir/Cumbre_de_Masca_6889/', 'height': 1048, 'name': 'Cumbre de Masca', 'peak_id': '6889'}, {'image': 'https://s.hikr.org/r4icons/ico2_pass_s.png', 'name_raw': 'Cruz de Hilda 780 m   (5)', 'type': 'pass', 'waypoint_url': 'https://www.hikr.org/dir/Cruz_de_Hilda_18665/', 'height': 780, 'name': 'Cruz de Hilda', 'peak_id': '18665'}, {'image': 'https://s.hikr.org/r4icons/ico2_ort_s.png', 'name_raw': 'Masca 600 m   (19)', 'type': 'location', 'waypoint_url': 'https://www.hikr.org/dir/Masca_7168/', 'height': 600, 'name': 'Masca', 'peak_id': '7168'}, {'image': 'https://s.hikr.org/r4icons/ico2_point_s.png', 'name_raw': 'Playa de Masca 0 m   (14)', 'type': 'other', 'waypoint_url': 'https://www.hikr.org/dir/Playa_de_Masca_11203/', 'height': 0, 'name': 'Playa de Masca', 'peak_id': '11203'}], [{'image': 'https://s.hikr.org/r4icons/ico2_peak_s.png', 'name_raw': 'Jegihorn 3206 m   (74)', 'type': 'peak', 'waypoint_url': 'https://www.hikr.org/dir/Jegihorn_2701/', 'height': 3206, 'name': 'Jegihorn', 'peak_id': '2701'}], [{'image': 'https://s.hikr.org/r4icons/ico2_point_s.png', 'name_raw': \"Chenau de l'Envers 772 m   (1)\", 'type': 'other', 'waypoint_url': 'https://www.hikr.org/dir/Chenau_de_l_Envers_21090/', 'height': 772, 'name': \"Chenau de l'Envers\", 'peak_id': '21090'}, {'image': 'https://s.hikr.org/r4icons/ico2_point_s.png', 'name_raw': 'Chenau du Droit 1037 m   (1)', 'type': 'other', 'waypoint_url': 'https://www.hikr.org/dir/Chenau_du_Droit_21091/', 'height': 1037, 'name': 'Chenau du Droit', 'peak_id': '21091'}, {'image': 'https://s.hikr.org/r4icons/ico2_ort_s.png', 'name_raw': 'Cortébert 680 m   (4)', 'type': 'location', 'waypoint_url': 'https://www.hikr.org/dir/Cort%C3%A9bert_7212/', 'height': 680, 'name': 'Cortébert', 'peak_id': '3'}], [{'image': 'https://s.hikr.org/r4icons/ico2_peak_s.png', 'name_raw': 'Piz Nair 3055 m   (37)', 'type': 'peak', 'waypoint_url': 'https://www.hikr.org/dir/Piz_Nair_3511/', 'height': 3055, 'name': 'Piz Nair', 'peak_id': '3511'}], [{'image': 'https://s.hikr.org/r4icons/ico2_ort_s.png', 'name_raw': 'Battaglia Terme 6 m   (2)', 'type': 'location', 'waypoint_url': 'https://www.hikr.org/dir/Battaglia_Terme_23362/', 'height': 6, 'name': 'Battaglia Terme', 'peak_id': '23362'}, {'image': 'https://s.hikr.org/r4icons/ico2_ort_s.png', 'name_raw': 'Valsanzibio 25 m   (2)', 'type': 'location', 'waypoint_url': 'https://www.hikr.org/dir/Valsanzibio_23363/', 'height': 25, 'name': 'Valsanzibio', 'peak_id': '23363'}, {'image': 'https://s.hikr.org/r4icons/ico2_ort_s.png', 'name_raw': 'Arquà Petrarca 99 m   (2)', 'type': 'location', 'waypoint_url': 'https://www.hikr.org/dir/Arqu%C3%A0_Petrarca_21001/', 'height': 99, 'name': 'Arquà Petrarca', 'peak_id': '3'}], [{'image': 'https://s.hikr.org/r4icons/ico2_hut_s.png', 'name_raw': 'Berghaus Malbun 1371 m   (103)', 'type': 'hut', 'waypoint_url': 'https://www.hikr.org/dir/Berghaus_Malbun_13860/', 'height': 1371, 'name': 'Berghaus Malbun', 'peak_id': '13860'}, {'image': 'https://s.hikr.org/r4icons/ico2_pass_s.png', 'name_raw': 'Glanna 2007 m   (29)', 'type': 'pass', 'waypoint_url': 'https://www.hikr.org/dir/Glanna_8111/', 'height': 2007, 'name': 'Glanna', 'peak_id': '8111'}, {'image': 'https://s.hikr.org/r4icons/ico2_peak_s.png', 'name_raw': 'Glannachopf 2232 m   (30)', 'type': 'peak', 'waypoint_url': 'https://www.hikr.org/dir/Glannachopf_2079/', 'height': 2232, 'name': 'Glannachopf', 'peak_id': '2079'}, {'image': 'https://s.hikr.org/r4icons/ico2_peak_s.png', 'name_raw': 'Chli Fulfirst 2368 m   (33)', 'type': 'peak', 'waypoint_url': 'https://www.hikr.org/dir/Chli_Fulfirst_1807/', 'height': 2368, 'name': 'Chli Fulfirst', 'peak_id': '1807'}, {'image': 'https://s.hikr.org/r4icons/ico2_peak_s.png', 'name_raw': 'Gross Fulfirst 2383 m   (40)', 'type': 'peak', 'waypoint_url': 'https://www.hikr.org/dir/Gross_Fulfirst_1808/', 'height': 2383, 'name': 'Gross Fulfirst', 'peak_id': '1808'}, {'image': 'https://s.hikr.org/r4icons/ico2_pass_s.png', 'name_raw': 'Glanna 2007 m   (29)', 'type': 'pass', 'waypoint_url': 'https://www.hikr.org/dir/Glanna_8111/', 'height': 2007, 'name': 'Glanna', 'peak_id': '8111'}, {'image': 'https://s.hikr.org/r4icons/ico2_hut_s.png', 'name_raw': 'Berghaus Malbun 1371 m   (103)', 'type': 'hut', 'waypoint_url': 'https://www.hikr.org/dir/Berghaus_Malbun_13860/', 'height': 1371, 'name': 'Berghaus Malbun', 'peak_id': '13860'}], [{'image': 'https://s.hikr.org/r4icons/ico2_peak_s.png', 'name_raw': 'Roque de los Muchachos 2426 m   (7)', 'type': 'peak', 'waypoint_url': 'https://www.hikr.org/dir/Roque_de_los_Muchachos_13104/', 'height': 2426, 'name': 'Roque de los Muchachos', 'peak_id': '13104'}, {'image': 'https://s.hikr.org/r4icons/ico2_ort_s.png', 'name_raw': 'Tazacorte 100 m   (3)', 'type': 'location', 'waypoint_url': 'https://www.hikr.org/dir/Tazacorte_21002/', 'height': 100, 'name': 'Tazacorte', 'peak_id': '21002'}, {'image': 'https://s.hikr.org/r4icons/ico2_ort_s.png', 'name_raw': 'Puerto Tazacorte 3 m   (7)', 'type': 'location', 'waypoint_url': 'https://www.hikr.org/dir/Puerto_Tazacorte_21003/', 'height': 3, 'name': 'Puerto Tazacorte', 'peak_id': '21003'}, {'image': 'https://s.hikr.org/r4icons/ico2_point_s.png', 'name_raw': 'Mirador El Time 501 m   (5)', 'type': 'other', 'waypoint_url': 'https://www.hikr.org/dir/Mirador_El_Time_21004/', 'height': 501, 'name': 'Mirador El Time', 'peak_id': '21004'}, {'image': 'https://s.hikr.org/r4icons/ico2_peak_s.png', 'name_raw': 'Somada Alta 1947 m   (2)', 'type': 'peak', 'waypoint_url': 'https://www.hikr.org/dir/Somada_Alta_21005/', 'height': 1947, 'name': 'Somada Alta', 'peak_id': '21005'}, {'image': 'https://s.hikr.org/r4icons/ico2_peak_s.png', 'name_raw': 'Espigón del Roque 2382 m   (1)', 'type': 'peak', 'waypoint_url': 'https://www.hikr.org/dir/Espig%C3%B3n_del_Roque_21006/', 'height': 2382, 'name': 'Espigón del Roque', 'peak_id': '3'}], [{'image': 'https://s.hikr.org/r4icons/ico2_peak_s.png', 'name_raw': 'Brandstein 2003 m   (4)', 'type': 'peak', 'waypoint_url': 'https://www.hikr.org/dir/Brandstein_16694/', 'height': 2003, 'name': 'Brandstein', 'peak_id': '16694'}, {'image': 'https://s.hikr.org/r4icons/ico2_hut_s.png', 'name_raw': 'Pfaffingalm 1569 m   (4)', 'type': 'hut', 'waypoint_url': 'https://www.hikr.org/dir/Pfaffingalm_16696/', 'height': 1569, 'name': 'Pfaffingalm', 'peak_id': '16696'}, {'image': 'https://s.hikr.org/r4icons/ico2_peak_s.png', 'name_raw': 'Frauenmauer 1827 m   (2)', 'type': 'peak', 'waypoint_url': 'https://www.hikr.org/dir/Frauenmauer_16697/', 'height': 1827, 'name': 'Frauenmauer', 'peak_id': '16697'}, {'image': 'https://s.hikr.org/r4icons/ico2_hut_s.png', 'name_raw': 'Gsollalmhütte 1201 m   (4)', 'type': 'hut', 'waypoint_url': 'https://www.hikr.org/dir/Gsollalmh%C3%BCtte_21121/', 'height': 1201, 'name': 'Gsollalmhütte', 'peak_id': '3'}, {'image': 'https://s.hikr.org/r4icons/ico2_point_s.png', 'name_raw': 'Bärenloch 1432 m   (3)', 'type': 'other', 'waypoint_url': 'https://www.hikr.org/dir/B%C3%A4renloch_21122/', 'height': 1432, 'name': 'Bärenloch', 'peak_id': '3'}, {'image': 'https://s.hikr.org/r4icons/ico2_pass_s.png', 'name_raw': 'Bärenlochsattel 1740 m   (4)', 'type': 'pass', 'waypoint_url': 'https://www.hikr.org/dir/B%C3%A4renlochsattel_21123/', 'height': 1740, 'name': 'Bärenlochsattel', 'peak_id': '3'}, {'image': 'https://s.hikr.org/r4icons/ico2_pass_s.png', 'name_raw': 'Beim Kreuz 1655 m   (3)', 'type': 'pass', 'waypoint_url': 'https://www.hikr.org/dir/Beim_Kreuz_21124/', 'height': 1655, 'name': 'Beim Kreuz', 'peak_id': '21124'}, {'image': 'https://s.hikr.org/r4icons/ico2_hut_s.png', 'name_raw': 'Fobisalm 1416 m   (4)', 'type': 'hut', 'waypoint_url': 'https://www.hikr.org/dir/Fobisalm_21125/', 'height': 1416, 'name': 'Fobisalm', 'peak_id': '21125'}, {'image': 'https://s.hikr.org/r4icons/ico2_pass_s.png', 'name_raw': 'Fobistörl 1544 m   (4)', 'type': 'pass', 'waypoint_url': 'https://www.hikr.org/dir/Fobist%C3%B6rl_21126/', 'height': 1544, 'name': 'Fobistörl', 'peak_id': '3'}], [{'image': 'https://s.hikr.org/r4icons/ico2_ort_s.png', 'name_raw': 'Schwarzenburg 792 m   (18)', 'type': 'location', 'waypoint_url': 'https://www.hikr.org/dir/Schwarzenburg_17541/', 'height': 792, 'name': 'Schwarzenburg', 'peak_id': '17541'}, {'image': 'https://s.hikr.org/r4icons/ico2_peak_s.png', 'name_raw': 'Guggershörnli / Guggershorn 1283 m   (14)', 'type': 'peak', 'waypoint_url': 'https://www.hikr.org/dir/Guggersh%C3%B6rnli_Guggershorn_17608/', 'height': 1283, 'name': 'Guggershörnli / Guggershorn', 'peak_id': '3'}], [{'image': 'https://s.hikr.org/r4icons/ico2_hut_s.png', 'name_raw': 'Berghaus Diavolezza 2978 m   (226)', 'type': 'hut', 'waypoint_url': 'https://www.hikr.org/dir/Berghaus_Diavolezza_6370/', 'height': 2978, 'name': 'Berghaus Diavolezza', 'peak_id': '6370'}, {'image': 'https://s.hikr.org/r4icons/ico2_peak_s.png', 'name_raw': 'Sass Queder 3066 m   (46)', 'type': 'peak', 'waypoint_url': 'https://www.hikr.org/dir/Sass_Queder_4042/', 'height': 3066, 'name': 'Sass Queder', 'peak_id': '4042'}, {'image': 'https://s.hikr.org/r4icons/ico2_point_s.png', 'name_raw': 'Bernina Diavolezza 2091 m   (97)', 'type': 'other', 'waypoint_url': 'https://www.hikr.org/dir/Bernina_Diavolezza_15330/', 'height': 2091, 'name': 'Bernina Diavolezza', 'peak_id': '15330'}, {'image': 'https://s.hikr.org/r4icons/ico2_point_s.png', 'name_raw': 'Bernina Suot 2046 m   (32)', 'type': 'other', 'waypoint_url': 'https://www.hikr.org/dir/Bernina_Suot_7840/', 'height': 2046, 'name': 'Bernina Suot', 'peak_id': '7840'}, {'image': 'https://s.hikr.org/r4icons/ico2_ort_s.png', 'name_raw': 'Morteratsch 1896 m   (68)', 'type': 'location', 'waypoint_url': 'https://www.hikr.org/dir/Morteratsch_10876/', 'height': 1896, 'name': 'Morteratsch', 'peak_id': '10876'}, {'image': 'https://s.hikr.org/r4icons/ico2_ort_s.png', 'name_raw': 'Pontresina 1805 m   (122)', 'type': 'location', 'waypoint_url': 'https://www.hikr.org/dir/Pontresina_14199/', 'height': 1805, 'name': 'Pontresina', 'peak_id': '14199'}, {'image': 'https://s.hikr.org/r4icons/ico2_ort_s.png', 'name_raw': 'La Punt 1687 m   (51)', 'type': 'location', 'waypoint_url': 'https://www.hikr.org/dir/La_Punt_6622/', 'height': 1687, 'name': 'La Punt', 'peak_id': '6622'}, {'image': 'https://s.hikr.org/r4icons/ico2_ort_s.png', 'name_raw': 'S-chanf 1661 m   (28)', 'type': 'location', 'waypoint_url': 'https://www.hikr.org/dir/S-chanf_6829/', 'height': 1661, 'name': 'S-chanf', 'peak_id': '6829'}, {'image': 'https://s.hikr.org/r4icons/ico2_ort_s.png', 'name_raw': 'Zernez 1471 m   (91)', 'type': 'location', 'waypoint_url': 'https://www.hikr.org/dir/Zernez_7569/', 'height': 1471, 'name': 'Zernez', 'peak_id': '7569'}, {'image': 'https://s.hikr.org/r4icons/ico2_ort_s.png', 'name_raw': 'Susch 1420 m   (32)', 'type': 'location', 'waypoint_url': 'https://www.hikr.org/dir/Susch_6779/', 'height': 1420, 'name': 'Susch', 'peak_id': '6779'}, {'image': 'https://s.hikr.org/r4icons/ico2_ort_s.png', 'name_raw': 'Lavin 1412 m   (89)', 'type': 'location', 'waypoint_url': 'https://www.hikr.org/dir/Lavin_6600/', 'height': 1412, 'name': 'Lavin', 'peak_id': '6600'}, {'image': 'https://s.hikr.org/r4icons/ico2_point_s.png', 'name_raw': 'Staziun Guarda 1432 m   (7)', 'type': 'other', 'waypoint_url': 'https://www.hikr.org/dir/Staziun_Guarda_20961/', 'height': 1432, 'name': 'Staziun Guarda', 'peak_id': '20961'}, {'image': 'https://s.hikr.org/r4icons/ico2_ort_s.png', 'name_raw': 'Giarsun 1404 m   (8)', 'type': 'location', 'waypoint_url': 'https://www.hikr.org/dir/Giarsun_7476/', 'height': 1404, 'name': 'Giarsun', 'peak_id': '7476'}], [{'image': 'https://s.hikr.org/r4icons/ico2_wand_s.png', 'name_raw': 'Cheselenflue 1672 m   (10)', 'type': 'wall', 'waypoint_url': 'https://www.hikr.org/dir/Cheselenflue_21175/', 'height': 1672, 'name': 'Cheselenflue', 'peak_id': '21175'}, {'image': 'https://s.hikr.org/r4icons/ico2_ort_s.png', 'name_raw': 'Stöckalp 1073 m   (51)', 'type': 'location', 'waypoint_url': 'https://www.hikr.org/dir/St%C3%B6ckalp_17725/', 'height': 1073, 'name': 'Stöckalp', 'peak_id': '3'}], [{'image': 'https://s.hikr.org/r4icons/ico2_ort_s.png', 'name_raw': 'Ausserberg Station 930 m   (91)', 'type': 'location', 'waypoint_url': 'https://www.hikr.org/dir/Ausserberg_Station_13751/', 'height': 930, 'name': 'Ausserberg Station', 'peak_id': '13751'}, {'image': 'https://s.hikr.org/r4icons/ico2_ort_s.png', 'name_raw': 'Ausserberg 1008 m   (110)', 'type': 'location', 'waypoint_url': 'https://www.hikr.org/dir/Ausserberg_9234/', 'height': 1008, 'name': 'Ausserberg', 'peak_id': '9234'}, {'image': 'https://s.hikr.org/r4icons/ico2_point_s.png', 'name_raw': 'Niwärch 1280 m   (49)', 'type': 'other', 'waypoint_url': 'https://www.hikr.org/dir/Niw%C3%A4rch_13878/', 'height': 1280, 'name': 'Niwärch', 'peak_id': '3'}, {'image': 'https://s.hikr.org/r4icons/ico2_point_s.png', 'name_raw': 'Gorperi Anfang 1220 m   (34)', 'type': 'other', 'waypoint_url': 'https://www.hikr.org/dir/Gorperi_Anfang_19853/', 'height': 1220, 'name': 'Gorperi Anfang', 'peak_id': '19853'}, {'image': 'https://s.hikr.org/r4icons/ico2_point_s.png', 'name_raw': 'Gorperi Suon 1170 m   (39)', 'type': 'other', 'waypoint_url': 'https://www.hikr.org/dir/Gorperi_Suon_13847/', 'height': 1170, 'name': 'Gorperi Suon', 'peak_id': '13847'}, {'image': 'https://s.hikr.org/r4icons/ico2_ort_s.png', 'name_raw': 'Eggerberg 846 m   (55)', 'type': 'location', 'waypoint_url': 'https://www.hikr.org/dir/Eggerberg_9233/', 'height': 846, 'name': 'Eggerberg', 'peak_id': '9233'}], [{'image': 'https://s.hikr.org/r4icons/ico2_ort_s.png', 'name_raw': 'Karlsruhe, Tivoliplatz 110 m   (3)', 'type': 'location', 'waypoint_url': 'https://www.hikr.org/dir/Karlsruhe%2C_Tivoliplatz_117902/', 'height': 110, 'name': 'Karlsruhe, Tivoliplatz', 'peak_id': '2'}], [{'image': 'https://s.hikr.org/r4icons/ico2_peak_s.png', 'name_raw': 'Sodadura 2010 m   (30)', 'type': 'peak', 'waypoint_url': 'https://www.hikr.org/dir/Sodadura_18468/', 'height': 2010, 'name': 'Sodadura', 'peak_id': '18468'}, {'image': 'https://s.hikr.org/r4icons/ico2_hut_s.png', 'name_raw': 'Rifugio Cazzaniga 1885 m   (85)', 'type': 'hut', 'waypoint_url': 'https://www.hikr.org/dir/Rifugio_Cazzaniga_17378/', 'height': 1885, 'name': 'Rifugio Cazzaniga', 'peak_id': '17378'}], None, [{'image': 'https://s.hikr.org/r4icons/ico2_ort_s.png', 'name_raw': 'Domodossola 270 m   (61)', 'type': 'location', 'waypoint_url': 'https://www.hikr.org/dir/Domodossola_8002/', 'height': 270, 'name': 'Domodossola', 'peak_id': '8002'}, {'image': 'https://s.hikr.org/r4icons/ico2_ort_s.png', 'name_raw': 'Mocogna 330 m   (25)', 'type': 'location', 'waypoint_url': 'https://www.hikr.org/dir/Mocogna_11482/', 'height': 330, 'name': 'Mocogna', 'peak_id': '11482'}, {'image': 'https://s.hikr.org/r4icons/ico2_ort_s.png', 'name_raw': 'Monteossolano 780 m   (34)', 'type': 'location', 'waypoint_url': 'https://www.hikr.org/dir/Monteossolano_21034/', 'height': 780, 'name': 'Monteossolano', 'peak_id': '21034'}, {'image': 'https://s.hikr.org/r4icons/ico2_point_s.png', 'name_raw': 'Alpe Spino 1550 m   (21)', 'type': 'other', 'waypoint_url': 'https://www.hikr.org/dir/Alpe_Spino_21035/', 'height': 1550, 'name': 'Alpe Spino', 'peak_id': '21035'}, {'image': 'https://s.hikr.org/r4icons/ico2_point_s.png', 'name_raw': 'Alpe Campo 1860 m   (19)', 'type': 'other', 'waypoint_url': 'https://www.hikr.org/dir/Alpe_Campo_21036/', 'height': 1860, 'name': 'Alpe Campo', 'peak_id': '21036'}, {'image': 'https://s.hikr.org/r4icons/ico2_peak_s.png', 'name_raw': 'Cima Lariè 2144 m   (21)', 'type': 'peak', 'waypoint_url': 'https://www.hikr.org/dir/Cima_Lari%C3%A8_21037/', 'height': 2144, 'name': 'Cima Lariè', 'peak_id': '3'}, {'image': 'https://s.hikr.org/r4icons/ico2_point_s.png', 'name_raw': \"Alpe d'Andromia 1885 m   (11)\", 'type': 'other', 'waypoint_url': 'https://www.hikr.org/dir/Alpe_d_Andromia_21038/', 'height': 1885, 'name': \"Alpe d'Andromia\", 'peak_id': '21038'}, {'image': 'https://s.hikr.org/r4icons/ico2_point_s.png', 'name_raw': 'Alpe Fuori 1531 m   (13)', 'type': 'other', 'waypoint_url': 'https://www.hikr.org/dir/Alpe_Fuori_20333/', 'height': 1531, 'name': 'Alpe Fuori', 'peak_id': '20333'}], [{'image': 'https://s.hikr.org/r4icons/ico2_climb_s.png', 'name_raw': 'Röthelstein Südostsporn 1154 m   (30)', 'type': 'climb', 'waypoint_url': 'https://www.hikr.org/dir/R%C3%B6thelstein_S%C3%BCdostsporn_6810/', 'height': 1154, 'name': 'Röthelstein Südostsporn', 'peak_id': '3'}], [{'image': 'https://s.hikr.org/r4icons/ico2_peak_s.png', 'name_raw': 'Pizzo Faiè 1352 m   (30)', 'type': 'peak', 'waypoint_url': 'https://www.hikr.org/dir/Pizzo_Fai%C3%A8_20661/', 'height': 1352, 'name': 'Pizzo Faiè', 'peak_id': '3'}, {'image': 'https://s.hikr.org/r4icons/ico2_pass_s.png', 'name_raw': 'Colma di Vercio 1255 m   (31)', 'type': 'pass', 'waypoint_url': 'https://www.hikr.org/dir/Colma_di_Vercio_20660/', 'height': 1255, 'name': 'Colma di Vercio', 'peak_id': '20660'}, {'image': 'https://s.hikr.org/r4icons/ico2_point_s.png', 'name_raw': 'Corte Buè 888 m   (9)', 'type': 'other', 'waypoint_url': 'https://www.hikr.org/dir/Corte_Bu%C3%A8_20979/', 'height': 888, 'name': 'Corte Buè', 'peak_id': '3'}], [{'image': 'https://s.hikr.org/r4icons/ico2_ort_s.png', 'name_raw': 'Quattropani 350 m   (4)', 'type': 'location', 'waypoint_url': 'https://www.hikr.org/dir/Quattropani_21072/', 'height': 350, 'name': 'Quattropani', 'peak_id': '21072'}, {'image': 'https://s.hikr.org/r4icons/ico2_point_s.png', 'name_raw': 'Terme di San Calogero 175 m   (3)', 'type': 'other', 'waypoint_url': 'https://www.hikr.org/dir/Terme_di_San_Calogero_21073/', 'height': 175, 'name': 'Terme di San Calogero', 'peak_id': '21073'}], [{'image': 'https://s.hikr.org/r4icons/ico2_ort_s.png', 'name_raw': 'Malleray 699 m   (11)', 'type': 'location', 'waypoint_url': 'https://www.hikr.org/dir/Malleray_13267/', 'height': 699, 'name': 'Malleray', 'peak_id': '13267'}, {'image': 'https://s.hikr.org/r4icons/ico2_peak_s.png', 'name_raw': 'Moron 1337 m   (15)', 'type': 'peak', 'waypoint_url': 'https://www.hikr.org/dir/Moron_3301/', 'height': 1337, 'name': 'Moron', 'peak_id': '3301'}], [{'image': 'https://s.hikr.org/r4icons/ico2_point_s.png', 'name_raw': 'TF-21 KM 40 - Estacionamiento 2350 m   (30)', 'type': 'other', 'waypoint_url': 'https://www.hikr.org/dir/TF-21_KM_40_-_Estacionamiento_11214/', 'height': 2350, 'name': 'TF-21 KM 40 - Estacionamiento', 'peak_id': '21'}, {'image': 'https://s.hikr.org/r4icons/ico2_hut_s.png', 'name_raw': 'Refugio de Altavista 3260 m   (36)', 'type': 'hut', 'waypoint_url': 'https://www.hikr.org/dir/Refugio_de_Altavista_11215/', 'height': 3260, 'name': 'Refugio de Altavista', 'peak_id': '11215'}, {'image': 'https://s.hikr.org/r4icons/ico2_peak_s.png', 'name_raw': 'Pico del Teide 3718 m   (48)', 'type': 'peak', 'waypoint_url': 'https://www.hikr.org/dir/Pico_del_Teide_6894/', 'height': 3718, 'name': 'Pico del Teide', 'peak_id': '6894'}], [{'image': 'https://s.hikr.org/r4icons/ico2_ort_s.png', 'name_raw': 'Goglio 1100 m   (11)', 'type': 'location', 'waypoint_url': 'https://www.hikr.org/dir/Goglio_21026/', 'height': 1100, 'name': 'Goglio', 'peak_id': '21026'}, {'image': 'https://s.hikr.org/r4icons/ico2_ort_s.png', 'name_raw': 'Alpe Devero 1631 m   (325)', 'type': 'location', 'waypoint_url': 'https://www.hikr.org/dir/Alpe_Devero_10282/', 'height': 1631, 'name': 'Alpe Devero', 'peak_id': '10282'}, {'image': 'https://s.hikr.org/r4icons/ico2_point_s.png', 'name_raw': \"Corte d'Ardui 1760 m   (117)\", 'type': 'other', 'waypoint_url': 'https://www.hikr.org/dir/Corte_d_Ardui_36561/', 'height': 1760, 'name': \"Corte d'Ardui\", 'peak_id': '36561'}, {'image': 'https://s.hikr.org/r4icons/ico2_lake_s.png', 'name_raw': 'Lago inferiore del Sangiatto 1990 m   (61)', 'type': 'lake', 'waypoint_url': 'https://www.hikr.org/dir/Lago_inferiore_del_Sangiatto_48641/', 'height': 1990, 'name': 'Lago inferiore del Sangiatto', 'peak_id': '48641'}, {'image': 'https://s.hikr.org/r4icons/ico2_point_s.png', 'name_raw': 'Alpe Sangiatto 2010 m   (73)', 'type': 'other', 'waypoint_url': 'https://www.hikr.org/dir/Alpe_Sangiatto_26460/', 'height': 2010, 'name': 'Alpe Sangiatto', 'peak_id': '26460'}, {'image': 'https://s.hikr.org/r4icons/ico2_lake_s.png', 'name_raw': 'Lago superiore del Sangiatto 2034 m   (44)', 'type': 'lake', 'waypoint_url': 'https://www.hikr.org/dir/Lago_superiore_del_Sangiatto_27431/', 'height': 2034, 'name': 'Lago superiore del Sangiatto', 'peak_id': '27431'}, {'image': 'https://s.hikr.org/r4icons/ico2_pass_s.png', 'name_raw': 'Bocchetta di Scarpia 2248 m   (43)', 'type': 'pass', 'waypoint_url': 'https://www.hikr.org/dir/Bocchetta_di_Scarpia_19634/', 'height': 2248, 'name': 'Bocchetta di Scarpia', 'peak_id': '19634'}, {'image': 'https://s.hikr.org/r4icons/ico2_point_s.png', 'name_raw': 'Alpe Pojala / Beyelenalpu 2148 m   (17)', 'type': 'other', 'waypoint_url': 'https://www.hikr.org/dir/Alpe_Pojala_Beyelenalpu_32485/', 'height': 2148, 'name': 'Alpe Pojala / Beyelenalpu', 'peak_id': '32485'}, {'image': 'https://s.hikr.org/r4icons/ico2_lake_s.png', 'name_raw': 'Lago di Pojala / Beyelesee 2305 m   (15)', 'type': 'lake', 'waypoint_url': 'https://www.hikr.org/dir/Lago_di_Pojala_Beyelesee_36411/', 'height': 2305, 'name': 'Lago di Pojala / Beyelesee', 'peak_id': '36411'}, {'image': 'https://s.hikr.org/r4icons/ico2_pass_s.png', 'name_raw': \"Passo di Pojala / Passo d'Agaro / Hinnerlecka 2405 m   (20)\", 'type': 'pass', 'waypoint_url': 'https://www.hikr.org/dir/Passo_di_Pojala_Passo_d_Agaro_Hinnerlecka_18125/', 'height': 2405, 'name': \"Passo di Pojala / Passo d'Agaro / Hinnerlecka\", 'peak_id': '18125'}, {'image': 'https://s.hikr.org/r4icons/ico2_pass_s.png', 'name_raw': 'Bocchetta della Valle 2574 m   (9)', 'type': 'pass', 'waypoint_url': 'https://www.hikr.org/dir/Bocchetta_della_Valle_18124/', 'height': 2574, 'name': 'Bocchetta della Valle', 'peak_id': '18124'}, {'image': 'https://s.hikr.org/r4icons/ico2_lake_s.png', 'name_raw': 'Lago Busin superiore 2438 m   (8)', 'type': 'lake', 'waypoint_url': 'https://www.hikr.org/dir/Lago_Busin_superiore_46931/', 'height': 2438, 'name': 'Lago Busin superiore', 'peak_id': '46931'}, {'image': 'https://s.hikr.org/r4icons/ico2_lake_s.png', 'name_raw': 'Lago Busin inferiore 2398 m   (19)', 'type': 'lake', 'waypoint_url': 'https://www.hikr.org/dir/Lago_Busin_inferiore_46930/', 'height': 2398, 'name': 'Lago Busin inferiore', 'peak_id': '46930'}, {'image': 'https://s.hikr.org/r4icons/ico2_pass_s.png', 'name_raw': 'Passo Busin 2493 m   (22)', 'type': 'pass', 'waypoint_url': 'https://www.hikr.org/dir/Passo_Busin_21027/', 'height': 2493, 'name': 'Passo Busin', 'peak_id': '21027'}, {'image': 'https://s.hikr.org/r4icons/ico2_lake_s.png', 'name_raw': 'Lago Vannino 2177 m   (42)', 'type': 'lake', 'waypoint_url': 'https://www.hikr.org/dir/Lago_Vannino_26278/', 'height': 2177, 'name': 'Lago Vannino', 'peak_id': '26278'}, {'image': 'https://s.hikr.org/r4icons/ico2_hut_s.png', 'name_raw': 'Rifugio Margaroli 2194 m   (73)', 'type': 'hut', 'waypoint_url': 'https://www.hikr.org/dir/Rifugio_Margaroli_7263/', 'height': 2194, 'name': 'Rifugio Margaroli', 'peak_id': '7263'}, {'image': 'https://s.hikr.org/r4icons/ico2_pass_s.png', 'name_raw': 'Passo di Nefelgiù 2583 m   (24)', 'type': 'pass', 'waypoint_url': 'https://www.hikr.org/dir/Passo_di_Nefelgi%C3%B9_7264/', 'height': 2583, 'name': 'Passo di Nefelgiù', 'peak_id': '3'}, {'image': 'https://s.hikr.org/r4icons/ico2_point_s.png', 'name_raw': 'Alpe Nefelgiù 2048 m   (24)', 'type': 'other', 'waypoint_url': 'https://www.hikr.org/dir/Alpe_Nefelgi%C3%B9_40233/', 'height': 2048, 'name': 'Alpe Nefelgiù', 'peak_id': '3'}, {'image': 'https://s.hikr.org/r4icons/ico2_ort_s.png', 'name_raw': 'Riale 1731 m   (126)', 'type': 'location', 'waypoint_url': 'https://www.hikr.org/dir/Riale_21028/', 'height': 1731, 'name': 'Riale', 'peak_id': '21028'}], [{'image': 'https://s.hikr.org/r4icons/ico2_ort_s.png', 'name_raw': 'Buchboden 910 m   (20)', 'type': 'location', 'waypoint_url': 'https://www.hikr.org/dir/Buchboden_21307/', 'height': 910, 'name': 'Buchboden', 'peak_id': '21307'}, {'image': 'https://s.hikr.org/r4icons/ico2_hut_s.png', 'name_raw': 'Rinderer Alpe 1242 m   (4)', 'type': 'hut', 'waypoint_url': 'https://www.hikr.org/dir/Rinderer_Alpe_18236/', 'height': 1242, 'name': 'Rinderer Alpe', 'peak_id': '18236'}, {'image': 'https://s.hikr.org/r4icons/ico2_hut_s.png', 'name_raw': 'Klesenza Alm 1589 m   (8)', 'type': 'hut', 'waypoint_url': 'https://www.hikr.org/dir/Klesenza_Alm_18234/', 'height': 1589, 'name': 'Klesenza Alm', 'peak_id': '18234'}, {'image': 'https://s.hikr.org/r4icons/ico2_pass_s.png', 'name_raw': 'Bettlertritt 2120 m   (1)', 'type': 'pass', 'waypoint_url': 'https://www.hikr.org/dir/Bettlertritt_88811/', 'height': 2120, 'name': 'Bettlertritt', 'peak_id': '88811'}, {'image': 'https://s.hikr.org/r4icons/ico2_peak_s.png', 'name_raw': 'Bettlerspitz 2272 m   (1)', 'type': 'peak', 'waypoint_url': 'https://www.hikr.org/dir/Bettlerspitz_18243/', 'height': 2272, 'name': 'Bettlerspitz', 'peak_id': '18243'}, {'image': 'https://s.hikr.org/r4icons/ico2_hut_s.png', 'name_raw': 'Matonaalpe 1673 m   (7)', 'type': 'hut', 'waypoint_url': 'https://www.hikr.org/dir/Matonaalpe_18238/', 'height': 1673, 'name': 'Matonaalpe', 'peak_id': '18238'}], [{'image': 'https://s.hikr.org/r4icons/ico2_ort_s.png', 'name_raw': 'Königssee 610 m   (37)', 'type': 'location', 'waypoint_url': 'https://www.hikr.org/dir/K%C3%B6nigssee_21357/', 'height': 610, 'name': 'Königssee', 'peak_id': '3'}, {'image': 'https://s.hikr.org/r4icons/ico2_peak_s.png', 'name_raw': 'Jenner 1874 m   (10)', 'type': 'peak', 'waypoint_url': 'https://www.hikr.org/dir/Jenner_21358/', 'height': 1874, 'name': 'Jenner', 'peak_id': '21358'}], [{'image': 'https://s.hikr.org/r4icons/ico2_point_s.png', 'name_raw': 'Bergstation Sillerebühl 1973 m   (10)', 'type': 'other', 'waypoint_url': 'https://www.hikr.org/dir/Bergstation_Sillereb%C3%BChl_21099/', 'height': 1973, 'name': 'Bergstation Sillerebühl', 'peak_id': '3'}, {'image': 'https://s.hikr.org/r4icons/ico2_pass_s.png', 'name_raw': 'Hahnenmoospass 1950 m   (27)', 'type': 'pass', 'waypoint_url': 'https://www.hikr.org/dir/Hahnenmoospass_7591/', 'height': 1950, 'name': 'Hahnenmoospass', 'peak_id': '7591'}, {'image': 'https://s.hikr.org/r4icons/ico2_peak_s.png', 'name_raw': 'Äugi 2551 m   (13)', 'type': 'peak', 'waypoint_url': 'https://www.hikr.org/dir/%C3%84ugi_6086/', 'height': 2551, 'name': 'Äugi', 'peak_id': '3'}, {'image': 'https://s.hikr.org/r4icons/ico2_peak_s.png', 'name_raw': 'Ammertenspitz / Ammertespitz 2613 m   (47)', 'type': 'peak', 'waypoint_url': 'https://www.hikr.org/dir/Ammertenspitz_Ammertespitz_129/', 'height': 2613, 'name': 'Ammertenspitz / Ammertespitz', 'peak_id': '129'}, {'image': 'https://s.hikr.org/r4icons/ico2_pass_s.png', 'name_raw': 'Ammertenpass / Ammertepass 2443 m   (39)', 'type': 'pass', 'waypoint_url': 'https://www.hikr.org/dir/Ammertenpass_Ammertepass_15702/', 'height': 2443, 'name': 'Ammertenpass / Ammertepass', 'peak_id': '15702'}, {'image': 'https://s.hikr.org/r4icons/ico2_point_s.png', 'name_raw': 'Engstligenalp - Bergstation Luftseilbahn 1965 m   (138)', 'type': 'other', 'waypoint_url': 'https://www.hikr.org/dir/Engstligenalp_-_Bergstation_Luftseilbahn_6765/', 'height': 1965, 'name': 'Engstligenalp - Bergstation Luftseilbahn', 'peak_id': '6765'}], [{'image': 'https://s.hikr.org/r4icons/ico2_ort_s.png', 'name_raw': 'Tenna 1648 m   (34)', 'type': 'location', 'waypoint_url': 'https://www.hikr.org/dir/Tenna_22846/', 'height': 1648, 'name': 'Tenna', 'peak_id': '22846'}, {'image': 'https://s.hikr.org/r4icons/ico2_peak_s.png', 'name_raw': 'Tenner Chrüz 2017 m   (13)', 'type': 'peak', 'waypoint_url': 'https://www.hikr.org/dir/Tenner_Chr%C3%BCz_22847/', 'height': 2017, 'name': 'Tenner Chrüz', 'peak_id': '3'}, {'image': 'https://s.hikr.org/r4icons/ico2_peak_s.png', 'name_raw': 'Schlüechtli 2283 m   (20)', 'type': 'peak', 'waypoint_url': 'https://www.hikr.org/dir/Schl%C3%BCechtli_4717/', 'height': 2283, 'name': 'Schlüechtli', 'peak_id': '3'}, {'image': 'https://s.hikr.org/r4icons/ico2_peak_s.png', 'name_raw': 'Nolla / Nollen 2383 m   (5)', 'type': 'peak', 'waypoint_url': 'https://www.hikr.org/dir/Nolla_Nollen_9192/', 'height': 2383, 'name': 'Nolla / Nollen', 'peak_id': '9192'}, {'image': 'https://s.hikr.org/r4icons/ico2_point_s.png', 'name_raw': 'Schneeböda 2700 m   (12)', 'type': 'other', 'waypoint_url': 'https://www.hikr.org/dir/Schneeb%C3%B6da_51530/', 'height': 2700, 'name': 'Schneeböda', 'peak_id': '3'}, {'image': 'https://s.hikr.org/r4icons/ico2_peak_s.png', 'name_raw': 'Piz Fess / Chli Fess 2875 m   (15)', 'type': 'peak', 'waypoint_url': 'https://www.hikr.org/dir/Piz_Fess_Chli_Fess_1633/', 'height': 2875, 'name': 'Piz Fess / Chli Fess', 'peak_id': '1633'}, {'image': 'https://s.hikr.org/r4icons/ico2_peak_s.png', 'name_raw': 'Oberhorn 2795 m   (6)', 'type': 'peak', 'waypoint_url': 'https://www.hikr.org/dir/Oberhorn_3642/', 'height': 2795, 'name': 'Oberhorn', 'peak_id': '3642'}], [{'image': 'https://s.hikr.org/r4icons/ico2_climb_s.png', 'name_raw': 'Edelgrat 926 m   (32)', 'type': 'climb', 'waypoint_url': 'https://www.hikr.org/dir/Edelgrat_10086/', 'height': 926, 'name': 'Edelgrat', 'peak_id': '10086'}, {'image': 'https://s.hikr.org/r4icons/ico2_ort_s.png', 'name_raw': 'Selzach 445 m   (14)', 'type': 'location', 'waypoint_url': 'https://www.hikr.org/dir/Selzach_10035/', 'height': 445, 'name': 'Selzach', 'peak_id': '10035'}], [{'image': 'https://s.hikr.org/r4icons/ico2_pass_s.png', 'name_raw': 'Col du Marchairuz 1447 m   (34)', 'type': 'pass', 'waypoint_url': 'https://www.hikr.org/dir/Col_du_Marchairuz_7213/', 'height': 1447, 'name': 'Col du Marchairuz', 'peak_id': '7213'}, {'image': 'https://s.hikr.org/r4icons/ico2_peak_s.png', 'name_raw': 'Grand Cunay 1603 m   (15)', 'type': 'peak', 'waypoint_url': 'https://www.hikr.org/dir/Grand_Cunay_7214/', 'height': 1603, 'name': 'Grand Cunay', 'peak_id': '7214'}, {'image': 'https://s.hikr.org/r4icons/ico2_peak_s.png', 'name_raw': 'Mont Tendre 1679 m   (35)', 'type': 'peak', 'waypoint_url': 'https://www.hikr.org/dir/Mont_Tendre_5360/', 'height': 1679, 'name': 'Mont Tendre', 'peak_id': '5360'}, {'image': 'https://s.hikr.org/r4icons/ico2_peak_s.png', 'name_raw': 'Grand Cunay 1603 m   (15)', 'type': 'peak', 'waypoint_url': 'https://www.hikr.org/dir/Grand_Cunay_7214/', 'height': 1603, 'name': 'Grand Cunay', 'peak_id': '7214'}, {'image': 'https://s.hikr.org/r4icons/ico2_pass_s.png', 'name_raw': 'Col du Marchairuz 1447 m   (34)', 'type': 'pass', 'waypoint_url': 'https://www.hikr.org/dir/Col_du_Marchairuz_7213/', 'height': 1447, 'name': 'Col du Marchairuz', 'peak_id': '7213'}], [{'image': 'https://s.hikr.org/r4icons/ico2_ort_s.png', 'name_raw': 'Sulden / Solda 1860 m   (50)', 'type': 'location', 'waypoint_url': 'https://www.hikr.org/dir/Sulden_Solda_23868/', 'height': 1860, 'name': 'Sulden / Solda', 'peak_id': '23868'}, {'image': 'https://s.hikr.org/r4icons/ico2_ort_s.png', 'name_raw': 'K2-Hütte - Langenstein/Seggiovia Orso 2330 m   (15)', 'type': 'location', 'waypoint_url': 'https://www.hikr.org/dir/K2-H%C3%BCtte_-_Langenstein_Seggiovia_Orso_59242/', 'height': 2330, 'name': 'K2-Hütte - Langenstein/Seggiovia Orso', 'peak_id': '2'}, {'image': 'https://s.hikr.org/r4icons/ico2_hut_s.png', 'name_raw': 'Hintergrathütte/Rifugio del Coston 2661 m   (22)', 'type': 'hut', 'waypoint_url': 'https://www.hikr.org/dir/Hintergrath%C3%BCtte_Rifugio_del_Coston_22549/', 'height': 2661, 'name': 'Hintergrathütte/Rifugio del Coston', 'peak_id': '3'}, {'image': 'https://s.hikr.org/r4icons/ico2_point_s.png', 'name_raw': 'Sulden Seilbahn Mittelstation/Staz.intermedia 2197 m   (11)', 'type': 'other', 'waypoint_url': 'https://www.hikr.org/dir/Sulden_Seilbahn_Mittelstation_Staz.intermedia_39749/', 'height': 2197, 'name': 'Sulden Seilbahn Mittelstation/Staz.intermedia', 'peak_id': '39749'}, {'image': 'https://s.hikr.org/r4icons/ico2_peak_s.png', 'name_raw': 'Punta del Coston/Hintergratkope 2813 m   (1)', 'type': 'peak', 'waypoint_url': 'https://www.hikr.org/dir/Punta_del_Coston_Hintergratkope_118191/', 'height': 2813, 'name': 'Punta del Coston/Hintergratkope', 'peak_id': '118191'}, {'image': 'https://s.hikr.org/r4icons/ico2_peak_s.png', 'name_raw': 'Monte del Bersaglio/Scheibenkofel 2469 m   (1)', 'type': 'peak', 'waypoint_url': 'https://www.hikr.org/dir/Monte_del_Bersaglio_Scheibenkofel_118192/', 'height': 2469, 'name': 'Monte del Bersaglio/Scheibenkofel', 'peak_id': '118192'}], [{'image': 'https://s.hikr.org/r4icons/ico2_hut_s.png', 'name_raw': 'Capanna Gnifetti 3647 m   (97)', 'type': 'hut', 'waypoint_url': 'https://www.hikr.org/dir/Capanna_Gnifetti_8711/', 'height': 3647, 'name': 'Capanna Gnifetti', 'peak_id': '8711'}, {'image': 'https://s.hikr.org/r4icons/ico2_pass_s.png', 'name_raw': 'Colle del Lys / Lisjoch 4248 m   (66)', 'type': 'pass', 'waypoint_url': 'https://www.hikr.org/dir/Colle_del_Lys_Lisjoch_14614/', 'height': 4248, 'name': 'Colle del Lys / Lisjoch', 'peak_id': '14614'}, {'image': 'https://s.hikr.org/r4icons/ico2_hut_s.png', 'name_raw': 'Capanna Regina Margherita 4554 m   (49)', 'type': 'hut', 'waypoint_url': 'https://www.hikr.org/dir/Capanna_Regina_Margherita_6457/', 'height': 4554, 'name': 'Capanna Regina Margherita', 'peak_id': '6457'}, {'image': 'https://s.hikr.org/r4icons/ico2_pass_s.png', 'name_raw': 'Colle Gnifetti 4452 m   (40)', 'type': 'pass', 'waypoint_url': 'https://www.hikr.org/dir/Colle_Gnifetti_11599/', 'height': 4452, 'name': 'Colle Gnifetti', 'peak_id': '11599'}, {'image': 'https://s.hikr.org/r4icons/ico2_peak_s.png', 'name_raw': 'Zumsteinspitze / Punta Zumstein 4563 m   (60)', 'type': 'peak', 'waypoint_url': 'https://www.hikr.org/dir/Zumsteinspitze_Punta_Zumstein_6053/', 'height': 4563, 'name': 'Zumsteinspitze / Punta Zumstein', 'peak_id': '6053'}, {'image': 'https://s.hikr.org/r4icons/ico2_peak_s.png', 'name_raw': 'Signalkuppe / Punta Gnifetti 4554 m   (89)', 'type': 'peak', 'waypoint_url': 'https://www.hikr.org/dir/Signalkuppe_Punta_Gnifetti_4943/', 'height': 4554, 'name': 'Signalkuppe / Punta Gnifetti', 'peak_id': '4943'}], [{'image': 'https://s.hikr.org/r4icons/ico2_peak_s.png', 'name_raw': 'Chasseral 1607 m   (123)', 'type': 'peak', 'waypoint_url': 'https://www.hikr.org/dir/Chasseral_966/', 'height': 1607, 'name': 'Chasseral', 'peak_id': '966'}], [{'image': 'https://s.hikr.org/r4icons/ico2_ort_s.png', 'name_raw': 'Weesen 428 m   (94)', 'type': 'location', 'waypoint_url': 'https://www.hikr.org/dir/Weesen_7274/', 'height': 428, 'name': 'Weesen', 'peak_id': '7274'}, {'image': 'https://s.hikr.org/r4icons/ico2_ort_s.png', 'name_raw': 'Stein 837 m   (144)', 'type': 'location', 'waypoint_url': 'https://www.hikr.org/dir/Stein_7770/', 'height': 837, 'name': 'Stein', 'peak_id': '7770'}], [{'image': 'https://s.hikr.org/r4icons/ico2_point_s.png', 'name_raw': 'Haltestelle Küttigen-Fischbach 538 m   (29)', 'type': 'other', 'waypoint_url': 'https://www.hikr.org/dir/Haltestelle_K%C3%BCttigen-Fischbach_19215/', 'height': 538, 'name': 'Haltestelle Küttigen-Fischbach', 'peak_id': '3'}, {'image': 'https://s.hikr.org/r4icons/ico2_point_s.png', 'name_raw': 'Wasserflue - Aussichtsplattform 843 m   (46)', 'type': 'other', 'waypoint_url': 'https://www.hikr.org/dir/Wasserflue_-_Aussichtsplattform_19216/', 'height': 843, 'name': 'Wasserflue - Aussichtsplattform', 'peak_id': '19216'}], [{'image': 'https://s.hikr.org/r4icons/ico2_peak_s.png', 'name_raw': 'Bärnet 2385 m   (7)', 'type': 'peak', 'waypoint_url': 'https://www.hikr.org/dir/B%C3%A4rnet_729/', 'height': 2385, 'name': 'Bärnet', 'peak_id': '3'}, {'image': 'https://s.hikr.org/r4icons/ico2_peak_s.png', 'name_raw': 'Sant Jaggem 2542 m   (7)', 'type': 'peak', 'waypoint_url': 'https://www.hikr.org/dir/Sant_Jaggem_4503/', 'height': 2542, 'name': 'Sant Jaggem', 'peak_id': '4503'}], [{'image': 'https://s.hikr.org/r4icons/ico2_ort_s.png', 'name_raw': 'Unterwasser 906 m   (108)', 'type': 'location', 'waypoint_url': 'https://www.hikr.org/dir/Unterwasser_6645/', 'height': 906, 'name': 'Unterwasser', 'peak_id': '6645'}, {'image': 'https://s.hikr.org/r4icons/ico2_lake_s.png', 'name_raw': 'Gräppelensee 1307 m   (57)', 'type': 'lake', 'waypoint_url': 'https://www.hikr.org/dir/Gr%C3%A4ppelensee_20391/', 'height': 1307, 'name': 'Gräppelensee', 'peak_id': '3'}, {'image': 'https://s.hikr.org/r4icons/ico2_point_s.png', 'name_raw': 'Parkplatz Laui 1072 m   (120)', 'type': 'other', 'waypoint_url': 'https://www.hikr.org/dir/Parkplatz_Laui_12353/', 'height': 1072, 'name': 'Parkplatz Laui', 'peak_id': '12353'}], [{'image': 'https://s.hikr.org/r4icons/ico2_hut_s.png', 'name_raw': 'Untere Gantrischhütte 1512 m   (102)', 'type': 'hut', 'waypoint_url': 'https://www.hikr.org/dir/Untere_Gantrischh%C3%BCtte_6952/', 'height': 1512, 'name': 'Untere Gantrischhütte', 'peak_id': '3'}, {'image': 'https://s.hikr.org/r4icons/ico2_pass_s.png', 'name_raw': 'Morgetepass 1959 m   (92)', 'type': 'pass', 'waypoint_url': 'https://www.hikr.org/dir/Morgetepass_6967/', 'height': 1959, 'name': 'Morgetepass', 'peak_id': '6967'}, {'image': 'https://s.hikr.org/r4icons/ico2_peak_s.png', 'name_raw': 'Schibenspitz 2060 m   (59)', 'type': 'peak', 'waypoint_url': 'https://www.hikr.org/dir/Schibenspitz_4651/', 'height': 2060, 'name': 'Schibenspitz', 'peak_id': '4651'}, {'image': 'https://s.hikr.org/r4icons/ico2_peak_s.png', 'name_raw': 'Gantrisch 2175 m   (108)', 'type': 'peak', 'waypoint_url': 'https://www.hikr.org/dir/Gantrisch_1919/', 'height': 2175, 'name': 'Gantrisch', 'peak_id': '1919'}, {'image': 'https://s.hikr.org/r4icons/ico2_pass_s.png', 'name_raw': 'Leiterepass 1905 m   (111)', 'type': 'pass', 'waypoint_url': 'https://www.hikr.org/dir/Leiterepass_6966/', 'height': 1905, 'name': 'Leiterepass', 'peak_id': '6966'}, {'image': 'https://s.hikr.org/r4icons/ico2_pass_s.png', 'name_raw': 'Wasserscheide / Wasserscheidi 1584 m   (132)', 'type': 'pass', 'waypoint_url': 'https://www.hikr.org/dir/Wasserscheide_Wasserscheidi_18644/', 'height': 1584, 'name': 'Wasserscheide / Wasserscheidi', 'peak_id': '18644'}], [{'image': 'https://s.hikr.org/r4icons/ico2_peak_s.png', 'name_raw': 'Marwees - Ostgipfel 1991 m   (102)', 'type': 'peak', 'waypoint_url': 'https://www.hikr.org/dir/Marwees_-_Ostgipfel_3081/', 'height': 1991, 'name': 'Marwees - Ostgipfel', 'peak_id': '3081'}, {'image': 'https://s.hikr.org/r4icons/ico2_ort_s.png', 'name_raw': 'Wasserauen 868 m   (381)', 'type': 'location', 'waypoint_url': 'https://www.hikr.org/dir/Wasserauen_6854/', 'height': 868, 'name': 'Wasserauen', 'peak_id': '6854'}], [{'image': 'https://s.hikr.org/r4icons/ico2_wand_s.png', 'name_raw': 'Roche des Nants 850 m   (2)', 'type': 'wall', 'waypoint_url': 'https://www.hikr.org/dir/Roche_des_Nants_20767/', 'height': 850, 'name': 'Roche des Nants', 'peak_id': '20767'}], [{'image': 'https://s.hikr.org/r4icons/ico2_peak_s.png', 'name_raw': 'Schiberg - Nordgipfel 2043 m   (65)', 'type': 'peak', 'waypoint_url': 'https://www.hikr.org/dir/Schiberg_-_Nordgipfel_4653/', 'height': 2043, 'name': 'Schiberg - Nordgipfel', 'peak_id': '4653'}, {'image': 'https://s.hikr.org/r4icons/ico2_peak_s.png', 'name_raw': 'Plattenberg 2081 m   (52)', 'type': 'peak', 'waypoint_url': 'https://www.hikr.org/dir/Plattenberg_3935/', 'height': 2081, 'name': 'Plattenberg', 'peak_id': '3935'}], [{'image': 'https://s.hikr.org/r4icons/ico2_point_s.png', 'name_raw': 'Ochsenboden 930 m   (74)', 'type': 'other', 'waypoint_url': 'https://www.hikr.org/dir/Ochsenboden_13641/', 'height': 930, 'name': 'Ochsenboden', 'peak_id': '13641'}, {'image': 'https://s.hikr.org/r4icons/ico2_lake_s.png', 'name_raw': 'Sihlseeli 1829 m   (24)', 'type': 'lake', 'waypoint_url': 'https://www.hikr.org/dir/Sihlseeli_22938/', 'height': 1829, 'name': 'Sihlseeli', 'peak_id': '22938'}, {'image': 'https://s.hikr.org/r4icons/ico2_pass_s.png', 'name_raw': 'Saaspass 1896 m   (38)', 'type': 'pass', 'waypoint_url': 'https://www.hikr.org/dir/Saaspass_7994/', 'height': 1896, 'name': 'Saaspass', 'peak_id': '7994'}, {'image': 'https://s.hikr.org/r4icons/ico2_peak_s.png', 'name_raw': 'Mandli 2007 m   (12)', 'type': 'peak', 'waypoint_url': 'https://www.hikr.org/dir/Mandli_68377/', 'height': 2007, 'name': 'Mandli', 'peak_id': '68377'}, {'image': 'https://s.hikr.org/r4icons/ico2_peak_s.png', 'name_raw': 'Lauiberg 2057 m   (36)', 'type': 'peak', 'waypoint_url': 'https://www.hikr.org/dir/Lauiberg_2847/', 'height': 2057, 'name': 'Lauiberg', 'peak_id': '2847'}, {'image': 'https://s.hikr.org/r4icons/ico2_peak_s.png', 'name_raw': 'Mieserenstock 2199 m   (36)', 'type': 'peak', 'waypoint_url': 'https://www.hikr.org/dir/Mieserenstock_3175/', 'height': 2199, 'name': 'Mieserenstock', 'peak_id': '3175'}, {'image': 'https://s.hikr.org/r4icons/ico2_peak_s.png', 'name_raw': 'Höch Hund 2215 m   (53)', 'type': 'peak', 'waypoint_url': 'https://www.hikr.org/dir/H%C3%B6ch_Hund_2578/', 'height': 2215, 'name': 'Höch Hund', 'peak_id': '3'}, {'image': 'https://s.hikr.org/r4icons/ico2_peak_s.png', 'name_raw': 'Teuf Hund 2126 m   (23)', 'type': 'peak', 'waypoint_url': 'https://www.hikr.org/dir/Teuf_Hund_13359/', 'height': 2126, 'name': 'Teuf Hund', 'peak_id': '13359'}, {'image': 'https://s.hikr.org/r4icons/ico2_peak_s.png', 'name_raw': 'Chläbdächer 2175 m   (45)', 'type': 'peak', 'waypoint_url': 'https://www.hikr.org/dir/Chl%C3%A4bd%C3%A4cher_1068/', 'height': 2175, 'name': 'Chläbdächer', 'peak_id': '3'}, {'image': 'https://s.hikr.org/r4icons/ico2_peak_s.png', 'name_raw': 'Chläbdächer - Westgipfel 2138 m   (48)', 'type': 'peak', 'waypoint_url': 'https://www.hikr.org/dir/Chl%C3%A4bd%C3%A4cher_-_Westgipfel_15129/', 'height': 2138, 'name': 'Chläbdächer - Westgipfel', 'peak_id': '3'}, {'image': 'https://s.hikr.org/r4icons/ico2_peak_s.png', 'name_raw': 'Druesberg 2282 m   (97)', 'type': 'peak', 'waypoint_url': 'https://www.hikr.org/dir/Druesberg_1449/', 'height': 2282, 'name': 'Druesberg', 'peak_id': '1449'}, {'image': 'https://s.hikr.org/r4icons/ico2_peak_s.png', 'name_raw': 'Forstberg 2215 m   (89)', 'type': 'peak', 'waypoint_url': 'https://www.hikr.org/dir/Forstberg_1751/', 'height': 2215, 'name': 'Forstberg', 'peak_id': '1751'}, {'image': 'https://s.hikr.org/r4icons/ico2_ort_s.png', 'name_raw': 'Weglosen 1035 m   (166)', 'type': 'location', 'waypoint_url': 'https://www.hikr.org/dir/Weglosen_7655/', 'height': 1035, 'name': 'Weglosen', 'peak_id': '7655'}], [{'image': 'https://s.hikr.org/r4icons/ico2_ort_s.png', 'name_raw': 'Taormina 200 m   (7)', 'type': 'location', 'waypoint_url': 'https://www.hikr.org/dir/Taormina_21100/', 'height': 200, 'name': 'Taormina', 'peak_id': '21100'}, {'image': 'https://s.hikr.org/r4icons/ico2_ort_s.png', 'name_raw': 'Castelmola 480 m   (5)', 'type': 'location', 'waypoint_url': 'https://www.hikr.org/dir/Castelmola_21101/', 'height': 480, 'name': 'Castelmola', 'peak_id': '21101'}], [{'image': 'https://s.hikr.org/r4icons/ico2_peak_s.png', 'name_raw': 'Hirnichopf 1024 m   (21)', 'type': 'peak', 'waypoint_url': 'https://www.hikr.org/dir/Hirnichopf_2462/', 'height': 1024, 'name': 'Hirnichopf', 'peak_id': '2462'}, {'image': 'https://s.hikr.org/r4icons/ico2_peak_s.png', 'name_raw': 'Ämmenegg 1053 m   (13)', 'type': 'peak', 'waypoint_url': 'https://www.hikr.org/dir/%C3%84mmenegg_13322/', 'height': 1053, 'name': 'Ämmenegg', 'peak_id': '3'}, {'image': 'https://s.hikr.org/r4icons/ico2_pass_s.png', 'name_raw': 'Übergang Ulmet-Stierenberg 1003 m   (11)', 'type': 'pass', 'waypoint_url': 'https://www.hikr.org/dir/%C3%9Cbergang_Ulmet-Stierenberg_20476/', 'height': 1003, 'name': 'Übergang Ulmet-Stierenberg', 'peak_id': '3'}, {'image': 'https://s.hikr.org/r4icons/ico2_ort_s.png', 'name_raw': 'Neuhüsli 650 m   (17)', 'type': 'location', 'waypoint_url': 'https://www.hikr.org/dir/Neuh%C3%BCsli_21116/', 'height': 650, 'name': 'Neuhüsli', 'peak_id': '3'}, {'image': 'https://s.hikr.org/r4icons/ico2_hut_s.png', 'name_raw': 'Gasthof Stierenberg 953 m   (20)', 'type': 'hut', 'waypoint_url': 'https://www.hikr.org/dir/Gasthof_Stierenberg_21118/', 'height': 953, 'name': 'Gasthof Stierenberg', 'peak_id': '21118'}, {'image': 'https://s.hikr.org/r4icons/ico2_point_s.png', 'name_raw': 'Sigbachfall 770 m   (20)', 'type': 'other', 'waypoint_url': 'https://www.hikr.org/dir/Sigbachfall_21120/', 'height': 770, 'name': 'Sigbachfall', 'peak_id': '21120'}, {'image': 'https://s.hikr.org/r4icons/ico2_lake_s.png', 'name_raw': 'Bogentalweiher 766 m   (10)', 'type': 'lake', 'waypoint_url': 'https://www.hikr.org/dir/Bogentalweiher_21127/', 'height': 766, 'name': 'Bogentalweiher', 'peak_id': '21127'}], [{'image': 'https://s.hikr.org/r4icons/ico2_ort_s.png', 'name_raw': 'Jetzmunt 845 m   (4)', 'type': 'location', 'waypoint_url': 'https://www.hikr.org/dir/Jetzmunt_11155/', 'height': 845, 'name': 'Jetzmunt', 'peak_id': '11155'}, {'image': 'https://s.hikr.org/r4icons/ico2_point_s.png', 'name_raw': 'Valleu 1200 m   (6)', 'type': 'other', 'waypoint_url': 'https://www.hikr.org/dir/Valleu_11154/', 'height': 1200, 'name': 'Valleu', 'peak_id': '11154'}, {'image': 'https://s.hikr.org/r4icons/ico2_peak_s.png', 'name_raw': 'Zwölferkopf 1843 m   (4)', 'type': 'peak', 'waypoint_url': 'https://www.hikr.org/dir/Zw%C3%B6lferkopf_19695/', 'height': 1843, 'name': 'Zwölferkopf', 'peak_id': '3'}, {'image': 'https://s.hikr.org/r4icons/ico2_peak_s.png', 'name_raw': 'Davenna 1881 m   (4)', 'type': 'peak', 'waypoint_url': 'https://www.hikr.org/dir/Davenna_19694/', 'height': 1881, 'name': 'Davenna', 'peak_id': '19694'}], [{'image': 'https://s.hikr.org/r4icons/ico2_ort_s.png', 'name_raw': 'Wasserauen 868 m   (381)', 'type': 'location', 'waypoint_url': 'https://www.hikr.org/dir/Wasserauen_6854/', 'height': 868, 'name': 'Wasserauen', 'peak_id': '6854'}, {'image': 'https://s.hikr.org/r4icons/ico2_peak_s.png', 'name_raw': 'Ebenalp 1640 m   (99)', 'type': 'peak', 'waypoint_url': 'https://www.hikr.org/dir/Ebenalp_7764/', 'height': 1640, 'name': 'Ebenalp', 'peak_id': '7764'}, {'image': 'https://s.hikr.org/r4icons/ico2_lake_s.png', 'name_raw': 'Seealpsee 1141 m   (217)', 'type': 'lake', 'waypoint_url': 'https://www.hikr.org/dir/Seealpsee_8235/', 'height': 1141, 'name': 'Seealpsee', 'peak_id': '8235'}], [{'image': 'https://s.hikr.org/r4icons/ico2_peak_s.png', 'name_raw': 'Hochschwab 2277 m   (32)', 'type': 'peak', 'waypoint_url': 'https://www.hikr.org/dir/Hochschwab_6105/', 'height': 2277, 'name': 'Hochschwab', 'peak_id': '6105'}], [{'image': 'https://s.hikr.org/r4icons/ico2_hut_s.png', 'name_raw': 'Doldenhornhütte SAC 1915 m   (38)', 'type': 'hut', 'waypoint_url': 'https://www.hikr.org/dir/Doldenhornh%C3%BCtte_SAC_6372/', 'height': 1915, 'name': 'Doldenhornhütte SAC', 'peak_id': '3'}, {'image': 'https://s.hikr.org/r4icons/ico2_ort_s.png', 'name_raw': 'Kandersteg 1176 m   (235)', 'type': 'location', 'waypoint_url': 'https://www.hikr.org/dir/Kandersteg_7234/', 'height': 1176, 'name': 'Kandersteg', 'peak_id': '7234'}], [{'image': 'https://s.hikr.org/r4icons/ico2_point_s.png', 'name_raw': 'Gantersei 988 m   (69)', 'type': 'other', 'waypoint_url': 'https://www.hikr.org/dir/Gantersei_16095/', 'height': 988, 'name': 'Gantersei', 'peak_id': '16095'}, {'image': 'https://s.hikr.org/r4icons/ico2_point_s.png', 'name_raw': 'Wandflue 1440 m   (6)', 'type': 'other', 'waypoint_url': 'https://www.hikr.org/dir/Wandflue_16096/', 'height': 1440, 'name': 'Wandflue', 'peak_id': '16096'}, {'image': 'https://s.hikr.org/r4icons/ico2_point_s.png', 'name_raw': 'Alp Gumm 1407 m   (43)', 'type': 'other', 'waypoint_url': 'https://www.hikr.org/dir/Alp_Gumm_14114/', 'height': 1407, 'name': 'Alp Gumm', 'peak_id': '14114'}], [{'image': 'https://s.hikr.org/r4icons/ico2_ort_s.png', 'name_raw': 'Graswang 867 m   (16)', 'type': 'location', 'waypoint_url': 'https://www.hikr.org/dir/Graswang_17934/', 'height': 867, 'name': 'Graswang', 'peak_id': '17934'}, {'image': 'https://s.hikr.org/r4icons/ico2_peak_s.png', 'name_raw': 'Kieneckspitz 1943 m   (14)', 'type': 'peak', 'waypoint_url': 'https://www.hikr.org/dir/Kieneckspitz_17933/', 'height': 1943, 'name': 'Kieneckspitz', 'peak_id': '17933'}, {'image': 'https://s.hikr.org/r4icons/ico2_peak_s.png', 'name_raw': 'Kienjoch 1953 m   (18)', 'type': 'peak', 'waypoint_url': 'https://www.hikr.org/dir/Kienjoch_13867/', 'height': 1953, 'name': 'Kienjoch', 'peak_id': '13867'}, {'image': 'https://s.hikr.org/r4icons/ico2_peak_s.png', 'name_raw': 'Geißsprungkopf 1934 m   (15)', 'type': 'peak', 'waypoint_url': 'https://www.hikr.org/dir/Gei%C3%9Fsprungkopf_21039/', 'height': 1934, 'name': 'Geißsprungkopf', 'peak_id': '3'}], [{'image': 'https://s.hikr.org/r4icons/ico2_point_s.png', 'name_raw': 'Abbazia San Benedetto in Val Perlana 825 m   (16)', 'type': 'other', 'waypoint_url': 'https://www.hikr.org/dir/Abbazia_San_Benedetto_in_Val_Perlana_20951/', 'height': 825, 'name': 'Abbazia San Benedetto in Val Perlana', 'peak_id': '20951'}, {'image': 'https://s.hikr.org/r4icons/ico2_point_s.png', 'name_raw': 'Abbazia Acquafredda 325 m   (25)', 'type': 'other', 'waypoint_url': 'https://www.hikr.org/dir/Abbazia_Acquafredda_19586/', 'height': 325, 'name': 'Abbazia Acquafredda', 'peak_id': '19586'}, {'image': 'https://s.hikr.org/r4icons/ico2_point_s.png', 'name_raw': 'Abbazia Madonna del Soccorso 419 m   (25)', 'type': 'other', 'waypoint_url': 'https://www.hikr.org/dir/Abbazia_Madonna_del_Soccorso_20952/', 'height': 419, 'name': 'Abbazia Madonna del Soccorso', 'peak_id': '20952'}], [{'image': 'https://s.hikr.org/r4icons/ico2_wand_s.png', 'name_raw': 'Lastoni di Dro 400 m   (6)', 'type': 'wall', 'waypoint_url': 'https://www.hikr.org/dir/Lastoni_di_Dro_21052/', 'height': 400, 'name': 'Lastoni di Dro', 'peak_id': '21052'}], [{'image': 'https://s.hikr.org/r4icons/ico2_peak_s.png', 'name_raw': 'Höh Grat 1922 m   (14)', 'type': 'peak', 'waypoint_url': 'https://www.hikr.org/dir/H%C3%B6h_Grat_8449/', 'height': 1922, 'name': 'Höh Grat', 'peak_id': '3'}, {'image': 'https://s.hikr.org/r4icons/ico2_peak_s.png', 'name_raw': 'Arvidossen 1809 m   (11)', 'type': 'peak', 'waypoint_url': 'https://www.hikr.org/dir/Arvidossen_13549/', 'height': 1809, 'name': 'Arvidossen', 'peak_id': '13549'}], [{'image': 'https://s.hikr.org/r4icons/ico2_point_s.png', 'name_raw': \"Vo' del Moncodeno 1430 m   (60)\", 'type': 'other', 'waypoint_url': 'https://www.hikr.org/dir/Vo_del_Moncodeno_22951/', 'height': 1430, 'name': \"Vo' del Moncodeno\", 'peak_id': '22951'}, {'image': 'https://s.hikr.org/r4icons/ico2_pass_s.png', 'name_raw': 'Bocchetta di Prada 1653 m   (48)', 'type': 'pass', 'waypoint_url': 'https://www.hikr.org/dir/Bocchetta_di_Prada_41458/', 'height': 1653, 'name': 'Bocchetta di Prada', 'peak_id': '41458'}, {'image': 'https://s.hikr.org/r4icons/ico2_hut_s.png', 'name_raw': 'Bivacco-Cappella 89° Brigata Garibaldi 1603 m   (40)', 'type': 'hut', 'waypoint_url': 'https://www.hikr.org/dir/Bivacco-Cappella_89%C2%B0_Brigata_Garibaldi_27842/', 'height': 1603, 'name': 'Bivacco-Cappella 89° Brigata Garibaldi', 'peak_id': '89'}, {'image': 'https://s.hikr.org/r4icons/ico2_peak_s.png', 'name_raw': 'Grigna Settentrionale 2410 m   (196)', 'type': 'peak', 'waypoint_url': 'https://www.hikr.org/dir/Grigna_Settentrionale_12824/', 'height': 2410, 'name': 'Grigna Settentrionale', 'peak_id': '12824'}, {'image': 'https://s.hikr.org/r4icons/ico2_hut_s.png', 'name_raw': 'Rifugio Brioschi 2410 m   (177)', 'type': 'hut', 'waypoint_url': 'https://www.hikr.org/dir/Rifugio_Brioschi_21151/', 'height': 2410, 'name': 'Rifugio Brioschi', 'peak_id': '21151'}, {'image': 'https://s.hikr.org/r4icons/ico2_hut_s.png', 'name_raw': 'Rifugio Bogani 1816 m   (61)', 'type': 'hut', 'waypoint_url': 'https://www.hikr.org/dir/Rifugio_Bogani_19330/', 'height': 1816, 'name': 'Rifugio Bogani', 'peak_id': '19330'}, {'image': 'https://s.hikr.org/r4icons/ico2_point_s.png', 'name_raw': 'Cresta Piancaformia 2168 m   (30)', 'type': 'other', 'waypoint_url': 'https://www.hikr.org/dir/Cresta_Piancaformia_22636/', 'height': 2168, 'name': 'Cresta Piancaformia', 'peak_id': '22636'}], [{'image': 'https://s.hikr.org/r4icons/ico2_wand_s.png', 'name_raw': 'Lastoni di Dro 400 m   (6)', 'type': 'wall', 'waypoint_url': 'https://www.hikr.org/dir/Lastoni_di_Dro_21052/', 'height': 400, 'name': 'Lastoni di Dro', 'peak_id': '21052'}], [{'image': 'https://s.hikr.org/r4icons/ico2_peak_s.png', 'name_raw': 'Schilthorn 2969 m   (41)', 'type': 'peak', 'waypoint_url': 'https://www.hikr.org/dir/Schilthorn_4687/', 'height': 2969, 'name': 'Schilthorn', 'peak_id': '4687'}, {'image': 'https://s.hikr.org/r4icons/ico2_ort_s.png', 'name_raw': 'Stechelberg 910 m   (59)', 'type': 'location', 'waypoint_url': 'https://www.hikr.org/dir/Stechelberg_7761/', 'height': 910, 'name': 'Stechelberg', 'peak_id': '7761'}, {'image': 'https://s.hikr.org/r4icons/ico2_pass_s.png', 'name_raw': 'Seewlifura 2598 m   (8)', 'type': 'pass', 'waypoint_url': 'https://www.hikr.org/dir/Seewlifura_7587/', 'height': 2598, 'name': 'Seewlifura', 'peak_id': '7587'}], [{'image': 'https://s.hikr.org/r4icons/ico2_lake_s.png', 'name_raw': 'Obersee 983 m   (62)', 'type': 'lake', 'waypoint_url': 'https://www.hikr.org/dir/Obersee_10299/', 'height': 983, 'name': 'Obersee', 'peak_id': '10299'}, {'image': 'https://s.hikr.org/r4icons/ico2_peak_s.png', 'name_raw': 'Rautispitz 2283 m   (99)', 'type': 'peak', 'waypoint_url': 'https://www.hikr.org/dir/Rautispitz_4085/', 'height': 2283, 'name': 'Rautispitz', 'peak_id': '4085'}, {'image': 'https://s.hikr.org/r4icons/ico2_point_s.png', 'name_raw': 'Rautihütten 1637 m   (29)', 'type': 'other', 'waypoint_url': 'https://www.hikr.org/dir/Rautih%C3%BCtten_21022/', 'height': 1637, 'name': 'Rautihütten', 'peak_id': '3'}], [{'image': 'https://s.hikr.org/r4icons/ico2_peak_s.png', 'name_raw': 'Höhenberg 673 m   (3)', 'type': 'peak', 'waypoint_url': 'https://www.hikr.org/dir/H%C3%B6henberg_20316/', 'height': 673, 'name': 'Höhenberg', 'peak_id': '3'}, {'image': 'https://s.hikr.org/r4icons/ico2_ort_s.png', 'name_raw': 'Frieding 664 m   (5)', 'type': 'location', 'waypoint_url': 'https://www.hikr.org/dir/Frieding_21056/', 'height': 664, 'name': 'Frieding', 'peak_id': '21056'}, {'image': 'https://s.hikr.org/r4icons/ico2_point_s.png', 'name_raw': 'Andechser Kornkreis 681 m   (3)', 'type': 'other', 'waypoint_url': 'https://www.hikr.org/dir/Andechser_Kornkreis_21057/', 'height': 681, 'name': 'Andechser Kornkreis', 'peak_id': '21057'}, {'image': 'https://s.hikr.org/r4icons/ico2_ort_s.png', 'name_raw': 'Herrsching am Ammersee 537 m   (25)', 'type': 'location', 'waypoint_url': 'https://www.hikr.org/dir/Herrsching_am_Ammersee_20317/', 'height': 537, 'name': 'Herrsching am Ammersee', 'peak_id': '20317'}, {'image': 'https://s.hikr.org/r4icons/ico2_ort_s.png', 'name_raw': 'Unering 640 m   (5)', 'type': 'location', 'waypoint_url': 'https://www.hikr.org/dir/Unering_20315/', 'height': 640, 'name': 'Unering', 'peak_id': '20315'}, {'image': 'https://s.hikr.org/r4icons/ico2_ort_s.png', 'name_raw': 'Hanfeld 660 m   (4)', 'type': 'location', 'waypoint_url': 'https://www.hikr.org/dir/Hanfeld_20314/', 'height': 660, 'name': 'Hanfeld', 'peak_id': '20314'}, {'image': 'https://s.hikr.org/r4icons/ico2_ort_s.png', 'name_raw': 'Leutstetten 600 m   (3)', 'type': 'location', 'waypoint_url': 'https://www.hikr.org/dir/Leutstetten_21058/', 'height': 600, 'name': 'Leutstetten', 'peak_id': '21058'}, {'image': 'https://s.hikr.org/r4icons/ico2_ort_s.png', 'name_raw': 'Fürstenried West 580 m   (3)', 'type': 'location', 'waypoint_url': 'https://www.hikr.org/dir/F%C3%BCrstenried_West_21059/', 'height': 580, 'name': 'Fürstenried West', 'peak_id': '3'}, {'image': 'https://s.hikr.org/r4icons/ico2_ort_s.png', 'name_raw': 'München - Neuhausen 520 m   (9)', 'type': 'location', 'waypoint_url': 'https://www.hikr.org/dir/M%C3%BCnchen_-_Neuhausen_21060/', 'height': 520, 'name': 'München - Neuhausen', 'peak_id': '3'}], [{'image': 'https://s.hikr.org/r4icons/ico2_point_s.png', 'name_raw': 'Mittlerwengi 1175 m   (49)', 'type': 'other', 'waypoint_url': 'https://www.hikr.org/dir/Mittlerwengi_11761/', 'height': 1175, 'name': 'Mittlerwengi', 'peak_id': '11761'}, {'image': 'https://s.hikr.org/r4icons/ico2_hut_s.png', 'name_raw': 'Ober Bogmen 1374 m   (37)', 'type': 'hut', 'waypoint_url': 'https://www.hikr.org/dir/Ober_Bogmen_20914/', 'height': 1374, 'name': 'Ober Bogmen', 'peak_id': '20914'}, {'image': 'https://s.hikr.org/r4icons/ico2_peak_s.png', 'name_raw': 'Gleiterspitz 1531 m   (20)', 'type': 'peak', 'waypoint_url': 'https://www.hikr.org/dir/Gleiterspitz_17886/', 'height': 1531, 'name': 'Gleiterspitz', 'peak_id': '17886'}, {'image': 'https://s.hikr.org/r4icons/ico2_peak_s.png', 'name_raw': 'Chüemettler 1702 m   (63)', 'type': 'peak', 'waypoint_url': 'https://www.hikr.org/dir/Ch%C3%BCemettler_6250/', 'height': 1702, 'name': 'Chüemettler', 'peak_id': '3'}, {'image': 'https://s.hikr.org/r4icons/ico2_peak_s.png', 'name_raw': 'Grappenhorn 1740 m   (37)', 'type': 'peak', 'waypoint_url': 'https://www.hikr.org/dir/Grappenhorn_6251/', 'height': 1740, 'name': 'Grappenhorn', 'peak_id': '6251'}, {'image': 'https://s.hikr.org/r4icons/ico2_hut_s.png', 'name_raw': 'Hinterwengi 1341 m   (47)', 'type': 'hut', 'waypoint_url': 'https://www.hikr.org/dir/Hinterwengi_13595/', 'height': 1341, 'name': 'Hinterwengi', 'peak_id': '13595'}, {'image': 'https://s.hikr.org/r4icons/ico2_point_s.png', 'name_raw': 'Mittlerwengi 1175 m   (49)', 'type': 'other', 'waypoint_url': 'https://www.hikr.org/dir/Mittlerwengi_11761/', 'height': 1175, 'name': 'Mittlerwengi', 'peak_id': '11761'}], [{'image': 'https://s.hikr.org/r4icons/ico2_peak_s.png', 'name_raw': 'Hirzli 1639 m   (96)', 'type': 'peak', 'waypoint_url': 'https://www.hikr.org/dir/Hirzli_2467/', 'height': 1639, 'name': 'Hirzli', 'peak_id': '2467'}, {'image': 'https://s.hikr.org/r4icons/ico2_peak_s.png', 'name_raw': 'Planggenstock 1675 m   (64)', 'type': 'peak', 'waypoint_url': 'https://www.hikr.org/dir/Planggenstock_3916/', 'height': 1675, 'name': 'Planggenstock', 'peak_id': '3916'}, {'image': 'https://s.hikr.org/r4icons/ico2_point_s.png', 'name_raw': 'Morgenholz 983 m   (91)', 'type': 'other', 'waypoint_url': 'https://www.hikr.org/dir/Morgenholz_7632/', 'height': 983, 'name': 'Morgenholz', 'peak_id': '7632'}, {'image': 'https://s.hikr.org/r4icons/ico2_ort_s.png', 'name_raw': 'Niederurnen 435 m   (64)', 'type': 'location', 'waypoint_url': 'https://www.hikr.org/dir/Niederurnen_7665/', 'height': 435, 'name': 'Niederurnen', 'peak_id': '7665'}], [{'image': 'https://s.hikr.org/r4icons/ico2_point_s.png', 'name_raw': 'Panamakanal 26 m   (1)', 'type': 'other', 'waypoint_url': 'https://www.hikr.org/dir/Panamakanal_118189/', 'height': 26, 'name': 'Panamakanal', 'peak_id': '118189'}], [{'image': 'https://s.hikr.org/r4icons/ico2_hut_s.png', 'name_raw': 'Refugio José Félix Ribas 4864 m   (15)', 'type': 'hut', 'waypoint_url': 'https://www.hikr.org/dir/Refugio_Jos%C3%A9_F%C3%A9lix_Ribas_7359/', 'height': 4864, 'name': 'Refugio José Félix Ribas', 'peak_id': '3'}, {'image': 'https://s.hikr.org/r4icons/ico2_peak_s.png', 'name_raw': 'Cotopaxi 5897 m   (18)', 'type': 'peak', 'waypoint_url': 'https://www.hikr.org/dir/Cotopaxi_7087/', 'height': 5897, 'name': 'Cotopaxi', 'peak_id': '7087'}], [{'image': 'https://s.hikr.org/r4icons/ico2_bridg_s.png', 'name_raw': 'Ponte del Passo 204 m   (9)', 'type': 'bridge', 'waypoint_url': 'https://www.hikr.org/dir/Ponte_del_Passo_52868/', 'height': 204, 'name': 'Ponte del Passo', 'peak_id': '52868'}, {'image': 'https://s.hikr.org/r4icons/ico2_ort_s.png', 'name_raw': 'Dascio 203 m   (9)', 'type': 'location', 'waypoint_url': 'https://www.hikr.org/dir/Dascio_52869/', 'height': 203, 'name': 'Dascio', 'peak_id': '52869'}, {'image': 'https://s.hikr.org/r4icons/ico2_point_s.png', 'name_raw': 'Sasso di Dascio 277 m   (8)', 'type': 'other', 'waypoint_url': 'https://www.hikr.org/dir/Sasso_di_Dascio_75691/', 'height': 277, 'name': 'Sasso di Dascio', 'peak_id': '75691'}, {'image': 'https://s.hikr.org/r4icons/ico2_ruin_s.png', 'name_raw': 'Alpe di Teolo 319 m   (7)', 'type': 'ruin', 'waypoint_url': 'https://www.hikr.org/dir/Alpe_di_Teolo_75695/', 'height': 319, 'name': 'Alpe di Teolo', 'peak_id': '75695'}, {'image': 'https://s.hikr.org/r4icons/ico2_point_s.png', 'name_raw': 'Tempietto di San Fedelino 200 m   (8)', 'type': 'other', 'waypoint_url': 'https://www.hikr.org/dir/Tempietto_di_San_Fedelino_20987/', 'height': 200, 'name': 'Tempietto di San Fedelino', 'peak_id': '20987'}, {'image': 'https://s.hikr.org/r4icons/ico2_point_s.png', 'name_raw': 'Salto delle Capre 329 m   (9)', 'type': 'other', 'waypoint_url': 'https://www.hikr.org/dir/Salto_delle_Capre_52871/', 'height': 329, 'name': 'Salto delle Capre', 'peak_id': '52871'}], [{'image': 'https://s.hikr.org/r4icons/ico2_hut_s.png', 'name_raw': 'Biel 1621 m   (49)', 'type': 'hut', 'waypoint_url': 'https://www.hikr.org/dir/Biel_7064/', 'height': 1621, 'name': 'Biel', 'peak_id': '7064'}, {'image': 'https://s.hikr.org/r4icons/ico2_pass_s.png', 'name_raw': 'Rossstocklücke 2288 m   (49)', 'type': 'pass', 'waypoint_url': 'https://www.hikr.org/dir/Rossstockl%C3%BCcke_14634/', 'height': 2288, 'name': 'Rossstocklücke', 'peak_id': '3'}], [{'image': 'https://s.hikr.org/r4icons/ico2_hut_s.png', 'name_raw': 'Monte di Comino - Al Riposo Romantico 1138 m   (9)', 'type': 'hut', 'waypoint_url': 'https://www.hikr.org/dir/Monte_di_Comino_-_Al_Riposo_Romantico_9414/', 'height': 1138, 'name': 'Monte di Comino - Al Riposo Romantico', 'peak_id': '9414'}, {'image': 'https://s.hikr.org/r4icons/ico2_point_s.png', 'name_raw': 'Monte di Comino 1155 m   (21)', 'type': 'other', 'waypoint_url': 'https://www.hikr.org/dir/Monte_di_Comino_11533/', 'height': 1155, 'name': 'Monte di Comino', 'peak_id': '11533'}, {'image': 'https://s.hikr.org/r4icons/ico2_hut_s.png', 'name_raw': 'Monte di Comino - Alla Capanna 1157 m   (29)', 'type': 'hut', 'waypoint_url': 'https://www.hikr.org/dir/Monte_di_Comino_-_Alla_Capanna_7619/', 'height': 1157, 'name': 'Monte di Comino - Alla Capanna', 'peak_id': '7619'}, {'image': 'https://s.hikr.org/r4icons/ico2_point_s.png', 'name_raw': 'Madonna della Segna 1166 m   (31)', 'type': 'other', 'waypoint_url': 'https://www.hikr.org/dir/Madonna_della_Segna_21247/', 'height': 1166, 'name': 'Madonna della Segna', 'peak_id': '21247'}, {'image': 'https://s.hikr.org/r4icons/ico2_peak_s.png', 'name_raw': 'Pizzin 1509 m   (25)', 'type': 'peak', 'waypoint_url': 'https://www.hikr.org/dir/Pizzin_9417/', 'height': 1509, 'name': 'Pizzin', 'peak_id': '9417'}, {'image': 'https://s.hikr.org/r4icons/ico2_peak_s.png', 'name_raw': 'Pianascio 1643 m   (28)', 'type': 'peak', 'waypoint_url': 'https://www.hikr.org/dir/Pianascio_8939/', 'height': 1643, 'name': 'Pianascio', 'peak_id': '8939'}, {'image': 'https://s.hikr.org/r4icons/ico2_hut_s.png', 'name_raw': 'Rifugio Corte Nuovo 1635 m   (32)', 'type': 'hut', 'waypoint_url': 'https://www.hikr.org/dir/Rifugio_Corte_Nuovo_24615/', 'height': 1635, 'name': 'Rifugio Corte Nuovo', 'peak_id': '24615'}, {'image': 'https://s.hikr.org/r4icons/ico2_pass_s.png', 'name_raw': 'Pescia Lunga 1511 m   (35)', 'type': 'pass', 'waypoint_url': 'https://www.hikr.org/dir/Pescia_Lunga_16350/', 'height': 1511, 'name': 'Pescia Lunga', 'peak_id': '16350'}, {'image': 'https://s.hikr.org/r4icons/ico2_point_s.png', 'name_raw': 'Cappellone 1879 m   (22)', 'type': 'other', 'waypoint_url': 'https://www.hikr.org/dir/Cappellone_9416/', 'height': 1879, 'name': 'Cappellone', 'peak_id': '9416'}, {'image': 'https://s.hikr.org/r4icons/ico2_peak_s.png', 'name_raw': 'Pizzo Ruscada 2004 m   (53)', 'type': 'peak', 'waypoint_url': 'https://www.hikr.org/dir/Pizzo_Ruscada_4416/', 'height': 2004, 'name': 'Pizzo Ruscada', 'peak_id': '4416'}], [{'image': 'https://s.hikr.org/r4icons/ico2_wand_s.png', 'name_raw': 'Parete San Paolo 300 m   (27)', 'type': 'wall', 'waypoint_url': 'https://www.hikr.org/dir/Parete_San_Paolo_21053/', 'height': 300, 'name': 'Parete San Paolo', 'peak_id': '21053'}], [{'image': 'https://s.hikr.org/r4icons/ico2_peak_s.png', 'name_raw': 'Spitzi Flue 1658 m   (28)', 'type': 'peak', 'waypoint_url': 'https://www.hikr.org/dir/Spitzi_Flue_9908/', 'height': 1658, 'name': 'Spitzi Flue', 'peak_id': '9908'}, {'image': 'https://s.hikr.org/r4icons/ico2_peak_s.png', 'name_raw': 'Ralligstöck 1254 m   (18)', 'type': 'peak', 'waypoint_url': 'https://www.hikr.org/dir/Ralligst%C3%B6ck_19106/', 'height': 1254, 'name': 'Ralligstöck', 'peak_id': '3'}, {'image': 'https://s.hikr.org/r4icons/ico2_climb_s.png', 'name_raw': 'Rälligstöck 1400 m   (7)', 'type': 'climb', 'waypoint_url': 'https://www.hikr.org/dir/R%C3%A4lligst%C3%B6ck_9031/', 'height': 1400, 'name': 'Rälligstöck', 'peak_id': '3'}, {'image': 'https://s.hikr.org/r4icons/ico2_wand_s.png', 'name_raw': 'Bärglis Chöpf 1634 m   (1)', 'type': 'wall', 'waypoint_url': 'https://www.hikr.org/dir/B%C3%A4rglis_Ch%C3%B6pf_19306/', 'height': 1634, 'name': 'Bärglis Chöpf', 'peak_id': '3'}, {'image': 'https://s.hikr.org/r4icons/ico2_peak_s.png', 'name_raw': 'Sigriswiler Rothorn 2051 m   (69)', 'type': 'peak', 'waypoint_url': 'https://www.hikr.org/dir/Sigriswiler_Rothorn_4327/', 'height': 2051, 'name': 'Sigriswiler Rothorn', 'peak_id': '4327'}, {'image': 'https://s.hikr.org/r4icons/ico2_cave_s.png', 'name_raw': 'Schafloch 1780 m   (24)', 'type': 'cave', 'waypoint_url': 'https://www.hikr.org/dir/Schafloch_14994/', 'height': 1780, 'name': 'Schafloch', 'peak_id': '14994'}, {'image': 'https://s.hikr.org/r4icons/ico2_peak_s.png', 'name_raw': 'Mittaghorn 2014 m   (19)', 'type': 'peak', 'waypoint_url': 'https://www.hikr.org/dir/Mittaghorn_3209/', 'height': 2014, 'name': 'Mittaghorn', 'peak_id': '3209'}], [{'image': 'https://s.hikr.org/r4icons/ico2_peak_s.png', 'name_raw': 'Harder Kulm 1322 m   (61)', 'type': 'peak', 'waypoint_url': 'https://www.hikr.org/dir/Harder_Kulm_14412/', 'height': 1322, 'name': 'Harder Kulm', 'peak_id': '14412'}, {'image': 'https://s.hikr.org/r4icons/ico2_peak_s.png', 'name_raw': 'Harder - Wannichnubel 1585 m   (44)', 'type': 'peak', 'waypoint_url': 'https://www.hikr.org/dir/Harder_-_Wannichnubel_2400/', 'height': 1585, 'name': 'Harder - Wannichnubel', 'peak_id': '2400'}, {'image': 'https://s.hikr.org/r4icons/ico2_ort_s.png', 'name_raw': 'Interlaken Ost 567 m   (35)', 'type': 'location', 'waypoint_url': 'https://www.hikr.org/dir/Interlaken_Ost_14570/', 'height': 567, 'name': 'Interlaken Ost', 'peak_id': '14570'}], [{'image': 'https://s.hikr.org/r4icons/ico2_ort_s.png', 'name_raw': 'Niederrickenbach 1162 m   (164)', 'type': 'location', 'waypoint_url': 'https://www.hikr.org/dir/Niederrickenbach_8028/', 'height': 1162, 'name': 'Niederrickenbach', 'peak_id': '8028'}, {'image': 'https://s.hikr.org/r4icons/ico2_peak_s.png', 'name_raw': 'Buochserhorn 1806 m   (119)', 'type': 'peak', 'waypoint_url': 'https://www.hikr.org/dir/Buochserhorn_659/', 'height': 1806, 'name': 'Buochserhorn', 'peak_id': '659'}, {'image': 'https://s.hikr.org/r4icons/ico2_peak_s.png', 'name_raw': 'Musenalper Grat 1785 m   (55)', 'type': 'peak', 'waypoint_url': 'https://www.hikr.org/dir/Musenalper_Grat_3413/', 'height': 1785, 'name': 'Musenalper Grat', 'peak_id': '3413'}, {'image': 'https://s.hikr.org/r4icons/ico2_pass_s.png', 'name_raw': 'Bärenfallen 1580 m   (32)', 'type': 'pass', 'waypoint_url': 'https://www.hikr.org/dir/B%C3%A4renfallen_8144/', 'height': 1580, 'name': 'Bärenfallen', 'peak_id': '3'}], [{'image': 'https://s.hikr.org/r4icons/ico2_ort_s.png', 'name_raw': 'Schaan 457 m   (15)', 'type': 'location', 'waypoint_url': 'https://www.hikr.org/dir/Schaan_19711/', 'height': 457, 'name': 'Schaan', 'peak_id': '19711'}, {'image': 'https://s.hikr.org/r4icons/ico2_hut_s.png', 'name_raw': 'Alpila 1421 m   (5)', 'type': 'hut', 'waypoint_url': 'https://www.hikr.org/dir/Alpila_20579/', 'height': 1421, 'name': 'Alpila', 'peak_id': '20579'}], [{'image': 'https://s.hikr.org/r4icons/ico2_wand_s.png', 'name_raw': 'Hörnli Westwand 1050 m   (53)', 'type': 'wall', 'waypoint_url': 'https://www.hikr.org/dir/H%C3%B6rnli_Westwand_8250/', 'height': 1050, 'name': 'Hörnli Westwand', 'peak_id': '3'}, {'image': 'https://s.hikr.org/r4icons/ico2_peak_s.png', 'name_raw': 'Hörnli 1133 m   (119)', 'type': 'peak', 'waypoint_url': 'https://www.hikr.org/dir/H%C3%B6rnli_2656/', 'height': 1133, 'name': 'Hörnli', 'peak_id': '3'}, {'image': 'https://s.hikr.org/r4icons/ico2_point_s.png', 'name_raw': 'Breitenweg 901 m   (28)', 'type': 'other', 'waypoint_url': 'https://www.hikr.org/dir/Breitenweg_11791/', 'height': 901, 'name': 'Breitenweg', 'peak_id': '11791'}, {'image': 'https://s.hikr.org/r4icons/ico2_ort_s.png', 'name_raw': 'Steg im Tösstal 699 m   (105)', 'type': 'location', 'waypoint_url': 'https://www.hikr.org/dir/Steg_im_T%C3%B6sstal_7508/', 'height': 699, 'name': 'Steg im Tösstal', 'peak_id': '3'}], [{'image': 'https://s.hikr.org/r4icons/ico2_peak_s.png', 'name_raw': 'Volcán Deseada 1949 m   (12)', 'type': 'peak', 'waypoint_url': 'https://www.hikr.org/dir/Volc%C3%A1n_Deseada_13083/', 'height': 1949, 'name': 'Volcán Deseada', 'peak_id': '3'}, {'image': 'https://s.hikr.org/r4icons/ico2_peak_s.png', 'name_raw': 'Hoyo Negro 1936 m   (8)', 'type': 'peak', 'waypoint_url': 'https://www.hikr.org/dir/Hoyo_Negro_17925/', 'height': 1936, 'name': 'Hoyo Negro', 'peak_id': '17925'}, {'image': 'https://s.hikr.org/r4icons/ico2_hut_s.png', 'name_raw': 'Refugio El Pilar 1440 m   (12)', 'type': 'hut', 'waypoint_url': 'https://www.hikr.org/dir/Refugio_El_Pilar_13085/', 'height': 1440, 'name': 'Refugio El Pilar', 'peak_id': '13085'}, {'image': 'https://s.hikr.org/r4icons/ico2_ort_s.png', 'name_raw': 'Puerto Naos 10 m   (2)', 'type': 'location', 'waypoint_url': 'https://www.hikr.org/dir/Puerto_Naos_21085/', 'height': 10, 'name': 'Puerto Naos', 'peak_id': '21085'}, {'image': 'https://s.hikr.org/r4icons/ico2_ort_s.png', 'name_raw': 'Jedey 600 m   (1)', 'type': 'location', 'waypoint_url': 'https://www.hikr.org/dir/Jedey_21086/', 'height': 600, 'name': 'Jedey', 'peak_id': '21086'}, {'image': 'https://s.hikr.org/r4icons/ico2_peak_s.png', 'name_raw': 'Montaña Negra 1784 m   (4)', 'type': 'peak', 'waypoint_url': 'https://www.hikr.org/dir/Monta%C3%B1a_Negra_21087/', 'height': 1784, 'name': 'Montaña Negra', 'peak_id': '3'}, {'image': 'https://s.hikr.org/r4icons/ico2_ort_s.png', 'name_raw': 'Todoque 300 m   (2)', 'type': 'location', 'waypoint_url': 'https://www.hikr.org/dir/Todoque_21104/', 'height': 300, 'name': 'Todoque', 'peak_id': '21104'}], [{'image': 'https://s.hikr.org/r4icons/ico2_peak_s.png', 'name_raw': 'Tomlishorn 2128 m   (138)', 'type': 'peak', 'waypoint_url': 'https://www.hikr.org/dir/Tomlishorn_5433/', 'height': 2128, 'name': 'Tomlishorn', 'peak_id': '5433'}], [{'image': 'https://s.hikr.org/r4icons/ico2_ort_s.png', 'name_raw': 'Weingarten (Baden), Bahnhof 110 m   (1)', 'type': 'location', 'waypoint_url': 'https://www.hikr.org/dir/Weingarten_%28Baden%29%2C_Bahnhof_118228/', 'height': 110, 'name': 'Weingarten (Baden), Bahnhof', 'peak_id': '28'}, {'image': 'https://s.hikr.org/r4icons/ico2_peak_s.png', 'name_raw': 'Katzenberg 249 m   (1)', 'type': 'peak', 'waypoint_url': 'https://www.hikr.org/dir/Katzenberg_118229/', 'height': 249, 'name': 'Katzenberg', 'peak_id': '118229'}, {'image': 'https://s.hikr.org/r4icons/ico2_peak_s.png', 'name_raw': 'Kirchberg 236 m   (1)', 'type': 'peak', 'waypoint_url': 'https://www.hikr.org/dir/Kirchberg_118230/', 'height': 236, 'name': 'Kirchberg', 'peak_id': '118230'}], [{'image': 'https://s.hikr.org/r4icons/ico2_peak_s.png', 'name_raw': 'Steinkarspitze  2018 m   (3)', 'type': 'peak', 'waypoint_url': 'https://www.hikr.org/dir/Steinkarspitze__24376/', 'height': 2018, 'name': 'Steinkarspitze', 'peak_id': '24376'}, {'image': 'https://s.hikr.org/r4icons/ico2_peak_s.png', 'name_raw': 'Steinkarspitze  2018 m   (3)', 'type': 'peak', 'waypoint_url': 'https://www.hikr.org/dir/Steinkarspitze__24376/', 'height': 2018, 'name': 'Steinkarspitze', 'peak_id': '24376'}], [{'image': 'https://s.hikr.org/r4icons/ico2_peak_s.png', 'name_raw': 'Bogartenfirst 1811 m   (35)', 'type': 'peak', 'waypoint_url': 'https://www.hikr.org/dir/Bogartenfirst_20866/', 'height': 1811, 'name': 'Bogartenfirst', 'peak_id': '20866'}], [{'image': 'https://s.hikr.org/r4icons/ico2_point_s.png', 'name_raw': 'Marktschellenberg - Wanderparkplatz 470 m   (2)', 'type': 'other', 'waypoint_url': 'https://www.hikr.org/dir/Marktschellenberg_-_Wanderparkplatz_21336/', 'height': 470, 'name': 'Marktschellenberg - Wanderparkplatz', 'peak_id': '21336'}, {'image': 'https://s.hikr.org/r4icons/ico2_hut_s.png', 'name_raw': 'Toni-Lenz-Hütte 1450 m   (3)', 'type': 'hut', 'waypoint_url': 'https://www.hikr.org/dir/Toni-Lenz-H%C3%BCtte_21337/', 'height': 1450, 'name': 'Toni-Lenz-Hütte', 'peak_id': '3'}, {'image': 'https://s.hikr.org/r4icons/ico2_peak_s.png', 'name_raw': 'Salzburger Hochthron 1856 m   (8)', 'type': 'peak', 'waypoint_url': 'https://www.hikr.org/dir/Salzburger_Hochthron_21338/', 'height': 1856, 'name': 'Salzburger Hochthron', 'peak_id': '21338'}], [{'image': 'https://s.hikr.org/r4icons/ico2_ort_s.png', 'name_raw': 'Brülisau 922 m   (291)', 'type': 'location', 'waypoint_url': 'https://www.hikr.org/dir/Br%C3%BClisau_8716/', 'height': 922, 'name': 'Brülisau', 'peak_id': '3'}, {'image': 'https://s.hikr.org/r4icons/ico2_hut_s.png', 'name_raw': 'Plattenbödeli 1279 m   (315)', 'type': 'hut', 'waypoint_url': 'https://www.hikr.org/dir/Plattenb%C3%B6deli_9406/', 'height': 1279, 'name': 'Plattenbödeli', 'peak_id': '3'}, {'image': 'https://s.hikr.org/r4icons/ico2_hut_s.png', 'name_raw': 'Bollenwees 1470 m   (260)', 'type': 'hut', 'waypoint_url': 'https://www.hikr.org/dir/Bollenwees_10819/', 'height': 1470, 'name': 'Bollenwees', 'peak_id': '10819'}, {'image': 'https://s.hikr.org/r4icons/ico2_hut_s.png', 'name_raw': 'Hundsteinhütte SAC 1554 m   (72)', 'type': 'hut', 'waypoint_url': 'https://www.hikr.org/dir/Hundsteinh%C3%BCtte_SAC_6431/', 'height': 1554, 'name': 'Hundsteinhütte SAC', 'peak_id': '3'}, {'image': 'https://s.hikr.org/r4icons/ico2_peak_s.png', 'name_raw': 'Hundstein 2157 m   (79)', 'type': 'peak', 'waypoint_url': 'https://www.hikr.org/dir/Hundstein_2584/', 'height': 2157, 'name': 'Hundstein', 'peak_id': '2584'}], [{'image': 'https://s.hikr.org/r4icons/ico2_viafe_s.png', 'name_raw': 'Fürenwand Klettersteig 1800 m   (28)', 'type': 'via_ferrata', 'waypoint_url': 'https://www.hikr.org/dir/F%C3%BCrenwand_Klettersteig_14276/', 'height': 1800, 'name': 'Fürenwand Klettersteig', 'peak_id': '3'}, {'image': 'https://s.hikr.org/r4icons/ico2_point_s.png', 'name_raw': 'Fürenalp 1838 m   (75)', 'type': 'other', 'waypoint_url': 'https://www.hikr.org/dir/F%C3%BCrenalp_13951/', 'height': 1838, 'name': 'Fürenalp', 'peak_id': '3'}], [{'image': 'https://s.hikr.org/r4icons/ico2_point_s.png', 'name_raw': \"L'ancienne carrière du Coin 710 m   (13)\", 'type': 'other', 'waypoint_url': 'https://www.hikr.org/dir/L_ancienne_carri%C3%A8re_du_Coin_21077/', 'height': 710, 'name': \"L'ancienne carrière du Coin\", 'peak_id': '3'}, {'image': 'https://s.hikr.org/r4icons/ico2_point_s.png', 'name_raw': 'Le Reposoir 780 m   (6)', 'type': 'other', 'waypoint_url': 'https://www.hikr.org/dir/Le_Reposoir_21078/', 'height': 780, 'name': 'Le Reposoir', 'peak_id': '21078'}, {'image': 'https://s.hikr.org/r4icons/ico2_point_s.png', 'name_raw': 'Rocher de Onze Heures 1010 m   (5)', 'type': 'other', 'waypoint_url': 'https://www.hikr.org/dir/Rocher_de_Onze_Heures_21079/', 'height': 1010, 'name': 'Rocher de Onze Heures', 'peak_id': '21079'}, {'image': 'https://s.hikr.org/r4icons/ico2_point_s.png', 'name_raw': 'La Corraterie 1170 m   (9)', 'type': 'other', 'waypoint_url': 'https://www.hikr.org/dir/La_Corraterie_21080/', 'height': 1170, 'name': 'La Corraterie', 'peak_id': '21080'}, {'image': 'https://s.hikr.org/r4icons/ico2_cave_s.png', 'name_raw': \"Grotte d'Orjobet 1080 m   (13)\", 'type': 'cave', 'waypoint_url': 'https://www.hikr.org/dir/Grotte_d_Orjobet_21081/', 'height': 1080, 'name': \"Grotte d'Orjobet\", 'peak_id': '21081'}], [{'image': 'https://s.hikr.org/r4icons/ico2_ort_s.png', 'name_raw': 'Klosters Platz 1206 m   (31)', 'type': 'location', 'waypoint_url': 'https://www.hikr.org/dir/Klosters_Platz_6760/', 'height': 1206, 'name': 'Klosters Platz', 'peak_id': '6760'}, {'image': 'https://s.hikr.org/r4icons/ico2_point_s.png', 'name_raw': 'Station Madrisa 1884 m   (34)', 'type': 'other', 'waypoint_url': 'https://www.hikr.org/dir/Station_Madrisa_17639/', 'height': 1884, 'name': 'Station Madrisa', 'peak_id': '17639'}, {'image': 'https://s.hikr.org/r4icons/ico2_pass_s.png', 'name_raw': 'Rätschenjoch 2602 m   (27)', 'type': 'pass', 'waypoint_url': 'https://www.hikr.org/dir/R%C3%A4tschenjoch_6772/', 'height': 2602, 'name': 'Rätschenjoch', 'peak_id': '3'}], [{'image': 'https://s.hikr.org/r4icons/ico2_cave_s.png', 'name_raw': 'Zwingherrenbogen 704 m   (6)', 'type': 'cave', 'waypoint_url': 'https://www.hikr.org/dir/Zwingherrenbogen_16189/', 'height': 704, 'name': 'Zwingherrenbogen', 'peak_id': '16189'}], [{'image': 'https://s.hikr.org/r4icons/ico2_ort_s.png', 'name_raw': 'Cappellino 1108 m   (7)', 'type': 'location', 'waypoint_url': 'https://www.hikr.org/dir/Cappellino_25974/', 'height': 1108, 'name': 'Cappellino', 'peak_id': '25974'}, {'image': 'https://s.hikr.org/r4icons/ico2_point_s.png', 'name_raw': 'Cavoo 1240 m   (9)', 'type': 'other', 'waypoint_url': 'https://www.hikr.org/dir/Cavoo_54916/', 'height': 1240, 'name': 'Cavoo', 'peak_id': '54916'}, {'image': 'https://s.hikr.org/r4icons/ico2_point_s.png', 'name_raw': 'Ligünc 1343 m   (14)', 'type': 'other', 'waypoint_url': 'https://www.hikr.org/dir/Lig%C3%BCnc_16069/', 'height': 1343, 'name': 'Ligünc', 'peak_id': '3'}, {'image': 'https://s.hikr.org/r4icons/ico2_point_s.png', 'name_raw': 'Piani della Galera 1742 m   (11)', 'type': 'other', 'waypoint_url': 'https://www.hikr.org/dir/Piani_della_Galera_54915/', 'height': 1742, 'name': 'Piani della Galera', 'peak_id': '54915'}, {'image': 'https://s.hikr.org/r4icons/ico2_lake_s.png', 'name_raw': 'Laghetto dei Saléi 1924 m   (31)', 'type': 'lake', 'waypoint_url': 'https://www.hikr.org/dir/Laghetto_dei_Sal%C3%A9i_9933/', 'height': 1924, 'name': 'Laghetto dei Saléi', 'peak_id': '3'}, {'image': 'https://s.hikr.org/r4icons/ico2_pass_s.png', 'name_raw': 'Passo del Bùsan 2006 m   (36)', 'type': 'pass', 'waypoint_url': 'https://www.hikr.org/dir/Passo_del_B%C3%B9san_7283/', 'height': 2006, 'name': 'Passo del Bùsan', 'peak_id': '3'}, {'image': 'https://s.hikr.org/r4icons/ico2_pass_s.png', 'name_raw': 'Bocchetta dei Ciapitt 2079 m   (13)', 'type': 'pass', 'waypoint_url': 'https://www.hikr.org/dir/Bocchetta_dei_Ciapitt_11964/', 'height': 2079, 'name': 'Bocchetta dei Ciapitt', 'peak_id': '11964'}, {'image': 'https://s.hikr.org/r4icons/ico2_peak_s.png', 'name_raw': 'Pilone / Cima Pian del Bozzo 2192 m   (27)', 'type': 'peak', 'waypoint_url': 'https://www.hikr.org/dir/Pilone_Cima_Pian_del_Bozzo_3861/', 'height': 2192, 'name': 'Pilone / Cima Pian del Bozzo', 'peak_id': '3861'}, {'image': 'https://s.hikr.org/r4icons/ico2_ort_s.png', 'name_raw': 'Alpe Pesced 1778 m   (25)', 'type': 'location', 'waypoint_url': 'https://www.hikr.org/dir/Alpe_Pesced_23871/', 'height': 1778, 'name': 'Alpe Pesced', 'peak_id': '23871'}, {'image': 'https://s.hikr.org/r4icons/ico2_ort_s.png', 'name_raw': 'Spruga 1113 m   (41)', 'type': 'location', 'waypoint_url': 'https://www.hikr.org/dir/Spruga_7284/', 'height': 1113, 'name': 'Spruga', 'peak_id': '7284'}], [{'image': 'https://s.hikr.org/r4icons/ico2_ort_s.png', 'name_raw': 'Tobel-Affeltrangen 510 m   (2)', 'type': 'location', 'waypoint_url': 'https://www.hikr.org/dir/Tobel-Affeltrangen_21106/', 'height': 510, 'name': 'Tobel-Affeltrangen', 'peak_id': '21106'}, {'image': 'https://s.hikr.org/r4icons/ico2_ort_s.png', 'name_raw': 'Schmidshof 526 m   (1)', 'type': 'location', 'waypoint_url': 'https://www.hikr.org/dir/Schmidshof_21107/', 'height': 526, 'name': 'Schmidshof', 'peak_id': '21107'}, {'image': 'https://s.hikr.org/r4icons/ico2_ort_s.png', 'name_raw': 'Bussnang 442 m   (5)', 'type': 'location', 'waypoint_url': 'https://www.hikr.org/dir/Bussnang_21108/', 'height': 442, 'name': 'Bussnang', 'peak_id': '21108'}, {'image': 'https://s.hikr.org/r4icons/ico2_bridg_s.png', 'name_raw': 'Ganggelisteg 432 m   (3)', 'type': 'bridge', 'waypoint_url': 'https://www.hikr.org/dir/Ganggelisteg_21109/', 'height': 432, 'name': 'Ganggelisteg', 'peak_id': '21109'}, {'image': 'https://s.hikr.org/r4icons/ico2_ort_s.png', 'name_raw': 'Weinfelden 429 m   (14)', 'type': 'location', 'waypoint_url': 'https://www.hikr.org/dir/Weinfelden_21110/', 'height': 429, 'name': 'Weinfelden', 'peak_id': '21110'}], [{'image': 'https://s.hikr.org/r4icons/ico2_ort_s.png', 'name_raw': 'Balzers 475 m   (29)', 'type': 'location', 'waypoint_url': 'https://www.hikr.org/dir/Balzers_21012/', 'height': 475, 'name': 'Balzers', 'peak_id': '21012'}, {'image': 'https://s.hikr.org/r4icons/ico2_peak_s.png', 'name_raw': 'Mittagsspitz 1858 m   (5)', 'type': 'peak', 'waypoint_url': 'https://www.hikr.org/dir/Mittagsspitz_3223/', 'height': 1858, 'name': 'Mittagsspitz', 'peak_id': '3223'}, {'image': 'https://s.hikr.org/r4icons/ico2_peak_s.png', 'name_raw': 'Mittlerspitz 1899 m   (30)', 'type': 'peak', 'waypoint_url': 'https://www.hikr.org/dir/Mittlerspitz_3246/', 'height': 1899, 'name': 'Mittlerspitz', 'peak_id': '3246'}, {'image': 'https://s.hikr.org/r4icons/ico2_hut_s.png', 'name_raw': 'Guscha 1115 m   (43)', 'type': 'hut', 'waypoint_url': 'https://www.hikr.org/dir/Guscha_11137/', 'height': 1115, 'name': 'Guscha', 'peak_id': '11137'}], [{'image': 'https://s.hikr.org/r4icons/ico2_hut_s.png', 'name_raw': 'Domhütte SAC 2940 m   (70)', 'type': 'hut', 'waypoint_url': 'https://www.hikr.org/dir/Domh%C3%BCtte_SAC_6374/', 'height': 2940, 'name': 'Domhütte SAC', 'peak_id': '3'}], [{'image': 'https://s.hikr.org/r4icons/ico2_point_s.png', 'name_raw': 'La Givrine 1208 m   (25)', 'type': 'other', 'waypoint_url': 'https://www.hikr.org/dir/La_Givrine_21013/', 'height': 1208, 'name': 'La Givrine', 'peak_id': '21013'}, {'image': 'https://s.hikr.org/r4icons/ico2_hut_s.png', 'name_raw': 'Cabane du Carroz 1508 m   (6)', 'type': 'hut', 'waypoint_url': 'https://www.hikr.org/dir/Cabane_du_Carroz_21014/', 'height': 1508, 'name': 'Cabane du Carroz', 'peak_id': '21014'}, {'image': 'https://s.hikr.org/r4icons/ico2_point_s.png', 'name_raw': \"L'Arzière 1445 m   (7)\", 'type': 'other', 'waypoint_url': 'https://www.hikr.org/dir/L_Arzi%C3%A8re_21015/', 'height': 1445, 'name': \"L'Arzière\", 'peak_id': '3'}, {'image': 'https://s.hikr.org/r4icons/ico2_point_s.png', 'name_raw': 'Le Croue 1469 m   (7)', 'type': 'other', 'waypoint_url': 'https://www.hikr.org/dir/Le_Croue_21016/', 'height': 1469, 'name': 'Le Croue', 'peak_id': '21016'}, {'image': 'https://s.hikr.org/r4icons/ico2_peak_s.png', 'name_raw': 'Mont Sâla 1511 m   (11)', 'type': 'peak', 'waypoint_url': 'https://www.hikr.org/dir/Mont_S%C3%A2la_12180/', 'height': 1511, 'name': 'Mont Sâla', 'peak_id': '3'}, {'image': 'https://s.hikr.org/r4icons/ico2_point_s.png', 'name_raw': 'Le Couchant 1449 m   (9)', 'type': 'other', 'waypoint_url': 'https://www.hikr.org/dir/Le_Couchant_21017/', 'height': 1449, 'name': 'Le Couchant', 'peak_id': '21017'}, {'image': 'https://s.hikr.org/r4icons/ico2_point_s.png', 'name_raw': 'Les Pralets 1271 m   (6)', 'type': 'other', 'waypoint_url': 'https://www.hikr.org/dir/Les_Pralets_21018/', 'height': 1271, 'name': 'Les Pralets', 'peak_id': '21018'}, {'image': 'https://s.hikr.org/r4icons/ico2_point_s.png', 'name_raw': 'Le Vermeilley 1326 m   (7)', 'type': 'other', 'waypoint_url': 'https://www.hikr.org/dir/Le_Vermeilley_21019/', 'height': 1326, 'name': 'Le Vermeilley', 'peak_id': '21019'}, {'image': 'https://s.hikr.org/r4icons/ico2_point_s.png', 'name_raw': 'La Givrine 1208 m   (25)', 'type': 'other', 'waypoint_url': 'https://www.hikr.org/dir/La_Givrine_21013/', 'height': 1208, 'name': 'La Givrine', 'peak_id': '21013'}], [{'image': 'https://s.hikr.org/r4icons/ico2_peak_s.png', 'name_raw': 'Vesuvio / Vesuv 1281 m   (7)', 'type': 'peak', 'waypoint_url': 'https://www.hikr.org/dir/Vesuvio_Vesuv_11008/', 'height': 1281, 'name': 'Vesuvio / Vesuv', 'peak_id': '11008'}], [{'image': 'https://s.hikr.org/r4icons/ico2_ort_s.png', 'name_raw': 'Steg 1301 m   (72)', 'type': 'location', 'waypoint_url': 'https://www.hikr.org/dir/Steg_11210/', 'height': 1301, 'name': 'Steg', 'peak_id': '11210'}, {'image': 'https://s.hikr.org/r4icons/ico2_hut_s.png', 'name_raw': 'Valüna 1409 m   (39)', 'type': 'hut', 'waypoint_url': 'https://www.hikr.org/dir/Val%C3%BCna_21112/', 'height': 1409, 'name': 'Valüna', 'peak_id': '3'}, {'image': 'https://s.hikr.org/r4icons/ico2_hut_s.png', 'name_raw': 'Alp Gritsch 1900 m   (17)', 'type': 'hut', 'waypoint_url': 'https://www.hikr.org/dir/Alp_Gritsch_21113/', 'height': 1900, 'name': 'Alp Gritsch', 'peak_id': '21113'}, {'image': 'https://s.hikr.org/r4icons/ico2_peak_s.png', 'name_raw': 'Tälihöhi 2085 m   (8)', 'type': 'peak', 'waypoint_url': 'https://www.hikr.org/dir/T%C3%A4lih%C3%B6hi_21111/', 'height': 2085, 'name': 'Tälihöhi', 'peak_id': '3'}, {'image': 'https://s.hikr.org/r4icons/ico2_peak_s.png', 'name_raw': 'Silberhorn 2150 m   (19)', 'type': 'peak', 'waypoint_url': 'https://www.hikr.org/dir/Silberhorn_14740/', 'height': 2150, 'name': 'Silberhorn', 'peak_id': '14740'}, {'image': 'https://s.hikr.org/r4icons/ico2_peak_s.png', 'name_raw': 'Nospitz 2091 m   (11)', 'type': 'peak', 'waypoint_url': 'https://www.hikr.org/dir/Nospitz_3609/', 'height': 2091, 'name': 'Nospitz', 'peak_id': '3609'}, {'image': 'https://s.hikr.org/r4icons/ico2_cave_s.png', 'name_raw': 'Bärenlöcher 1800 m   (2)', 'type': 'cave', 'waypoint_url': 'https://www.hikr.org/dir/B%C3%A4renl%C3%B6cher_21114/', 'height': 1800, 'name': 'Bärenlöcher', 'peak_id': '3'}, {'image': 'https://s.hikr.org/r4icons/ico2_hut_s.png', 'name_raw': 'Alp Pradamee 1710 m   (7)', 'type': 'hut', 'waypoint_url': 'https://www.hikr.org/dir/Alp_Pradamee_21115/', 'height': 1710, 'name': 'Alp Pradamee', 'peak_id': '21115'}, {'image': 'https://s.hikr.org/r4icons/ico2_ort_s.png', 'name_raw': 'Steg 1301 m   (72)', 'type': 'location', 'waypoint_url': 'https://www.hikr.org/dir/Steg_11210/', 'height': 1301, 'name': 'Steg', 'peak_id': '11210'}], [{'image': 'https://s.hikr.org/r4icons/ico2_ort_s.png', 'name_raw': 'Inverness 6 m   (4)', 'type': 'location', 'waypoint_url': 'https://www.hikr.org/dir/Inverness_32632/', 'height': 6, 'name': 'Inverness', 'peak_id': '32632'}, {'image': 'https://s.hikr.org/r4icons/ico2_ort_s.png', 'name_raw': 'Lochend 160 m   (1)', 'type': 'location', 'waypoint_url': 'https://www.hikr.org/dir/Lochend_118166/', 'height': 160, 'name': 'Lochend', 'peak_id': '118166'}, {'image': 'https://s.hikr.org/r4icons/ico2_ort_s.png', 'name_raw': 'Drumnadrochit 30 m   (2)', 'type': 'location', 'waypoint_url': 'https://www.hikr.org/dir/Drumnadrochit_114660/', 'height': 30, 'name': 'Drumnadrochit', 'peak_id': '114660'}, {'image': 'https://s.hikr.org/r4icons/ico2_ort_s.png', 'name_raw': 'Cannich 160 m   (1)', 'type': 'location', 'waypoint_url': 'https://www.hikr.org/dir/Cannich_118167/', 'height': 160, 'name': 'Cannich', 'peak_id': '118167'}, {'image': 'https://s.hikr.org/r4icons/ico2_point_s.png', 'name_raw': 'Glen Affric 300 m   (2)', 'type': 'other', 'waypoint_url': 'https://www.hikr.org/dir/Glen_Affric_79114/', 'height': 300, 'name': 'Glen Affric', 'peak_id': '79114'}, {'image': 'https://s.hikr.org/r4icons/ico2_hut_s.png', 'name_raw': 'Glen Affric Youth Hostel 130 m   (1)', 'type': 'hut', 'waypoint_url': 'https://www.hikr.org/dir/Glen_Affric_Youth_Hostel_118168/', 'height': 130, 'name': 'Glen Affric Youth Hostel', 'peak_id': '118168'}, {'image': 'https://s.hikr.org/r4icons/ico2_point_s.png', 'name_raw': 'Morvich - Parking 8 m   (3)', 'type': 'other', 'waypoint_url': 'https://www.hikr.org/dir/Morvich_-_Parking_32139/', 'height': 8, 'name': 'Morvich - Parking', 'peak_id': '32139'}, {'image': 'https://s.hikr.org/r4icons/ico2_ort_s.png', 'name_raw': 'Ratagan 10 m   (1)', 'type': 'location', 'waypoint_url': 'https://www.hikr.org/dir/Ratagan_79398/', 'height': 10, 'name': 'Ratagan', 'peak_id': '79398'}, {'image': 'https://s.hikr.org/r4icons/ico2_ort_s.png', 'name_raw': 'Glenelg 0 m   (1)', 'type': 'location', 'waypoint_url': 'https://www.hikr.org/dir/Glenelg_118169/', 'height': 0, 'name': 'Glenelg', 'peak_id': '118169'}, {'image': 'https://s.hikr.org/r4icons/ico2_ort_s.png', 'name_raw': 'Arnisdale 0 m   (1)', 'type': 'location', 'waypoint_url': 'https://www.hikr.org/dir/Arnisdale_118170/', 'height': 0, 'name': 'Arnisdale', 'peak_id': '118170'}, {'image': 'https://s.hikr.org/r4icons/ico2_ort_s.png', 'name_raw': 'Kinloch Hourn 0 m   (1)', 'type': 'location', 'waypoint_url': 'https://www.hikr.org/dir/Kinloch_Hourn_118171/', 'height': 0, 'name': 'Kinloch Hourn', 'peak_id': '118171'}, {'image': 'https://s.hikr.org/r4icons/ico2_ort_s.png', 'name_raw': 'Barrisdale 0 m   (1)', 'type': 'location', 'waypoint_url': 'https://www.hikr.org/dir/_Barrisdale_118172/', 'height': 0, 'name': 'Barrisdale', 'peak_id': '118172'}, {'image': 'https://s.hikr.org/r4icons/ico2_hut_s.png', 'name_raw': 'Sourlies Bothy 0 m   (1)', 'type': 'hut', 'waypoint_url': 'https://www.hikr.org/dir/Sourlies_Bothy_118173/', 'height': 0, 'name': 'Sourlies Bothy', 'peak_id': '118173'}, {'image': 'https://s.hikr.org/r4icons/ico2_bridg_s.png', 'name_raw': 'Glenfinnan Viaduct 85 m   (2)', 'type': 'bridge', 'waypoint_url': 'https://www.hikr.org/dir/Glenfinnan_Viaduct_67663/', 'height': 85, 'name': 'Glenfinnan Viaduct', 'peak_id': '67663'}, {'image': 'https://s.hikr.org/r4icons/ico2_ort_s.png', 'name_raw': 'Glenfinnan / Gleann Fhionnainn 65 m   (3)', 'type': 'location', 'waypoint_url': 'https://www.hikr.org/dir/Glenfinnan_Gleann_Fhionnainn_32956/', 'height': 65, 'name': 'Glenfinnan / Gleann Fhionnainn', 'peak_id': '32956'}], [{'image': 'https://s.hikr.org/r4icons/ico2_peak_s.png', 'name_raw': 'Fleischbank 2026 m   (13)', 'type': 'peak', 'waypoint_url': 'https://www.hikr.org/dir/Fleischbank_14503/', 'height': 2026, 'name': 'Fleischbank', 'peak_id': '14503'}, {'image': 'https://s.hikr.org/r4icons/ico2_point_s.png', 'name_raw': 'Fuggerangeralm 959 m   (29)', 'type': 'other', 'waypoint_url': 'https://www.hikr.org/dir/Fuggerangeralm_20973/', 'height': 959, 'name': 'Fuggerangeralm', 'peak_id': '20973'}], [{'image': 'https://s.hikr.org/r4icons/ico2_peak_s.png', 'name_raw': 'Bäderhorn / Bäderhore 2009 m   (31)', 'type': 'peak', 'waypoint_url': 'https://www.hikr.org/dir/B%C3%A4derhorn_B%C3%A4derhore_712/', 'height': 2009, 'name': 'Bäderhorn / Bäderhore', 'peak_id': '3'}, {'image': 'https://s.hikr.org/r4icons/ico2_peak_s.png', 'name_raw': 'Dürriflue 1705 m   (3)', 'type': 'peak', 'waypoint_url': 'https://www.hikr.org/dir/D%C3%BCrriflue_16506/', 'height': 1705, 'name': 'Dürriflue', 'peak_id': '3'}, {'image': 'https://s.hikr.org/r4icons/ico2_peak_s.png', 'name_raw': 'Pfadspitz 1897 m   (2)', 'type': 'peak', 'waypoint_url': 'https://www.hikr.org/dir/Pfadspitz_20942/', 'height': 1897, 'name': 'Pfadspitz', 'peak_id': '20942'}], [{'image': 'https://s.hikr.org/r4icons/ico2_peak_s.png', 'name_raw': 'Stromboli 918 m   (11)', 'type': 'peak', 'waypoint_url': 'https://www.hikr.org/dir/Stromboli_21045/', 'height': 918, 'name': 'Stromboli', 'peak_id': '21045'}], [{'image': 'https://s.hikr.org/r4icons/ico2_ort_s.png', 'name_raw': 'Môtiers 735 m   (31)', 'type': 'location', 'waypoint_url': 'https://www.hikr.org/dir/M%C3%B4tiers_16740/', 'height': 735, 'name': 'Môtiers', 'peak_id': '3'}, {'image': 'https://s.hikr.org/r4icons/ico2_point_s.png', 'name_raw': 'Pouetta Raisse 1100 m   (20)', 'type': 'other', 'waypoint_url': 'https://www.hikr.org/dir/Pouetta_Raisse_17321/', 'height': 1100, 'name': 'Pouetta Raisse', 'peak_id': '17321'}, {'image': 'https://s.hikr.org/r4icons/ico2_wand_s.png', 'name_raw': 'Creux du Van 1450 m   (78)', 'type': 'wall', 'waypoint_url': 'https://www.hikr.org/dir/Creux_du_Van_37990/', 'height': 1450, 'name': 'Creux du Van', 'peak_id': '37990'}, {'image': 'https://s.hikr.org/r4icons/ico2_peak_s.png', 'name_raw': 'Le Soliat - Croix 1464 m   (75)', 'type': 'peak', 'waypoint_url': 'https://www.hikr.org/dir/Le_Soliat_-_Croix_4993/', 'height': 1464, 'name': 'Le Soliat - Croix', 'peak_id': '4993'}, {'image': 'https://s.hikr.org/r4icons/ico2_point_s.png', 'name_raw': 'Fontaine Froide 1126 m   (41)', 'type': 'other', 'waypoint_url': 'https://www.hikr.org/dir/Fontaine_Froide_8050/', 'height': 1126, 'name': 'Fontaine Froide', 'peak_id': '8050'}, {'image': 'https://s.hikr.org/r4icons/ico2_hut_s.png', 'name_raw': 'Ferme Robert 972 m   (80)', 'type': 'hut', 'waypoint_url': 'https://www.hikr.org/dir/Ferme_Robert_16004/', 'height': 972, 'name': 'Ferme Robert', 'peak_id': '16004'}, {'image': 'https://s.hikr.org/r4icons/ico2_ort_s.png', 'name_raw': 'Noiraigue 733 m   (83)', 'type': 'location', 'waypoint_url': 'https://www.hikr.org/dir/Noiraigue_8049/', 'height': 733, 'name': 'Noiraigue', 'peak_id': '8049'}], [{'image': 'https://s.hikr.org/r4icons/ico2_peak_s.png', 'name_raw': 'Sonneck 2260 m   (17)', 'type': 'peak', 'waypoint_url': 'https://www.hikr.org/dir/Sonneck_10901/', 'height': 2260, 'name': 'Sonneck', 'peak_id': '10901'}, {'image': 'https://s.hikr.org/r4icons/ico2_peak_s.png', 'name_raw': 'Sonnenstein 1714 m   (7)', 'type': 'peak', 'waypoint_url': 'https://www.hikr.org/dir/Sonnenstein_10903/', 'height': 1714, 'name': 'Sonnenstein', 'peak_id': '10903'}], [{'image': 'https://s.hikr.org/r4icons/ico2_point_s.png', 'name_raw': 'Rhonegletscher 2300 m   (98)', 'type': 'other', 'waypoint_url': 'https://www.hikr.org/dir/Rhonegletscher_8059/', 'height': 2300, 'name': 'Rhonegletscher', 'peak_id': '8059'}], [{'image': 'https://s.hikr.org/r4icons/ico2_ort_s.png', 'name_raw': 'Fontana 620 m   (51)', 'type': 'location', 'waypoint_url': 'https://www.hikr.org/dir/Fontana_13410/', 'height': 620, 'name': 'Fontana', 'peak_id': '13410'}, {'image': 'https://s.hikr.org/r4icons/ico2_point_s.png', 'name_raw': 'Larèchia 1596 m   (11)', 'type': 'other', 'waypoint_url': 'https://www.hikr.org/dir/Lar%C3%A8chia_13677/', 'height': 1596, 'name': 'Larèchia', 'peak_id': '3'}], [{'image': 'https://s.hikr.org/r4icons/ico2_ort_s.png', 'name_raw': 'Luzzogno 740 m   (4)', 'type': 'location', 'waypoint_url': 'https://www.hikr.org/dir/Luzzogno_21139/', 'height': 740, 'name': 'Luzzogno', 'peak_id': '21139'}, {'image': 'https://s.hikr.org/r4icons/ico2_peak_s.png', 'name_raw': 'Monte Massone 2161 m   (37)', 'type': 'peak', 'waypoint_url': 'https://www.hikr.org/dir/Monte_Massone_17892/', 'height': 2161, 'name': 'Monte Massone', 'peak_id': '17892'}], [{'image': 'https://s.hikr.org/r4icons/ico2_peak_s.png', 'name_raw': 'Tschirgant 2370 m   (6)', 'type': 'peak', 'waypoint_url': 'https://www.hikr.org/dir/Tschirgant_21020/', 'height': 2370, 'name': 'Tschirgant', 'peak_id': '21020'}], [{'image': 'https://s.hikr.org/r4icons/ico2_hut_s.png', 'name_raw': 'Lütholdsmatt 1146 m   (71)', 'type': 'hut', 'waypoint_url': 'https://www.hikr.org/dir/L%C3%BCtholdsmatt_13463/', 'height': 1146, 'name': 'Lütholdsmatt', 'peak_id': '3'}, {'image': 'https://s.hikr.org/r4icons/ico2_point_s.png', 'name_raw': 'Schybach 1200 m   (67)', 'type': 'other', 'waypoint_url': 'https://www.hikr.org/dir/Schybach_21159/', 'height': 1200, 'name': 'Schybach', 'peak_id': '21159'}, {'image': 'https://s.hikr.org/r4icons/ico2_hut_s.png', 'name_raw': 'Schy 1336 m   (39)', 'type': 'hut', 'waypoint_url': 'https://www.hikr.org/dir/Schy_13754/', 'height': 1336, 'name': 'Schy', 'peak_id': '13754'}, {'image': 'https://s.hikr.org/r4icons/ico2_hut_s.png', 'name_raw': 'Birchboden 1616 m   (56)', 'type': 'hut', 'waypoint_url': 'https://www.hikr.org/dir/Birchboden_13461/', 'height': 1616, 'name': 'Birchboden', 'peak_id': '13461'}, {'image': 'https://s.hikr.org/r4icons/ico2_cave_s.png', 'name_raw': 'Stollenloch 1930 m   (49)', 'type': 'cave', 'waypoint_url': 'https://www.hikr.org/dir/Stollenloch_16598/', 'height': 1930, 'name': 'Stollenloch', 'peak_id': '16598'}, {'image': 'https://s.hikr.org/r4icons/ico2_peak_s.png', 'name_raw': 'Widderfeld 2075 m   (112)', 'type': 'peak', 'waypoint_url': 'https://www.hikr.org/dir/Widderfeld_5938/', 'height': 2075, 'name': 'Widderfeld', 'peak_id': '5938'}, {'image': 'https://s.hikr.org/r4icons/ico2_peak_s.png', 'name_raw': 'Tomlishorn 2128 m   (138)', 'type': 'peak', 'waypoint_url': 'https://www.hikr.org/dir/Tomlishorn_5433/', 'height': 2128, 'name': 'Tomlishorn', 'peak_id': '5433'}, {'image': 'https://s.hikr.org/r4icons/ico2_point_s.png', 'name_raw': 'Pilatus - Kulm 2067 m   (214)', 'type': 'other', 'waypoint_url': 'https://www.hikr.org/dir/Pilatus_-_Kulm_8371/', 'height': 2067, 'name': 'Pilatus - Kulm', 'peak_id': '8371'}, {'image': 'https://s.hikr.org/r4icons/ico2_peak_s.png', 'name_raw': 'Matthorn 2040 m   (67)', 'type': 'peak', 'waypoint_url': 'https://www.hikr.org/dir/Matthorn_3102/', 'height': 2040, 'name': 'Matthorn', 'peak_id': '3102'}, {'image': 'https://s.hikr.org/r4icons/ico2_hut_s.png', 'name_raw': 'Fräkmünt 1499 m   (56)', 'type': 'hut', 'waypoint_url': 'https://www.hikr.org/dir/Fr%C3%A4km%C3%BCnt_13755/', 'height': 1499, 'name': 'Fräkmünt', 'peak_id': '3'}, {'image': 'https://s.hikr.org/r4icons/ico2_hut_s.png', 'name_raw': 'Lütholdsmatt 1146 m   (71)', 'type': 'hut', 'waypoint_url': 'https://www.hikr.org/dir/L%C3%BCtholdsmatt_13463/', 'height': 1146, 'name': 'Lütholdsmatt', 'peak_id': '3'}], [{'image': 'https://s.hikr.org/r4icons/ico2_pass_s.png', 'name_raw': 'Sella di Pioda 3390 m   (11)', 'type': 'pass', 'waypoint_url': 'https://www.hikr.org/dir/Sella_di_Pioda_21033/', 'height': 3390, 'name': 'Sella di Pioda', 'peak_id': '21033'}], [{'image': 'https://s.hikr.org/r4icons/ico2_ort_s.png', 'name_raw': 'Beuron 627 m   (14)', 'type': 'location', 'waypoint_url': 'https://www.hikr.org/dir/Beuron_35111/', 'height': 627, 'name': 'Beuron', 'peak_id': '35111'}, {'image': 'https://s.hikr.org/r4icons/ico2_wand_s.png', 'name_raw': 'Knopfmacherfels 765 m   (6)', 'type': 'wall', 'waypoint_url': 'https://www.hikr.org/dir/Knopfmacherfels_45906/', 'height': 765, 'name': 'Knopfmacherfels', 'peak_id': '45906'}, {'image': 'https://s.hikr.org/r4icons/ico2_cave_s.png', 'name_raw': 'Sperberloch 710 m   (4)', 'type': 'cave', 'waypoint_url': 'https://www.hikr.org/dir/Sperberloch_68663/', 'height': 710, 'name': 'Sperberloch', 'peak_id': '68663'}, {'image': 'https://s.hikr.org/r4icons/ico2_hut_s.png', 'name_raw': 'Jägerhaus 625 m   (7)', 'type': 'hut', 'waypoint_url': 'https://www.hikr.org/dir/J%C3%A4gerhaus_48721/', 'height': 625, 'name': 'Jägerhaus', 'peak_id': '3'}, {'image': 'https://s.hikr.org/r4icons/ico2_cave_s.png', 'name_raw': 'Jägerhaushöhle 692 m   (3)', 'type': 'cave', 'waypoint_url': 'https://www.hikr.org/dir/J%C3%A4gerhaush%C3%B6hle_90807/', 'height': 692, 'name': 'Jägerhaushöhle', 'peak_id': '3'}, {'image': 'https://s.hikr.org/r4icons/ico2_point_s.png', 'name_raw': 'Schloss Bronnen 788 m   (6)', 'type': 'other', 'waypoint_url': 'https://www.hikr.org/dir/Schloss_Bronnen_48554/', 'height': 788, 'name': 'Schloss Bronnen', 'peak_id': '48554'}, {'image': 'https://s.hikr.org/r4icons/ico2_point_s.png', 'name_raw': 'Aussichtspunkt Alpenblick 780 m   (2)', 'type': 'other', 'waypoint_url': 'https://www.hikr.org/dir/Aussichtspunkt_Alpenblick_53998/', 'height': 780, 'name': 'Aussichtspunkt Alpenblick', 'peak_id': '53998'}], [{'image': 'https://s.hikr.org/r4icons/ico2_ort_s.png', 'name_raw': 'Orvin 669 m   (18)', 'type': 'location', 'waypoint_url': 'https://www.hikr.org/dir/Orvin_23049/', 'height': 669, 'name': 'Orvin', 'peak_id': '23049'}, {'image': 'https://s.hikr.org/r4icons/ico2_cave_s.png', 'name_raw': 'Montchnô 858 m   (2)', 'type': 'cave', 'waypoint_url': 'https://www.hikr.org/dir/Montchn%C3%B4_37403/', 'height': 858, 'name': 'Montchnô', 'peak_id': '3'}, {'image': 'https://s.hikr.org/r4icons/ico2_climb_s.png', 'name_raw': \"Orvin - Jardin d'Escalade 1059 m   (4)\", 'type': 'climb', 'waypoint_url': 'https://www.hikr.org/dir/Orvin_-_Jardin_d_Escalade_27853/', 'height': 1059, 'name': \"Orvin - Jardin d'Escalade\", 'peak_id': '27853'}], [{'image': 'https://s.hikr.org/r4icons/ico2_ort_s.png', 'name_raw': 'Andermatt 1436 m   (162)', 'type': 'location', 'waypoint_url': 'https://www.hikr.org/dir/Andermatt_7577/', 'height': 1436, 'name': 'Andermatt', 'peak_id': '7577'}, {'image': 'https://s.hikr.org/r4icons/ico2_point_s.png', 'name_raw': 'Schöllenen 1399 m   (24)', 'type': 'other', 'waypoint_url': 'https://www.hikr.org/dir/Sch%C3%B6llenen_8054/', 'height': 1399, 'name': 'Schöllenen', 'peak_id': '3'}], [{'image': 'https://s.hikr.org/r4icons/ico2_point_s.png', 'name_raw': 'Sion - Bahnhof SBB 490 m   (31)', 'type': 'other', 'waypoint_url': 'https://www.hikr.org/dir/Sion_-_Bahnhof_SBB_19626/', 'height': 490, 'name': 'Sion - Bahnhof SBB', 'peak_id': '19626'}, {'image': 'https://s.hikr.org/r4icons/ico2_point_s.png', 'name_raw': 'Bisse de Clavau - Fin 630 m   (11)', 'type': 'other', 'waypoint_url': 'https://www.hikr.org/dir/Bisse_de_Clavau_-_Fin_19629/', 'height': 630, 'name': 'Bisse de Clavau - Fin', 'peak_id': '19629'}, {'image': 'https://s.hikr.org/r4icons/ico2_ort_s.png', 'name_raw': 'Saint-Léonard 505 m   (23)', 'type': 'location', 'waypoint_url': 'https://www.hikr.org/dir/Saint-L%C3%A9onard_19627/', 'height': 505, 'name': 'Saint-Léonard', 'peak_id': '3'}, {'image': 'https://s.hikr.org/r4icons/ico2_point_s.png', 'name_raw': 'Bisse de Clavau - Début  680 m   (15)', 'type': 'other', 'waypoint_url': 'https://www.hikr.org/dir/Bisse_de_Clavau_-_D%C3%A9but__19628/', 'height': 680, 'name': 'Bisse de Clavau - Début', 'peak_id': '3'}, {'image': 'https://s.hikr.org/r4icons/ico2_wand_s.png', 'name_raw': 'Bisse de Sillonin 780 m   (15)', 'type': 'wall', 'waypoint_url': 'https://www.hikr.org/dir/Bisse_de_Sillonin_14489/', 'height': 780, 'name': 'Bisse de Sillonin', 'peak_id': '14489'}], [{'image': 'https://s.hikr.org/r4icons/ico2_peak_s.png', 'name_raw': 'Cime de Roccassiera 1501 m   (2)', 'type': 'peak', 'waypoint_url': 'https://www.hikr.org/dir/Cime_de_Roccassiera_21054/', 'height': 1501, 'name': 'Cime de Roccassiera', 'peak_id': '21054'}], [{'image': 'https://s.hikr.org/r4icons/ico2_peak_s.png', 'name_raw': 'Hochiss 2299 m   (25)', 'type': 'peak', 'waypoint_url': 'https://www.hikr.org/dir/Hochiss_19821/', 'height': 2299, 'name': 'Hochiss', 'peak_id': '19821'}, {'image': 'https://s.hikr.org/r4icons/ico2_peak_s.png', 'name_raw': 'Spieljoch 2236 m   (13)', 'type': 'peak', 'waypoint_url': 'https://www.hikr.org/dir/Spieljoch_20297/', 'height': 2236, 'name': 'Spieljoch', 'peak_id': '20297'}, {'image': 'https://s.hikr.org/r4icons/ico2_peak_s.png', 'name_raw': 'Streichkopf 2243 m   (15)', 'type': 'peak', 'waypoint_url': 'https://www.hikr.org/dir/Streichkopf_21146/', 'height': 2243, 'name': 'Streichkopf', 'peak_id': '21146'}, {'image': 'https://s.hikr.org/r4icons/ico2_peak_s.png', 'name_raw': 'Dalfazer Joch 2233 m   (12)', 'type': 'peak', 'waypoint_url': 'https://www.hikr.org/dir/Dalfazer_Joch_21147/', 'height': 2233, 'name': 'Dalfazer Joch', 'peak_id': '21147'}, {'image': 'https://s.hikr.org/r4icons/ico2_peak_s.png', 'name_raw': 'Dalfazer Roßkopf 2143 m   (12)', 'type': 'peak', 'waypoint_url': 'https://www.hikr.org/dir/Dalfazer_Ro%C3%9Fkopf_21148/', 'height': 2143, 'name': 'Dalfazer Roßkopf', 'peak_id': '3'}, {'image': 'https://s.hikr.org/r4icons/ico2_peak_s.png', 'name_raw': 'Rotspitze 2067 m   (13)', 'type': 'peak', 'waypoint_url': 'https://www.hikr.org/dir/Rotspitze_21149/', 'height': 2067, 'name': 'Rotspitze', 'peak_id': '21149'}, {'image': 'https://s.hikr.org/r4icons/ico2_peak_s.png', 'name_raw': 'Seekarlspitze 2261 m   (17)', 'type': 'peak', 'waypoint_url': 'https://www.hikr.org/dir/Seekarlspitze_15040/', 'height': 2261, 'name': 'Seekarlspitze', 'peak_id': '15040'}]]\n"
     ]
    }
   ],
   "source": [
    "# Parse the waypoints for all rows\n",
    "waypoints = []\n",
    "for i in range(0, posts_raw_df.shape[0]):\n",
    "    raw = posts_raw_df['Wegpunkte:_raw'].iloc[i]\n",
    "    waypoints_data = parse_waypoints(raw)\n",
    "    waypoints.append(waypoints_data)\n",
    "\n",
    "print(waypoints)"
   ]
  },
  {
   "cell_type": "code",
   "execution_count": 17,
   "metadata": {},
   "outputs": [
    {
     "data": {
      "text/html": [
       "<div><img src=\"https://s.hikr.org/r4icons/ico2_point_s.png\" /> https://s.hikr.org/r4icons/ico2_point_s.png<div>"
      ],
      "text/plain": [
       "<IPython.core.display.HTML object>"
      ]
     },
     "metadata": {},
     "output_type": "display_data"
    },
    {
     "data": {
      "text/html": [
       "<div><img src=\"https://s.hikr.org/r4icons/ico2_cave_s.png\" /> https://s.hikr.org/r4icons/ico2_cave_s.png<div>"
      ],
      "text/plain": [
       "<IPython.core.display.HTML object>"
      ]
     },
     "metadata": {},
     "output_type": "display_data"
    },
    {
     "data": {
      "text/html": [
       "<div><img src=\"https://s.hikr.org/r4icons/ico2_climb_s.png\" /> https://s.hikr.org/r4icons/ico2_climb_s.png<div>"
      ],
      "text/plain": [
       "<IPython.core.display.HTML object>"
      ]
     },
     "metadata": {},
     "output_type": "display_data"
    },
    {
     "data": {
      "text/html": [
       "<div><img src=\"https://s.hikr.org/r4icons/ico2_pass_s.png\" /> https://s.hikr.org/r4icons/ico2_pass_s.png<div>"
      ],
      "text/plain": [
       "<IPython.core.display.HTML object>"
      ]
     },
     "metadata": {},
     "output_type": "display_data"
    },
    {
     "data": {
      "text/html": [
       "<div><img src=\"https://s.hikr.org/r4icons/ico2_bridg_s.png\" /> https://s.hikr.org/r4icons/ico2_bridg_s.png<div>"
      ],
      "text/plain": [
       "<IPython.core.display.HTML object>"
      ]
     },
     "metadata": {},
     "output_type": "display_data"
    },
    {
     "data": {
      "text/html": [
       "<div><img src=\"https://s.hikr.org/r4icons/ico2_ort_s.png\" /> https://s.hikr.org/r4icons/ico2_ort_s.png<div>"
      ],
      "text/plain": [
       "<IPython.core.display.HTML object>"
      ]
     },
     "metadata": {},
     "output_type": "display_data"
    },
    {
     "data": {
      "text/html": [
       "<div><img src=\"https://s.hikr.org/r4icons/ico2_wand_s.png\" /> https://s.hikr.org/r4icons/ico2_wand_s.png<div>"
      ],
      "text/plain": [
       "<IPython.core.display.HTML object>"
      ]
     },
     "metadata": {},
     "output_type": "display_data"
    },
    {
     "data": {
      "text/html": [
       "<div><img src=\"https://s.hikr.org/r4icons/ico2_hut_s.png\" /> https://s.hikr.org/r4icons/ico2_hut_s.png<div>"
      ],
      "text/plain": [
       "<IPython.core.display.HTML object>"
      ]
     },
     "metadata": {},
     "output_type": "display_data"
    },
    {
     "data": {
      "text/html": [
       "<div><img src=\"https://s.hikr.org/r4icons/ico2_peak_s.png\" /> https://s.hikr.org/r4icons/ico2_peak_s.png<div>"
      ],
      "text/plain": [
       "<IPython.core.display.HTML object>"
      ]
     },
     "metadata": {},
     "output_type": "display_data"
    },
    {
     "data": {
      "text/html": [
       "<div><img src=\"https://s.hikr.org/r4icons/ico2_ruin_s.png\" /> https://s.hikr.org/r4icons/ico2_ruin_s.png<div>"
      ],
      "text/plain": [
       "<IPython.core.display.HTML object>"
      ]
     },
     "metadata": {},
     "output_type": "display_data"
    },
    {
     "data": {
      "text/html": [
       "<div><img src=\"https://s.hikr.org/r4icons/ico2_viafe_s.png\" /> https://s.hikr.org/r4icons/ico2_viafe_s.png<div>"
      ],
      "text/plain": [
       "<IPython.core.display.HTML object>"
      ]
     },
     "metadata": {},
     "output_type": "display_data"
    },
    {
     "data": {
      "text/html": [
       "<div><img src=\"https://s.hikr.org/r4icons/ico2_lake_s.png\" /> https://s.hikr.org/r4icons/ico2_lake_s.png<div>"
      ],
      "text/plain": [
       "<IPython.core.display.HTML object>"
      ]
     },
     "metadata": {},
     "output_type": "display_data"
    }
   ],
   "source": [
    "# Collect all uniwue immages\n",
    "unique_images = set()\n",
    "\n",
    "for i in waypoints:\n",
    "    if i is None:\n",
    "        continue\n",
    "    for waypoint in i:\n",
    "        unique_images.add(waypoint['image'])\n",
    "\n",
    "for image in unique_images:\n",
    "    display(HTML(f'<div><img src=\"{image}\" /> {image}<div>'))\n",
    "    \n",
    "\n"
   ]
  },
  {
   "cell_type": "code",
   "execution_count": 18,
   "metadata": {},
   "outputs": [
    {
     "name": "stdout",
     "output_type": "stream",
     "text": [
      "Rifugio Corte Nuovo 1635 m   (32)\n",
      "Mandli 2007 m   (12)\n",
      "Jetzmunt 845 m   (4)\n",
      "Schmidshof 526 m   (1)\n",
      "Goldau 510 m   (59)\n",
      "Marwees - Ostgipfel 1991 m   (102)\n",
      "Oropa - parcheggio funivia 1221 m   (19)\n",
      "Puerto Naos 10 m   (2)\n",
      "Eggerberg 846 m   (55)\n",
      "Seebergspitze 2085 m   (21)\n",
      "Volcán Deseada 1949 m   (12)\n",
      "Bärnet 2385 m   (7)\n",
      "Larèchia 1596 m   (11)\n",
      "Schöllenen 1399 m   (24)\n",
      "Grosser Mythen 1898 m   (225)\n",
      "Somada Alta 1947 m   (2)\n",
      "Andermatt 1436 m   (162)\n",
      "Kulm 1433 m   (30)\n",
      "Laghi Campelli 2036 m   (10)\n",
      "Harder Kulm 1322 m   (61)\n",
      "Plan de Châtel 1474 m   (3)\n",
      "Pico Bejenado 1856 m   (8)\n",
      "Burg Katz 130 m   (4)\n",
      "Mittler Gassenstock 2275 m   (2)\n",
      "Saaspass 1896 m   (38)\n",
      "Bütziflue / Bützi 917 m   (110)\n",
      "Bernina Suot 2046 m   (32)\n",
      "Königssee 610 m   (37)\n",
      "Vent 1896 m   (145)\n",
      "Rigi Kulm 1798 m   (206)\n",
      "Sigbachfall 770 m   (20)\n",
      "Abbazia San Benedetto in Val Perlana 825 m   (16)\n",
      "Bassa di Söu 2443 m   (40)\n",
      "Eus 1603 m   (28)\n",
      "Schaan 457 m   (15)\n",
      "Vättis 943 m   (66)\n",
      "Gadon 690 m   (1)\n",
      "Zingel 1525 m   (16)\n",
      "Monte Covreto 1594 m   (60)\n",
      "Röthelstein Südostsporn 1154 m   (30)\n",
      "Valencia 900 m   (2)\n",
      "Murgseefurggel 1985 m   (46)\n",
      "Le Folly 1730 m   (5)\n",
      "Sankt Bartholomä 604 m   (24)\n",
      "Zumsteinspitze / Punta Zumstein 4563 m   (60)\n",
      "Ferme Auberge du Schiessroth 1142 m   (11)\n",
      "Passo Busin 2493 m   (22)\n",
      "Eggbergen 1446 m   (33)\n",
      "Cortébert 680 m   (4)\n",
      "Berghaus Malbun 1371 m   (103)\n",
      "Bisse de Sillonin 780 m   (15)\n",
      "El Paso 664 m   (2)\n",
      "Goglio 1100 m   (11)\n",
      "Älggi 1636 m   (16)\n",
      "Rietigboden 1092 m   (2)\n",
      "Dalfazer Joch 2233 m   (12)\n",
      "Rheinfall 359 m   (34)\n",
      "Vo' del Moncodeno 1430 m   (60)\n",
      "Brig 678 m   (65)\n",
      "Cima Lariè 2144 m   (21)\n",
      "Sulden Seilbahn Mittelstation/Staz.intermedia 2197 m   (11)\n",
      "Waldhaus Okertal 235 m   (8)\n",
      "Sella Quota 2464m 2464 m   (2)\n",
      "Klammgraben 750 m   (1)\n",
      "Blatten bei Naters 1327 m   (47)\n",
      "Engelberg 1000 m   (169)\n",
      "Hohmattli 1794 m   (10)\n",
      "Vrh Paklena 1340 m   (1)\n",
      "Mittaghorn 2014 m   (19)\n",
      "Bollenwees 1470 m   (260)\n",
      "Glenfinnan / Gleann Fhionnainn 65 m   (3)\n",
      "Cavoo 1240 m   (9)\n",
      "Monte Etna 3329 m   (13)\n",
      "Podkilavac 300 m   (2)\n",
      "Chalet du Hohberg SAC 1468 m   (3)\n",
      "Schwand 1182 m   (7)\n",
      "Giof 1386 m   (25)\n",
      "Schneeböda 2700 m   (12)\n",
      "Schlüechtli 2283 m   (20)\n",
      "Passo di Pojala / Passo d'Agaro / Hinnerlecka 2405 m   (20)\n",
      "Alpe Spino 1550 m   (21)\n",
      "Bütschelegg 1056 m   (10)\n",
      "Chli Speer 1713 m   (26)\n",
      "Pilone / Cima Pian del Bozzo 2192 m   (27)\n",
      "Luzzogno 740 m   (4)\n",
      "Monteossolano 780 m   (34)\n",
      "Campo dei Fiori - Palestra di roccia 1050 m   (39)\n",
      "La Corraterie 1170 m   (9)\n",
      "La Givrine 1208 m   (25)\n",
      "Capanna Cardada Cimetta 1640 m   (55)\n",
      "Forte di Orino 1139 m   (57)\n",
      "Mont Sâla 1511 m   (11)\n",
      "Äugi 2551 m   (13)\n",
      "Capanna Miralago 1265 m   (32)\n",
      "Valsanzibio 25 m   (2)\n",
      "Brec d'Utelle 1604 m   (3)\n",
      "Kirchberg 236 m   (1)\n",
      "Nospitz 2091 m   (11)\n",
      "P. 3350 m 3350 m   (1)\n",
      "Kühroint-Alm 1420 m   (39)\n",
      "Haltestelle Küttigen-Fischbach 538 m   (29)\n",
      "Schloss Bronnen 788 m   (6)\n",
      "Zwölferkopf 1843 m   (4)\n",
      "Unering 640 m   (5)\n",
      "Lägenden Firsten 2589 m   (17)\n",
      "Tazacorte 100 m   (3)\n",
      "Alp de Sambrog 1993 m   (15)\n",
      "Zerminiger Spitze / Monte Cermigna - Vorgipfel 3062 m   (4)\n",
      "Malleray 699 m   (11)\n",
      "Alpe Pojala / Beyelenalpu 2148 m   (17)\n",
      "Harder - Wannichnubel 1585 m   (44)\n",
      "Ennetberg 1201 m   (10)\n",
      "Sass Queder 3066 m   (46)\n",
      "Schön Chulm 2023 m   (46)\n",
      "Riedchopf / Ronggspitz 2552 m   (30)\n",
      "Bad Kohlgrub 820 m   (14)\n",
      "Hoyo Negro 1936 m   (8)\n",
      "Gorperi Anfang 1220 m   (34)\n",
      "Niederrickenbach 1162 m   (164)\n",
      "Mont Boron 191 m   (1)\n",
      "Bocchetta di Valle 1948 m   (97)\n",
      "Bisse de Clavau - Début  680 m   (15)\n",
      "Col de Thiaville 1113 m   (5)\n",
      "Lago Canali 1945 m   (9)\n",
      "Lienz 457 m   (16)\n",
      "Ober Mürtschen 1731 m   (31)\n",
      "Capanna Gnifetti 3647 m   (97)\n",
      "Loreley 193 m   (5)\n",
      "Corte Buè 888 m   (9)\n",
      "Widdergalm 2174 m   (22)\n",
      "Buchboden 910 m   (20)\n",
      "Streichkopf 2243 m   (15)\n",
      "Cruz de Hilda 780 m   (5)\n",
      "Castello Cabiaglio 514 m   (19)\n",
      "Cheselenflue 1672 m   (10)\n",
      "Valüna 1409 m   (39)\n",
      "Orvin - Jardin d'Escalade 1059 m   (4)\n",
      "Susch 1420 m   (32)\n",
      "Chaltwassergletscher 3000 m   (2)\n",
      "Stauberenkanzel 1860 m   (73)\n",
      "Bad Bayersoien 806 m   (5)\n",
      "Steg im Tösstal 699 m   (105)\n",
      "Vulcano Gran Cratere 391 m   (12)\n",
      "Chasseral 1607 m   (123)\n",
      "Haupt 2312 m   (28)\n",
      "Barrisdale 0 m   (1)\n",
      "L'ancienne carrière du Coin 710 m   (13)\n",
      "Brautstein 648 m   (1)\n",
      "Sodadura 2010 m   (30)\n",
      "Wasserflue 866 m   (48)\n",
      "Motta Rossa 565 m   (26)\n",
      "Lago superiore del Sangiatto 2034 m   (44)\n",
      "Rifugio del Pian Cavallone 1530 m   (31)\n",
      "Seefeldstock 2128 m   (4)\n",
      "Sarojasattel 1628 m   (44)\n",
      "Pfalzgrafenstein 71 m   (4)\n",
      "Stanserhorn 1897 m   (57)\n",
      "Sion - Bahnhof SBB 490 m   (31)\n",
      "Brülisau 922 m   (291)\n",
      "Cappellone 1879 m   (22)\n",
      "Gross Fulfirst 2383 m   (40)\n",
      "Unter Murenstöck 1137 m   (8)\n",
      "Niwärch 1280 m   (49)\n",
      "Battaglia Terme 6 m   (2)\n",
      "Pilatus - Kulm 2067 m   (214)\n",
      "Frümsen - Talstation Staubernbahn 500 m   (57)\n",
      "Bocchetta di Scarpia 2248 m   (43)\n",
      "Col du Schaeferthal 1228 m   (31)\n",
      "Ligünc 1343 m   (14)\n",
      "Schnidengrätli 2114 m   (9)\n",
      "Piz Fess / Chli Fess 2875 m   (15)\n",
      "München - Neuhausen 520 m   (9)\n",
      "Monti di Caviano 695 m   (33)\n",
      "Sigeretplatte 1180 m   (2)\n",
      "Berggasthaus Murgsee 1817 m   (34)\n",
      "Pianascio 1643 m   (28)\n",
      "Seekarlspitze 2261 m   (17)\n",
      "Tobel-Affeltrangen 510 m   (2)\n",
      "Piani della Galera 1742 m   (11)\n",
      "Drachenloch 2427 m   (9)\n",
      "Bussnang 442 m   (5)\n",
      "Gelbberg Hütte 2069 m   (8)\n",
      "Pfadspitz 1897 m   (2)\n",
      "Piano di Campo 1187 m   (3)\n",
      "Simplonpass / Passo del Sempione 2006 m   (135)\n",
      "Musenalper Grat 1785 m   (55)\n",
      "Öhrlisattel 2121 m   (94)\n",
      "Kurhaus Alvier 975 m   (28)\n",
      "Höh Grat 1922 m   (14)\n",
      "Interlaken Ost 567 m   (35)\n",
      "Schlappiner Joch 2203 m   (12)\n",
      "Breitgrieskarscharte 2388 m   (15)\n",
      "Hängeten - Westlicher Vorgipfel 2205 m   (8)\n",
      "Glenfinnan Viaduct 85 m   (2)\n",
      "Sella Finestra 2000 m   (3)\n",
      "Bocchetta di Prada 1653 m   (48)\n",
      "Altenalptürm 2031 m   (27)\n",
      "Cabane du Carroz 1508 m   (6)\n",
      "Cascina Piana 1076 m   (23)\n",
      "Edelgrat 926 m   (32)\n",
      "Mittlere Jägerkarspitze 2608 m   (6)\n",
      "Monte di Comino - Al Riposo Romantico 1138 m   (9)\n",
      "Grappenhorn 1740 m   (37)\n",
      "Bogartenfirst 1811 m   (35)\n",
      "Hundsteinhütte SAC 1554 m   (72)\n",
      "Col du Falimont 1290 m   (26)\n",
      "Pizzin 1509 m   (25)\n",
      "Marktschellenberg - Wanderparkplatz 470 m   (2)\n",
      "Mieserenstock 2199 m   (36)\n",
      "Gleiterspitz 1531 m   (20)\n",
      "Bärglis Chöpf 1634 m   (1)\n",
      "Ammertenpass / Ammertepass 2443 m   (39)\n",
      "Färistock 2016 m   (13)\n",
      "Schybach 1200 m   (67)\n",
      "Planken 770 m   (44)\n",
      "Großer Bruder 1867 m   (2)\n",
      "Alpe di Teolo 319 m   (7)\n",
      "Weesen 428 m   (94)\n",
      "Schlappiner Spitz 2442 m   (5)\n",
      "Alpe Sangiatto 2010 m   (73)\n",
      "Lago Busin superiore 2438 m   (8)\n",
      "Grigna Settentrionale 2410 m   (196)\n",
      "Rophaien 2078 m   (81)\n",
      "Monte Leone 3553 m   (26)\n",
      "Passo di Nefelgiù 2583 m   (24)\n",
      "Archenkanzel 1342 m   (12)\n",
      "Rigi Staffel 1603 m   (155)\n",
      "Sombeval 653 m   (5)\n",
      "Refuge du Sotré 1200 m   (4)\n",
      "Degollada de la Mesa 1238 m   (9)\n",
      "Alpe Devero 1631 m   (325)\n",
      "Rifugio Alp d'Agnon 1905 m   (6)\n",
      "Rifugio Margaroli 2194 m   (73)\n",
      "Merlen 1099 m   (19)\n",
      "Stromboli 918 m   (11)\n",
      "Abbazia Madonna del Soccorso 419 m   (25)\n",
      "Morgenholz 983 m   (91)\n",
      "Arquà Petrarca 99 m   (2)\n",
      "Vesuvio / Vesuv 1281 m   (7)\n",
      "Breitenweg 901 m   (28)\n",
      "Chli Fulfirst 2368 m   (33)\n",
      "Tomlishorn 2128 m   (138)\n",
      "Rifugio Al Legn 1785 m   (134)\n",
      "Trimlenhüttli 1610 m   (3)\n",
      "Glenelg 0 m   (1)\n",
      "Le Reposoir 780 m   (6)\n",
      "Biel 1621 m   (49)\n",
      "Rocher de Onze Heures 1010 m   (5)\n",
      "Monte di Comino 1155 m   (21)\n",
      "Ochsenboden 930 m   (74)\n",
      "Rifugio Garzonera 1973 m   (69)\n",
      "Untere Gantrischhütte 1512 m   (102)\n",
      "Wasserflue - Aussichtsplattform 843 m   (46)\n",
      "Wasserauen 868 m   (381)\n",
      "Schallberg 1316 m   (13)\n",
      "Cuveglio 286 m   (27)\n",
      "Morgetepass 1959 m   (92)\n",
      "Sasso Torricello 1424 m   (22)\n",
      "Forstberg 2215 m   (89)\n",
      "Spitzhubel 1557 m   (1)\n",
      "Frieding 664 m   (5)\n",
      "Merishausen 533 m   (18)\n",
      "Realp 1538 m   (278)\n",
      "Rifugio Alp Vec 1794 m   (15)\n",
      "Beim Kreuz 1655 m   (3)\n",
      "Chläbdächer - Westgipfel 2138 m   (48)\n",
      "Birchboden 1616 m   (56)\n",
      "Fürenwand Klettersteig 1800 m   (28)\n",
      "Le Molard 1752 m   (9)\n",
      "Rifugio Brioschi 2410 m   (177)\n",
      "Fleischbank 2026 m   (13)\n",
      "Cortaccio 1067 m   (55)\n",
      "Stöckalp 1073 m   (51)\n",
      "Feil - P.2458m 2460 m   (9)\n",
      "Parador Nacional 2150 m   (39)\n",
      "Ättenberg 1614 m   (6)\n",
      "Alpe Sunfaì 1247 m   (23)\n",
      "Lochend 160 m   (1)\n",
      "Seewlifura 2598 m   (8)\n",
      "Todoque 300 m   (2)\n",
      "Gantersei 988 m   (69)\n",
      "Schwefelbergbad 1389 m   (49)\n",
      "Montaña Negra 1784 m   (4)\n",
      "Vaduz 455 m   (25)\n",
      "Holzegg 1405 m   (249)\n",
      "Saulgrub 863 m   (2)\n",
      "Hahlići 1097 m   (1)\n",
      "Altenau 841 m   (4)\n",
      "Brunni 1089 m   (203)\n",
      "Altenalptürm - Ost 1986 m   (11)\n",
      "Widderfeld 2075 m   (112)\n",
      "Gässler 2336 m   (14)\n",
      "Masca 600 m   (19)\n",
      "Knopfmacherfels 765 m   (6)\n",
      "Bivacco-Cappella 89° Brigata Garibaldi 1603 m   (40)\n",
      "Mirador El Time 501 m   (5)\n",
      "Schaffhausen 403 m   (30)\n",
      "Schiberg - Nordgipfel 2043 m   (65)\n",
      "Dalfazer Roßkopf 2143 m   (12)\n",
      "Scharnitz 964 m   (186)\n",
      "Stein 837 m   (144)\n",
      "Mont Pèlerin 1080 m   (8)\n",
      "Dreibündenstein / Term Bel 2160 m   (33)\n",
      "Andechser Kornkreis 681 m   (3)\n",
      "Sisikon 446 m   (49)\n",
      "Pizzo Ruscada 2004 m   (53)\n",
      "Lavertezzo 536 m   (95)\n",
      "Morgenberghorn 2249 m   (44)\n",
      "Casablanca 0 m   (1)\n",
      "Buochserhorn 1806 m   (119)\n",
      "Alpe Campo 1860 m   (19)\n",
      "Scaiano  331 m   (19)\n",
      "Lago Sucotto 1854 m   (15)\n",
      "Brandstein 2003 m   (4)\n",
      "Rifugio Bogani 1816 m   (61)\n",
      "Hintergrathütte/Rifugio del Coston 2661 m   (22)\n",
      "Piz Nair 3055 m   (37)\n",
      "Laghetto di Brinzio 540 m   (18)\n",
      "Lütholdsmatt 1146 m   (71)\n",
      "Klosters Platz 1206 m   (31)\n",
      "Glen Affric 300 m   (2)\n",
      "Col du Marchairuz 1447 m   (34)\n",
      "Alpe d'Arnau 1592 m   (6)\n",
      "Hochiss 2299 m   (25)\n",
      "Fleschsee 1802 m   (43)\n",
      "Fläscherberg - Regitzer Spitz 1135 m   (70)\n",
      "Lago Busin inferiore 2398 m   (19)\n",
      "Sonneck 2260 m   (17)\n",
      "Frauenmauer 1827 m   (2)\n",
      "Alpila 1421 m   (5)\n",
      "L'Arzière 1445 m   (7)\n",
      "Gasthof Stierenberg 953 m   (20)\n",
      "Rifugio Alpetto di Caviano 1255 m   (28)\n",
      "Alpe di Vova 1492 m   (14)\n",
      "Lago inferiore del Sangiatto 1990 m   (61)\n",
      "Colle Gnifetti 4452 m   (40)\n",
      "Monte Tovo 2230 m   (6)\n",
      "Domhütte SAC 2940 m   (70)\n",
      "Bäderhorn / Bäderhore 2009 m   (31)\n",
      "Sperberloch 710 m   (4)\n",
      "Schwyz 516 m   (30)\n",
      "Feldis / Veulden 1470 m   (26)\n",
      "Sankt Luzisteig 713 m   (43)\n",
      "P.3373m 3373 m   (14)\n",
      "Bettlertritt 2120 m   (1)\n",
      "Mittlerwengi 1175 m   (49)\n",
      "Cima di Biasagn 2417 m   (19)\n",
      "Mont Alban 211 m   (1)\n",
      "Tenna 1648 m   (34)\n",
      "Sigriswiler Rothorn 2051 m   (69)\n",
      "Äbneter Stöckli 2087 m   (44)\n",
      "Stotzigen Firsten - Skigipfel 2747 m   (75)\n",
      "S-chanf 1661 m   (28)\n",
      "Lienzer Spitz 1436 m   (22)\n",
      "Lingwurm 827 m   (8)\n",
      "Schy 1336 m   (39)\n",
      "Terme di San Calogero 175 m   (3)\n",
      "Weglosen 1035 m   (166)\n",
      "Gemsflue 2154 m   (35)\n",
      "Fontaine Froide 1126 m   (41)\n",
      "Schibenspitz 2060 m   (59)\n",
      "Belle Hutte - Pied des pistes 893 m   (2)\n",
      "Garsella Alp 1759 m   (9)\n",
      "Stockflue / Duume 1137 m   (122)\n",
      "Grand Cunay 1603 m   (15)\n",
      "historischer Klettersteig Pinut 1500 m   (31)\n",
      "Los Quemados 450 m   (1)\n",
      "Chläbdächer 2175 m   (45)\n",
      "Brechhorn 2032 m   (6)\n",
      "Davenna 1881 m   (4)\n",
      "Spruga 1113 m   (41)\n",
      "Mittlerspitz 1899 m   (30)\n",
      "Bisse de Clavau - Fin 630 m   (11)\n",
      "Le Petit Hohneck 1289 m   (16)\n",
      "Hörnli 1133 m   (119)\n",
      "Rocca di Orino 530 m   (7)\n",
      "Speer 1950 m   (162)\n",
      "Steischlaghore / Steinschlaghore 2321 m   (34)\n",
      "Villagio Preistorico Capo Graziano 150 m   (1)\n",
      "Montchnô 858 m   (2)\n",
      "Simmenfluh - Mittagflue 1421 m   (36)\n",
      "Sihlseeli 1829 m   (24)\n",
      "Kandersteg 1176 m   (235)\n",
      "Ebenalp 1640 m   (99)\n",
      "Girenspitz 2099 m   (22)\n",
      "Seealpsee 1141 m   (217)\n",
      "Saint-Saphorin 400 m   (8)\n",
      "Roche des Nants 850 m   (2)\n",
      "Gspon 1385 m   (24)\n",
      "Altenalp 1595 m   (58)\n",
      "Station Madrisa 1884 m   (34)\n",
      "Matthorn 2040 m   (67)\n",
      "Mont Tendre 1679 m   (35)\n",
      "Gafadurahütte LAV 1428 m   (54)\n",
      "Bärenfallen 1580 m   (32)\n",
      "Pian Taiöi 1668 m   (53)\n",
      "Alp Pradamee 1710 m   (7)\n",
      "Drumnadrochit 30 m   (2)\n",
      "Brinzio 505 m   (48)\n",
      "Corte d'Ardui 1760 m   (117)\n",
      "Vidalji 1184 m   (1)\n",
      "Arvidossen 1809 m   (11)\n",
      "Volcán Teneguía 437 m   (6)\n",
      "Eglisau 355 m   (18)\n",
      "Wildes Mannle 3023 m   (20)\n",
      "Plattenberg 2081 m   (52)\n",
      "Skihütte Schilt 1338 m   (5)\n",
      "Leutstetten 600 m   (3)\n",
      "Chli Haupt / Murmelchopf 2256 m   (21)\n",
      "Stollenloch 1930 m   (49)\n",
      "Rigi Hochflue / Hoflue 1699 m   (157)\n",
      "Fiamma 2446 m   (9)\n",
      "Puerto Tazacorte 3 m   (7)\n",
      "Hahnenmoospass 1950 m   (27)\n",
      "Große Seekarspitze 2679 m   (18)\n",
      "Staziun Guarda 1432 m   (7)\n",
      "Lago Rifugio Cernello 1996 m   (7)\n",
      "Zürich - Höngg 461 m   (6)\n",
      "Fobistörl 1544 m   (4)\n",
      "Riale 1731 m   (126)\n",
      "Ausserberg 1008 m   (110)\n",
      "Druesberg 2282 m   (97)\n",
      "Valico Pizzelle 932 m   (57)\n",
      "Punta del Coston/Hintergratkope 2813 m   (1)\n",
      "Pico del Teide 3718 m   (48)\n",
      "Silberhorn 2150 m   (19)\n",
      "Playa de Masca 0 m   (14)\n",
      "Quattropani 350 m   (4)\n",
      "Eichenberg 670 m   (1)\n",
      "Dirinella 197 m   (19)\n",
      "Refugio de Altavista 3260 m   (36)\n",
      "Bogentalweiher 766 m   (10)\n",
      "Kieneckspitz 1943 m   (14)\n",
      "Aussichtspunkt Alpenblick 780 m   (2)\n",
      "Unternogg 844 m   (10)\n",
      "Matonaalpe 1673 m   (7)\n",
      "Amsterdam 2 m   (6)\n",
      "Orselina Madonna del Sasso 378 m   (13)\n",
      "Panamakanal 26 m   (1)\n",
      "Katzenberg 249 m   (1)\n",
      "Ganggelisteg 432 m   (3)\n",
      "Leiterepass 1905 m   (111)\n",
      "Creux du Van 1450 m   (78)\n",
      "Mudna Dol 500 m   (1)\n",
      "Chioso 900 m   (17)\n",
      "Passo Predèlp 2452 m   (23)\n",
      "Üetliberg - Aussichtsturm 900 m   (38)\n",
      "Muttner Horn 2400 m   (20)\n",
      "Hohbergsattel 1485 m   (2)\n",
      "Jägerhaushöhle 692 m   (3)\n",
      "Sangernboden 977 m   (13)\n",
      "Le Vermeilley 1326 m   (7)\n",
      "Cotopaxi 5897 m   (18)\n",
      "Karlsruhe, Tivoliplatz 110 m   (3)\n",
      "Refugio El Pilar 1440 m   (12)\n",
      "Mornen 1335 m   (30)\n",
      "Stablein 2356 m   (48)\n",
      "Höch Hund 2215 m   (53)\n",
      "Noiraigue 733 m   (83)\n",
      "Saint-Léonard 505 m   (23)\n",
      "Pizzo Faiè 1352 m   (30)\n",
      "Le Couchant 1449 m   (9)\n",
      "Ruine Friesenburg 658 m   (15)\n",
      "Cappellino 1108 m   (7)\n",
      "Hoher Kasten 1794 m   (157)\n",
      "Kälberalm 2344 m   (6)\n",
      "Lago di Aviasco 2045 m   (14)\n",
      "Hirzli 1639 m   (96)\n",
      "Doldenhornhütte SAC 1915 m   (38)\n",
      "Pfäfers 820 m   (19)\n",
      "Beuron 627 m   (14)\n",
      "Capanna Regina Margherita 4554 m   (49)\n",
      "Rinderer Alpe 1242 m   (4)\n",
      "Bärenlöcher 1800 m   (2)\n",
      "Pescia Lunga 1511 m   (35)\n",
      "Rautihütten 1637 m   (29)\n",
      "Abbazia Acquafredda 325 m   (25)\n",
      "Filicudi Porto 2 m   (5)\n",
      "Berghaus Diavolezza 2978 m   (226)\n",
      "Tenner Chrüz 2017 m   (13)\n",
      "Guscha 1115 m   (43)\n",
      "Rätschenjoch 2602 m   (27)\n",
      "Schilt 2299 m   (109)\n",
      "Sacro Monte di Varese 843 m   (47)\n",
      "Sulden / Solda 1860 m   (50)\n",
      "Fläscherberg - Schnielskopf 995 m   (16)\n",
      "Sas Ciampac 2671 m   (8)\n",
      "Lago Vannino 2177 m   (42)\n",
      "Alp Gumm 1407 m   (43)\n",
      "Sjeverni Vrh Pakleno 1331 m   (1)\n",
      "Fürstenried West 580 m   (3)\n",
      "Monte di Comino - Alla Capanna 1157 m   (29)\n",
      "Bad Ragaz 502 m   (53)\n",
      "Hagen 912 m   (36)\n",
      "Passo del Bùsan 2006 m   (36)\n",
      "Fräkmünt 1499 m   (56)\n",
      "Mollis 445 m   (25)\n",
      "Ober Heuboden 1826 m   (10)\n",
      "Cuvio 292 m   (11)\n",
      "Nolla / Nollen 2383 m   (5)\n",
      "La Cergnaule 1283 m   (8)\n",
      "Glanna 2007 m   (29)\n",
      "Jenner 1874 m   (10)\n",
      "Dnić 1190 m   (1)\n",
      "Lauiberg 2057 m   (36)\n",
      "Wandflue 1440 m   (6)\n",
      "Geißsprungkopf 1934 m   (15)\n",
      "Rhonegletscher 2300 m   (98)\n",
      "Hinteres Schöneck 3128 m   (11)\n",
      "Toni-Lenz-Hütte 1450 m   (3)\n",
      "Le Gaschney 985 m   (10)\n",
      "Zürich - Haltestelle Triemli 449 m   (32)\n",
      "Lavin 1412 m   (89)\n",
      "Rautispitz 2283 m   (99)\n",
      "Jegihorn 3206 m   (74)\n",
      "Bärenloch 1432 m   (3)\n",
      "Chüemettler 1702 m   (63)\n",
      "Cappella del Pian Cavallone 1544 m   (49)\n",
      "Col de Soladier 1576 m   (12)\n",
      "Morteratsch 1896 m   (68)\n",
      "Niederurnen 435 m   (64)\n",
      "Ried Mörel 1200 m   (16)\n",
      "Obruč 1376 m   (1)\n",
      "Grotte d'Orjobet 1080 m   (13)\n",
      "Torre del Filosofo 2920 m   (12)\n",
      "Ochsen 2189 m   (60)\n",
      "Mittagsspitz 1858 m   (5)\n",
      "Nördliche Jägerkarspitze 2596 m   (4)\n",
      "Sonnenstein 1714 m   (7)\n",
      "Gafleispitz 1999 m   (39)\n",
      "Gräppelensee 1307 m   (57)\n",
      "Alpe Pesced 1778 m   (25)\n",
      "Gsollalmhütte 1201 m   (4)\n",
      "Ralligstöck 1254 m   (18)\n",
      "Mont Leuze 577 m   (1)\n",
      "Taormina 200 m   (7)\n",
      "Balzers 475 m   (29)\n",
      "Monte Giove 3009 m   (17)\n",
      "Colle del Lys / Lisjoch 4248 m   (66)\n",
      "La Forcla 1622 m   (7)\n",
      "Wasserscheide / Wasserscheidi 1584 m   (132)\n",
      "Delubro 1245 m   (12)\n",
      "Scharnitz Parken P2 964 m   (71)\n",
      "Cappella Porta 1050 m   (11)\n",
      "Montaña de Guajara 2717 m   (26)\n",
      "Gridone / Ghiridone / Monte Limidario 2188 m   (126)\n",
      "Gaflei 1483 m   (63)\n",
      "Rotspitze 2067 m   (13)\n",
      "Jedey 600 m   (1)\n",
      "Diepen 2222 m   (30)\n",
      "Cama - Ogreda 359 m   (28)\n",
      "Stazione funicolare Campo dei Fiori 1032 m   (36)\n",
      "Unterer Murgsee 1683 m   (15)\n",
      "Großer Weitschartenkopf 1979 m   (5)\n",
      "Herrsching am Ammersee 537 m   (25)\n",
      "Weinfelden 429 m   (14)\n",
      "Steinkarspitze  2018 m   (3)\n",
      "Parete San Paolo 300 m   (27)\n",
      "Les Pralets 1271 m   (6)\n",
      "Colma di Vercio 1255 m   (31)\n",
      "Bürglen 2165 m   (102)\n",
      "Cumbre de Bolico 1184 m   (7)\n",
      "Cardada 1329 m   (62)\n",
      "Oronco 547 m   (18)\n",
      "Parkplatz Laui 1072 m   (120)\n",
      "Salto delle Capre 329 m   (9)\n",
      "Sella di Pioda 3390 m   (11)\n",
      "Cima alle Coste Sud 400 m   (4)\n",
      "Ober Bogmen 1374 m   (37)\n",
      "Übergang Ulmet-Stierenberg 1003 m   (11)\n",
      "Taminaschlucht 719 m   (10)\n",
      "Pizzo d'Eus 1728 m   (24)\n",
      "Nice 10 m   (9)\n",
      "Spieljoch 2236 m   (13)\n",
      "Kienjoch 1953 m   (18)\n",
      "Zwingherrenbogen 704 m   (6)\n",
      "Schwendirank 829 m   (14)\n",
      "Rasa di Varese 543 m   (56)\n",
      "Pico Birigoyo 1807 m   (9)\n",
      "Wimbachgrieshütte 1327 m   (20)\n",
      "Staumauer Gibidum 1439 m   (18)\n",
      "Steg 1301 m   (72)\n",
      "Stofel 1472 m   (29)\n",
      "Sarnen 473 m   (11)\n",
      "Dürriflue 1705 m   (3)\n",
      "Monte del Bersaglio/Scheibenkofel 2469 m   (1)\n",
      "Cannich 160 m   (1)\n",
      "Alpe d'Andromia 1885 m   (11)\n",
      "Le Soliat - Croix 1464 m   (75)\n",
      "Cime de Roccassiera 1501 m   (2)\n",
      "Chenau de l'Envers 772 m   (1)\n",
      "Unterwasser 906 m   (108)\n",
      "Pouetta Raisse 1100 m   (20)\n",
      "Orvin 669 m   (18)\n",
      "Zernez 1471 m   (91)\n",
      "Raddepot / Brücke über den Karwendelbach 1280 m   (7)\n",
      "Öhrli / Öhrlikopf 2193 m   (84)\n",
      "Signalkuppe / Punta Gnifetti 4554 m   (89)\n",
      "Vevey 383 m   (19)\n",
      "Ämmenegg 1053 m   (13)\n",
      "Tälihöhi 2085 m   (8)\n",
      "Schwarzenburg 792 m   (18)\n",
      "Stauberen 1746 m   (180)\n",
      "Alp Gritsch 1900 m   (17)\n",
      "Kinloch Hourn 0 m   (1)\n",
      "Stoss 1537 m   (4)\n",
      "Espigón del Roque 2382 m   (1)\n",
      "Romkerhalle 335 m   (6)\n",
      "Campo dei Fiori - Punta di Mezzo 1227 m   (60)\n",
      "Massaweg 1300 m   (18)\n",
      "Schilthorn 2969 m   (41)\n",
      "Schwägalp 1352 m   (269)\n",
      "Refugio José Félix Ribas 4864 m   (15)\n",
      "Klesenza Alm 1589 m   (8)\n",
      "Chenau du Droit 1037 m   (1)\n",
      "Selzach 445 m   (14)\n",
      "Ponte del Passo 204 m   (9)\n",
      "Roque de los Muchachos 2426 m   (7)\n",
      "Dächli 947 m   (27)\n",
      "Moron 1337 m   (15)\n",
      "Lagh de Sambrog 2076 m   (14)\n",
      "Fobisalm 1416 m   (4)\n",
      "Obersee 983 m   (62)\n",
      "Spitzi Flue 1658 m   (28)\n",
      "Frutigen 780 m   (51)\n",
      "Hinterwengi 1341 m   (47)\n",
      "Alpe Fuori 1531 m   (13)\n",
      "Gorperi Suon 1170 m   (39)\n",
      "Kraggenau 920 m   (3)\n",
      "Chneubos 1030 m   (5)\n",
      "Le Hohneck 1363 m   (41)\n",
      "Bergstation Sillerebühl 1973 m   (10)\n",
      "Oberhorn 2795 m   (6)\n",
      "Cresta Piancaformia 2168 m   (30)\n",
      "Naturfreundehaus Fronalp 1389 m   (79)\n",
      "Bocchetta della Valle 2574 m   (9)\n",
      "Höhenberg 673 m   (3)\n",
      "Spazzacaldeira 2487 m   (12)\n",
      "TF-21 KM 40 - Estacionamiento 2350 m   (30)\n",
      "Santiago del Teide 925 m   (12)\n",
      "Vorderes Schöneck 2908 m   (5)\n",
      "Capanna Cardada Stallone 1480 m   (46)\n",
      "La Punt 1687 m   (51)\n",
      "Môtiers 735 m   (31)\n",
      "Monte Massone 2161 m   (37)\n",
      "Le Croue 1469 m   (7)\n",
      "Ruine Schalun (Wildschloss) 864 m   (9)\n",
      "Ginostra 50 m   (2)\n",
      "Lastoni di Dro 400 m   (6)\n",
      "Gutenfels 150 m   (4)\n",
      "Rifugio Cazzaniga 1885 m   (85)\n",
      "Kleiner Mythen 1811 m   (158)\n",
      "Morvich - Parking 8 m   (3)\n",
      "Bütschelbach - Sackau 610 m   (7)\n",
      "Stechelberg 910 m   (59)\n",
      "Trecciura 1350 m   (18)\n",
      "Inverness 6 m   (4)\n",
      "Arnisdale 0 m   (1)\n",
      "Hirnichopf 1024 m   (21)\n",
      "Hanfeld 660 m   (4)\n",
      "Pizzo Predèlp - Cima Occidentale 2585 m   (21)\n",
      "Plattenbödeli 1279 m   (315)\n",
      "Engstligenalp - Bergstation Luftseilbahn 1965 m   (138)\n",
      "Hörnli Westwand 1050 m   (53)\n",
      "Oronco - Prima Cappella 628 m   (37)\n",
      "Teuf Hund 2126 m   (23)\n",
      "Hundstein 2157 m   (79)\n",
      "P.2516m 2516 m   (15)\n",
      "Sant Jaggem 2542 m   (7)\n",
      "Vulcano Porto di Levante 5 m   (13)\n",
      "Dascio 203 m   (9)\n",
      "Paisaje Lunar 1750 m   (13)\n",
      "Dräckloch - Stall 1770 m   (12)\n",
      "Giarsun 1404 m   (8)\n",
      "Furggabüel 2174 m   (27)\n",
      "Lago di Pojala / Beyelesee 2305 m   (15)\n",
      "Bettlerspitz 2272 m   (1)\n",
      "Laghetto dei Saléi 1924 m   (31)\n",
      "Rälligstöck 1400 m   (7)\n",
      "Fontana 620 m   (51)\n",
      "Vilaflor 1420 m   (9)\n",
      "Alpe Nefelgiù 2048 m   (24)\n",
      "Dražice 300 m   (2)\n",
      "Fontana 1347 m   (42)\n",
      "Fuggerangeralm 959 m   (29)\n",
      "Ratagan 10 m   (1)\n",
      "Schafloch 1780 m   (24)\n",
      "Domodossola 270 m   (61)\n",
      "Ammertenspitz / Ammertespitz 2613 m   (47)\n",
      "Weingarten (Baden), Bahnhof 110 m   (1)\n",
      "Sourlies Bothy 0 m   (1)\n",
      "Tempietto di San Fedelino 200 m   (8)\n",
      "Fronalppass 1852 m   (52)\n",
      "Ramsflue 704 m   (12)\n",
      "Planggenstock 1675 m   (64)\n",
      "Cimetta 1671 m   (87)\n",
      "Sasso di Dascio 277 m   (8)\n",
      "Glen Affric Youth Hostel 130 m   (1)\n",
      "Abgschütz 2262 m   (50)\n",
      "Santuario di Oropa 1185 m   (24)\n",
      "Hochschwab 2277 m   (32)\n",
      "La Montagnola - Stazione a Monte 2490 m   (11)\n",
      "Tschirgant 2370 m   (6)\n",
      "Pontresina 1805 m   (122)\n",
      "Graswang 867 m   (16)\n",
      "Grund 1071 m   (8)\n",
      "Pfaffingalm 1569 m   (4)\n",
      "Bärenlochsattel 1740 m   (4)\n",
      "Garsellikopf 2105 m   (54)\n",
      "Morgenbach 850 m   (2)\n",
      "Alpe Giove 2159 m   (15)\n",
      "K2-Hütte - Langenstein/Seggiovia Orso 2330 m   (15)\n",
      "Mocogna 330 m   (25)\n",
      "Capanna Biasagn 2023 m   (23)\n",
      "Valleu 1200 m   (6)\n",
      "Salzburger Hochthron 1856 m   (8)\n",
      "Rossstocklücke 2288 m   (49)\n",
      "Guggershörnli / Guggershorn 1283 m   (14)\n",
      "Fürenalp 1838 m   (75)\n",
      "Cumbre de Masca 1048 m   (6)\n",
      "Taferna 1597 m   (6)\n",
      "Castelmola 480 m   (5)\n",
      "Larchetalm 1174 m   (40)\n",
      "Ćunina glava 1158 m   (1)\n",
      "Neuhüsli 650 m   (17)\n",
      "Kuegrat 2123 m   (60)\n",
      "Ausserberg Station 930 m   (91)\n",
      "Rifugio Sapienza 1900 m   (15)\n",
      "Rifugio Rosazza 1810 m   (12)\n",
      "Neunerkar 2000 m   (6)\n",
      "Bocchetta dei Ciapitt 2079 m   (13)\n",
      "Gantrisch 2175 m   (108)\n",
      "Hirschwieskopf 2114 m   (5)\n",
      "Wimbachbrücke 640 m   (40)\n",
      "Bernina Diavolezza 2091 m   (97)\n",
      "Steppio 987 m   (2)\n",
      "Madonna della Segna 1166 m   (31)\n",
      "Ferme Robert 972 m   (80)\n",
      "Mörel 759 m   (20)\n",
      "Vorder Gassenstock 2137 m   (2)\n",
      "Kleiner Mythen - Südlicher Vorgipfel 1763 m   (113)\n",
      "Jägerhaus 625 m   (7)\n",
      "Glannachopf 2232 m   (30)\n",
      "Rossa 1069 m   (42)\n",
      "Einsiedeln 884 m   (44)\n",
      "Chäseren 1281 m   (104)\n"
     ]
    }
   ],
   "source": [
    "unique_names = set()\n",
    "for i in waypoints:\n",
    "    if i is None:\n",
    "        continue\n",
    "    for waypoint in i:\n",
    "        unique_names.add(waypoint['name_raw'])\n",
    "\n",
    "for name in unique_names:\n",
    "    print(name)"
   ]
  },
  {
   "cell_type": "code",
   "execution_count": 19,
   "metadata": {},
   "outputs": [
    {
     "name": "stdout",
     "output_type": "stream",
     "text": [
      "Name: Schlappiner Spitz, Type: peak, Height: 2442\n",
      "Name: Schlappiner Joch, Type: pass, Height: 2203\n",
      "Name: Wasserauen, Type: location, Height: 868\n",
      "Name: Seealpsee, Type: lake, Height: 1141\n",
      "Name: Altenalp, Type: hut, Height: 1595\n",
      "Name: Altenalptürm - Ost, Type: peak, Height: 1986\n",
      "Name: Altenalptürm, Type: peak, Height: 2031\n",
      "Name: Öhrlisattel, Type: pass, Height: 2121\n",
      "Name: Öhrli / Öhrlikopf, Type: peak, Height: 2193\n",
      "Name: Hängeten - Westlicher Vorgipfel, Type: peak, Height: 2205\n",
      "Name: Schwägalp, Type: location, Height: 1352\n",
      "Name: Zürich - Haltestelle Triemli, Type: other, Height: 449\n",
      "Name: Ruine Friesenburg, Type: ruin, Height: 658\n",
      "Name: Üetliberg - Aussichtsturm, Type: other, Height: 900\n",
      "Name: Cima di Biasagn, Type: peak, Height: 2417\n",
      "Name: Capanna Biasagn, Type: hut, Height: 2023\n",
      "Name: Fontana, Type: other, Height: 1347\n",
      "Name: Riedchopf / Ronggspitz, Type: peak, Height: 2552\n",
      "Name: Vilaflor, Type: location, Height: 1420\n",
      "Name: Paisaje Lunar, Type: other, Height: 1750\n",
      "Name: Montaña de Guajara, Type: peak, Height: 2717\n",
      "Name: Parador Nacional, Type: other, Height: 2150\n",
      "Name: Dirinella, Type: location, Height: 197\n",
      "Name: Scaiano, Type: location, Height: 331\n",
      "Name: Monti di Caviano, Type: other, Height: 695\n",
      "Name: Rifugio Alpetto di Caviano, Type: hut, Height: 1255\n",
      "Name: Sasso Torricello, Type: peak, Height: 1424\n",
      "Name: Monte Covreto, Type: peak, Height: 1594\n",
      "Name: Pico Birigoyo, Type: peak, Height: 1807\n",
      "Name: Refugio El Pilar, Type: hut, Height: 1440\n",
      "Name: Lienz, Type: location, Height: 457\n",
      "Name: Schwendirank, Type: other, Height: 829\n",
      "Name: Lienzer Spitz, Type: peak, Height: 1436\n",
      "Name: Hoher Kasten, Type: peak, Height: 1794\n",
      "Name: Stauberen, Type: hut, Height: 1746\n",
      "Name: Stauberenkanzel, Type: peak, Height: 1860\n",
      "Name: Frümsen - Talstation Staubernbahn, Type: other, Height: 500\n",
      "Name: Waldhaus Okertal, Type: other, Height: 235\n",
      "Name: Brautstein, Type: peak, Height: 648\n",
      "Name: Eichenberg, Type: peak, Height: 670\n",
      "Name: Romkerhalle, Type: other, Height: 335\n",
      "Name: Monte Etna, Type: peak, Height: 3329\n",
      "Name: Torre del Filosofo, Type: other, Height: 2920\n",
      "Name: La Montagnola - Stazione a Monte, Type: other, Height: 2490\n",
      "Name: Rifugio Sapienza, Type: hut, Height: 1900\n",
      "Name: Rifugio Garzonera, Type: hut, Height: 1973\n",
      "Name: Pian Taiöi, Type: other, Height: 1668\n",
      "Name: Giof, Type: other, Height: 1386\n",
      "Name: Ennetberg, Type: hut, Height: 1201\n",
      "Name: Ober Heuboden, Type: hut, Height: 1826\n",
      "Name: Schilt, Type: peak, Height: 2299\n",
      "Name: Mont Pèlerin, Type: peak, Height: 1080\n",
      "Name: Vevey, Type: location, Height: 383\n",
      "Name: Saint-Saphorin, Type: location, Height: 400\n",
      "Name: Planken, Type: location, Height: 770\n",
      "Name: Gafadurahütte LAV, Type: hut, Height: 1428\n",
      "Name: Sarojasattel, Type: pass, Height: 1628\n",
      "Name: Garsella Alp, Type: other, Height: 1759\n",
      "Name: Garsellikopf, Type: peak, Height: 2105\n",
      "Name: Kuegrat, Type: peak, Height: 2123\n",
      "Name: Gafleispitz, Type: peak, Height: 1999\n",
      "Name: Gaflei, Type: location, Height: 1483\n",
      "Name: Kulm, Type: pass, Height: 1433\n",
      "Name: Steg, Type: location, Height: 1301\n",
      "Name: Ruine Schalun (Wildschloss), Type: ruin, Height: 864\n",
      "Name: Vaduz, Type: location, Height: 455\n",
      "Name: Mittlerwengi, Type: other, Height: 1175\n",
      "Name: Hinterwengi, Type: hut, Height: 1341\n",
      "Name: Speer, Type: peak, Height: 1950\n",
      "Name: Hinterwengi, Type: hut, Height: 1341\n",
      "Name: Mittlerwengi, Type: other, Height: 1175\n",
      "Name: Brec d'Utelle, Type: peak, Height: 1604\n",
      "Name: Nördliche Jägerkarspitze, Type: peak, Height: 2596\n",
      "Name: Mittlere Jägerkarspitze, Type: peak, Height: 2608\n",
      "Name: Scharnitz, Type: location, Height: 964\n",
      "Name: Cima alle Coste Sud, Type: climb, Height: 400\n",
      "Name: Hinteres Schöneck, Type: peak, Height: 3128\n",
      "Name: Vorderes Schöneck, Type: peak, Height: 2908\n",
      "Name: Kälberalm, Type: hut, Height: 2344\n",
      "Name: Sulden / Solda, Type: location, Height: 1860\n",
      "Name: Blatten bei Naters, Type: location, Height: 1327\n",
      "Name: Mörel, Type: location, Height: 759\n",
      "Name: Staumauer Gibidum, Type: other, Height: 1439\n",
      "Name: Massaweg, Type: other, Height: 1300\n",
      "Name: Ried Mörel, Type: location, Height: 1200\n",
      "Name: Realp, Type: location, Height: 1538\n",
      "Name: Gässler, Type: peak, Height: 2336\n",
      "Name: Lägenden Firsten, Type: peak, Height: 2589\n",
      "Name: Stotzigen Firsten - Skigipfel, Type: peak, Height: 2747\n",
      "Name: Vorder Gassenstock, Type: peak, Height: 2137\n",
      "Name: Dräckloch - Stall, Type: other, Height: 1770\n",
      "Name: Mittler Gassenstock, Type: peak, Height: 2275\n",
      "Name: Chäseren, Type: hut, Height: 1281\n",
      "Name: Cima alle Coste Sud, Type: climb, Height: 400\n",
      "Name: Kleiner Mythen, Type: peak, Height: 1811\n",
      "Name: Kleiner Mythen - Südlicher Vorgipfel, Type: peak, Height: 1763\n",
      "Name: Grosser Mythen, Type: peak, Height: 1898\n",
      "Name: Casablanca, Type: location, Height: 0\n",
      "Name: Feil - P.2458m, Type: peak, Height: 2460\n",
      "Name: Muttner Horn, Type: peak, Height: 2400\n",
      "Name: Orselina Madonna del Sasso, Type: location, Height: 378\n",
      "Name: Capanna Cardada Cimetta, Type: hut, Height: 1640\n",
      "Name: Capanna Cardada Stallone, Type: hut, Height: 1480\n",
      "Name: Cimetta, Type: peak, Height: 1671\n",
      "Name: Cardada, Type: other, Height: 1329\n",
      "Name: Schnidengrätli, Type: peak, Height: 2114\n",
      "Name: Älggi, Type: hut, Height: 1636\n",
      "Name: Sarnen, Type: location, Height: 473\n",
      "Name: Bütschelegg, Type: peak, Height: 1056\n",
      "Name: Bütschelbach - Sackau, Type: other, Height: 610\n",
      "Name: Filicudi Porto, Type: location, Height: 2\n",
      "Name: Villagio Preistorico Capo Graziano, Type: ruin, Height: 150\n",
      "Name: Brig, Type: location, Height: 678\n",
      "Name: Lingwurm, Type: location, Height: 827\n",
      "Name: Schallberg, Type: other, Height: 1316\n",
      "Name: Grund, Type: location, Height: 1071\n",
      "Name: Taferna, Type: other, Height: 1597\n",
      "Name: Simplonpass / Passo del Sempione, Type: pass, Height: 2006\n",
      "Name: Gadon, Type: other, Height: 690\n",
      "Name: Feldis / Veulden, Type: location, Height: 1470\n",
      "Name: Furggabüel, Type: peak, Height: 2174\n",
      "Name: Dreibündenstein / Term Bel, Type: peak, Height: 2160\n",
      "Name: Sombeval, Type: location, Height: 653\n",
      "Name: Lütholdsmatt, Type: hut, Height: 1146\n",
      "Name: Schy, Type: hut, Height: 1336\n",
      "Name: Birchboden, Type: hut, Height: 1616\n",
      "Name: Matthorn, Type: peak, Height: 2040\n",
      "Name: Fräkmünt, Type: hut, Height: 1499\n",
      "Name: Sas Ciampac, Type: peak, Height: 2671\n",
      "Name: Wasserflue, Type: peak, Height: 866\n",
      "Name: Wasserflue - Aussichtsplattform, Type: other, Height: 843\n",
      "Name: Haltestelle Küttigen-Fischbach, Type: other, Height: 538\n",
      "Name: Ramsflue, Type: peak, Height: 704\n",
      "Name: Cortaccio, Type: other, Height: 1067\n",
      "Name: Bocchetta di Valle, Type: pass, Height: 1948\n",
      "Name: Gridone / Ghiridone / Monte Limidario, Type: peak, Height: 2188\n",
      "Name: Rifugio Al Legn, Type: hut, Height: 1785\n",
      "Name: Le Gaschney, Type: location, Height: 985\n",
      "Name: Ferme Auberge du Schiessroth, Type: hut, Height: 1142\n",
      "Name: Col du Schaeferthal, Type: pass, Height: 1228\n",
      "Name: Le Hohneck, Type: peak, Height: 1363\n",
      "Name: Belle Hutte - Pied des pistes, Type: location, Height: 893\n",
      "Name: Col de Thiaville, Type: pass, Height: 1113\n",
      "Name: Refuge du Sotré, Type: hut, Height: 1200\n",
      "Name: Col du Falimont, Type: pass, Height: 1290\n",
      "Name: Col du Schaeferthal, Type: pass, Height: 1228\n",
      "Name: Le Petit Hohneck, Type: peak, Height: 1289\n",
      "Name: Le Gaschney, Type: location, Height: 985\n",
      "Name: Wildes Mannle, Type: peak, Height: 3023\n",
      "Name: Vent, Type: location, Height: 1896\n",
      "Name: Stablein, Type: other, Height: 2356\n",
      "Name: Bütziflue / Bützi, Type: peak, Height: 917\n",
      "Name: Stockflue / Duume, Type: peak, Height: 1137\n",
      "Name: Rigi Hochflue / Hoflue, Type: peak, Height: 1699\n",
      "Name: Spazzacaldeira, Type: peak, Height: 2487\n",
      "Name: Fiamma, Type: peak, Height: 2446\n",
      "Name: Mollis, Type: location, Height: 445\n",
      "Name: Naturfreundehaus Fronalp, Type: hut, Height: 1389\n",
      "Name: Fronalppass, Type: pass, Height: 1852\n",
      "Name: Färistock, Type: peak, Height: 2016\n",
      "Name: Ober Heuboden, Type: hut, Height: 1826\n",
      "Name: Skihütte Schilt, Type: hut, Height: 1338\n",
      "Name: Sangernboden, Type: location, Height: 977\n",
      "Name: Unter Murenstöck, Type: other, Height: 1137\n",
      "Name: Spitzhubel, Type: peak, Height: 1557\n",
      "Name: Chalet du Hohberg SAC, Type: hut, Height: 1468\n",
      "Name: Hohmattli, Type: peak, Height: 1794\n",
      "Name: Hohbergsattel, Type: pass, Height: 1485\n",
      "Name: Ättenberg, Type: peak, Height: 1614\n",
      "Name: Stoss, Type: peak, Height: 1537\n",
      "Name: Rigi Kulm, Type: peak, Height: 1798\n",
      "Name: Rigi Staffel, Type: other, Height: 1603\n",
      "Name: Goldau, Type: location, Height: 510\n",
      "Name: Dächli, Type: hut, Height: 947\n",
      "Name: Zingel, Type: hut, Height: 1525\n",
      "Name: Piano di Campo, Type: location, Height: 1187\n",
      "Name: Alpe d'Arnau, Type: other, Height: 1592\n",
      "Name: Lavertezzo, Type: location, Height: 536\n",
      "Name: Eus, Type: other, Height: 1603\n",
      "Name: Pizzo d'Eus, Type: peak, Height: 1728\n",
      "Name: Brechhorn, Type: peak, Height: 2032\n",
      "Name: Bad Kohlgrub, Type: location, Height: 820\n",
      "Name: Kraggenau, Type: location, Height: 920\n",
      "Name: Saulgrub, Type: location, Height: 863\n",
      "Name: Altenau, Type: location, Height: 841\n",
      "Name: Unternogg, Type: location, Height: 844\n",
      "Name: Morgenbach, Type: location, Height: 850\n",
      "Name: Bad Bayersoien, Type: location, Height: 806\n",
      "Name: Schnidengrätli, Type: peak, Height: 2114\n",
      "Name: Rossa, Type: location, Height: 1069\n",
      "Name: Engelberg, Type: location, Height: 1000\n",
      "Name: Chneubos, Type: other, Height: 1030\n",
      "Name: Rietigboden, Type: other, Height: 1092\n",
      "Name: Schwand, Type: other, Height: 1182\n",
      "Name: Fläscherberg - Regitzer Spitz, Type: peak, Height: 1135\n",
      "Name: Sankt Luzisteig, Type: location, Height: 713\n",
      "Name: Fläscherberg - Schnielskopf, Type: peak, Height: 995\n",
      "Name: Merlen, Type: other, Height: 1099\n",
      "Name: Gspon, Type: other, Height: 1385\n",
      "Name: Ober Mürtschen, Type: hut, Height: 1731\n",
      "Name: Murgseefurggel, Type: pass, Height: 1985\n",
      "Name: Berggasthaus Murgsee, Type: hut, Height: 1817\n",
      "Name: Unterer Murgsee, Type: lake, Height: 1683\n",
      "Name: Mornen, Type: other, Height: 1335\n",
      "Name: Großer Bruder, Type: peak, Height: 1867\n",
      "Name: Großer Weitschartenkopf, Type: peak, Height: 1979\n",
      "Name: Lago di Aviasco, Type: lake, Height: 2045\n",
      "Name: Laghi Campelli, Type: lake, Height: 2036\n",
      "Name: Lago Sucotto, Type: lake, Height: 1854\n",
      "Name: Lago Rifugio Cernello, Type: lake, Height: 1996\n",
      "Name: Lago Canali, Type: lake, Height: 1945\n",
      "Name: Scharnitz Parken P2, Type: other, Height: 964\n",
      "Name: Larchetalm, Type: hut, Height: 1174\n",
      "Name: Raddepot / Brücke über den Karwendelbach, Type: other, Height: 1280\n",
      "Name: Neunerkar, Type: other, Height: 2000\n",
      "Name: Breitgrieskarscharte, Type: pass, Height: 2388\n",
      "Name: Große Seekarspitze, Type: peak, Height: 2679\n",
      "Name: Breitgrieskarscharte, Type: pass, Height: 2388\n",
      "Name: Neunerkar, Type: other, Height: 2000\n",
      "Name: Raddepot / Brücke über den Karwendelbach, Type: other, Height: 1280\n",
      "Name: Larchetalm, Type: hut, Height: 1174\n",
      "Name: Scharnitz Parken P2, Type: other, Height: 964\n",
      "Name: Mittlerwengi, Type: other, Height: 1175\n",
      "Name: Hinterwengi, Type: hut, Height: 1341\n",
      "Name: Chli Speer, Type: peak, Height: 1713\n",
      "Name: Hinterwengi, Type: hut, Height: 1341\n",
      "Name: Mittlerwengi, Type: other, Height: 1175\n",
      "Name: Chioso, Type: location, Height: 900\n",
      "Name: Alpe di Vova, Type: other, Height: 1492\n",
      "Name: Alpe Giove, Type: other, Height: 2159\n",
      "Name: Monte Giove, Type: peak, Height: 3009\n",
      "Name: La Cergnaule, Type: hut, Height: 1283\n",
      "Name: Col de Soladier, Type: pass, Height: 1576\n",
      "Name: Le Molard, Type: peak, Height: 1752\n",
      "Name: La Forcla, Type: other, Height: 1622\n",
      "Name: Le Folly, Type: peak, Height: 1730\n",
      "Name: Plan de Châtel, Type: other, Height: 1474\n",
      "Name: La Cergnaule, Type: hut, Height: 1283\n",
      "Name: Wasserscheide / Wasserscheidi, Type: pass, Height: 1584\n",
      "Name: Gantrisch, Type: peak, Height: 2175\n",
      "Name: Schibenspitz, Type: peak, Height: 2060\n",
      "Name: Bürglen, Type: peak, Height: 2165\n",
      "Name: Gemsflue, Type: peak, Height: 2154\n",
      "Name: Ochsen, Type: peak, Height: 2189\n",
      "Name: Schwefelbergbad, Type: location, Height: 1389\n",
      "Name: Untere Gantrischhütte, Type: hut, Height: 1512\n",
      "Name: Wasserscheide / Wasserscheidi, Type: pass, Height: 1584\n",
      "Name: Bad Ragaz, Type: location, Height: 502\n",
      "Name: Taminaschlucht, Type: other, Height: 719\n",
      "Name: Pfäfers, Type: location, Height: 820\n",
      "Name: Bad Ragaz, Type: location, Height: 502\n",
      "Name: Ginostra, Type: location, Height: 50\n",
      "Name: Älggi, Type: hut, Height: 1636\n",
      "Name: Schnidengrätli, Type: peak, Height: 2114\n",
      "Name: Haupt, Type: peak, Height: 2312\n",
      "Name: Chli Haupt / Murmelchopf, Type: peak, Height: 2256\n",
      "Name: Abgschütz, Type: peak, Height: 2262\n",
      "Name: Seefeldstock, Type: peak, Height: 2128\n",
      "Name: Zerminiger Spitze / Monte Cermigna - Vorgipfel, Type: peak, Height: 3062\n",
      "Name: Vulcano Gran Cratere, Type: peak, Height: 391\n",
      "Name: Vulcano Porto di Levante, Type: location, Height: 5\n",
      "Name: Bassa di Söu, Type: pass, Height: 2443\n",
      "Name: Passo Predèlp, Type: pass, Height: 2452\n",
      "Name: Pizzo Predèlp - Cima Occidentale, Type: peak, Height: 2585\n",
      "Name: Amsterdam, Type: location, Height: 2\n",
      "Name: Klammgraben, Type: climb, Height: 750\n",
      "Name: Oropa - parcheggio funivia, Type: other, Height: 1221\n",
      "Name: Rifugio Rosazza, Type: hut, Height: 1810\n",
      "Name: Sella Finestra, Type: pass, Height: 2000\n",
      "Name: Monte Tovo, Type: peak, Height: 2230\n",
      "Name: Delubro, Type: other, Height: 1245\n",
      "Name: Santuario di Oropa, Type: other, Height: 1185\n",
      "Name: Oropa - parcheggio funivia, Type: other, Height: 1221\n",
      "Name: historischer Klettersteig Pinut, Type: via_ferrata, Height: 1500\n",
      "Name: Simmenfluh - Mittagflue, Type: peak, Height: 1421\n",
      "Name: Rifugio del Pian Cavallone, Type: hut, Height: 1530\n",
      "Name: Cappella del Pian Cavallone, Type: other, Height: 1544\n",
      "Name: Alpe Sunfaì, Type: other, Height: 1247\n",
      "Name: Trecciura, Type: other, Height: 1350\n",
      "Name: Cappella Porta, Type: other, Height: 1050\n",
      "Name: Steppio, Type: other, Height: 987\n",
      "Name: Morgenberghorn, Type: peak, Height: 2249\n",
      "Name: Cascina Piana, Type: other, Height: 1076\n",
      "Name: Volcán Teneguía, Type: peak, Height: 437\n",
      "Name: Los Quemados, Type: location, Height: 450\n",
      "Name: Pico Bejenado, Type: peak, Height: 1856\n",
      "Name: El Paso, Type: location, Height: 664\n",
      "Name: Valencia, Type: location, Height: 900\n",
      "Name: Widdergalm, Type: peak, Height: 2174\n",
      "Name: Trimlenhüttli, Type: hut, Height: 1610\n",
      "Name: Steischlaghore / Steinschlaghore, Type: peak, Height: 2321\n",
      "Name: Frutigen, Type: location, Height: 780\n",
      "Name: Seebergspitze, Type: peak, Height: 2085\n",
      "Name: Mudna Dol, Type: via_ferrata, Height: 500\n",
      "Name: Vidalji, Type: peak, Height: 1184\n",
      "Name: Dnić, Type: peak, Height: 1190\n",
      "Name: Hahlići, Type: hut, Height: 1097\n",
      "Name: Obruč, Type: peak, Height: 1376\n",
      "Name: Sjeverni Vrh Pakleno, Type: peak, Height: 1331\n",
      "Name: Vrh Paklena, Type: peak, Height: 1340\n",
      "Name: Ćunina glava, Type: peak, Height: 1158\n",
      "Name: Podkilavac, Type: location, Height: 300\n",
      "Name: Dražice, Type: location, Height: 300\n",
      "Name: Schwyz, Type: location, Height: 516\n",
      "Name: Holzegg, Type: hut, Height: 1405\n",
      "Name: Grosser Mythen, Type: peak, Height: 1898\n",
      "Name: Brunni, Type: location, Height: 1089\n",
      "Name: Einsiedeln, Type: location, Height: 884\n",
      "Name: Kurhaus Alvier, Type: other, Height: 975\n",
      "Name: Stofel, Type: other, Height: 1472\n",
      "Name: Girenspitz, Type: peak, Height: 2099\n",
      "Name: Burg Katz, Type: ruin, Height: 130\n",
      "Name: Loreley, Type: other, Height: 193\n",
      "Name: Pfalzgrafenstein, Type: other, Height: 71\n",
      "Name: Gutenfels, Type: ruin, Height: 150\n",
      "Name: Simplonpass / Passo del Sempione, Type: pass, Height: 2006\n",
      "Name: P.2516m, Type: other, Height: 2516\n",
      "Name: Chaltwassergletscher, Type: other, Height: 3000\n",
      "Name: P., Type: pass, Height: 3350\n",
      "Name: P.3373m, Type: pass, Height: 3373\n",
      "Name: Monte Leone, Type: peak, Height: 3553\n",
      "Name: Hirschwieskopf, Type: peak, Height: 2114\n",
      "Name: Wimbachgrieshütte, Type: hut, Height: 1327\n",
      "Name: Sankt Bartholomä, Type: location, Height: 604\n",
      "Name: Kühroint-Alm, Type: hut, Height: 1420\n",
      "Name: Wimbachbrücke, Type: other, Height: 640\n",
      "Name: Sigeretplatte, Type: via_ferrata, Height: 1180\n",
      "Name: Archenkanzel, Type: other, Height: 1342\n",
      "Name: Monte di Comino - Alla Capanna, Type: hut, Height: 1157\n",
      "Name: Pianascio, Type: peak, Height: 1643\n",
      "Name: Pizzin, Type: peak, Height: 1509\n",
      "Name: Pescia Lunga, Type: pass, Height: 1511\n",
      "Name: Cappellone, Type: other, Height: 1879\n",
      "Name: Pizzo Ruscada, Type: peak, Height: 2004\n",
      "Name: Eggbergen, Type: location, Height: 1446\n",
      "Name: Fleschsee, Type: lake, Height: 1802\n",
      "Name: Schön Chulm, Type: pass, Height: 2023\n",
      "Name: Diepen, Type: peak, Height: 2222\n",
      "Name: Äbneter Stöckli, Type: peak, Height: 2087\n",
      "Name: Rophaien, Type: peak, Height: 2078\n",
      "Name: Sisikon, Type: location, Height: 446\n",
      "Name: Mont Boron, Type: peak, Height: 191\n",
      "Name: Mont Alban, Type: peak, Height: 211\n",
      "Name: Mont Leuze, Type: peak, Height: 577\n",
      "Name: Nice, Type: location, Height: 10\n",
      "Name: Cama - Ogreda, Type: other, Height: 359\n",
      "Name: Capanna Miralago, Type: hut, Height: 1265\n",
      "Name: Rifugio Alp Vec, Type: hut, Height: 1794\n",
      "Name: Alp de Sambrog, Type: hut, Height: 1993\n",
      "Name: Sella Quota 2464m, Type: pass, Height: 2464\n",
      "Name: Lagh de Sambrog, Type: lake, Height: 2076\n",
      "Name: Rifugio Alp Vec, Type: hut, Height: 1794\n",
      "Name: Rifugio Alp d'Agnon, Type: hut, Height: 1905\n",
      "Name: Vättis, Type: location, Height: 943\n",
      "Name: Gelbberg Hütte, Type: hut, Height: 2069\n",
      "Name: Drachenloch, Type: cave, Height: 2427\n",
      "Name: Zürich - Höngg, Type: location, Height: 461\n",
      "Name: Eglisau, Type: location, Height: 355\n",
      "Name: Schaffhausen, Type: location, Height: 403\n",
      "Name: Merishausen, Type: location, Height: 533\n",
      "Name: Hagen, Type: peak, Height: 912\n",
      "Name: Rheinfall, Type: other, Height: 359\n",
      "Name: Cuveglio, Type: location, Height: 286\n",
      "Name: Cuvio, Type: location, Height: 292\n",
      "Name: Castello Cabiaglio, Type: location, Height: 514\n",
      "Name: Brinzio, Type: location, Height: 505\n",
      "Name: Laghetto di Brinzio, Type: lake, Height: 540\n",
      "Name: Motta Rossa, Type: pass, Height: 565\n",
      "Name: Rasa di Varese, Type: location, Height: 543\n",
      "Name: Oronco, Type: location, Height: 547\n",
      "Name: Oronco - Prima Cappella, Type: other, Height: 628\n",
      "Name: Sacro Monte di Varese, Type: peak, Height: 843\n",
      "Name: Valico Pizzelle, Type: pass, Height: 932\n",
      "Name: Stazione funicolare Campo dei Fiori, Type: other, Height: 1032\n",
      "Name: Campo dei Fiori - Palestra di roccia, Type: climb, Height: 1050\n",
      "Name: Campo dei Fiori - Punta di Mezzo, Type: peak, Height: 1227\n",
      "Name: Forte di Orino, Type: peak, Height: 1139\n",
      "Name: Rocca di Orino, Type: ruin, Height: 530\n",
      "Name: Cuveglio, Type: location, Height: 286\n",
      "Name: Cuvio, Type: location, Height: 292\n",
      "Name: Stanserhorn, Type: peak, Height: 1897\n",
      "Name: Santiago del Teide, Type: location, Height: 925\n",
      "Name: Degollada de la Mesa, Type: pass, Height: 1238\n",
      "Name: Cumbre de Bolico, Type: peak, Height: 1184\n",
      "Name: Cumbre de Masca, Type: peak, Height: 1048\n",
      "Name: Cruz de Hilda, Type: pass, Height: 780\n",
      "Name: Masca, Type: location, Height: 600\n",
      "Name: Playa de Masca, Type: other, Height: 0\n",
      "Name: Jegihorn, Type: peak, Height: 3206\n",
      "Name: Chenau de l'Envers, Type: other, Height: 772\n",
      "Name: Chenau du Droit, Type: other, Height: 1037\n",
      "Name: Cortébert, Type: location, Height: 680\n",
      "Name: Piz Nair, Type: peak, Height: 3055\n",
      "Name: Battaglia Terme, Type: location, Height: 6\n",
      "Name: Valsanzibio, Type: location, Height: 25\n",
      "Name: Arquà Petrarca, Type: location, Height: 99\n",
      "Name: Berghaus Malbun, Type: hut, Height: 1371\n",
      "Name: Glanna, Type: pass, Height: 2007\n",
      "Name: Glannachopf, Type: peak, Height: 2232\n",
      "Name: Chli Fulfirst, Type: peak, Height: 2368\n",
      "Name: Gross Fulfirst, Type: peak, Height: 2383\n",
      "Name: Glanna, Type: pass, Height: 2007\n",
      "Name: Berghaus Malbun, Type: hut, Height: 1371\n",
      "Name: Roque de los Muchachos, Type: peak, Height: 2426\n",
      "Name: Tazacorte, Type: location, Height: 100\n",
      "Name: Puerto Tazacorte, Type: location, Height: 3\n",
      "Name: Mirador El Time, Type: other, Height: 501\n",
      "Name: Somada Alta, Type: peak, Height: 1947\n",
      "Name: Espigón del Roque, Type: peak, Height: 2382\n",
      "Name: Brandstein, Type: peak, Height: 2003\n",
      "Name: Pfaffingalm, Type: hut, Height: 1569\n",
      "Name: Frauenmauer, Type: peak, Height: 1827\n",
      "Name: Gsollalmhütte, Type: hut, Height: 1201\n",
      "Name: Bärenloch, Type: other, Height: 1432\n",
      "Name: Bärenlochsattel, Type: pass, Height: 1740\n",
      "Name: Beim Kreuz, Type: pass, Height: 1655\n",
      "Name: Fobisalm, Type: hut, Height: 1416\n",
      "Name: Fobistörl, Type: pass, Height: 1544\n",
      "Name: Schwarzenburg, Type: location, Height: 792\n",
      "Name: Guggershörnli / Guggershorn, Type: peak, Height: 1283\n",
      "Name: Berghaus Diavolezza, Type: hut, Height: 2978\n",
      "Name: Sass Queder, Type: peak, Height: 3066\n",
      "Name: Bernina Diavolezza, Type: other, Height: 2091\n",
      "Name: Bernina Suot, Type: other, Height: 2046\n",
      "Name: Morteratsch, Type: location, Height: 1896\n",
      "Name: Pontresina, Type: location, Height: 1805\n",
      "Name: La Punt, Type: location, Height: 1687\n",
      "Name: S-chanf, Type: location, Height: 1661\n",
      "Name: Zernez, Type: location, Height: 1471\n",
      "Name: Susch, Type: location, Height: 1420\n",
      "Name: Lavin, Type: location, Height: 1412\n",
      "Name: Staziun Guarda, Type: other, Height: 1432\n",
      "Name: Giarsun, Type: location, Height: 1404\n",
      "Name: Cheselenflue, Type: wall, Height: 1672\n",
      "Name: Stöckalp, Type: location, Height: 1073\n",
      "Name: Ausserberg Station, Type: location, Height: 930\n",
      "Name: Ausserberg, Type: location, Height: 1008\n",
      "Name: Niwärch, Type: other, Height: 1280\n",
      "Name: Gorperi Anfang, Type: other, Height: 1220\n",
      "Name: Gorperi Suon, Type: other, Height: 1170\n",
      "Name: Eggerberg, Type: location, Height: 846\n",
      "Name: Karlsruhe, Tivoliplatz, Type: location, Height: 110\n",
      "Name: Sodadura, Type: peak, Height: 2010\n",
      "Name: Rifugio Cazzaniga, Type: hut, Height: 1885\n",
      "Name: Domodossola, Type: location, Height: 270\n",
      "Name: Mocogna, Type: location, Height: 330\n",
      "Name: Monteossolano, Type: location, Height: 780\n",
      "Name: Alpe Spino, Type: other, Height: 1550\n",
      "Name: Alpe Campo, Type: other, Height: 1860\n",
      "Name: Cima Lariè, Type: peak, Height: 2144\n",
      "Name: Alpe d'Andromia, Type: other, Height: 1885\n",
      "Name: Alpe Fuori, Type: other, Height: 1531\n",
      "Name: Röthelstein Südostsporn, Type: climb, Height: 1154\n",
      "Name: Pizzo Faiè, Type: peak, Height: 1352\n",
      "Name: Colma di Vercio, Type: pass, Height: 1255\n",
      "Name: Corte Buè, Type: other, Height: 888\n",
      "Name: Quattropani, Type: location, Height: 350\n",
      "Name: Terme di San Calogero, Type: other, Height: 175\n",
      "Name: Malleray, Type: location, Height: 699\n",
      "Name: Moron, Type: peak, Height: 1337\n",
      "Name: TF-21 KM 40 - Estacionamiento, Type: other, Height: 2350\n",
      "Name: Refugio de Altavista, Type: hut, Height: 3260\n",
      "Name: Pico del Teide, Type: peak, Height: 3718\n",
      "Name: Goglio, Type: location, Height: 1100\n",
      "Name: Alpe Devero, Type: location, Height: 1631\n",
      "Name: Corte d'Ardui, Type: other, Height: 1760\n",
      "Name: Lago inferiore del Sangiatto, Type: lake, Height: 1990\n",
      "Name: Alpe Sangiatto, Type: other, Height: 2010\n",
      "Name: Lago superiore del Sangiatto, Type: lake, Height: 2034\n",
      "Name: Bocchetta di Scarpia, Type: pass, Height: 2248\n",
      "Name: Alpe Pojala / Beyelenalpu, Type: other, Height: 2148\n",
      "Name: Lago di Pojala / Beyelesee, Type: lake, Height: 2305\n",
      "Name: Passo di Pojala / Passo d'Agaro / Hinnerlecka, Type: pass, Height: 2405\n",
      "Name: Bocchetta della Valle, Type: pass, Height: 2574\n",
      "Name: Lago Busin superiore, Type: lake, Height: 2438\n",
      "Name: Lago Busin inferiore, Type: lake, Height: 2398\n",
      "Name: Passo Busin, Type: pass, Height: 2493\n",
      "Name: Lago Vannino, Type: lake, Height: 2177\n",
      "Name: Rifugio Margaroli, Type: hut, Height: 2194\n",
      "Name: Passo di Nefelgiù, Type: pass, Height: 2583\n",
      "Name: Alpe Nefelgiù, Type: other, Height: 2048\n",
      "Name: Riale, Type: location, Height: 1731\n",
      "Name: Buchboden, Type: location, Height: 910\n",
      "Name: Rinderer Alpe, Type: hut, Height: 1242\n",
      "Name: Klesenza Alm, Type: hut, Height: 1589\n",
      "Name: Bettlertritt, Type: pass, Height: 2120\n",
      "Name: Bettlerspitz, Type: peak, Height: 2272\n",
      "Name: Matonaalpe, Type: hut, Height: 1673\n",
      "Name: Königssee, Type: location, Height: 610\n",
      "Name: Jenner, Type: peak, Height: 1874\n",
      "Name: Bergstation Sillerebühl, Type: other, Height: 1973\n",
      "Name: Hahnenmoospass, Type: pass, Height: 1950\n",
      "Name: Äugi, Type: peak, Height: 2551\n",
      "Name: Ammertenspitz / Ammertespitz, Type: peak, Height: 2613\n",
      "Name: Ammertenpass / Ammertepass, Type: pass, Height: 2443\n",
      "Name: Engstligenalp - Bergstation Luftseilbahn, Type: other, Height: 1965\n",
      "Name: Tenna, Type: location, Height: 1648\n",
      "Name: Tenner Chrüz, Type: peak, Height: 2017\n",
      "Name: Schlüechtli, Type: peak, Height: 2283\n",
      "Name: Nolla / Nollen, Type: peak, Height: 2383\n",
      "Name: Schneeböda, Type: other, Height: 2700\n",
      "Name: Piz Fess / Chli Fess, Type: peak, Height: 2875\n",
      "Name: Oberhorn, Type: peak, Height: 2795\n",
      "Name: Edelgrat, Type: climb, Height: 926\n",
      "Name: Selzach, Type: location, Height: 445\n",
      "Name: Col du Marchairuz, Type: pass, Height: 1447\n",
      "Name: Grand Cunay, Type: peak, Height: 1603\n",
      "Name: Mont Tendre, Type: peak, Height: 1679\n",
      "Name: Grand Cunay, Type: peak, Height: 1603\n",
      "Name: Col du Marchairuz, Type: pass, Height: 1447\n",
      "Name: Sulden / Solda, Type: location, Height: 1860\n",
      "Name: K2-Hütte - Langenstein/Seggiovia Orso, Type: location, Height: 2330\n",
      "Name: Hintergrathütte/Rifugio del Coston, Type: hut, Height: 2661\n",
      "Name: Sulden Seilbahn Mittelstation/Staz.intermedia, Type: other, Height: 2197\n",
      "Name: Punta del Coston/Hintergratkope, Type: peak, Height: 2813\n",
      "Name: Monte del Bersaglio/Scheibenkofel, Type: peak, Height: 2469\n",
      "Name: Capanna Gnifetti, Type: hut, Height: 3647\n",
      "Name: Colle del Lys / Lisjoch, Type: pass, Height: 4248\n",
      "Name: Capanna Regina Margherita, Type: hut, Height: 4554\n",
      "Name: Colle Gnifetti, Type: pass, Height: 4452\n",
      "Name: Zumsteinspitze / Punta Zumstein, Type: peak, Height: 4563\n",
      "Name: Signalkuppe / Punta Gnifetti, Type: peak, Height: 4554\n",
      "Name: Chasseral, Type: peak, Height: 1607\n",
      "Name: Weesen, Type: location, Height: 428\n",
      "Name: Stein, Type: location, Height: 837\n",
      "Name: Haltestelle Küttigen-Fischbach, Type: other, Height: 538\n",
      "Name: Wasserflue - Aussichtsplattform, Type: other, Height: 843\n",
      "Name: Bärnet, Type: peak, Height: 2385\n",
      "Name: Sant Jaggem, Type: peak, Height: 2542\n",
      "Name: Unterwasser, Type: location, Height: 906\n",
      "Name: Gräppelensee, Type: lake, Height: 1307\n",
      "Name: Parkplatz Laui, Type: other, Height: 1072\n",
      "Name: Untere Gantrischhütte, Type: hut, Height: 1512\n",
      "Name: Morgetepass, Type: pass, Height: 1959\n",
      "Name: Schibenspitz, Type: peak, Height: 2060\n",
      "Name: Gantrisch, Type: peak, Height: 2175\n",
      "Name: Leiterepass, Type: pass, Height: 1905\n",
      "Name: Wasserscheide / Wasserscheidi, Type: pass, Height: 1584\n",
      "Name: Marwees - Ostgipfel, Type: peak, Height: 1991\n",
      "Name: Wasserauen, Type: location, Height: 868\n",
      "Name: Roche des Nants, Type: wall, Height: 850\n",
      "Name: Schiberg - Nordgipfel, Type: peak, Height: 2043\n",
      "Name: Plattenberg, Type: peak, Height: 2081\n",
      "Name: Ochsenboden, Type: other, Height: 930\n",
      "Name: Sihlseeli, Type: lake, Height: 1829\n",
      "Name: Saaspass, Type: pass, Height: 1896\n",
      "Name: Mandli, Type: peak, Height: 2007\n",
      "Name: Lauiberg, Type: peak, Height: 2057\n",
      "Name: Mieserenstock, Type: peak, Height: 2199\n",
      "Name: Höch Hund, Type: peak, Height: 2215\n",
      "Name: Teuf Hund, Type: peak, Height: 2126\n",
      "Name: Chläbdächer, Type: peak, Height: 2175\n",
      "Name: Chläbdächer - Westgipfel, Type: peak, Height: 2138\n",
      "Name: Druesberg, Type: peak, Height: 2282\n",
      "Name: Forstberg, Type: peak, Height: 2215\n",
      "Name: Weglosen, Type: location, Height: 1035\n",
      "Name: Taormina, Type: location, Height: 200\n",
      "Name: Castelmola, Type: location, Height: 480\n",
      "Name: Hirnichopf, Type: peak, Height: 1024\n",
      "Name: Ämmenegg, Type: peak, Height: 1053\n",
      "Name: Übergang Ulmet-Stierenberg, Type: pass, Height: 1003\n",
      "Name: Neuhüsli, Type: location, Height: 650\n",
      "Name: Gasthof Stierenberg, Type: hut, Height: 953\n",
      "Name: Sigbachfall, Type: other, Height: 770\n",
      "Name: Bogentalweiher, Type: lake, Height: 766\n",
      "Name: Jetzmunt, Type: location, Height: 845\n",
      "Name: Valleu, Type: other, Height: 1200\n",
      "Name: Zwölferkopf, Type: peak, Height: 1843\n",
      "Name: Davenna, Type: peak, Height: 1881\n",
      "Name: Wasserauen, Type: location, Height: 868\n",
      "Name: Ebenalp, Type: peak, Height: 1640\n",
      "Name: Seealpsee, Type: lake, Height: 1141\n",
      "Name: Hochschwab, Type: peak, Height: 2277\n",
      "Name: Doldenhornhütte SAC, Type: hut, Height: 1915\n",
      "Name: Kandersteg, Type: location, Height: 1176\n",
      "Name: Gantersei, Type: other, Height: 988\n",
      "Name: Wandflue, Type: other, Height: 1440\n",
      "Name: Alp Gumm, Type: other, Height: 1407\n",
      "Name: Graswang, Type: location, Height: 867\n",
      "Name: Kieneckspitz, Type: peak, Height: 1943\n",
      "Name: Kienjoch, Type: peak, Height: 1953\n",
      "Name: Geißsprungkopf, Type: peak, Height: 1934\n",
      "Name: Abbazia San Benedetto in Val Perlana, Type: other, Height: 825\n",
      "Name: Abbazia Acquafredda, Type: other, Height: 325\n",
      "Name: Abbazia Madonna del Soccorso, Type: other, Height: 419\n",
      "Name: Lastoni di Dro, Type: wall, Height: 400\n",
      "Name: Höh Grat, Type: peak, Height: 1922\n",
      "Name: Arvidossen, Type: peak, Height: 1809\n",
      "Name: Vo' del Moncodeno, Type: other, Height: 1430\n",
      "Name: Bocchetta di Prada, Type: pass, Height: 1653\n",
      "Name: Bivacco-Cappella 89° Brigata Garibaldi, Type: hut, Height: 1603\n",
      "Name: Grigna Settentrionale, Type: peak, Height: 2410\n",
      "Name: Rifugio Brioschi, Type: hut, Height: 2410\n",
      "Name: Rifugio Bogani, Type: hut, Height: 1816\n",
      "Name: Cresta Piancaformia, Type: other, Height: 2168\n",
      "Name: Lastoni di Dro, Type: wall, Height: 400\n",
      "Name: Schilthorn, Type: peak, Height: 2969\n",
      "Name: Stechelberg, Type: location, Height: 910\n",
      "Name: Seewlifura, Type: pass, Height: 2598\n",
      "Name: Obersee, Type: lake, Height: 983\n",
      "Name: Rautispitz, Type: peak, Height: 2283\n",
      "Name: Rautihütten, Type: other, Height: 1637\n",
      "Name: Höhenberg, Type: peak, Height: 673\n",
      "Name: Frieding, Type: location, Height: 664\n",
      "Name: Andechser Kornkreis, Type: other, Height: 681\n",
      "Name: Herrsching am Ammersee, Type: location, Height: 537\n",
      "Name: Unering, Type: location, Height: 640\n",
      "Name: Hanfeld, Type: location, Height: 660\n",
      "Name: Leutstetten, Type: location, Height: 600\n",
      "Name: Fürstenried West, Type: location, Height: 580\n",
      "Name: München - Neuhausen, Type: location, Height: 520\n",
      "Name: Mittlerwengi, Type: other, Height: 1175\n",
      "Name: Ober Bogmen, Type: hut, Height: 1374\n",
      "Name: Gleiterspitz, Type: peak, Height: 1531\n",
      "Name: Chüemettler, Type: peak, Height: 1702\n",
      "Name: Grappenhorn, Type: peak, Height: 1740\n",
      "Name: Hinterwengi, Type: hut, Height: 1341\n",
      "Name: Mittlerwengi, Type: other, Height: 1175\n",
      "Name: Hirzli, Type: peak, Height: 1639\n",
      "Name: Planggenstock, Type: peak, Height: 1675\n",
      "Name: Morgenholz, Type: other, Height: 983\n",
      "Name: Niederurnen, Type: location, Height: 435\n",
      "Name: Panamakanal, Type: other, Height: 26\n",
      "Name: Refugio José Félix Ribas, Type: hut, Height: 4864\n",
      "Name: Cotopaxi, Type: peak, Height: 5897\n",
      "Name: Ponte del Passo, Type: bridge, Height: 204\n",
      "Name: Dascio, Type: location, Height: 203\n",
      "Name: Sasso di Dascio, Type: other, Height: 277\n",
      "Name: Alpe di Teolo, Type: ruin, Height: 319\n",
      "Name: Tempietto di San Fedelino, Type: other, Height: 200\n",
      "Name: Salto delle Capre, Type: other, Height: 329\n",
      "Name: Biel, Type: hut, Height: 1621\n",
      "Name: Rossstocklücke, Type: pass, Height: 2288\n",
      "Name: Monte di Comino - Al Riposo Romantico, Type: hut, Height: 1138\n",
      "Name: Monte di Comino, Type: other, Height: 1155\n",
      "Name: Monte di Comino - Alla Capanna, Type: hut, Height: 1157\n",
      "Name: Madonna della Segna, Type: other, Height: 1166\n",
      "Name: Pizzin, Type: peak, Height: 1509\n",
      "Name: Pianascio, Type: peak, Height: 1643\n",
      "Name: Rifugio Corte Nuovo, Type: hut, Height: 1635\n",
      "Name: Pescia Lunga, Type: pass, Height: 1511\n",
      "Name: Cappellone, Type: other, Height: 1879\n",
      "Name: Pizzo Ruscada, Type: peak, Height: 2004\n",
      "Name: Parete San Paolo, Type: wall, Height: 300\n",
      "Name: Spitzi Flue, Type: peak, Height: 1658\n",
      "Name: Ralligstöck, Type: peak, Height: 1254\n",
      "Name: Rälligstöck, Type: climb, Height: 1400\n",
      "Name: Bärglis Chöpf, Type: wall, Height: 1634\n",
      "Name: Sigriswiler Rothorn, Type: peak, Height: 2051\n",
      "Name: Schafloch, Type: cave, Height: 1780\n",
      "Name: Mittaghorn, Type: peak, Height: 2014\n",
      "Name: Harder Kulm, Type: peak, Height: 1322\n",
      "Name: Harder - Wannichnubel, Type: peak, Height: 1585\n",
      "Name: Interlaken Ost, Type: location, Height: 567\n",
      "Name: Niederrickenbach, Type: location, Height: 1162\n",
      "Name: Buochserhorn, Type: peak, Height: 1806\n",
      "Name: Musenalper Grat, Type: peak, Height: 1785\n",
      "Name: Bärenfallen, Type: pass, Height: 1580\n",
      "Name: Schaan, Type: location, Height: 457\n",
      "Name: Alpila, Type: hut, Height: 1421\n",
      "Name: Hörnli Westwand, Type: wall, Height: 1050\n",
      "Name: Hörnli, Type: peak, Height: 1133\n",
      "Name: Breitenweg, Type: other, Height: 901\n",
      "Name: Steg im Tösstal, Type: location, Height: 699\n",
      "Name: Volcán Deseada, Type: peak, Height: 1949\n",
      "Name: Hoyo Negro, Type: peak, Height: 1936\n",
      "Name: Refugio El Pilar, Type: hut, Height: 1440\n",
      "Name: Puerto Naos, Type: location, Height: 10\n",
      "Name: Jedey, Type: location, Height: 600\n",
      "Name: Montaña Negra, Type: peak, Height: 1784\n",
      "Name: Todoque, Type: location, Height: 300\n",
      "Name: Tomlishorn, Type: peak, Height: 2128\n",
      "Name: Weingarten (Baden), Bahnhof, Type: location, Height: 110\n",
      "Name: Katzenberg, Type: peak, Height: 249\n",
      "Name: Kirchberg, Type: peak, Height: 236\n",
      "Name: Steinkarspitze, Type: peak, Height: 2018\n",
      "Name: Steinkarspitze, Type: peak, Height: 2018\n",
      "Name: Bogartenfirst, Type: peak, Height: 1811\n",
      "Name: Marktschellenberg - Wanderparkplatz, Type: other, Height: 470\n",
      "Name: Toni-Lenz-Hütte, Type: hut, Height: 1450\n",
      "Name: Salzburger Hochthron, Type: peak, Height: 1856\n",
      "Name: Brülisau, Type: location, Height: 922\n",
      "Name: Plattenbödeli, Type: hut, Height: 1279\n",
      "Name: Bollenwees, Type: hut, Height: 1470\n",
      "Name: Hundsteinhütte SAC, Type: hut, Height: 1554\n",
      "Name: Hundstein, Type: peak, Height: 2157\n",
      "Name: Fürenwand Klettersteig, Type: via_ferrata, Height: 1800\n",
      "Name: Fürenalp, Type: other, Height: 1838\n",
      "Name: L'ancienne carrière du Coin, Type: other, Height: 710\n",
      "Name: Le Reposoir, Type: other, Height: 780\n",
      "Name: Rocher de Onze Heures, Type: other, Height: 1010\n",
      "Name: La Corraterie, Type: other, Height: 1170\n",
      "Name: Grotte d'Orjobet, Type: cave, Height: 1080\n",
      "Name: Klosters Platz, Type: location, Height: 1206\n",
      "Name: Station Madrisa, Type: other, Height: 1884\n",
      "Name: Rätschenjoch, Type: pass, Height: 2602\n",
      "Name: Zwingherrenbogen, Type: cave, Height: 704\n",
      "Name: Cappellino, Type: location, Height: 1108\n",
      "Name: Cavoo, Type: other, Height: 1240\n",
      "Name: Ligünc, Type: other, Height: 1343\n",
      "Name: Piani della Galera, Type: other, Height: 1742\n",
      "Name: Laghetto dei Saléi, Type: lake, Height: 1924\n",
      "Name: Passo del Bùsan, Type: pass, Height: 2006\n",
      "Name: Bocchetta dei Ciapitt, Type: pass, Height: 2079\n",
      "Name: Pilone / Cima Pian del Bozzo, Type: peak, Height: 2192\n",
      "Name: Alpe Pesced, Type: location, Height: 1778\n",
      "Name: Spruga, Type: location, Height: 1113\n",
      "Name: Tobel-Affeltrangen, Type: location, Height: 510\n",
      "Name: Schmidshof, Type: location, Height: 526\n",
      "Name: Bussnang, Type: location, Height: 442\n",
      "Name: Ganggelisteg, Type: bridge, Height: 432\n",
      "Name: Weinfelden, Type: location, Height: 429\n",
      "Name: Balzers, Type: location, Height: 475\n",
      "Name: Mittagsspitz, Type: peak, Height: 1858\n",
      "Name: Mittlerspitz, Type: peak, Height: 1899\n",
      "Name: Guscha, Type: hut, Height: 1115\n",
      "Name: Domhütte SAC, Type: hut, Height: 2940\n",
      "Name: La Givrine, Type: other, Height: 1208\n",
      "Name: Cabane du Carroz, Type: hut, Height: 1508\n",
      "Name: L'Arzière, Type: other, Height: 1445\n",
      "Name: Le Croue, Type: other, Height: 1469\n",
      "Name: Mont Sâla, Type: peak, Height: 1511\n",
      "Name: Le Couchant, Type: other, Height: 1449\n",
      "Name: Les Pralets, Type: other, Height: 1271\n",
      "Name: Le Vermeilley, Type: other, Height: 1326\n",
      "Name: La Givrine, Type: other, Height: 1208\n",
      "Name: Vesuvio / Vesuv, Type: peak, Height: 1281\n",
      "Name: Steg, Type: location, Height: 1301\n",
      "Name: Valüna, Type: hut, Height: 1409\n",
      "Name: Alp Gritsch, Type: hut, Height: 1900\n",
      "Name: Tälihöhi, Type: peak, Height: 2085\n",
      "Name: Silberhorn, Type: peak, Height: 2150\n",
      "Name: Nospitz, Type: peak, Height: 2091\n",
      "Name: Bärenlöcher, Type: cave, Height: 1800\n",
      "Name: Alp Pradamee, Type: hut, Height: 1710\n",
      "Name: Steg, Type: location, Height: 1301\n",
      "Name: Inverness, Type: location, Height: 6\n",
      "Name: Lochend, Type: location, Height: 160\n",
      "Name: Drumnadrochit, Type: location, Height: 30\n",
      "Name: Cannich, Type: location, Height: 160\n",
      "Name: Glen Affric, Type: other, Height: 300\n",
      "Name: Glen Affric Youth Hostel, Type: hut, Height: 130\n",
      "Name: Morvich - Parking, Type: other, Height: 8\n",
      "Name: Ratagan, Type: location, Height: 10\n",
      "Name: Glenelg, Type: location, Height: 0\n",
      "Name: Arnisdale, Type: location, Height: 0\n",
      "Name: Kinloch Hourn, Type: location, Height: 0\n",
      "Name: Barrisdale, Type: location, Height: 0\n",
      "Name: Sourlies Bothy, Type: hut, Height: 0\n",
      "Name: Glenfinnan Viaduct, Type: bridge, Height: 85\n",
      "Name: Glenfinnan / Gleann Fhionnainn, Type: location, Height: 65\n",
      "Name: Fleischbank, Type: peak, Height: 2026\n",
      "Name: Fuggerangeralm, Type: other, Height: 959\n",
      "Name: Bäderhorn / Bäderhore, Type: peak, Height: 2009\n",
      "Name: Dürriflue, Type: peak, Height: 1705\n",
      "Name: Pfadspitz, Type: peak, Height: 1897\n",
      "Name: Stromboli, Type: peak, Height: 918\n",
      "Name: Môtiers, Type: location, Height: 735\n",
      "Name: Pouetta Raisse, Type: other, Height: 1100\n",
      "Name: Creux du Van, Type: wall, Height: 1450\n",
      "Name: Le Soliat - Croix, Type: peak, Height: 1464\n",
      "Name: Fontaine Froide, Type: other, Height: 1126\n",
      "Name: Ferme Robert, Type: hut, Height: 972\n",
      "Name: Noiraigue, Type: location, Height: 733\n",
      "Name: Sonneck, Type: peak, Height: 2260\n",
      "Name: Sonnenstein, Type: peak, Height: 1714\n",
      "Name: Rhonegletscher, Type: other, Height: 2300\n",
      "Name: Fontana, Type: location, Height: 620\n",
      "Name: Larèchia, Type: other, Height: 1596\n",
      "Name: Luzzogno, Type: location, Height: 740\n",
      "Name: Monte Massone, Type: peak, Height: 2161\n",
      "Name: Tschirgant, Type: peak, Height: 2370\n",
      "Name: Lütholdsmatt, Type: hut, Height: 1146\n",
      "Name: Schybach, Type: other, Height: 1200\n",
      "Name: Schy, Type: hut, Height: 1336\n",
      "Name: Birchboden, Type: hut, Height: 1616\n",
      "Name: Stollenloch, Type: cave, Height: 1930\n",
      "Name: Widderfeld, Type: peak, Height: 2075\n",
      "Name: Tomlishorn, Type: peak, Height: 2128\n",
      "Name: Pilatus - Kulm, Type: other, Height: 2067\n",
      "Name: Matthorn, Type: peak, Height: 2040\n",
      "Name: Fräkmünt, Type: hut, Height: 1499\n",
      "Name: Lütholdsmatt, Type: hut, Height: 1146\n",
      "Name: Sella di Pioda, Type: pass, Height: 3390\n",
      "Name: Beuron, Type: location, Height: 627\n",
      "Name: Knopfmacherfels, Type: wall, Height: 765\n",
      "Name: Sperberloch, Type: cave, Height: 710\n",
      "Name: Jägerhaus, Type: hut, Height: 625\n",
      "Name: Jägerhaushöhle, Type: cave, Height: 692\n",
      "Name: Schloss Bronnen, Type: other, Height: 788\n",
      "Name: Aussichtspunkt Alpenblick, Type: other, Height: 780\n",
      "Name: Orvin, Type: location, Height: 669\n",
      "Name: Montchnô, Type: cave, Height: 858\n",
      "Name: Orvin - Jardin d'Escalade, Type: climb, Height: 1059\n",
      "Name: Andermatt, Type: location, Height: 1436\n",
      "Name: Schöllenen, Type: other, Height: 1399\n",
      "Name: Sion - Bahnhof SBB, Type: other, Height: 490\n",
      "Name: Bisse de Clavau - Fin, Type: other, Height: 630\n",
      "Name: Saint-Léonard, Type: location, Height: 505\n",
      "Name: Bisse de Clavau - Début, Type: other, Height: 680\n",
      "Name: Bisse de Sillonin, Type: wall, Height: 780\n",
      "Name: Cime de Roccassiera, Type: peak, Height: 1501\n",
      "Name: Hochiss, Type: peak, Height: 2299\n",
      "Name: Spieljoch, Type: peak, Height: 2236\n",
      "Name: Streichkopf, Type: peak, Height: 2243\n",
      "Name: Dalfazer Joch, Type: peak, Height: 2233\n",
      "Name: Dalfazer Roßkopf, Type: peak, Height: 2143\n",
      "Name: Rotspitze, Type: peak, Height: 2067\n",
      "Name: Seekarlspitze, Type: peak, Height: 2261\n"
     ]
    }
   ],
   "source": [
    "\n",
    "for i in waypoints:\n",
    "    if i is None:\n",
    "        continue\n",
    "    for waypoint in i:\n",
    "        print(f\"Name: {waypoint['name']}, Type: {waypoint['type']}, Height: {waypoint['height']}\")\n"
   ]
  },
  {
   "cell_type": "code",
   "execution_count": 20,
   "metadata": {},
   "outputs": [
    {
     "name": "stdout",
     "output_type": "stream",
     "text": [
      "<td class=\"fiche_rando\"><a class=\"standard\" href=\"https://www.hikr.org/view_post_lang.php?id=238\" target=\"help\">\n",
      "T4 - Alpinwandern\n",
      "</a>\n",
      "</td>\n"
     ]
    },
    {
     "data": {
      "text/html": [
       "<td class=\"fiche_rando\"><a class=\"standard\" href=\"https://www.hikr.org/view_post_lang.php?id=238\" target=\"help\">\n",
       "T4 - Alpinwandern\n",
       "</a>\n",
       "</td>"
      ],
      "text/plain": [
       "<IPython.core.display.HTML object>"
      ]
     },
     "metadata": {},
     "output_type": "display_data"
    }
   ],
   "source": [
    "# Wandern Schwierigkeit:_raw:\n",
    "print(posts_raw_df['Wandern Schwierigkeit:_raw'].iloc[0])\n",
    "display(HTML(posts_raw_df['Wandern Schwierigkeit:_raw'].iloc[0]))"
   ]
  },
  {
   "cell_type": "code",
   "execution_count": 21,
   "metadata": {},
   "outputs": [],
   "source": [
    "def parse_hiking_difficulty(hiking_difficulty_raw: str):\n",
    "    if hiking_difficulty_raw is None:\n",
    "        return None\n",
    "    document = Selector(text=hiking_difficulty_raw)\n",
    "    regex_pattern = r\"(T\\d[+-]?)\\s*-\\s*(.*)\" #https://regex101.com/r/otbIAQ/1\n",
    "    a_tags = document.css('a')\n",
    "    assert len(a_tags) == 1, \"Several A tags\"\n",
    "    match = re.search(regex_pattern, a_tags[0].css('::text').get().strip())\n",
    "    if match:\n",
    "        return {\n",
    "            \"difficulty\": match.group(1),\n",
    "            \"description\": match.group(2)\n",
    "        }\n",
    "    return  None\n"
   ]
  },
  {
   "cell_type": "code",
   "execution_count": 22,
   "metadata": {},
   "outputs": [
    {
     "name": "stdout",
     "output_type": "stream",
     "text": [
      "Number of unique hiking difficulties: 12\n",
      "T1\n",
      "T2\n",
      "T3\n",
      "T3+\n",
      "T4\n",
      "T4+\n",
      "T4-\n",
      "T5\n",
      "T5+\n",
      "T6\n",
      "T6+\n",
      "T6-\n"
     ]
    }
   ],
   "source": [
    "unique_hiking_difficulties = set()\n",
    "for i in range(0, posts_raw_df.shape[0]):\n",
    "    hiking_difficulty = parse_hiking_difficulty(posts_raw_df['Wandern Schwierigkeit:_raw'].iloc[i])\n",
    "    if hiking_difficulty is not None:\n",
    "        unique_hiking_difficulties.add(hiking_difficulty['difficulty'])\n",
    "\n",
    "\n",
    "print(f'Number of unique hiking difficulties: {len(unique_hiking_difficulties)}')\n",
    "for difficulty in sorted(unique_hiking_difficulties):\n",
    "    print(difficulty)"
   ]
  },
  {
   "cell_type": "code",
   "execution_count": 23,
   "metadata": {},
   "outputs": [
    {
     "name": "stdout",
     "output_type": "stream",
     "text": [
      "550 m\n",
      "2000 m\n",
      "None\n",
      "1050 m\n",
      "1100 m\n",
      "1300 m\n",
      "1385 m\n",
      "400 m\n",
      "2000 m\n",
      "580 m\n",
      "350 m\n",
      "529 m\n",
      "1098 m\n",
      "320 m\n",
      "1600 m\n",
      "1080 m\n",
      "800 m\n",
      "1800 m\n",
      "None\n",
      "1300 m\n",
      "800 m\n",
      "1200 m\n",
      "1700 m\n",
      "None\n",
      "1500 m\n",
      "None\n",
      "970 m\n",
      "1280 m\n",
      "600 m\n",
      "1100 m\n",
      "150 m\n",
      "1580 m\n",
      "None\n",
      "300 m\n",
      "None\n",
      "950 m\n",
      "450 m\n",
      "330 m\n",
      "1280 m\n",
      "800 m\n",
      "1100 m\n",
      "1250 m\n",
      "None\n",
      "610 m\n",
      "None\n",
      "1310 m\n",
      "742 m\n",
      "1300 m\n",
      "1050 m\n",
      "420 m\n",
      "600 m\n",
      "None\n",
      "200 m\n",
      "400 m\n",
      "900 m\n",
      "1600 m\n",
      "942 m\n",
      "1730 m\n",
      "744 m\n",
      "2100 m\n",
      "770 m\n",
      "1400 m\n",
      "420 m\n",
      "150 m\n",
      "None\n",
      "1800 m\n",
      "400 m\n",
      "776 m\n",
      "None\n",
      "70 m\n",
      "1100 m\n",
      "None\n",
      "780 m\n",
      "760 m\n",
      "None\n",
      "None\n",
      "60 m\n",
      "1200 m\n",
      "None\n",
      "None\n",
      "1150 m\n",
      "None\n",
      "1500 m\n",
      "1150 m\n",
      "590 m\n",
      "1600 m\n",
      "2305 m\n",
      "1100 m\n",
      "630 m\n",
      "640 m\n",
      "2900 m\n",
      "1500 m\n",
      "None\n",
      "1070 m\n",
      "1450 m\n",
      "335 m\n",
      "1200 m\n",
      "None\n",
      "1150 m\n",
      "400 m\n",
      "1250 m\n",
      "2720 m\n",
      "1602 m\n",
      "500 m\n",
      "1230 m\n",
      "None\n",
      "720 m\n",
      "5 m\n",
      "1200 m\n",
      "600 m\n",
      "2000 m\n",
      "None\n",
      "450 m\n",
      "400 m\n",
      "600 m\n",
      "1370 m\n",
      "2150 m\n",
      "1660 m\n",
      "70 m\n",
      "1200 m\n",
      "1500 m\n",
      "None\n",
      "None\n",
      "330 m\n",
      "1100 m\n",
      "1000 m\n",
      "589 m\n",
      "310 m\n",
      "650 m\n",
      "None\n",
      "750 m\n",
      "180 m\n",
      "None\n",
      "1300 m\n",
      "None\n",
      "400 m\n",
      "770 m\n",
      "1093 m\n",
      "None\n",
      "None\n",
      "820 m\n",
      "500 m\n",
      "1230 m\n",
      "640 m\n",
      "None\n",
      "1500 m\n",
      "1100 m\n",
      "None\n",
      "2060 m\n",
      "1300 m\n",
      "200 m\n",
      "550 m\n",
      "700 m\n",
      "None\n",
      "None\n",
      "750 m\n",
      "700 m\n",
      "1150 m\n",
      "None\n",
      "None\n",
      "1000 m\n",
      "None\n",
      "900 m\n",
      "450 m\n",
      "2000 m\n",
      "1200 m\n",
      "250 m\n",
      "1100 m\n",
      "1060 m\n",
      "1430 m\n",
      "1370 m\n",
      "750 m\n",
      "700 m\n",
      "715 m\n",
      "360 m\n",
      "1077 m\n",
      "100 m\n",
      "1500 m\n",
      "1500 m\n",
      "400 m\n",
      "300 m\n",
      "900 m\n",
      "None\n",
      "1050 m\n",
      "1400 m\n",
      "900 m\n",
      "725 m\n",
      "1400 m\n",
      "None\n",
      "1060 m\n",
      "1471 m\n",
      "1350 m\n",
      "1500 m\n",
      "1400 m\n",
      "650 m\n",
      "None\n",
      "None\n",
      "450 m\n",
      "900 m\n",
      "680 m\n"
     ]
    }
   ],
   "source": [
    "# Aufstieg\n",
    "for i in range(0, posts_raw_df.shape[0]):\n",
    "    print(posts_raw_df['Aufstieg:_raw'].iloc[i])\n",
    "\n",
    "def parse_ascent(ascent_raw: str) -> int:\n",
    "    if ascent_raw is None:\n",
    "        return None\n",
    "    return int(ascent_raw.split(' ')[0].strip())"
   ]
  },
  {
   "cell_type": "code",
   "execution_count": 24,
   "metadata": {},
   "outputs": [
    {
     "name": "stdout",
     "output_type": "stream",
     "text": [
      "550\n",
      "2000\n",
      "None\n",
      "1050\n",
      "1100\n",
      "1300\n",
      "1385\n",
      "400\n",
      "2000\n",
      "580\n",
      "350\n",
      "529\n",
      "1098\n",
      "320\n",
      "1600\n",
      "1080\n",
      "800\n",
      "1800\n",
      "None\n",
      "1300\n",
      "800\n",
      "1200\n",
      "1700\n",
      "None\n",
      "1500\n",
      "None\n",
      "970\n",
      "1280\n",
      "600\n",
      "1100\n",
      "150\n",
      "1580\n",
      "None\n",
      "300\n",
      "None\n",
      "950\n",
      "450\n",
      "330\n",
      "1280\n",
      "800\n",
      "1100\n",
      "1250\n",
      "None\n",
      "610\n",
      "None\n",
      "1310\n",
      "742\n",
      "1300\n",
      "1050\n",
      "420\n",
      "600\n",
      "None\n",
      "200\n",
      "400\n",
      "900\n",
      "1600\n",
      "942\n",
      "1730\n",
      "744\n",
      "2100\n",
      "770\n",
      "1400\n",
      "420\n",
      "150\n",
      "None\n",
      "1800\n",
      "400\n",
      "776\n",
      "None\n",
      "70\n",
      "1100\n",
      "None\n",
      "780\n",
      "760\n",
      "None\n",
      "None\n",
      "60\n",
      "1200\n",
      "None\n",
      "None\n",
      "1150\n",
      "None\n",
      "1500\n",
      "1150\n",
      "590\n",
      "1600\n",
      "2305\n",
      "1100\n",
      "630\n",
      "640\n",
      "2900\n",
      "1500\n",
      "None\n",
      "1070\n",
      "1450\n",
      "335\n",
      "1200\n",
      "None\n",
      "1150\n",
      "400\n",
      "1250\n",
      "2720\n",
      "1602\n",
      "500\n",
      "1230\n",
      "None\n",
      "720\n",
      "5\n",
      "1200\n",
      "600\n",
      "2000\n",
      "None\n",
      "450\n",
      "400\n",
      "600\n",
      "1370\n",
      "2150\n",
      "1660\n",
      "70\n",
      "1200\n",
      "1500\n",
      "None\n",
      "None\n",
      "330\n",
      "1100\n",
      "1000\n",
      "589\n",
      "310\n",
      "650\n",
      "None\n",
      "750\n",
      "180\n",
      "None\n",
      "1300\n",
      "None\n",
      "400\n",
      "770\n",
      "1093\n",
      "None\n",
      "None\n",
      "820\n",
      "500\n",
      "1230\n",
      "640\n",
      "None\n",
      "1500\n",
      "1100\n",
      "None\n",
      "2060\n",
      "1300\n",
      "200\n",
      "550\n",
      "700\n",
      "None\n",
      "None\n",
      "750\n",
      "700\n",
      "1150\n",
      "None\n",
      "None\n",
      "1000\n",
      "None\n",
      "900\n",
      "450\n",
      "2000\n",
      "1200\n",
      "250\n",
      "1100\n",
      "1060\n",
      "1430\n",
      "1370\n",
      "750\n",
      "700\n",
      "715\n",
      "360\n",
      "1077\n",
      "100\n",
      "1500\n",
      "1500\n",
      "400\n",
      "300\n",
      "900\n",
      "None\n",
      "1050\n",
      "1400\n",
      "900\n",
      "725\n",
      "1400\n",
      "None\n",
      "1060\n",
      "1471\n",
      "1350\n",
      "1500\n",
      "1400\n",
      "650\n",
      "None\n",
      "None\n",
      "450\n",
      "900\n",
      "680\n"
     ]
    }
   ],
   "source": [
    "for i in range(0, posts_raw_df.shape[0]):\n",
    "    ascent = parse_ascent(posts_raw_df['Aufstieg:_raw'].iloc[i])\n",
    "    print(ascent)"
   ]
  },
  {
   "cell_type": "code",
   "execution_count": 25,
   "metadata": {},
   "outputs": [
    {
     "name": "stdout",
     "output_type": "stream",
     "text": [
      "1 Tage 4:30\n",
      "7:00\n",
      "3:00\n",
      "2 Tage 7:00\n",
      "1 Tage 5:00\n",
      "None\n",
      "3:00\n",
      "2:30\n",
      "None\n",
      "4:30\n",
      "6:00\n",
      "4:00\n",
      "None\n",
      "None\n",
      "2 Tage\n",
      "4:15\n",
      "4:30\n",
      "9:00\n",
      "None\n",
      "None\n",
      "4:00\n",
      "None\n",
      "8:00\n",
      "None\n",
      "6:00\n",
      "None\n",
      "5:00\n",
      "4:00\n",
      "4:30\n",
      "7:00\n",
      "1:30\n",
      "3:15\n",
      "5:00\n",
      "3:30\n",
      "None\n",
      "None\n",
      "5 Tage\n",
      "2:30\n",
      "5:30\n",
      "4:30\n",
      "3:30\n",
      "1 Tage 6:00\n",
      "None\n",
      "4:00\n",
      "5:00\n",
      "None\n",
      "5:00\n",
      "5:30\n",
      "5:30\n",
      "1:45\n",
      "4:30\n",
      "None\n",
      "2:00\n",
      "3:00\n",
      "5:00\n",
      "None\n",
      "4:30\n",
      "1 Tage\n",
      "2:30\n",
      "None\n",
      "3:30\n",
      "7:00\n",
      "4:00\n",
      "1:30\n",
      "None\n",
      "None\n",
      "3:30\n",
      "7:45\n",
      "None\n",
      "0:45\n",
      "7:30\n",
      "4:30\n",
      "1 Tage 4:00\n",
      "None\n",
      "5:00\n",
      "None\n",
      "None\n",
      "5:00\n",
      "7:00\n",
      "7:00\n",
      "6:00\n",
      "None\n",
      "9:00\n",
      "None\n",
      "1 Tage 6:00\n",
      "8:30\n",
      "16:30\n",
      "5:15\n",
      "1 Tage\n",
      "3:30\n",
      "14:00\n",
      "None\n",
      "3:15\n",
      "8:45\n",
      "5:30\n",
      "6:45\n",
      "5:00\n",
      "4:00\n",
      "3:45\n",
      "2:00\n",
      "5:00\n",
      "10:00\n",
      "10:00\n",
      "2:00\n",
      "4 Tage\n",
      "None\n",
      "5:00\n",
      "2:15\n",
      "4:00\n",
      "1:30\n",
      "6:00\n",
      "3:00\n",
      "None\n",
      "3:30\n",
      "3:00\n",
      "2 Tage\n",
      "7:00\n",
      "7:00\n",
      "0:30\n",
      "2 Tage\n",
      "None\n",
      "2:00\n",
      "5:00\n",
      "4:00\n",
      "6:30\n",
      "6:00\n",
      "3:00\n",
      "1:00\n",
      "1 Tage 4:00\n",
      "8:00\n",
      "4:30\n",
      "5:30\n",
      "None\n",
      "4:30\n",
      "None\n",
      "2:30\n",
      "None\n",
      "1 Tage\n",
      "3:00\n",
      "13:00\n",
      "5:00\n",
      "3:00\n",
      "5:30\n",
      "3:15\n",
      "None\n",
      "6:45\n",
      "5:30\n",
      "None\n",
      "4:30\n",
      "7:00\n",
      "7:30\n",
      "3:00\n",
      "2:00\n",
      "None\n",
      "None\n",
      "5:45\n",
      "None\n",
      "6:30\n",
      "None\n",
      "None\n",
      "2:30\n",
      "1 Tage\n",
      "3:30\n",
      "2:15\n",
      "7:00\n",
      "None\n",
      "2:45\n",
      "7:00\n",
      "3:15\n",
      "4:00\n",
      "5:30\n",
      "3:00\n",
      "3:30\n",
      "5:00\n",
      "4:00\n",
      "4:30\n",
      "2:00\n",
      "6:45\n",
      "5:00\n",
      "4:00\n",
      "2:30\n",
      "5:00\n",
      "8 Tage\n",
      "3:30\n",
      "4:00\n",
      "4:30\n",
      "7:00\n",
      "6:30\n",
      "None\n",
      "4:15\n",
      "9:00\n",
      "None\n",
      "6:00\n",
      "5:00\n",
      "None\n",
      "6:00\n",
      "1:15\n",
      "5:00\n",
      "6:00\n",
      "5:00\n"
     ]
    }
   ],
   "source": [
    "# Zeitbedarf\n",
    "for i in range(0, posts_raw_df.shape[0]):\n",
    "    print(posts_raw_df['Zeitbedarf:_raw'].iloc[i])"
   ]
  },
  {
   "cell_type": "code",
   "execution_count": 26,
   "metadata": {},
   "outputs": [],
   "source": [
    "def parse_duration(duration_raw: str):\n",
    "    if duration_raw is None:\n",
    "        return None\n",
    "    regex_pattern = re.compile(r\"(\\d+)?\\s?(?:Tage|days)?\\s?(\\d{1,2}(?::\\d{2}))?\")  #https://regex101.com/r/rVlCVe/1\n",
    "    match = re.search(regex_pattern, duration_raw)\n",
    "    if match:\n",
    "        days = int(match.group(1)) if match.group(1) else 0\n",
    "        hours_minutes = match.group(2) if match.group(2) else \"0:00\"\n",
    "        hours, minutes = map(int, hours_minutes.split(\":\"))\n",
    "        \n",
    "        return timedelta(days=days, hours=hours, minutes=minutes)\n",
    "        \n",
    "    return None"
   ]
  },
  {
   "cell_type": "code",
   "execution_count": 27,
   "metadata": {},
   "outputs": [
    {
     "name": "stdout",
     "output_type": "stream",
     "text": [
      "1 day, 4:30:00\n",
      "7 days, 0:00:00\n",
      "3 days, 0:00:00\n",
      "2 days, 7:00:00\n",
      "1 day, 5:00:00\n",
      "None\n",
      "3 days, 0:00:00\n",
      "2 days, 0:00:00\n",
      "None\n",
      "4 days, 0:00:00\n",
      "6 days, 0:00:00\n",
      "4 days, 0:00:00\n",
      "None\n",
      "None\n",
      "2 days, 0:00:00\n",
      "4 days, 0:00:00\n",
      "4 days, 0:00:00\n",
      "9 days, 0:00:00\n",
      "None\n",
      "None\n",
      "4 days, 0:00:00\n",
      "None\n",
      "8 days, 0:00:00\n",
      "None\n",
      "6 days, 0:00:00\n",
      "None\n",
      "5 days, 0:00:00\n",
      "4 days, 0:00:00\n",
      "4 days, 0:00:00\n",
      "7 days, 0:00:00\n",
      "1 day, 0:00:00\n",
      "3 days, 0:00:00\n",
      "5 days, 0:00:00\n",
      "3 days, 0:00:00\n",
      "None\n",
      "None\n",
      "5 days, 0:00:00\n",
      "2 days, 0:00:00\n",
      "5 days, 0:00:00\n",
      "4 days, 0:00:00\n",
      "3 days, 0:00:00\n",
      "1 day, 6:00:00\n",
      "None\n",
      "4 days, 0:00:00\n",
      "5 days, 0:00:00\n",
      "None\n",
      "5 days, 0:00:00\n",
      "5 days, 0:00:00\n",
      "5 days, 0:00:00\n",
      "1 day, 0:00:00\n",
      "4 days, 0:00:00\n",
      "None\n",
      "2 days, 0:00:00\n",
      "3 days, 0:00:00\n",
      "5 days, 0:00:00\n",
      "None\n",
      "4 days, 0:00:00\n",
      "1 day, 0:00:00\n",
      "2 days, 0:00:00\n",
      "None\n",
      "3 days, 0:00:00\n",
      "7 days, 0:00:00\n",
      "4 days, 0:00:00\n",
      "1 day, 0:00:00\n",
      "None\n",
      "None\n",
      "3 days, 0:00:00\n",
      "7 days, 0:00:00\n",
      "None\n",
      "0:00:00\n",
      "7 days, 0:00:00\n",
      "4 days, 0:00:00\n",
      "1 day, 4:00:00\n",
      "None\n",
      "5 days, 0:00:00\n",
      "None\n",
      "None\n",
      "5 days, 0:00:00\n",
      "7 days, 0:00:00\n",
      "7 days, 0:00:00\n",
      "6 days, 0:00:00\n",
      "None\n",
      "9 days, 0:00:00\n",
      "None\n",
      "1 day, 6:00:00\n",
      "8 days, 0:00:00\n",
      "16 days, 0:00:00\n",
      "5 days, 0:00:00\n",
      "1 day, 0:00:00\n",
      "3 days, 0:00:00\n",
      "14 days, 0:00:00\n",
      "None\n",
      "3 days, 0:00:00\n",
      "8 days, 0:00:00\n",
      "5 days, 0:00:00\n",
      "6 days, 0:00:00\n",
      "5 days, 0:00:00\n",
      "4 days, 0:00:00\n",
      "3 days, 0:00:00\n",
      "2 days, 0:00:00\n",
      "5 days, 0:00:00\n",
      "10 days, 0:00:00\n",
      "10 days, 0:00:00\n",
      "2 days, 0:00:00\n",
      "4 days, 0:00:00\n",
      "None\n",
      "5 days, 0:00:00\n",
      "2 days, 0:00:00\n",
      "4 days, 0:00:00\n",
      "1 day, 0:00:00\n",
      "6 days, 0:00:00\n",
      "3 days, 0:00:00\n",
      "None\n",
      "3 days, 0:00:00\n",
      "3 days, 0:00:00\n",
      "2 days, 0:00:00\n",
      "7 days, 0:00:00\n",
      "7 days, 0:00:00\n",
      "0:00:00\n",
      "2 days, 0:00:00\n",
      "None\n",
      "2 days, 0:00:00\n",
      "5 days, 0:00:00\n",
      "4 days, 0:00:00\n",
      "6 days, 0:00:00\n",
      "6 days, 0:00:00\n",
      "3 days, 0:00:00\n",
      "1 day, 0:00:00\n",
      "1 day, 4:00:00\n",
      "8 days, 0:00:00\n",
      "4 days, 0:00:00\n",
      "5 days, 0:00:00\n",
      "None\n",
      "4 days, 0:00:00\n",
      "None\n",
      "2 days, 0:00:00\n",
      "None\n",
      "1 day, 0:00:00\n",
      "3 days, 0:00:00\n",
      "13 days, 0:00:00\n",
      "5 days, 0:00:00\n",
      "3 days, 0:00:00\n",
      "5 days, 0:00:00\n",
      "3 days, 0:00:00\n",
      "None\n",
      "6 days, 0:00:00\n",
      "5 days, 0:00:00\n",
      "None\n",
      "4 days, 0:00:00\n",
      "7 days, 0:00:00\n",
      "7 days, 0:00:00\n",
      "3 days, 0:00:00\n",
      "2 days, 0:00:00\n",
      "None\n",
      "None\n",
      "5 days, 0:00:00\n",
      "None\n",
      "6 days, 0:00:00\n",
      "None\n",
      "None\n",
      "2 days, 0:00:00\n",
      "1 day, 0:00:00\n",
      "3 days, 0:00:00\n",
      "2 days, 0:00:00\n",
      "7 days, 0:00:00\n",
      "None\n",
      "2 days, 0:00:00\n",
      "7 days, 0:00:00\n",
      "3 days, 0:00:00\n",
      "4 days, 0:00:00\n",
      "5 days, 0:00:00\n",
      "3 days, 0:00:00\n",
      "3 days, 0:00:00\n",
      "5 days, 0:00:00\n",
      "4 days, 0:00:00\n",
      "4 days, 0:00:00\n",
      "2 days, 0:00:00\n",
      "6 days, 0:00:00\n",
      "5 days, 0:00:00\n",
      "4 days, 0:00:00\n",
      "2 days, 0:00:00\n",
      "5 days, 0:00:00\n",
      "8 days, 0:00:00\n",
      "3 days, 0:00:00\n",
      "4 days, 0:00:00\n",
      "4 days, 0:00:00\n",
      "7 days, 0:00:00\n",
      "6 days, 0:00:00\n",
      "None\n",
      "4 days, 0:00:00\n",
      "9 days, 0:00:00\n",
      "None\n",
      "6 days, 0:00:00\n",
      "5 days, 0:00:00\n",
      "None\n",
      "6 days, 0:00:00\n",
      "1 day, 0:00:00\n",
      "5 days, 0:00:00\n",
      "6 days, 0:00:00\n",
      "5 days, 0:00:00\n"
     ]
    }
   ],
   "source": [
    "for i in range(0, posts_raw_df.shape[0]):\n",
    "    duration = parse_duration(posts_raw_df['Zeitbedarf:_raw'].iloc[i])\n",
    "    print(duration)"
   ]
  },
  {
   "cell_type": "code",
   "execution_count": 28,
   "metadata": {},
   "outputs": [
    {
     "name": "stdout",
     "output_type": "stream",
     "text": [
      "1300 m\n",
      "1500 m\n",
      "None\n",
      "1050 m\n",
      "1100 m\n",
      "570 m\n",
      "1385 m\n",
      "400 m\n",
      "2000 m\n",
      "580 m\n",
      "750 m\n",
      "None\n",
      "1098 m\n",
      "270 m\n",
      "1900 m\n",
      "1080 m\n",
      "800 m\n",
      "1800 m\n",
      "None\n",
      "1300 m\n",
      "250 m\n",
      "None\n",
      "1700 m\n",
      "None\n",
      "1500 m\n",
      "None\n",
      "970 m\n",
      "350 m\n",
      "600 m\n",
      "1100 m\n",
      "150 m\n",
      "245 m\n",
      "None\n",
      "800 m\n",
      "None\n",
      "950 m\n",
      "None\n",
      "330 m\n",
      "1280 m\n",
      "800 m\n",
      "1100 m\n",
      "550 m\n",
      "None\n",
      "570 m\n",
      "None\n",
      "1310 m\n",
      "742 m\n",
      "1300 m\n",
      "1050 m\n",
      "420 m\n",
      "600 m\n",
      "None\n",
      "200 m\n",
      "400 m\n",
      "900 m\n",
      "1600 m\n",
      "942 m\n",
      "1730 m\n",
      "744 m\n",
      "2100 m\n",
      "770 m\n",
      "1400 m\n",
      "420 m\n",
      "150 m\n",
      "None\n",
      "1800 m\n",
      "400 m\n",
      "None\n",
      "None\n",
      "70 m\n",
      "1100 m\n",
      "None\n",
      "780 m\n",
      "760 m\n",
      "None\n",
      "None\n",
      "60 m\n",
      "1200 m\n",
      "None\n",
      "None\n",
      "1150 m\n",
      "None\n",
      "1100 m\n",
      "1150 m\n",
      "590 m\n",
      "1600 m\n",
      "2305 m\n",
      "1100 m\n",
      "1630 m\n",
      "640 m\n",
      "None\n",
      "1500 m\n",
      "None\n",
      "1070 m\n",
      "1450 m\n",
      "1270 m\n",
      "1200 m\n",
      "None\n",
      "1150 m\n",
      "400 m\n",
      "1250 m\n",
      "2620 m\n",
      "1553 m\n",
      "200 m\n",
      "500 m\n",
      "None\n",
      "800 m\n",
      "5 m\n",
      "1200 m\n",
      "600 m\n",
      "2000 m\n",
      "None\n",
      "450 m\n",
      "400 m\n",
      "600 m\n",
      "None\n",
      "2150 m\n",
      "None\n",
      "None\n",
      "1200 m\n",
      "None\n",
      "None\n",
      "None\n",
      "750 m\n",
      "200 m\n",
      "1300 m\n",
      "659 m\n",
      "310 m\n",
      "650 m\n",
      "None\n",
      "750 m\n",
      "180 m\n",
      "None\n",
      "1300 m\n",
      "None\n",
      "100 m\n",
      "770 m\n",
      "1100 m\n",
      "None\n",
      "None\n",
      "820 m\n",
      "500 m\n",
      "1230 m\n",
      "640 m\n",
      "None\n",
      "1500 m\n",
      "1100 m\n",
      "None\n",
      "None\n",
      "1300 m\n",
      "170 m\n",
      "550 m\n",
      "700 m\n",
      "None\n",
      "None\n",
      "750 m\n",
      "700 m\n",
      "1150 m\n",
      "None\n",
      "None\n",
      "250 m\n",
      "None\n",
      "900 m\n",
      "450 m\n",
      "600 m\n",
      "1200 m\n",
      "250 m\n",
      "1100 m\n",
      "None\n",
      "None\n",
      "1370 m\n",
      "None\n",
      "700 m\n",
      "715 m\n",
      "360 m\n",
      "1077 m\n",
      "127 m\n",
      "1500 m\n",
      "None\n",
      "400 m\n",
      "300 m\n",
      "900 m\n",
      "None\n",
      "1050 m\n",
      "700 m\n",
      "900 m\n",
      "740 m\n",
      "1400 m\n",
      "None\n",
      "1060 m\n",
      "1471 m\n",
      "1350 m\n",
      "1500 m\n",
      "1400 m\n",
      "650 m\n",
      "None\n",
      "None\n",
      "430 m\n",
      "900 m\n",
      "680 m\n"
     ]
    }
   ],
   "source": [
    "# Abstieg\n",
    "for i in range(0, posts_raw_df.shape[0]):\n",
    "    print(posts_raw_df['Abstieg:_raw'].iloc[i])\n",
    "\n"
   ]
  },
  {
   "cell_type": "code",
   "execution_count": 29,
   "metadata": {},
   "outputs": [
    {
     "name": "stdout",
     "output_type": "stream",
     "text": [
      "1300\n",
      "1500\n",
      "None\n",
      "1050\n",
      "1100\n",
      "570\n",
      "1385\n",
      "400\n",
      "2000\n",
      "580\n",
      "750\n",
      "None\n",
      "1098\n",
      "270\n",
      "1900\n",
      "1080\n",
      "800\n",
      "1800\n",
      "None\n",
      "1300\n",
      "250\n",
      "None\n",
      "1700\n",
      "None\n",
      "1500\n",
      "None\n",
      "970\n",
      "350\n",
      "600\n",
      "1100\n",
      "150\n",
      "245\n",
      "None\n",
      "800\n",
      "None\n",
      "950\n",
      "None\n",
      "330\n",
      "1280\n",
      "800\n",
      "1100\n",
      "550\n",
      "None\n",
      "570\n",
      "None\n",
      "1310\n",
      "742\n",
      "1300\n",
      "1050\n",
      "420\n",
      "600\n",
      "None\n",
      "200\n",
      "400\n",
      "900\n",
      "1600\n",
      "942\n",
      "1730\n",
      "744\n",
      "2100\n",
      "770\n",
      "1400\n",
      "420\n",
      "150\n",
      "None\n",
      "1800\n",
      "400\n",
      "None\n",
      "None\n",
      "70\n",
      "1100\n",
      "None\n",
      "780\n",
      "760\n",
      "None\n",
      "None\n",
      "60\n",
      "1200\n",
      "None\n",
      "None\n",
      "1150\n",
      "None\n",
      "1100\n",
      "1150\n",
      "590\n",
      "1600\n",
      "2305\n",
      "1100\n",
      "1630\n",
      "640\n",
      "None\n",
      "1500\n",
      "None\n",
      "1070\n",
      "1450\n",
      "1270\n",
      "1200\n",
      "None\n",
      "1150\n",
      "400\n",
      "1250\n",
      "2620\n",
      "1553\n",
      "200\n",
      "500\n",
      "None\n",
      "800\n",
      "5\n",
      "1200\n",
      "600\n",
      "2000\n",
      "None\n",
      "450\n",
      "400\n",
      "600\n",
      "None\n",
      "2150\n",
      "None\n",
      "None\n",
      "1200\n",
      "None\n",
      "None\n",
      "None\n",
      "750\n",
      "200\n",
      "1300\n",
      "659\n",
      "310\n",
      "650\n",
      "None\n",
      "750\n",
      "180\n",
      "None\n",
      "1300\n",
      "None\n",
      "100\n",
      "770\n",
      "1100\n",
      "None\n",
      "None\n",
      "820\n",
      "500\n",
      "1230\n",
      "640\n",
      "None\n",
      "1500\n",
      "1100\n",
      "None\n",
      "None\n",
      "1300\n",
      "170\n",
      "550\n",
      "700\n",
      "None\n",
      "None\n",
      "750\n",
      "700\n",
      "1150\n",
      "None\n",
      "None\n",
      "250\n",
      "None\n",
      "900\n",
      "450\n",
      "600\n",
      "1200\n",
      "250\n",
      "1100\n",
      "None\n",
      "None\n",
      "1370\n",
      "None\n",
      "700\n",
      "715\n",
      "360\n",
      "1077\n",
      "127\n",
      "1500\n",
      "None\n",
      "400\n",
      "300\n",
      "900\n",
      "None\n",
      "1050\n",
      "700\n",
      "900\n",
      "740\n",
      "1400\n",
      "None\n",
      "1060\n",
      "1471\n",
      "1350\n",
      "1500\n",
      "1400\n",
      "650\n",
      "None\n",
      "None\n",
      "430\n",
      "900\n",
      "680\n"
     ]
    }
   ],
   "source": [
    "def parse_descent(descent_raw: str) -> int:\n",
    "    if descent_raw is None:\n",
    "        return None\n",
    "    return int(descent_raw.split(' ')[0].strip())\n",
    "\n",
    "\n",
    "for i in range(0, posts_raw_df.shape[0]):\n",
    "    descent = parse_descent(posts_raw_df['Abstieg:_raw'].iloc[i])\n",
    "    print(descent)"
   ]
  },
  {
   "cell_type": "code",
   "execution_count": 30,
   "metadata": {},
   "outputs": [
    {
     "name": "stdout",
     "output_type": "stream",
     "text": [
      "<td class=\"fiche_rando\"><img src=\"https://s.hikr.org/r4icons/cff.gif\" style=\"border:0;vertical-align:middle;\" alt=\"cff logo\"> <a rel=\"nofollow\" href=\"http://www.cff.ch/\" onclick=\"r4showOVForm('Wasserauen');return false;\">Wasserauen</a><br></td>\n"
     ]
    }
   ],
   "source": [
    "# Zufahrt zum Ausgangspunkt:_raw:\n",
    "\n",
    "print(posts_raw_df['Zufahrt zum Ausgangspunkt:_raw'].iloc[1])\n",
    "\n",
    "\n",
    "## Currenty not parsin because it is a unstructed freetext field"
   ]
  },
  {
   "cell_type": "code",
   "execution_count": 31,
   "metadata": {},
   "outputs": [
    {
     "name": "stdout",
     "output_type": "stream",
     "text": [
      "Dirinella (210)- Scaiano- Monti di Caviano (695)- Alpetto di Caviano (1255)- Sasso Torricello (1424)- Covreto (1595) - ritorno dallo stesso sentiero\n"
     ]
    }
   ],
   "source": [
    "# Zufahrt zum Strecke:_raw:\n",
    "\n",
    "print(posts_raw_df['Strecke:_raw'].iloc[6])"
   ]
  },
  {
   "cell_type": "code",
   "execution_count": 32,
   "metadata": {},
   "outputs": [
    {
     "name": "stdout",
     "output_type": "stream",
     "text": [
      "LK 1115 Säntis (1:25.000)\n"
     ]
    }
   ],
   "source": [
    "# Kartennummer:_raw\n",
    "print(posts_raw_df['Kartennummer:_raw'].iloc[1])\n",
    "# I don't see any value in parsing this field"
   ]
  },
  {
   "cell_type": "code",
   "execution_count": 33,
   "metadata": {},
   "outputs": [
    {
     "name": "stdout",
     "output_type": "stream",
     "text": [
      "<td class=\"fiche_rando\"><a class=\"standard\" href=\"https://www.hikr.org/view_post_lang.php?id=240\" target=\"help\">\n",
      "II<span style=\"color:#888;text-decoration:none;background:#fff;\"> (UIAA-Skala)</span></a>\n",
      "</td>\n"
     ]
    },
    {
     "data": {
      "text/html": [
       "<td class=\"fiche_rando\"><a class=\"standard\" href=\"https://www.hikr.org/view_post_lang.php?id=240\" target=\"help\">\n",
       "II<span style=\"color:#888;text-decoration:none;background:#fff;\"> (UIAA-Skala)</span></a>\n",
       "</td>"
      ],
      "text/plain": [
       "<IPython.core.display.HTML object>"
      ]
     },
     "metadata": {},
     "output_type": "display_data"
    },
    {
     "name": "stdout",
     "output_type": "stream",
     "text": [
      "<td class=\"fiche_rando\"><a class=\"standard\" href=\"https://www.hikr.org/view_post_lang.php?id=240\" target=\"help\">\n",
      "II<span style=\"color:#888;text-decoration:none;background:#fff;\"> (UIAA-Skala)</span></a>\n",
      "</td>\n"
     ]
    },
    {
     "data": {
      "text/html": [
       "<td class=\"fiche_rando\"><a class=\"standard\" href=\"https://www.hikr.org/view_post_lang.php?id=240\" target=\"help\">\n",
       "II<span style=\"color:#888;text-decoration:none;background:#fff;\"> (UIAA-Skala)</span></a>\n",
       "</td>"
      ],
      "text/plain": [
       "<IPython.core.display.HTML object>"
      ]
     },
     "metadata": {},
     "output_type": "display_data"
    },
    {
     "name": "stdout",
     "output_type": "stream",
     "text": [
      "<td class=\"fiche_rando\"><a class=\"standard\" href=\"https://www.hikr.org/view_post_lang.php?id=240\" target=\"help\">\n",
      "II<span style=\"color:#888;text-decoration:none;background:#fff;\"> (UIAA-Skala)</span></a>\n",
      "</td>\n"
     ]
    },
    {
     "data": {
      "text/html": [
       "<td class=\"fiche_rando\"><a class=\"standard\" href=\"https://www.hikr.org/view_post_lang.php?id=240\" target=\"help\">\n",
       "II<span style=\"color:#888;text-decoration:none;background:#fff;\"> (UIAA-Skala)</span></a>\n",
       "</td>"
      ],
      "text/plain": [
       "<IPython.core.display.HTML object>"
      ]
     },
     "metadata": {},
     "output_type": "display_data"
    },
    {
     "name": "stdout",
     "output_type": "stream",
     "text": [
      "None\n"
     ]
    },
    {
     "data": {
      "text/plain": [
       "<IPython.core.display.HTML object>"
      ]
     },
     "metadata": {},
     "output_type": "display_data"
    },
    {
     "name": "stdout",
     "output_type": "stream",
     "text": [
      "None\n"
     ]
    },
    {
     "data": {
      "text/plain": [
       "<IPython.core.display.HTML object>"
      ]
     },
     "metadata": {},
     "output_type": "display_data"
    },
    {
     "name": "stdout",
     "output_type": "stream",
     "text": [
      "None\n"
     ]
    },
    {
     "data": {
      "text/plain": [
       "<IPython.core.display.HTML object>"
      ]
     },
     "metadata": {},
     "output_type": "display_data"
    },
    {
     "name": "stdout",
     "output_type": "stream",
     "text": [
      "None\n"
     ]
    },
    {
     "data": {
      "text/plain": [
       "<IPython.core.display.HTML object>"
      ]
     },
     "metadata": {},
     "output_type": "display_data"
    },
    {
     "name": "stdout",
     "output_type": "stream",
     "text": [
      "None\n"
     ]
    },
    {
     "data": {
      "text/plain": [
       "<IPython.core.display.HTML object>"
      ]
     },
     "metadata": {},
     "output_type": "display_data"
    },
    {
     "name": "stdout",
     "output_type": "stream",
     "text": [
      "None\n"
     ]
    },
    {
     "data": {
      "text/plain": [
       "<IPython.core.display.HTML object>"
      ]
     },
     "metadata": {},
     "output_type": "display_data"
    },
    {
     "name": "stdout",
     "output_type": "stream",
     "text": [
      "<td class=\"fiche_rando\"><a class=\"standard\" href=\"https://www.hikr.org/view_post_lang.php?id=240\" target=\"help\">\n",
      "II<span style=\"color:#888;text-decoration:none;background:#fff;\"> (UIAA-Skala)</span></a>\n",
      "</td>\n"
     ]
    },
    {
     "data": {
      "text/html": [
       "<td class=\"fiche_rando\"><a class=\"standard\" href=\"https://www.hikr.org/view_post_lang.php?id=240\" target=\"help\">\n",
       "II<span style=\"color:#888;text-decoration:none;background:#fff;\"> (UIAA-Skala)</span></a>\n",
       "</td>"
      ],
      "text/plain": [
       "<IPython.core.display.HTML object>"
      ]
     },
     "metadata": {},
     "output_type": "display_data"
    },
    {
     "name": "stdout",
     "output_type": "stream",
     "text": [
      "None\n"
     ]
    },
    {
     "data": {
      "text/plain": [
       "<IPython.core.display.HTML object>"
      ]
     },
     "metadata": {},
     "output_type": "display_data"
    }
   ],
   "source": [
    "#Klettern Schwierigkeit:_raw\n",
    "print(posts_raw_df['Klettern Schwierigkeit:_raw'].iloc[1])\n",
    "display(HTML(posts_raw_df['Klettern Schwierigkeit:_raw'].iloc[1]))\n",
    "\n",
    "for i in range(0, 10):\n",
    "    print(posts_raw_df['Klettern Schwierigkeit:_raw'].iloc[i])\n",
    "    display(HTML(posts_raw_df['Klettern Schwierigkeit:_raw'].iloc[i]))"
   ]
  },
  {
   "cell_type": "code",
   "execution_count": 34,
   "metadata": {},
   "outputs": [],
   "source": [
    "def parse_climbing_difficulty(climbing_difficulty_raw: str):\n",
    "    if climbing_difficulty_raw is None:\n",
    "        return None\n",
    "    document = Selector(text=climbing_difficulty_raw)\n",
    "    a_tags = document.css('a')\n",
    "    assert len(a_tags) == 1, \"Several A tags\"\n",
    "    return {\n",
    "        \"climbing_difficulty\": a_tags[0].css('::text').get().strip(),\n",
    "        \"climbing_scale\": a_tags[0].css('span::text').get().strip()\n",
    "    }"
   ]
  },
  {
   "cell_type": "code",
   "execution_count": 35,
   "metadata": {},
   "outputs": [
    {
     "data": {
      "text/plain": [
       "{'climbing_difficulty': 'II', 'climbing_scale': '(UIAA-Skala)'}"
      ]
     },
     "execution_count": 35,
     "metadata": {},
     "output_type": "execute_result"
    }
   ],
   "source": [
    "parse_climbing_difficulty(posts_raw_df['Klettern Schwierigkeit:_raw'].iloc[1])"
   ]
  },
  {
   "cell_type": "code",
   "execution_count": 36,
   "metadata": {},
   "outputs": [
    {
     "name": "stdout",
     "output_type": "stream",
     "text": [
      "Number of unique climbing difficulties: 11\n",
      "5b\n",
      "5c\n",
      "6a\n",
      "6a+\n",
      "I\n",
      "II\n",
      "III\n",
      "IV\n",
      "V\n",
      "V+\n",
      "VII+\n",
      "Number of unique climbing scales: 2\n",
      "(Französische Skala)\n",
      "(UIAA-Skala)\n"
     ]
    }
   ],
   "source": [
    "unique_climbing_difficulties = set()\n",
    "uniuqe_climbing_scales = set()\n",
    "for i in range(0, posts_raw_df.shape[0]):\n",
    "    climbing_difficulty = parse_climbing_difficulty(posts_raw_df['Klettern Schwierigkeit:_raw'].iloc[i])\n",
    "    if climbing_difficulty is not None:\n",
    "        unique_climbing_difficulties.add(climbing_difficulty['climbing_difficulty'])\n",
    "        uniuqe_climbing_scales.add(climbing_difficulty['climbing_scale'])\n",
    "\n",
    "\n",
    "\n",
    "print(f'Number of unique climbing difficulties: {len(unique_climbing_difficulties)}')\n",
    "for difficulty in sorted(unique_climbing_difficulties):\n",
    "    print(difficulty)\n",
    "\n",
    "print(f'Number of unique climbing scales: {len(uniuqe_climbing_scales)}')\n",
    "for scale in sorted(uniuqe_climbing_scales):\n",
    "    print(scale)"
   ]
  },
  {
   "cell_type": "code",
   "execution_count": 37,
   "metadata": {},
   "outputs": [
    {
     "name": "stdout",
     "output_type": "stream",
     "text": [
      "<td class=\"fiche_rando\"><a class=\"standard\" href=\"https://www.hikr.org/view_post_lang.php?id=240\" target=\"help\">\n",
      "WS</a>\n",
      "</td>\n"
     ]
    }
   ],
   "source": [
    "# Hochtouren Schwierigkeit:_raw\n",
    "print(posts_raw_df['Hochtouren Schwierigkeit:_raw'].iloc[0])"
   ]
  },
  {
   "cell_type": "code",
   "execution_count": 38,
   "metadata": {},
   "outputs": [],
   "source": [
    "def parse_high_tour_difficulty(high_tour_difficulty_raw: str):\n",
    "    if high_tour_difficulty_raw is None:\n",
    "        return None\n",
    "    document = Selector(text=high_tour_difficulty_raw)\n",
    "    a_tags = document.css('a')\n",
    "    assert len(a_tags) == 1, \"Several A tags\"\n",
    "    return a_tags[0].css('::text').get().strip()"
   ]
  },
  {
   "cell_type": "code",
   "execution_count": 39,
   "metadata": {},
   "outputs": [
    {
     "name": "stdout",
     "output_type": "stream",
     "text": [
      "Number of unique high tour difficulties: 5\n",
      "L\n",
      "WS\n",
      "WS+\n",
      "WS-\n",
      "ZS\n"
     ]
    }
   ],
   "source": [
    "parse_high_tour_difficulty(posts_raw_df['Hochtouren Schwierigkeit:_raw'].iloc[0])\n",
    "\n",
    "unique_high_tour_difficulties = set()\n",
    "for i in range(0, posts_raw_df.shape[0]):\n",
    "    high_tour_difficulty = parse_high_tour_difficulty(posts_raw_df['Hochtouren Schwierigkeit:_raw'].iloc[i])\n",
    "    if high_tour_difficulty is not None:\n",
    "        unique_high_tour_difficulties.add(high_tour_difficulty)\n",
    "\n",
    "print(f'Number of unique high tour difficulties: {len(unique_high_tour_difficulties)}')\n",
    "for difficulty in sorted(unique_high_tour_difficulties):\n",
    "    print(difficulty)"
   ]
  },
  {
   "cell_type": "code",
   "execution_count": 40,
   "metadata": {},
   "outputs": [
    {
     "name": "stdout",
     "output_type": "stream",
     "text": [
      "<td class=\"fiche_rando\"><a class=\"standard\" href=\"https://www.hikr.org/view_post_lang.php?id=12351\" target=\"help\">\n",
      "L - Leicht fahrbar                                                                                                                                           \n",
      "</a>\n",
      "</td>\n"
     ]
    }
   ],
   "source": [
    "# Mountainbike Schwierigkeit:_raw:\n",
    "# print first not null value\n",
    "for i in range(0, posts_raw_df.shape[0]):\n",
    "    if posts_raw_df['Mountainbike Schwierigkeit:_raw'].iloc[i] is not None:\n",
    "        print(posts_raw_df['Mountainbike Schwierigkeit:_raw'].iloc[i])\n",
    "        break"
   ]
  },
  {
   "cell_type": "code",
   "execution_count": 41,
   "metadata": {},
   "outputs": [],
   "source": [
    "def parse_mountainbike_difficulty(mountainbike_difficulty_raw: str):\n",
    "    if mountainbike_difficulty_raw is None:\n",
    "        return None\n",
    "    document = Selector(text=mountainbike_difficulty_raw)\n",
    "    a_tags = document.css('a')\n",
    "    assert len(a_tags) == 1, \"Several A tags\"\n",
    "    return a_tags[0].css('::text').get().strip()"
   ]
  },
  {
   "cell_type": "code",
   "execution_count": 42,
   "metadata": {},
   "outputs": [
    {
     "data": {
      "text/html": [
       "<td class=\"fiche_rando\"><a class=\"standard\" href=\"https://www.hikr.org/view_post_lang.php?id=12351\" target=\"help\">\n",
       "L - Leicht fahrbar                                                                                                                                           \n",
       "</a>\n",
       "</td>"
      ],
      "text/plain": [
       "<IPython.core.display.HTML object>"
      ]
     },
     "metadata": {},
     "output_type": "display_data"
    },
    {
     "data": {
      "text/html": [
       "<td class=\"fiche_rando\"><a class=\"standard\" href=\"https://www.hikr.org/view_post_lang.php?id=12351\" target=\"help\">\n",
       "L - Leicht fahrbar                                                                                                                                           \n",
       "</a>\n",
       "</td>"
      ],
      "text/plain": [
       "<IPython.core.display.HTML object>"
      ]
     },
     "metadata": {},
     "output_type": "display_data"
    },
    {
     "data": {
      "text/html": [
       "<td class=\"fiche_rando\"><a class=\"standard\" href=\"https://www.hikr.org/view_post_lang.php?id=12351\" target=\"help\">\n",
       "L - Leicht fahrbar                                                                                                                                           \n",
       "</a>\n",
       "</td>"
      ],
      "text/plain": [
       "<IPython.core.display.HTML object>"
      ]
     },
     "metadata": {},
     "output_type": "display_data"
    },
    {
     "data": {
      "text/html": [
       "<td class=\"fiche_rando\"><a class=\"standard\" href=\"https://www.hikr.org/view_post_lang.php?id=12351\" target=\"help\">\n",
       "WS - Gut fahrbar  \n",
       "</a>\n",
       "</td>"
      ],
      "text/plain": [
       "<IPython.core.display.HTML object>"
      ]
     },
     "metadata": {},
     "output_type": "display_data"
    },
    {
     "data": {
      "text/html": [
       "<td class=\"fiche_rando\"><a class=\"standard\" href=\"https://www.hikr.org/view_post_lang.php?id=12351\" target=\"help\">\n",
       "L - Leicht fahrbar                                                                                                                                           \n",
       "</a>\n",
       "</td>"
      ],
      "text/plain": [
       "<IPython.core.display.HTML object>"
      ]
     },
     "metadata": {},
     "output_type": "display_data"
    },
    {
     "data": {
      "text/html": [
       "<td class=\"fiche_rando\"><a class=\"standard\" href=\"https://www.hikr.org/view_post_lang.php?id=12351\" target=\"help\">\n",
       "WS - Gut fahrbar  \n",
       "</a>\n",
       "</td>"
      ],
      "text/plain": [
       "<IPython.core.display.HTML object>"
      ]
     },
     "metadata": {},
     "output_type": "display_data"
    },
    {
     "data": {
      "text/html": [
       "<td class=\"fiche_rando\"><a class=\"standard\" href=\"https://www.hikr.org/view_post_lang.php?id=12351\" target=\"help\">\n",
       "WS - Gut fahrbar  \n",
       "</a>\n",
       "</td>"
      ],
      "text/plain": [
       "<IPython.core.display.HTML object>"
      ]
     },
     "metadata": {},
     "output_type": "display_data"
    },
    {
     "name": "stdout",
     "output_type": "stream",
     "text": [
      "Number of unique mountainbike difficulties: 2\n",
      "L - Leicht fahrbar\n",
      "WS - Gut fahrbar\n"
     ]
    }
   ],
   "source": [
    "unique_mountainbike_difficulties = set()\n",
    "for i in range(0, posts_raw_df.shape[0]):\n",
    "    if posts_raw_df['Mountainbike Schwierigkeit:_raw'].iloc[i] is not None:\n",
    "        display(HTML(posts_raw_df['Mountainbike Schwierigkeit:_raw'].iloc[i]))\n",
    "for i in range(0, posts_raw_df.shape[0]):\n",
    "    mountainbike_difficulty = parse_mountainbike_difficulty(posts_raw_df['Mountainbike Schwierigkeit:_raw'].iloc[i])\n",
    "    if mountainbike_difficulty is not None:\n",
    "        unique_mountainbike_difficulties.add(mountainbike_difficulty)\n",
    "\n",
    "print(f'Number of unique mountainbike difficulties: {len(unique_mountainbike_difficulties)}')\n",
    "for difficulty in sorted(unique_mountainbike_difficulties):\n",
    "    print(difficulty)\n"
   ]
  },
  {
   "cell_type": "code",
   "execution_count": 43,
   "metadata": {},
   "outputs": [
    {
     "name": "stdout",
     "output_type": "stream",
     "text": [
      "<td class=\"fiche_rando\"><a class=\"standard\" href=\"https://www.hikr.org/view_post_lang.php?id=292\" target=\"help\">\n",
      "S</a>\n",
      "</td>\n"
     ]
    },
    {
     "data": {
      "text/html": [
       "<td class=\"fiche_rando\"><a class=\"standard\" href=\"https://www.hikr.org/view_post_lang.php?id=292\" target=\"help\">\n",
       "S</a>\n",
       "</td>"
      ],
      "text/plain": [
       "<IPython.core.display.HTML object>"
      ]
     },
     "metadata": {},
     "output_type": "display_data"
    },
    {
     "name": "stdout",
     "output_type": "stream",
     "text": [
      "<td class=\"fiche_rando\"><a class=\"standard\" href=\"https://www.hikr.org/view_post_lang.php?id=292\" target=\"help\">\n",
      "WS</a>\n",
      "</td>\n"
     ]
    },
    {
     "data": {
      "text/html": [
       "<td class=\"fiche_rando\"><a class=\"standard\" href=\"https://www.hikr.org/view_post_lang.php?id=292\" target=\"help\">\n",
       "WS</a>\n",
       "</td>"
      ],
      "text/plain": [
       "<IPython.core.display.HTML object>"
      ]
     },
     "metadata": {},
     "output_type": "display_data"
    },
    {
     "name": "stdout",
     "output_type": "stream",
     "text": [
      "<td class=\"fiche_rando\"><a class=\"standard\" href=\"https://www.hikr.org/view_post_lang.php?id=292\" target=\"help\">\n",
      "L</a>\n",
      "</td>\n"
     ]
    },
    {
     "data": {
      "text/html": [
       "<td class=\"fiche_rando\"><a class=\"standard\" href=\"https://www.hikr.org/view_post_lang.php?id=292\" target=\"help\">\n",
       "L</a>\n",
       "</td>"
      ],
      "text/plain": [
       "<IPython.core.display.HTML object>"
      ]
     },
     "metadata": {},
     "output_type": "display_data"
    },
    {
     "name": "stdout",
     "output_type": "stream",
     "text": [
      "<td class=\"fiche_rando\"><a class=\"standard\" href=\"https://www.hikr.org/view_post_lang.php?id=292\" target=\"help\">\n",
      "ZS</a>\n",
      "</td>\n"
     ]
    },
    {
     "data": {
      "text/html": [
       "<td class=\"fiche_rando\"><a class=\"standard\" href=\"https://www.hikr.org/view_post_lang.php?id=292\" target=\"help\">\n",
       "ZS</a>\n",
       "</td>"
      ],
      "text/plain": [
       "<IPython.core.display.HTML object>"
      ]
     },
     "metadata": {},
     "output_type": "display_data"
    },
    {
     "name": "stdout",
     "output_type": "stream",
     "text": [
      "<td class=\"fiche_rando\"><a class=\"standard\" href=\"https://www.hikr.org/view_post_lang.php?id=292\" target=\"help\">\n",
      "L</a>\n",
      "</td>\n"
     ]
    },
    {
     "data": {
      "text/html": [
       "<td class=\"fiche_rando\"><a class=\"standard\" href=\"https://www.hikr.org/view_post_lang.php?id=292\" target=\"help\">\n",
       "L</a>\n",
       "</td>"
      ],
      "text/plain": [
       "<IPython.core.display.HTML object>"
      ]
     },
     "metadata": {},
     "output_type": "display_data"
    },
    {
     "name": "stdout",
     "output_type": "stream",
     "text": [
      "<td class=\"fiche_rando\"><a class=\"standard\" href=\"https://www.hikr.org/view_post_lang.php?id=292\" target=\"help\">\n",
      "L</a>\n",
      "</td>\n"
     ]
    },
    {
     "data": {
      "text/html": [
       "<td class=\"fiche_rando\"><a class=\"standard\" href=\"https://www.hikr.org/view_post_lang.php?id=292\" target=\"help\">\n",
       "L</a>\n",
       "</td>"
      ],
      "text/plain": [
       "<IPython.core.display.HTML object>"
      ]
     },
     "metadata": {},
     "output_type": "display_data"
    }
   ],
   "source": [
    "#Klettersteig Schwierigkeit:_raw:\n",
    "for i in range(0, posts_raw_df.shape[0]):\n",
    "    if posts_raw_df['Klettersteig Schwierigkeit:_raw'].iloc[i] is not None:\n",
    "        print(posts_raw_df['Klettersteig Schwierigkeit:_raw'].iloc[i])\n",
    "        display(HTML(posts_raw_df['Klettersteig Schwierigkeit:_raw'].iloc[i]))\n",
    "\n"
   ]
  },
  {
   "cell_type": "code",
   "execution_count": 44,
   "metadata": {},
   "outputs": [],
   "source": [
    "def parse_via_ferrata_difficulty(via_ferrata_difficulty_raw: str):\n",
    "    if via_ferrata_difficulty_raw is None:\n",
    "        return None\n",
    "    document = Selector(text=via_ferrata_difficulty_raw)\n",
    "    a_tags = document.css('a')\n",
    "    assert len(a_tags) == 1, \"Several A tags\"\n",
    "    return a_tags[0].css('::text').get().strip()"
   ]
  },
  {
   "cell_type": "code",
   "execution_count": 45,
   "metadata": {},
   "outputs": [
    {
     "name": "stdout",
     "output_type": "stream",
     "text": [
      "Number of unique via ferrata difficulties: 4\n",
      "L\n",
      "S\n",
      "WS\n",
      "ZS\n"
     ]
    }
   ],
   "source": [
    "unique_via_ferrata_difficulties = set()\n",
    "for i in range(0, posts_raw_df.shape[0]):\n",
    "    via_ferrata_difficulty = parse_via_ferrata_difficulty(posts_raw_df['Klettersteig Schwierigkeit:_raw'].iloc[i])\n",
    "    if via_ferrata_difficulty is not None:\n",
    "        unique_via_ferrata_difficulties.add(via_ferrata_difficulty)\n",
    "\n",
    "print(f'Number of unique via ferrata difficulties: {len(unique_via_ferrata_difficulties)}')\n",
    "for difficulty in sorted(unique_via_ferrata_difficulties):\n",
    "    print(difficulty)"
   ]
  },
  {
   "cell_type": "code",
   "execution_count": 46,
   "metadata": {},
   "outputs": [
    {
     "name": "stdout",
     "output_type": "stream",
     "text": [
      "<td class=\"fiche_rando\"><a class=\"standard\" href=\"https://www.hikr.org/view_post_lang.php?id=249\" target=\"help\">\n",
      "WS</a>\n",
      "</td>\n"
     ]
    },
    {
     "data": {
      "text/html": [
       "<td class=\"fiche_rando\"><a class=\"standard\" href=\"https://www.hikr.org/view_post_lang.php?id=249\" target=\"help\">\n",
       "WS</a>\n",
       "</td>"
      ],
      "text/plain": [
       "<IPython.core.display.HTML object>"
      ]
     },
     "metadata": {},
     "output_type": "display_data"
    },
    {
     "name": "stdout",
     "output_type": "stream",
     "text": [
      "<td class=\"fiche_rando\"><a class=\"standard\" href=\"https://www.hikr.org/view_post_lang.php?id=249\" target=\"help\">\n",
      "WS</a>\n",
      "</td>\n"
     ]
    },
    {
     "data": {
      "text/html": [
       "<td class=\"fiche_rando\"><a class=\"standard\" href=\"https://www.hikr.org/view_post_lang.php?id=249\" target=\"help\">\n",
       "WS</a>\n",
       "</td>"
      ],
      "text/plain": [
       "<IPython.core.display.HTML object>"
      ]
     },
     "metadata": {},
     "output_type": "display_data"
    },
    {
     "name": "stdout",
     "output_type": "stream",
     "text": [
      "<td class=\"fiche_rando\"><a class=\"standard\" href=\"https://www.hikr.org/view_post_lang.php?id=249\" target=\"help\">\n",
      "WS</a>\n",
      "</td>\n"
     ]
    },
    {
     "data": {
      "text/html": [
       "<td class=\"fiche_rando\"><a class=\"standard\" href=\"https://www.hikr.org/view_post_lang.php?id=249\" target=\"help\">\n",
       "WS</a>\n",
       "</td>"
      ],
      "text/plain": [
       "<IPython.core.display.HTML object>"
      ]
     },
     "metadata": {},
     "output_type": "display_data"
    },
    {
     "name": "stdout",
     "output_type": "stream",
     "text": [
      "<td class=\"fiche_rando\"><a class=\"standard\" href=\"https://www.hikr.org/view_post_lang.php?id=249\" target=\"help\">\n",
      "WS</a>\n",
      "</td>\n"
     ]
    },
    {
     "data": {
      "text/html": [
       "<td class=\"fiche_rando\"><a class=\"standard\" href=\"https://www.hikr.org/view_post_lang.php?id=249\" target=\"help\">\n",
       "WS</a>\n",
       "</td>"
      ],
      "text/plain": [
       "<IPython.core.display.HTML object>"
      ]
     },
     "metadata": {},
     "output_type": "display_data"
    },
    {
     "name": "stdout",
     "output_type": "stream",
     "text": [
      "<td class=\"fiche_rando\"><a class=\"standard\" href=\"https://www.hikr.org/view_post_lang.php?id=249\" target=\"help\">\n",
      "ZS</a>\n",
      "</td>\n"
     ]
    },
    {
     "data": {
      "text/html": [
       "<td class=\"fiche_rando\"><a class=\"standard\" href=\"https://www.hikr.org/view_post_lang.php?id=249\" target=\"help\">\n",
       "ZS</a>\n",
       "</td>"
      ],
      "text/plain": [
       "<IPython.core.display.HTML object>"
      ]
     },
     "metadata": {},
     "output_type": "display_data"
    }
   ],
   "source": [
    "#Ski Schwierigkeit:_raw:\n",
    "for i in range(0, posts_raw_df.shape[0]):\n",
    "    if posts_raw_df['Ski Schwierigkeit:_raw'].iloc[i] is not None:\n",
    "        print(posts_raw_df['Ski Schwierigkeit:_raw'].iloc[i])\n",
    "        display(HTML(posts_raw_df['Ski Schwierigkeit:_raw'].iloc[i]))\n"
   ]
  },
  {
   "cell_type": "code",
   "execution_count": 47,
   "metadata": {},
   "outputs": [],
   "source": [
    "def parse_ski_difficulty(ski_difficulty_raw: str):\n",
    "    if ski_difficulty_raw is None:\n",
    "        return None\n",
    "    document = Selector(text=ski_difficulty_raw)\n",
    "    a_tags = document.css('a')\n",
    "    assert len(a_tags) == 1, \"Several A tags\"\n",
    "    return a_tags[0].css('::text').get().strip()"
   ]
  },
  {
   "cell_type": "code",
   "execution_count": 48,
   "metadata": {},
   "outputs": [
    {
     "name": "stdout",
     "output_type": "stream",
     "text": [
      "Number of unique ski difficulties: 2\n",
      "WS\n",
      "ZS\n"
     ]
    }
   ],
   "source": [
    "unique_ski_difficulties = set()\n",
    "for i in range(0, posts_raw_df.shape[0]):\n",
    "    ski_difficulty = parse_ski_difficulty(posts_raw_df['Ski Schwierigkeit:_raw'].iloc[i])\n",
    "    if ski_difficulty is not None:\n",
    "        unique_ski_difficulties.add(ski_difficulty)\n",
    "\n",
    "print(f'Number of unique ski difficulties: {len(unique_ski_difficulties)}')\n",
    "for difficulty in sorted(unique_ski_difficulties):\n",
    "    print(difficulty)"
   ]
  },
  {
   "cell_type": "code",
   "execution_count": 49,
   "metadata": {},
   "outputs": [
    {
     "name": "stdout",
     "output_type": "stream",
     "text": [
      "<td class=\"fiche_rando\"><a class=\"standard\" href=\"https://www.hikr.org/view_post_lang.php?id=241\" target=\"help\">\n",
      "WT3 - \n",
      " Anspruchsvolle Schneeschuhwanderung\n",
      "</a>\n",
      "</td>\n"
     ]
    },
    {
     "data": {
      "text/html": [
       "<td class=\"fiche_rando\"><a class=\"standard\" href=\"https://www.hikr.org/view_post_lang.php?id=241\" target=\"help\">\n",
       "WT3 - \n",
       " Anspruchsvolle Schneeschuhwanderung\n",
       "</a>\n",
       "</td>"
      ],
      "text/plain": [
       "<IPython.core.display.HTML object>"
      ]
     },
     "metadata": {},
     "output_type": "display_data"
    },
    {
     "name": "stdout",
     "output_type": "stream",
     "text": [
      "<td class=\"fiche_rando\"><a class=\"standard\" href=\"https://www.hikr.org/view_post_lang.php?id=241\" target=\"help\">\n",
      "WT3 - \n",
      " Anspruchsvolle Schneeschuhwanderung\n",
      "</a>\n",
      "</td>\n"
     ]
    },
    {
     "data": {
      "text/html": [
       "<td class=\"fiche_rando\"><a class=\"standard\" href=\"https://www.hikr.org/view_post_lang.php?id=241\" target=\"help\">\n",
       "WT3 - \n",
       " Anspruchsvolle Schneeschuhwanderung\n",
       "</a>\n",
       "</td>"
      ],
      "text/plain": [
       "<IPython.core.display.HTML object>"
      ]
     },
     "metadata": {},
     "output_type": "display_data"
    },
    {
     "name": "stdout",
     "output_type": "stream",
     "text": [
      "<td class=\"fiche_rando\"><a class=\"standard\" href=\"https://www.hikr.org/view_post_lang.php?id=241\" target=\"help\">\n",
      "WT4 - \n",
      " Schneeschuhtour\n",
      "</a>\n",
      "</td>\n"
     ]
    },
    {
     "data": {
      "text/html": [
       "<td class=\"fiche_rando\"><a class=\"standard\" href=\"https://www.hikr.org/view_post_lang.php?id=241\" target=\"help\">\n",
       "WT4 - \n",
       " Schneeschuhtour\n",
       "</a>\n",
       "</td>"
      ],
      "text/plain": [
       "<IPython.core.display.HTML object>"
      ]
     },
     "metadata": {},
     "output_type": "display_data"
    }
   ],
   "source": [
    "#Schneeshuhtouren Schwierigkeit:_raw:\n",
    "for i in range(0, posts_raw_df.shape[0]):\n",
    "    if posts_raw_df['Schneeshuhtouren Schwierigkeit:_raw'].iloc[i] is not None:\n",
    "        print(posts_raw_df['Schneeshuhtouren Schwierigkeit:_raw'].iloc[i])\n",
    "        display(HTML(posts_raw_df['Schneeshuhtouren Schwierigkeit:_raw'].iloc[i]))\n"
   ]
  },
  {
   "cell_type": "code",
   "execution_count": 50,
   "metadata": {},
   "outputs": [],
   "source": [
    "def parse_snowshoe_tour_difficulty(snowshoe_tour_difficulty_raw: str):\n",
    "    if snowshoe_tour_difficulty_raw is None:\n",
    "        return None\n",
    "    document = Selector(text=snowshoe_tour_difficulty_raw)\n",
    "    a_tags = document.css('a')\n",
    "    assert len(a_tags) == 1, \"Several A tags\"\n",
    "    text = a_tags[0].css('::text').get().strip()\n",
    "    text = text.split(' - ')\n",
    "    return {\n",
    "        \"snowshoe_difficulty\": text[0].strip(),\n",
    "        \"snowshoe_description\": text[1].strip()\n",
    "    }"
   ]
  },
  {
   "cell_type": "code",
   "execution_count": 51,
   "metadata": {},
   "outputs": [
    {
     "name": "stdout",
     "output_type": "stream",
     "text": [
      "Number of unique snowshoe tour difficulties: 2\n",
      "WT3\n",
      "WT4\n",
      "Number of unique snowshoe tour descriptions: 2\n",
      "Anspruchsvolle Schneeschuhwanderung\n",
      "Schneeschuhtour\n"
     ]
    }
   ],
   "source": [
    "unique_snowshoe_tour_difficulties = set()\n",
    "unique_snowshoe_tour_descriptions = set()\n",
    "for i in range(0, posts_raw_df.shape[0]):\n",
    "    snowshoe_tour_difficulty = parse_snowshoe_tour_difficulty(posts_raw_df['Schneeshuhtouren Schwierigkeit:_raw'].iloc[i])\n",
    "    if snowshoe_tour_difficulty is not None:\n",
    "        unique_snowshoe_tour_difficulties.add(snowshoe_tour_difficulty['snowshoe_difficulty'])\n",
    "        unique_snowshoe_tour_descriptions.add(snowshoe_tour_difficulty['snowshoe_description'])\n",
    "\n",
    "print(f'Number of unique snowshoe tour difficulties: {len(unique_snowshoe_tour_difficulties)}')\n",
    "for difficulty in sorted(unique_snowshoe_tour_difficulties):\n",
    "    print(difficulty)\n",
    "\n",
    "print(f'Number of unique snowshoe tour descriptions: {len(unique_snowshoe_tour_descriptions)}')\n",
    "for description in sorted(unique_snowshoe_tour_descriptions):\n",
    "    print(description)"
   ]
  },
  {
   "cell_type": "markdown",
   "metadata": {},
   "source": [
    "## Extract some other features from the HTML files"
   ]
  },
  {
   "cell_type": "markdown",
   "metadata": {},
   "source": []
  },
  {
   "cell_type": "code",
   "execution_count": 52,
   "metadata": {},
   "outputs": [],
   "source": [
    "complete_file_content = []"
   ]
  },
  {
   "cell_type": "code",
   "execution_count": 53,
   "metadata": {},
   "outputs": [
    {
     "name": "stdout",
     "output_type": "stream",
     "text": [
      "post24199.html\n"
     ]
    }
   ],
   "source": [
    "for filename in os.listdir(files_dir):\n",
    "    if filename.endswith('.html'):\n",
    "        print(filename)\n",
    "        file_path = os.path.join(files_dir, filename)\n",
    "        with open(file_path, 'r', encoding='utf-8') as f:\n",
    "            complete_file_content.append(f.read())\n",
    "        break"
   ]
  },
  {
   "cell_type": "code",
   "execution_count": 54,
   "metadata": {},
   "outputs": [
    {
     "data": {
      "text/plain": [
       "12"
      ]
     },
     "execution_count": 54,
     "metadata": {},
     "output_type": "execute_result"
    }
   ],
   "source": [
    "complete_file_content[0]\n",
    "\n",
    "def count_photos(content):\n",
    "    # count photo_id's\n",
    "    photo_ids = re.findall(r'photo_id:(\\d+)', content)\n",
    "    return len(photo_ids)\n",
    "\n",
    "count_photos(complete_file_content[0])\n",
    "    \n"
   ]
  },
  {
   "cell_type": "code",
   "execution_count": 55,
   "metadata": {},
   "outputs": [],
   "source": [
    "def parse_peak_map(html_content: str):\n",
    "    pattern = r'pizs\\.push\\(\\{.*?piz_lat:([\\d.]+),.*?piz_lon:([\\d.]+),.*?piz_name:\"(.*?)\",.*?piz_height:(\\d+),.*?piz_id:(\\d+).*?\\}\\)' ## Regex: https://regex101.com/r/3EiAxt/1\n",
    "    matches = re.findall(pattern, html_content, re.DOTALL)\n",
    "        \n",
    "     # Parse the peak information and yield the data\n",
    "    peaks = []\n",
    "    for match in matches:\n",
    "        peak = {\n",
    "            'lat': float(match[0]),\n",
    "            'lon': float(match[1]),\n",
    "            'name': match[2],\n",
    "            'height': int(match[3]),\n",
    "            'id': int(match[4])\n",
    "        }\n",
    "        peaks.append(peak)\n",
    "    return peaks"
   ]
  },
  {
   "cell_type": "code",
   "execution_count": 56,
   "metadata": {},
   "outputs": [
    {
     "data": {
      "text/plain": [
       "[{'lat': 46.92325547885,\n",
       "  'lon': 9.9161259357656,\n",
       "  'name': 'Schlappiner Spitz',\n",
       "  'height': 2442,\n",
       "  'id': 19661},\n",
       " {'lat': 46.925120861482,\n",
       "  'lon': 9.907693862915,\n",
       "  'name': 'Schlappiner Joch',\n",
       "  'height': 2203,\n",
       "  'id': 19660}]"
      ]
     },
     "execution_count": 56,
     "metadata": {},
     "output_type": "execute_result"
    }
   ],
   "source": [
    "parse_peak_map(complete_file_content[0])"
   ]
  },
  {
   "cell_type": "code",
   "execution_count": 57,
   "metadata": {},
   "outputs": [],
   "source": [
    "peaks = []\n",
    "for i in complete_file_content:\n",
    "    peak = parse_peak_map(i)\n",
    "    peaks.append(peak)"
   ]
  },
  {
   "cell_type": "code",
   "execution_count": 58,
   "metadata": {},
   "outputs": [
    {
     "data": {
      "text/plain": [
       "[[{'lat': 46.92325547885,\n",
       "   'lon': 9.9161259357656,\n",
       "   'name': 'Schlappiner Spitz',\n",
       "   'height': 2442,\n",
       "   'id': 19661},\n",
       "  {'lat': 46.925120861482,\n",
       "   'lon': 9.907693862915,\n",
       "   'name': 'Schlappiner Joch',\n",
       "   'height': 2203,\n",
       "   'id': 19660}]]"
      ]
     },
     "execution_count": 58,
     "metadata": {},
     "output_type": "execute_result"
    }
   ],
   "source": [
    "peaks"
   ]
  },
  {
   "cell_type": "code",
   "execution_count": 63,
   "metadata": {},
   "outputs": [
    {
     "data": {
      "text/plain": [
       "[{'name': 'drixdrey', 'url': 'drixdrey'}]"
      ]
     },
     "execution_count": 63,
     "metadata": {},
     "output_type": "execute_result"
    }
   ],
   "source": [
    "## PArse Tourengänger\n",
    "def parse_tour_partners(html_content: str):\n",
    "    document = Selector(text=html_content)\n",
    "    div = document.css('div.div15')\n",
    "    partners = []\n",
    "    ## Url is userID\n",
    "    ## a contains the name\n",
    "    for a in div.css('a'):\n",
    "        url = a.css('::attr(href)').get()\n",
    "\n",
    "        partners.append({\n",
    "            'name': a.css('::text').get(),\n",
    "            'url': url.split('/')[-2]\n",
    "        })\n",
    "\n",
    "    return partners\n",
    "\n",
    "parse_tour_partners(complete_file_content[0])"
   ]
  },
  {
   "cell_type": "code",
   "execution_count": 64,
   "metadata": {},
   "outputs": [],
   "source": [
    "partners = []\n",
    "for i in complete_file_content:\n",
    "    partner = parse_tour_partners(i)\n",
    "    partners.append(partner)"
   ]
  },
  {
   "cell_type": "code",
   "execution_count": 65,
   "metadata": {},
   "outputs": [
    {
     "data": {
      "text/plain": [
       "[[{'name': 'drixdrey', 'url': 'drixdrey'}]]"
      ]
     },
     "execution_count": 65,
     "metadata": {},
     "output_type": "execute_result"
    }
   ],
   "source": [
    "partners"
   ]
  },
  {
   "cell_type": "code",
   "execution_count": 66,
   "metadata": {},
   "outputs": [
    {
     "data": {
      "text/plain": [
       "402"
      ]
     },
     "execution_count": 66,
     "metadata": {},
     "output_type": "execute_result"
    }
   ],
   "source": [
    "def parse_page_views(html_content: str):\n",
    "    document = Selector(text=html_content)\n",
    "    div = document.css('div[style=\"text-align:center;color:#666;font-size:0.814em\"]')\n",
    "    views = int(div.css('b::text').get())\n",
    "    return views\n",
    "\n",
    "parse_page_views(complete_file_content[0])"
   ]
  },
  {
   "cell_type": "code",
   "execution_count": null,
   "metadata": {},
   "outputs": [],
   "source": []
  }
 ],
 "metadata": {
  "kernelspec": {
   "display_name": "Python 3",
   "language": "python",
   "name": "python3"
  },
  "language_info": {
   "codemirror_mode": {
    "name": "ipython",
    "version": 3
   },
   "file_extension": ".py",
   "mimetype": "text/x-python",
   "name": "python",
   "nbconvert_exporter": "python",
   "pygments_lexer": "ipython3",
   "version": "3.12.2"
  }
 },
 "nbformat": 4,
 "nbformat_minor": 2
}
